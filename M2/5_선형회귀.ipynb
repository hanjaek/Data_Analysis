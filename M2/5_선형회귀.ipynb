{
 "cells": [
  {
   "cell_type": "code",
   "execution_count": 1,
   "id": "91e1f8e0-3abe-4289-a9d4-7ebc47f732b8",
   "metadata": {},
   "outputs": [],
   "source": [
    "import numpy as np\n",
    "import pandas as pd\n",
    "import seaborn as sns\n",
    "import platform\n",
    "\n",
    "from matplotlib import pyplot as plt\n",
    "from matplotlib import font_manager, rc\n",
    "from scipy.stats import *\n",
    "\n",
    "from sklearn import * \n",
    "from sklearn import datasets\n",
    "from sklearn.feature_extraction.text import *\n",
    "from sklearn.metrics.pairwise import *\n",
    "from sklearn.model_selection import *\n",
    "from sklearn.preprocessing import *\n",
    "from sklearn.linear_model import *\n",
    "from sklearn.datasets import *\n",
    "from sklearn.cluster import *\n",
    "\n",
    "from scipy.cluster.hierarchy import *\n",
    "\n",
    "from scipy import *\n",
    "import warnings\n",
    "warnings.filterwarnings('ignore')\n",
    "%matplotlib inline"
   ]
  },
  {
   "cell_type": "code",
   "execution_count": 2,
   "id": "9e401a43-8522-42f3-899a-1c1e79bccc9f",
   "metadata": {},
   "outputs": [],
   "source": [
    "import platform\n",
    "import matplotlib\n",
    "from matplotlib import font_manager, rc\n",
    "\n",
    "# '-' 기호 보이게 하기\n",
    "matplotlib.rcParams['axes.unicode_minus'] = False\n",
    "# 윈도우\n",
    "if platform.system() == 'Windows':\n",
    "    path = \"c:/Windows/Fonts/malgun.ttf\"\n",
    "    font_name = font_manager.FontProperties(fname=path).get_name()\n",
    "    rc('font', family=font_name)\n",
    "# 맥\n",
    "elif platform.system() == 'Darwin':\n",
    "    rc('font', family='AppleGothic')\n",
    "# 리눅스\n",
    "elif platform.system() == 'Linux':\n",
    "    rc('font', family='NanumBarunGothic')"
   ]
  },
  {
   "cell_type": "code",
   "execution_count": 3,
   "id": "c43d21e0-d615-4c57-90ef-4be249e104c5",
   "metadata": {},
   "outputs": [
    {
     "name": "stdout",
     "output_type": "stream",
     "text": [
      "<class 'numpy.ndarray'> 1\n",
      "[1.95465882]\n",
      "3.106265947757168\n"
     ]
    },
    {
     "data": {
      "image/png": "[encoded data removed]",
      "text/plain": [
       "<Figure size 400x200 with 1 Axes>"
      ]
     },
     "metadata": {},
     "output_type": "display_data"
    }
   ],
   "source": [
    "## 데이터 수집 단계\n",
    "## ex) 몸무게 => 고혈압\n",
    "## 단일 데이터를 강제로 만듦 \n",
    "# 예) 몸무게 --> 고혈압\n",
    "n_samples = 20\n",
    "x = np.random.randn(n_samples) #평균0, 표준편차1\n",
    "w = 2   ##기울기\n",
    "b = 3   ## y절편\n",
    "y = w*x + b + np.random.randn(n_samples)  \n",
    "plt.figure(figsize=(4,2))\n",
    "plt.scatter(x, y, s=10)  ## 탐색적 분석\n",
    "print(type(x), x.ndim)  ## 1차원 배열\n",
    "\n",
    "## ----------------------- 머신러닝 단계 -----------------------\n",
    "leg = LinearRegression()  ## 데이터모델 만들기 --> 선형회귀\n",
    "leg.fit(x.reshape(-1,1), y)  ##fit 적용 2차원 \n",
    "## ------------------------------------------------------------\n",
    "## 손실이 최적화되기 위해서 파라미터 값이 계속 변경되어 최종 모델 생성\n",
    "\n",
    "print(leg.coef_)  ## 기울기\n",
    "print(leg.intercept_)  ##y절편\n",
    "\n",
    "XX = np.linspace(-5, 5, 200)\n",
    "plt.plot(XX, leg.coef_ * XX + leg.intercept_, \"r-\")\n",
    "plt.show()"
   ]
  },
  {
   "cell_type": "code",
   "execution_count": 4,
   "id": "7242b94a-f56b-4d7e-b74d-fdc35eb6aeca",
   "metadata": {},
   "outputs": [
    {
     "name": "stdout",
     "output_type": "stream",
     "text": [
      "[5.17918096 3.09268275]\n",
      "3.8550103127152138\n"
     ]
    },
    {
     "data": {
      "image/png": "[encoded data removed]",
      "text/plain": [
       "<Figure size 640x480 with 1 Axes>"
      ]
     },
     "metadata": {},
     "output_type": "display_data"
    }
   ],
   "source": [
    "##  예) 몸무게, 나이 --> 고혈압\n",
    "n_samples = 20\n",
    "x1 = np.random.randn(n_samples)  ## 몸무게\n",
    "x2 = np.random.randn(n_samples)  ## 나이 \n",
    "\n",
    "np.random.seed(7)  ## 7번 랜덤으로 초기화\n",
    "y = 5 * x1 + 3 * x2 + 4 + np.random.randn(n_samples)\n",
    "X = pd.DataFrame({'x1':x1, 'x2':x2}) ## 선형회귀는 2차원 -> 입력이 1개\n",
    "\n",
    "#leg = LinearRegression()\n",
    "#leg.fit(X, y)\n",
    "leg = LinearRegression().fit(X, y)\n",
    "\n",
    "print(leg.coef_)\n",
    "print(leg.intercept_)\n",
    "\n",
    "XX = np.linspace(-5, 5, 200)\n",
    "plt.plot(XX, leg.coef_[0] * XX + leg.intercept_, \"r-\")\n",
    "plt.plot(XX, leg.coef_[1] * XX + leg.intercept_, \"b-.\")\n",
    "\n",
    "plt.show()"
   ]
  },
  {
   "cell_type": "markdown",
   "id": "fc81be7a-a921-4751-a3d0-852eafae6acd",
   "metadata": {},
   "source": [
    "# 선형 회귀 (Linear Regression) 분석\n",
    "\n",
    "**공식**  \n",
    "\\[\n",
    "y = ax + b\n",
    "\\]\n",
    "\n",
    "---\n",
    "\n",
    "## 기본 개념\n",
    "- **회귀(Regression)**: 두 변수 간 관계가 일반화된 선형 관계의 평균으로 돌아간다는 것을 의미\n",
    "- **선형성(Linearity)**: 두 변수 간 관계가 직선 형태로 설명될 수 있는 것\n",
    "- **최소제곱 추정량(Least Square Estimator)**: 실제 값과 예측 값의 차이(오차 제곱)의 합을 최소화하는 방식으로 회귀선을 구함\n",
    "\n",
    "---\n",
    "\n",
    "## 회귀분석의 특징\n",
    "- 변수 간의 **함수적 관계** 탐색\n",
    "- 독립변수(X)와 종속변수(Y)의 영향 분석\n",
    "- 독립변수가 1 증가할 때 결과(Y)가 얼마나 달라지는지를 확인\n",
    "- 선형 방정식의 해석력이 높고, 근사값을 찾는 데 유리\n",
    "- **비선형 관계**도 적절한 변환(다항 회귀, 로그 변환 등)을 통해 예측 가능\n",
    "\n",
    "---\n",
    "\n",
    "## 해석\n",
    "- 계수 a: 기울기, 독립변수가 종속변수에 미치는 영향의 크기\n",
    "- 절편 b: 독립변수가 0일 때 종속변수의 값\n"
   ]
  },
  {
   "cell_type": "markdown",
   "id": "6b3ac5af-a750-492f-8d75-c2c1f5ea7d5e",
   "metadata": {},
   "source": [
    "# 회귀분석 (Regression Analysis)\n",
    "\n",
    "## 1. 선형 회귀분석 (Linear Regression Analysis)\n",
    "- 설명변수와 종속변수 간의 관계를 **일차식(직선)**으로 모델링하여 분석\n",
    "- 종속변수와 설명변수 사이의 **선형 관계**를 나타내는 회귀식을 통해 예측값 계산\n",
    "\n",
    "---\n",
    "\n",
    "## 2. 비선형 회귀분석 (Nonlinear Regression Analysis)\n",
    "- 설명변수와 종속변수 간의 관계가 **일차식이 아닌 곡선** 또는 다항식으로 모델링하여 분석\n",
    "- 종속변수와 설명변수 사이의 **비선형 관계**를 나타내는 곡선을 통해 예측값 계산\n",
    "\n",
    "---\n",
    "\n",
    "## 회귀분석의 유형\n",
    "- **단순 회귀분석 (Simple Regression Analysis)**  \n",
    "  설명변수가 1개인 모델\n",
    "\n",
    "- **다중 회귀분석 (Multiple Regression Analysis)**  \n",
    "  설명변수가 여러 개인 모델\n",
    "\n",
    "- **로지스틱 회귀분석 (Logistic Regression Analysis)**  \n",
    "  종속변수가 이항형(예/아니오 등)일 경우 분석하는 방법\n",
    "\n",
    "---\n",
    "\n",
    "## 구조적 구분\n",
    "- **독립변수의 수**  \n",
    "  - 1개 → 단순 회귀분석  \n",
    "  - 2개 이상 → 다중 회귀분석  \n",
    "\n",
    "- **독립변수의 형태**  \n",
    "  - 동간/비율척도 → 일반 회귀분석  \n",
    "  - 명목/서열척도 → 더미 변수를 이용한 회귀분석  \n",
    "\n",
    "- **관계 형태**  \n",
    "  - 선형 → 선형 회귀분석  \n",
    "  - 비선형 → 비선형 회귀분석\n"
   ]
  },
  {
   "cell_type": "markdown",
   "id": "98c8d2c4-2e5f-4663-ac88-c34807e97046",
   "metadata": {},
   "source": [
    "# 다중 선형 회귀 (Multiple Linear Regression)\n",
    "\n",
    "## 정의\n",
    "- 여러 개의 독립변수를 이용한 회귀 예측 모델\n",
    "- 영어: multiple linear regression\n",
    "\n",
    "---\n",
    "\n",
    "## 예시\n",
    "- **혈압 예측**: 연령뿐 아니라 몸무게를 같이 고려\n",
    "  - 종속 변수(Y): 혈압\n",
    "  - 독립 변수(X): 연령, 몸무게\n",
    "\n",
    "---\n",
    "\n",
    "## 다중 선형 회귀식\n",
    "$$\n",
    "y = \\beta_{0} + \\beta_{1}x_{1} + \\beta_{2}x_{2} + \\cdots + \\beta_{p}x_{p}\n",
    "$$\n",
    "\n",
    "- \\(p\\): 회귀 분석에 사용되는 독립 변수의 총 개수\n",
    "\n",
    "---\n",
    "\n",
    "## 용어 정리 (***)\n",
    "- **종속 변수 (Dependent Variable)**  \n",
    "  - 목적 변수(Target), Outcome 변수, Response 변수, Label\n",
    "\n",
    "- **독립 변수 (Independent Variable)**  \n",
    "  - Predictor, 설명 변수(Explanatory Variable), 특징(Feature)\n"
   ]
  },
  {
   "cell_type": "code",
   "execution_count": 5,
   "id": "2625486c-0464-458d-bfe0-e4c30a6e0f8b",
   "metadata": {},
   "outputs": [
    {
     "name": "stdout",
     "output_type": "stream",
     "text": [
      "0.07630828937395717\n",
      "0.7799187922401146\n",
      "0.4384092314408935\n"
     ]
    }
   ],
   "source": [
    "num_epoch = 10  ## epoch : 학습의 수\n",
    "lr = 0.9  ##학습률\n",
    "np.random.seed(7)\n",
    "\n",
    "w1 = np.random.uniform() # 몸무게\n",
    "w2 = np.random.uniform() # 나이\n",
    "b = np.random.uniform()  # 노이즈 값\n",
    "\n",
    "print(w1)\n",
    "print(w2)\n",
    "print(b)"
   ]
  },
  {
   "cell_type": "code",
   "execution_count": 6,
   "id": "c84c7d64-ddc0-4bd6-bc35-02c2252b415c",
   "metadata": {},
   "outputs": [
    {
     "name": "stdout",
     "output_type": "stream",
     "text": [
      " 0 w1 = 0.076308,  w2 = 0.779919, b = 0.438409 , error = 5.517529\n",
      " 1 w1 = 3.933140,  w2 = 2.514540, b = 4.569556 , error = 1.225552\n",
      " 2 w1 = 4.538145,  w2 = 2.984382, b = 4.184038 , error = 0.775646\n",
      " 3 w1 = 4.838122,  w2 = 3.119734, b = 4.025162 , error = 0.657030\n",
      " 4 w1 = 4.989977,  w2 = 3.144439, b = 3.947169 , error = 0.645840\n",
      " 5 w1 = 5.070880,  w2 = 3.137609, b = 3.906834 , error = 0.651432\n",
      " 6 w1 = 5.115798,  w2 = 3.125149, b = 3.884965 , error = 0.653221\n",
      " 7 w1 = 5.141526,  w2 = 3.114408, b = 3.872658 , error = 0.653699\n",
      " 8 w1 = 5.156589,  w2 = 3.106664, b = 3.865541 , error = 0.653758\n",
      " 9 w1 = 5.165540,  w2 = 3.101489, b = 3.861346 , error = 0.653705\n"
     ]
    }
   ],
   "source": [
    "for epoch in range(num_epoch):\n",
    "    y_pred = w1*x1 + w2*x2 + b\n",
    "    error = np.abs(y_pred - y).mean()\n",
    "    print(f\"{epoch:2} w1 = {w1:.6f},  w2 = {w2:.6f}, b = {b:.6f} , error = {error:.6f}\")\n",
    "\n",
    "    w1 = w1 - lr*((y_pred - y)* x1).mean()\n",
    "    w2 = w2 - lr*((y_pred - y)* x2).mean()\n",
    "    b = b - lr*((y_pred - y)).mean()"
   ]
  },
  {
   "cell_type": "markdown",
   "id": "0870fa31-9f5e-4d5c-b803-7f29ecc0c2fc",
   "metadata": {},
   "source": [
    "# 회귀의 손실 함수 (Loss Function)\n",
    "\n",
    "## 정의\n",
    "- **손실함수 (loss function)**  \n",
    "  모델의 예측값과 실제 값의 **차이(오차, error)** 를 계산하는 함수\n",
    "- 손실함수의 목적:  \n",
    "  오차를 줄이는 방향으로 모델을 **최적화(학습)**\n",
    "\n",
    "---\n",
    "\n",
    "## 회귀분석에서 자주 쓰이는 손실 함수\n",
    "- **MSE (Mean Square Error, 평균제곱오차)**  \n",
    "  오차 제곱의 합을 평균한 값  \n",
    "  - N: 배치 크기  \n",
    "\n",
    "$$\n",
    "MSE = \\frac{1}{N} \\sum_{k=1}^{N} (y_k - \\hat{y}_k)^2\n",
    "$$\n",
    "\n",
    "---\n",
    "\n",
    "## 파라미터 개념\n",
    "- **Hyperparameter (하이퍼파라미터)**  \n",
    "  - 사람이 직접 선택하는 변수  \n",
    "  - 예: 배치 크기, 학습률 등  \n",
    "\n",
    "- **Parameter (파라미터)**  \n",
    "  - 기계 학습 과정에서 자동으로 갱신되는 변수  \n",
    "  - 예: 가중치 \\(w\\), 편향 \\(b\\)\n"
   ]
  },
  {
   "cell_type": "code",
   "execution_count": 8,
   "id": "2407942d-7265-40a5-8d35-c2d47a6befde",
   "metadata": {},
   "outputs": [
    {
     "name": "stdout",
     "output_type": "stream",
     "text": [
      "['sepal length (cm)', 'sepal width (cm)', 'petal length (cm)', 'petal width (cm)']\n"
     ]
    }
   ],
   "source": [
    "from sklearn import datasets\n",
    "iris = datasets.load_iris()\n",
    "print(iris.feature_names)"
   ]
  },
  {
   "cell_type": "code",
   "execution_count": 16,
   "id": "67d25d0c-6173-42ba-91c6-623fe6781278",
   "metadata": {},
   "outputs": [
    {
     "data": {
      "text/plain": [
       "array([[5.1, 3.5, 1.4, 0.2],\n",
       "       [4.9, 3. , 1.4, 0.2],\n",
       "       [4.7, 3.2, 1.3, 0.2],\n",
       "       [4.6, 3.1, 1.5, 0.2],\n",
       "       [5. , 3.6, 1.4, 0.2]])"
      ]
     },
     "execution_count": 16,
     "metadata": {},
     "output_type": "execute_result"
    }
   ],
   "source": [
    "iris.data[:5] #데이터.head(3)-> 판다스, 데이터[:]-> 넘파이"
   ]
  },
  {
   "cell_type": "code",
   "execution_count": 17,
   "id": "bfca6ca5-e3d9-4c3c-b858-6906e0ab99f0",
   "metadata": {},
   "outputs": [
    {
     "data": {
      "text/plain": [
       "sklearn.utils._bunch.Bunch"
      ]
     },
     "execution_count": 17,
     "metadata": {},
     "output_type": "execute_result"
    }
   ],
   "source": [
    "type(iris) ## 넘파이 기반의 데이터 타입"
   ]
  },
  {
   "cell_type": "code",
   "execution_count": 10,
   "id": "b149965d-6203-4147-9c06-dec583c14701",
   "metadata": {},
   "outputs": [
    {
     "data": {
      "text/plain": [
       "array(['setosa', 'versicolor', 'virginica'], dtype='<U10')"
      ]
     },
     "execution_count": 10,
     "metadata": {},
     "output_type": "execute_result"
    }
   ],
   "source": [
    "iris.target_names"
   ]
  },
  {
   "cell_type": "code",
   "execution_count": 11,
   "id": "601353df-8749-4589-87db-5c49568e2601",
   "metadata": {},
   "outputs": [
    {
     "data": {
      "text/plain": [
       "array([0, 0, 0, 0, 0, 0, 0, 0, 0, 0, 0, 0, 0, 0, 0, 0, 0, 0, 0, 0, 0, 0,\n",
       "       0, 0, 0, 0, 0, 0, 0, 0, 0, 0, 0, 0, 0, 0, 0, 0, 0, 0, 0, 0, 0, 0,\n",
       "       0, 0, 0, 0, 0, 0, 1, 1, 1, 1, 1, 1, 1, 1, 1, 1, 1, 1, 1, 1, 1, 1,\n",
       "       1, 1, 1, 1, 1, 1, 1, 1, 1, 1, 1, 1, 1, 1, 1, 1, 1, 1, 1, 1, 1, 1,\n",
       "       1, 1, 1, 1, 1, 1, 1, 1, 1, 1, 1, 1, 2, 2, 2, 2, 2, 2, 2, 2, 2, 2,\n",
       "       2, 2, 2, 2, 2, 2, 2, 2, 2, 2, 2, 2, 2, 2, 2, 2, 2, 2, 2, 2, 2, 2,\n",
       "       2, 2, 2, 2, 2, 2, 2, 2, 2, 2, 2, 2, 2, 2, 2, 2, 2, 2])"
      ]
     },
     "execution_count": 11,
     "metadata": {},
     "output_type": "execute_result"
    }
   ],
   "source": [
    "iris.target"
   ]
  },
  {
   "cell_type": "code",
   "execution_count": 15,
   "id": "c61e136e-8a16-459b-96de-d89ff749bdec",
   "metadata": {},
   "outputs": [],
   "source": [
    "X_all = iris.data"
   ]
  },
  {
   "cell_type": "code",
   "execution_count": 13,
   "id": "b51b5eca-5979-419b-876e-5916f40f28cb",
   "metadata": {},
   "outputs": [
    {
     "data": {
      "text/plain": [
       "array([[5.1, 3.5, 1.4, 0.2],\n",
       "       [4.9, 3. , 1.4, 0.2],\n",
       "       [4.7, 3.2, 1.3, 0.2]])"
      ]
     },
     "execution_count": 13,
     "metadata": {},
     "output_type": "execute_result"
    }
   ],
   "source": [
    "X_all[:3]"
   ]
  },
  {
   "cell_type": "code",
   "execution_count": 14,
   "id": "6ffd896d-0aa2-40b1-9488-59b93e352802",
   "metadata": {},
   "outputs": [
    {
     "name": "stdout",
     "output_type": "stream",
     "text": [
      "[5.1 4.9 4.7 4.6 5. ]\n",
      "[1.4 1.4 1.3 1.5 1.4]\n"
     ]
    }
   ],
   "source": [
    "## 데이터의 피처 값 축소: 전처리\n",
    "X = X_all[:, 0] # sepal Length\n",
    "y = X_all[:, 2] # petal Lenghh\n",
    "print(X[0:5])\n",
    "print(y[0:5])"
   ]
  },
  {
   "cell_type": "code",
   "execution_count": 18,
   "id": "00765d91-67de-4404-a0f0-5a3e42a1f9de",
   "metadata": {},
   "outputs": [
    {
     "data": {
      "image/png": "[encoded data removed]",
      "text/plain": [
       "<Figure size 400x200 with 1 Axes>"
      ]
     },
     "metadata": {},
     "output_type": "display_data"
    }
   ],
   "source": [
    "# ***\n",
    "X_train, X_test, y_train, y_test = train_test_split(X, y, test_size=0.2, random_state=5)\n",
    "\n",
    "plt.figure(figsize=(4,2))\n",
    "plt.scatter(X_train, y_train, marker='o')\n",
    "plt.xlabel(\"Sepal length\")\n",
    "plt.ylabel(\"Petal length\")\n",
    "plt.show()"
   ]
  },
  {
   "cell_type": "code",
   "execution_count": 25,
   "id": "74932a73-4717-473c-9986-305c2578793c",
   "metadata": {},
   "outputs": [
    {
     "data": {
      "image/png": "[encoded data removed]",
      "text/plain": [
       "<Figure size 400x200 with 1 Axes>"
      ]
     },
     "metadata": {},
     "output_type": "display_data"
    }
   ],
   "source": [
    "plt.figure(figsize=(4,2))\n",
    "plt.scatter(X, y, marker='D', c='k')\n",
    "plt.scatter(X_train, y_train, marker='o', c='r')\n",
    "plt.scatter(X_test, y_test, marker='x', c='b')\n",
    "plt.xlabel(\"Sepal length\")\n",
    "plt.ylabel(\"Petal length\")\n",
    "plt.show()"
   ]
  },
  {
   "cell_type": "code",
   "execution_count": 27,
   "id": "ea70fd1a-d3e7-412d-a03a-d532259f2d2d",
   "metadata": {},
   "outputs": [
    {
     "name": "stdout",
     "output_type": "stream",
     "text": [
      "[1.84274636]\n",
      "-7.068567481226074\n",
      "Score: 0.759\n"
     ]
    }
   ],
   "source": [
    "# 선형회귀 -----------------------\n",
    "linr = LinearRegression()\n",
    "linr.fit(X_train.reshape(-1,1), y_train)\n",
    "# --------------------------------\n",
    "\n",
    "a=linr.coef_ # 선형회귀 모델의 기울기 값\n",
    "print(a)\n",
    "b=linr.intercept_ # 선형회귀 모델의 y절편 값\n",
    "print(b)\n",
    "\n",
    "print(\"Score: {:.3f}\".format(linr.score(X_test.reshape(-1, 1), y_test)))"
   ]
  },
  {
   "cell_type": "code",
   "execution_count": 28,
   "id": "f46be973-07a0-47d3-9dbc-44f3b925445b",
   "metadata": {},
   "outputs": [
    {
     "data": {
      "image/png": "[encoded data removed]",
      "text/plain": [
       "<Figure size 400x200 with 1 Axes>"
      ]
     },
     "metadata": {},
     "output_type": "display_data"
    }
   ],
   "source": [
    "XX = np.linspace(4, 8, 20)\n",
    "plt.figure(figsize=(4,2))\n",
    "plt.scatter(X_train, y_train, marker='o', color='b')\n",
    "plt.plot( XX, a*XX+b, \"r--\")\n",
    "plt.show()"
   ]
  },
  {
   "cell_type": "code",
   "execution_count": 29,
   "id": "b2885bcf-9c07-4106-bd09-304ad2e72e5e",
   "metadata": {},
   "outputs": [
    {
     "data": {
      "text/plain": [
       "(array([[5.1, 3.5, 1.4, 0.2],\n",
       "        [4.9, 3. , 1.4, 0.2]]),\n",
       " array([0, 0]))"
      ]
     },
     "execution_count": 29,
     "metadata": {},
     "output_type": "execute_result"
    }
   ],
   "source": [
    "X, y = iris.data, iris.target\n",
    "X[0:2, :], y[0:2]"
   ]
  },
  {
   "cell_type": "code",
   "execution_count": 30,
   "id": "5a06bdec-bf55-4313-bd73-1845cf4d1443",
   "metadata": {},
   "outputs": [
    {
     "data": {
      "image/png": "[encoded data removed]",
      "text/plain": [
       "<Figure size 400x200 with 1 Axes>"
      ]
     },
     "metadata": {},
     "output_type": "display_data"
    }
   ],
   "source": [
    "plt.figure(figsize=(4,2))\n",
    "markers = ['o', '+', '^']\n",
    "co=['r', 'g', 'b']\n",
    "for i in range(3):\n",
    "    xs = X[:, 0][y==i]\n",
    "    ys = X[:, 1][y==i]\n",
    "    plt.scatter(xs, ys, marker=markers[i], color=co[i])\n",
    "plt.legend(iris.target_names)\n",
    "plt.xlabel(\"Sepal length\")\n",
    "plt.ylabel(\"Sepal width\")\n",
    "plt.title(\"원본 데이터 차트\")\n",
    "plt.show()"
   ]
  },
  {
   "cell_type": "code",
   "execution_count": 42,
   "id": "bff7450c-6434-447b-8168-225fa37ab12a",
   "metadata": {},
   "outputs": [
    {
     "data": {
      "text/plain": [
       "array([0, 0, 0, 0, 0, 0, 0, 0, 0, 0, 0, 0, 0, 0, 0, 0, 0, 0, 0, 0, 0, 0,\n",
       "       0, 0, 0, 0, 0, 0, 0, 0, 0, 0, 0, 0, 0, 0, 0, 0, 0, 0, 0, 0, 0, 0,\n",
       "       0, 0, 0, 0, 0, 0, 1, 1, 1, 1, 1, 1, 1, 1, 1, 1, 1, 1, 1, 1, 1, 1,\n",
       "       1, 1, 1, 1, 1, 1, 1, 1, 1, 1, 1, 1, 1, 1, 1, 1, 1, 1, 1, 1, 1, 1,\n",
       "       1, 1, 1, 1, 1, 1, 1, 1, 1, 1, 1, 1, 1, 1, 1, 1, 1, 1, 1, 1, 1, 1,\n",
       "       1, 1, 1, 1, 1, 1, 1, 1, 1, 1, 1, 1, 1, 1, 1, 1, 1, 1, 1, 1, 1, 1,\n",
       "       1, 1, 1, 1, 1, 1, 1, 1, 1, 1, 1, 1, 1, 1, 1, 1, 1, 1])"
      ]
     },
     "execution_count": 42,
     "metadata": {},
     "output_type": "execute_result"
    }
   ],
   "source": [
    "Y2 = y.copy()\n",
    "Y2[(Y2==2)] = 1\n",
    "Y2"
   ]
  },
  {
   "cell_type": "code",
   "execution_count": 43,
   "id": "7095f2c0-98c2-43a1-8dfc-83df84f2087c",
   "metadata": {},
   "outputs": [
    {
     "data": {
      "image/png": "[encoded data removed]",
      "text/plain": [
       "<Figure size 400x200 with 1 Axes>"
      ]
     },
     "metadata": {},
     "output_type": "display_data"
    }
   ],
   "source": [
    "plt.figure(figsize=(4,2))\n",
    "markers = ['o', '+', '^']\n",
    "co=['r', 'g', 'b']\n",
    "leg=['setosa', 'non-setosa']\n",
    "for i in range(3):\n",
    "    xs = X[:, 0][Y2==i]\n",
    "    ys = X[:, 1][Y2==i]\n",
    "    plt.scatter(xs, ys, marker=markers[i], color=co[i])\n",
    "plt.legend(leg, loc=1)\n",
    "plt.xlabel(\"Sepal length\")\n",
    "plt.ylabel(\"Sepal width\")\n",
    "plt.title(\"세팔랭스 위스만 추출한 2종류의 데이터 차트\")\n",
    "plt.show()"
   ]
  },
  {
   "cell_type": "code",
   "execution_count": 44,
   "id": "0b6defaa-c65e-4942-8e95-5388fe88e9ba",
   "metadata": {},
   "outputs": [],
   "source": [
    "X_train, X_test, y_train, y_test = train_test_split(X, Y2, test_size=0.2, random_state=5)"
   ]
  },
  {
   "cell_type": "code",
   "execution_count": 45,
   "id": "510bb3a6-adb7-4203-b2d9-99b6cdca7129",
   "metadata": {},
   "outputs": [
    {
     "name": "stdout",
     "output_type": "stream",
     "text": [
      "Score: 0.884\n"
     ]
    }
   ],
   "source": [
    "linr = LinearRegression()\n",
    "linr.fit(X_train, y_train)\n",
    "\n",
    "a=linr.coef_ \n",
    "b=linr.intercept_ \n",
    "\n",
    "print(\"Score: {:.3f}\".format(linr.score(X_test, y_test)))"
   ]
  },
  {
   "cell_type": "code",
   "execution_count": null,
   "id": "d22156b8-20e9-44a1-8e4d-72b4dd56805d",
   "metadata": {},
   "outputs": [],
   "source": []
  }
 ],
 "metadata": {
  "kernelspec": {
   "display_name": "Python [conda env:base] *",
   "language": "python",
   "name": "conda-base-py"
  },
  "language_info": {
   "codemirror_mode": {
    "name": "ipython",
    "version": 3
   },
   "file_extension": ".py",
   "mimetype": "text/x-python",
   "name": "python",
   "nbconvert_exporter": "python",
   "pygments_lexer": "ipython3",
   "version": "3.13.5"
  }
 },
 "nbformat": 4,
 "nbformat_minor": 5
}
