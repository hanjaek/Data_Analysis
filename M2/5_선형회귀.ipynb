{
 "cells": [
  {
   "cell_type": "code",
   "execution_count": 1,
   "id": "91e1f8e0-3abe-4289-a9d4-7ebc47f732b8",
   "metadata": {},
   "outputs": [],
   "source": [
    "import numpy as np\n",
    "import pandas as pd\n",
    "import seaborn as sns\n",
    "import platform\n",
    "\n",
    "from matplotlib import pyplot as plt\n",
    "from matplotlib import font_manager, rc\n",
    "from scipy.stats import *\n",
    "\n",
    "from sklearn import * \n",
    "from sklearn.feature_extraction.text import *\n",
    "from sklearn.metrics.pairwise import *\n",
    "from sklearn.preprocessing import *\n",
    "from sklearn.linear_model import *\n",
    "from sklearn.datasets import *\n",
    "from sklearn.cluster import *\n",
    "\n",
    "from scipy.cluster.hierarchy import *\n",
    "\n",
    "from scipy import *\n",
    "import warnings\n",
    "warnings.filterwarnings('ignore')\n",
    "%matplotlib inline"
   ]
  },
  {
   "cell_type": "code",
   "execution_count": 2,
   "id": "9e401a43-8522-42f3-899a-1c1e79bccc9f",
   "metadata": {},
   "outputs": [],
   "source": [
    "import platform\n",
    "import matplotlib\n",
    "from matplotlib import font_manager, rc\n",
    "\n",
    "# '-' 기호 보이게 하기\n",
    "matplotlib.rcParams['axes.unicode_minus'] = False\n",
    "# 윈도우\n",
    "if platform.system() == 'Windows':\n",
    "    path = \"c:/Windows/Fonts/malgun.ttf\"\n",
    "    font_name = font_manager.FontProperties(fname=path).get_name()\n",
    "    rc('font', family=font_name)\n",
    "# 맥\n",
    "elif platform.system() == 'Darwin':\n",
    "    rc('font', family='AppleGothic')\n",
    "# 리눅스\n",
    "elif platform.system() == 'Linux':\n",
    "    rc('font', family='NanumBarunGothic')"
   ]
  },
  {
   "cell_type": "code",
   "execution_count": 3,
   "id": "c43d21e0-d615-4c57-90ef-4be249e104c5",
   "metadata": {},
   "outputs": [
    {
     "name": "stdout",
     "output_type": "stream",
     "text": [
      "<class 'numpy.ndarray'> 1\n",
      "[2.00021735]\n",
      "3.0002497089912357\n"
     ]
    },
    {
     "data": {
      "text/plain": [
       "[<matplotlib.lines.Line2D at 0x2e07f918190>]"
      ]
     },
     "execution_count": 3,
     "metadata": {},
     "output_type": "execute_result"
    }
   ],
   "source": [
    "## 데이터 수집 단계\n",
    "## ex) 몸무게 => 고혈압\n",
    "## 단일 데이터를 강제로 만듦 \n",
    "# 예) 몸무게 --> 고혈압\n",
    "n_samples = 20000000\n",
    "x = np.random.randn(n_samples) #평균0, 표준편차1\n",
    "w = 2   ##기울기\n",
    "b = 3   ## y절편\n",
    "y = w*x + b + np.random.randn(n_samples)  \n",
    "plt.figure(figsize=(4,2))\n",
    "plt.scatter(x, y, s=10)  ## 탐색적 분석\n",
    "print(type(x), x.ndim)  ## 1차원 배열\n",
    "\n",
    "leg = LinearRegression()  ## 데이터모델 만들기 --> 선형회귀\n",
    "leg.fit(x.reshape(-1,1), y)  ##fit 적용 2차원 \n",
    "\n",
    "print(leg.coef_)  ## 기울기\n",
    "print(leg.intercept_)  ##y절편\n",
    "\n",
    "XX = np.linspace(-5, 5, 200)\n",
    "plt.plot(XX, leg.coef_ * XX + leg.intercept_, \"r-\")"
   ]
  },
  {
   "cell_type": "code",
   "execution_count": 5,
   "id": "7242b94a-f56b-4d7e-b74d-fdc35eb6aeca",
   "metadata": {},
   "outputs": [
    {
     "name": "stdout",
     "output_type": "stream",
     "text": [
      "[4.9815463  3.05117431]\n",
      "3.9736547005325447\n"
     ]
    },
    {
     "data": {
      "image/png": "[encoded data removed]",
      "text/plain": [
       "<Figure size 400x200 with 1 Axes>"
      ]
     },
     "metadata": {},
     "output_type": "display_data"
    }
   ],
   "source": [
    "##  예) 몸무게, 나이 --> 고혈압\n",
    "n_samples = 200\n",
    "x1 = np.random.randn(n_samples)  \n",
    "x2 = np.random.randn(n_samples) \n",
    "\n",
    "np.random.seed(7)  ## 7번 랜덤으로 초기화\n",
    "y = 5 * x1 + 3 * x2 + 4 + np.random.randn(n_samples)\n",
    "X = pd.DataFrame({'x1':x1, 'x2':x2})\n",
    "\n",
    "#leg = LinearRegression()\n",
    "#leg.fit(X, y)\n",
    "leg = LinearRegression().fit(X, y)\n",
    "\n",
    "print(leg.coef_)\n",
    "print(leg.intercept_)\n",
    "\n",
    "XX = np.linspace(-5, 5, 200)\n",
    "plt.plot(XX, leg.coef_[0] * XX + leg.intercept_, \"r-\")\n",
    "plt.plot(XX, leg.coef_[1] * XX + leg.intercept_, \"b-.\")\n",
    "\n",
    "plt.show()"
   ]
  },
  {
   "cell_type": "markdown",
   "id": "fc81be7a-a921-4751-a3d0-852eafae6acd",
   "metadata": {},
   "source": [
    "# 선형 회귀 (Linear Regression) 분석\n",
    "\n",
    "**공식**  \n",
    "\\[\n",
    "y = ax + b\n",
    "\\]\n",
    "\n",
    "---\n",
    "\n",
    "## 기본 개념\n",
    "- **회귀(Regression)**: 두 변수 간 관계가 일반화된 선형 관계의 평균으로 돌아간다는 것을 의미\n",
    "- **선형성(Linearity)**: 두 변수 간 관계가 직선 형태로 설명될 수 있는 것\n",
    "- **최소제곱 추정량(Least Square Estimator)**: 실제 값과 예측 값의 차이(오차 제곱)의 합을 최소화하는 방식으로 회귀선을 구함\n",
    "\n",
    "---\n",
    "\n",
    "## 회귀분석의 특징\n",
    "- 변수 간의 **함수적 관계** 탐색\n",
    "- 독립변수(X)와 종속변수(Y)의 영향 분석\n",
    "- 독립변수가 1 증가할 때 결과(Y)가 얼마나 달라지는지를 확인\n",
    "- 선형 방정식의 해석력이 높고, 근사값을 찾는 데 유리\n",
    "- **비선형 관계**도 적절한 변환(다항 회귀, 로그 변환 등)을 통해 예측 가능\n",
    "\n",
    "---\n",
    "\n",
    "## 해석\n",
    "- 계수 a: 기울기, 독립변수가 종속변수에 미치는 영향의 크기\n",
    "- 절편 b: 독립변수가 0일 때 종속변수의 값\n"
   ]
  },
  {
   "cell_type": "code",
   "execution_count": null,
   "id": "3c8296f1-2bff-4be4-b96e-030ea9d655cc",
   "metadata": {},
   "outputs": [],
   "source": []
  }
 ],
 "metadata": {
  "kernelspec": {
   "display_name": "Python [conda env:base] *",
   "language": "python",
   "name": "conda-base-py"
  },
  "language_info": {
   "codemirror_mode": {
    "name": "ipython",
    "version": 3
   },
   "file_extension": ".py",
   "mimetype": "text/x-python",
   "name": "python",
   "nbconvert_exporter": "python",
   "pygments_lexer": "ipython3",
   "version": "3.13.5"
  }
 },
 "nbformat": 4,
 "nbformat_minor": 5
}
