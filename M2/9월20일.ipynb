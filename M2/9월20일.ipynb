{
 "cells": [
  {
   "cell_type": "markdown",
   "id": "0c71d504-b738-44aa-97e9-0e10ae31cb8a",
   "metadata": {},
   "source": [
    "< 데이터 분석 목적 >\n",
    "\n",
    " 1. 설명\n",
    "  - 어떤 현상의 원인을 데이터 분석을 통해 설명\n",
    "  - 탐색적 분석(!) -> 결과\n",
    "  - 패턴을 찾아내는 것은 일종의 서술형 모델 (유사한 특성을 가진 항목들을 함께 묶는 군집화)\n",
    "  - 결과 : 새로운 인사이트 얻는 것\n",
    "\n",
    " 2. 예측\n",
    "  - 새로운 샘플에 대한 미래 값 예측 : 회귀(regression), 분류(classification)\n",
    "  - 회귀(수치를 예측)\n",
    "   -- ex) 내일 날씨 예측, 주가 예측, 병에 걸릴 확률 예측, 가게 매출 예측 등등\n",
    "    \n",
    "  - 분류(주어진 샘플이 어느 카테고리에 속하는지 예측)\n",
    "   -- ex) 수신 메일 스팸인지 아닌지 예측, 우수 고객인지 아닌지 예측 등등\n",
    "   \n",
    " 3. 추천\n",
    "  - 최종적으로 의사결정을 돕는 것\n",
    "   -- 단순 정보를 넘어 최적의 추천\n",
    "   -- 다양한 설명 및 예측 모델을 종합적으로 활용\n",
    "\n",
    "  - ex) 약 처방, 네비게이터, 검색엔진, 상품/영화/음악 추천 등등"
   ]
  },
  {
   "cell_type": "markdown",
   "id": "2c4a9117-b4fd-4f3c-8e89-588b818eedbd",
   "metadata": {},
   "source": [
    "< 심슨 패러독스 >\n",
    "- 같은 데이터를 가지고도 통계 분석을 통한 결과 해석 방법에 따라 상반된 결과를 얻을 수 있다.\n",
    "- 자주 발생한다.\n",
    "\n",
    "A사\n",
    "서울 : 정상품 90, 불량품 10 (불량품 10%)\n",
    "춘천 : 정상품 980, 불량품 20 (2%)\n",
    "total : 3%\n",
    "\n",
    "B사\n",
    "서울 : 정상품 920, 불량품 80 (8%)\n",
    "춘천 : 정상품 99, 불량품 1 (1%)\n",
    "total : 8%\n",
    "\n",
    "!) 같은 데이터를 가지고도 분석 방법에 따라 해석이 달라질 수 있다. "
   ]
  }
 ],
 "metadata": {
  "kernelspec": {
   "display_name": "Python [conda env:base] *",
   "language": "python",
   "name": "conda-base-py"
  },
  "language_info": {
   "codemirror_mode": {
    "name": "ipython",
    "version": 3
   },
   "file_extension": ".py",
   "mimetype": "text/x-python",
   "name": "python",
   "nbconvert_exporter": "python",
   "pygments_lexer": "ipython3",
   "version": "3.13.5"
  }
 },
 "nbformat": 4,
 "nbformat_minor": 5
}
