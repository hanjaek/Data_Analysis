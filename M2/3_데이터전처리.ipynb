{
 "cells": [
  {
   "cell_type": "code",
   "execution_count": 1,
   "id": "92097409-f46e-4bd5-9594-6ed6f2ffbe73",
   "metadata": {},
   "outputs": [],
   "source": [
    "import numpy as np\n",
    "import pandas as pd\n",
    "import seaborn as sns\n",
    "import platform\n",
    "\n",
    "from matplotlib import pyplot as plt\n",
    "from matplotlib import font_manager, rc\n",
    "from scipy.stats import *\n",
    "from sklearn.preprocessing import *\n",
    "from scipy import *\n",
    "import warnings\n",
    "warnings.filterwarnings('ignore')\n",
    "%matplotlib inline"
   ]
  },
  {
   "cell_type": "code",
   "execution_count": 8,
   "id": "f320bd9b-430f-476f-91b0-62937ec70ad6",
   "metadata": {},
   "outputs": [
    {
     "name": "stdout",
     "output_type": "stream",
     "text": [
      "<class 'pandas.core.frame.DataFrame'>\n"
     ]
    },
    {
     "data": {
      "text/html": [
       "<div>\n",
       "<style scoped>\n",
       "    .dataframe tbody tr th:only-of-type {\n",
       "        vertical-align: middle;\n",
       "    }\n",
       "\n",
       "    .dataframe tbody tr th {\n",
       "        vertical-align: top;\n",
       "    }\n",
       "\n",
       "    .dataframe thead th {\n",
       "        text-align: right;\n",
       "    }\n",
       "</style>\n",
       "<table border=\"1\" class=\"dataframe\">\n",
       "  <thead>\n",
       "    <tr style=\"text-align: right;\">\n",
       "      <th></th>\n",
       "      <th>0</th>\n",
       "    </tr>\n",
       "  </thead>\n",
       "  <tbody>\n",
       "    <tr>\n",
       "      <th>0</th>\n",
       "      <td>0.946667</td>\n",
       "    </tr>\n",
       "    <tr>\n",
       "      <th>1</th>\n",
       "      <td>0.107374</td>\n",
       "    </tr>\n",
       "  </tbody>\n",
       "</table>\n",
       "</div>"
      ],
      "text/plain": [
       "          0\n",
       "0  0.946667\n",
       "1  0.107374"
      ]
     },
     "execution_count": 8,
     "metadata": {},
     "output_type": "execute_result"
    }
   ],
   "source": [
    "df = pd.DataFrame(np.random.rand(5)) \n",
    "# 0~1 사이의 무작위수 -> 1차원 배열 -> 2차원 데이터 프레임\n",
    "print(type(df))\n",
    "df.head(2)"
   ]
  },
  {
   "cell_type": "code",
   "execution_count": 9,
   "id": "b2c2f786-2719-49f3-b576-53bf5d9728ed",
   "metadata": {},
   "outputs": [
    {
     "name": "stdout",
     "output_type": "stream",
     "text": [
      "<class 'pandas.core.frame.DataFrame'>\n"
     ]
    },
    {
     "data": {
      "text/html": [
       "<div>\n",
       "<style scoped>\n",
       "    .dataframe tbody tr th:only-of-type {\n",
       "        vertical-align: middle;\n",
       "    }\n",
       "\n",
       "    .dataframe tbody tr th {\n",
       "        vertical-align: top;\n",
       "    }\n",
       "\n",
       "    .dataframe thead th {\n",
       "        text-align: right;\n",
       "    }\n",
       "</style>\n",
       "<table border=\"1\" class=\"dataframe\">\n",
       "  <thead>\n",
       "    <tr style=\"text-align: right;\">\n",
       "      <th></th>\n",
       "      <th>0</th>\n",
       "      <th>1</th>\n",
       "      <th>2</th>\n",
       "      <th>3</th>\n",
       "    </tr>\n",
       "  </thead>\n",
       "  <tbody>\n",
       "    <tr>\n",
       "      <th>0</th>\n",
       "      <td>0.478993</td>\n",
       "      <td>0.609440</td>\n",
       "      <td>0.200405</td>\n",
       "      <td>0.276005</td>\n",
       "    </tr>\n",
       "    <tr>\n",
       "      <th>1</th>\n",
       "      <td>0.767994</td>\n",
       "      <td>0.536238</td>\n",
       "      <td>0.681499</td>\n",
       "      <td>0.079809</td>\n",
       "    </tr>\n",
       "  </tbody>\n",
       "</table>\n",
       "</div>"
      ],
      "text/plain": [
       "          0         1         2         3\n",
       "0  0.478993  0.609440  0.200405  0.276005\n",
       "1  0.767994  0.536238  0.681499  0.079809"
      ]
     },
     "execution_count": 9,
     "metadata": {},
     "output_type": "execute_result"
    }
   ],
   "source": [
    "df = pd.DataFrame(np.random.rand(3, 4))\n",
    "# 0~1 사이의 무작위수 -> 2차원 행과 열이 있는 테이블 -> 2차원 데이터 프레임\n",
    "## DataFrame : 배열 XX -> 배열은 Numpy\n",
    "\n",
    "print(type(df))\n",
    "df.head(2)"
   ]
  },
  {
   "cell_type": "code",
   "execution_count": 4,
   "id": "e3c23e26-7f19-4d07-bb71-51bce769c806",
   "metadata": {},
   "outputs": [
    {
     "data": {
      "text/html": [
       "<div>\n",
       "<style scoped>\n",
       "    .dataframe tbody tr th:only-of-type {\n",
       "        vertical-align: middle;\n",
       "    }\n",
       "\n",
       "    .dataframe tbody tr th {\n",
       "        vertical-align: top;\n",
       "    }\n",
       "\n",
       "    .dataframe thead th {\n",
       "        text-align: right;\n",
       "    }\n",
       "</style>\n",
       "<table border=\"1\" class=\"dataframe\">\n",
       "  <thead>\n",
       "    <tr style=\"text-align: right;\">\n",
       "      <th></th>\n",
       "      <th>0</th>\n",
       "    </tr>\n",
       "  </thead>\n",
       "  <tbody>\n",
       "    <tr>\n",
       "      <th>0</th>\n",
       "      <td>0.730819</td>\n",
       "    </tr>\n",
       "    <tr>\n",
       "      <th>1</th>\n",
       "      <td>-1.273355</td>\n",
       "    </tr>\n",
       "    <tr>\n",
       "      <th>2</th>\n",
       "      <td>-1.995580</td>\n",
       "    </tr>\n",
       "    <tr>\n",
       "      <th>3</th>\n",
       "      <td>-2.733565</td>\n",
       "    </tr>\n",
       "    <tr>\n",
       "      <th>4</th>\n",
       "      <td>0.006611</td>\n",
       "    </tr>\n",
       "  </tbody>\n",
       "</table>\n",
       "</div>"
      ],
      "text/plain": [
       "          0\n",
       "0  0.730819\n",
       "1 -1.273355\n",
       "2 -1.995580\n",
       "3 -2.733565\n",
       "4  0.006611"
      ]
     },
     "execution_count": 4,
     "metadata": {},
     "output_type": "execute_result"
    }
   ],
   "source": [
    "df = pd.DataFrame(np.random.randn(5))\n",
    "# 평균 0, 표준편차 1인 정규분포 ==> -1 ~ 1 근처에 (-3~~ 이런식으로도 나옴)\n",
    "df"
   ]
  },
  {
   "cell_type": "code",
   "execution_count": 5,
   "id": "4920a8a1-e0b7-47a8-a856-154c9259d877",
   "metadata": {},
   "outputs": [
    {
     "data": {
      "text/html": [
       "<div>\n",
       "<style scoped>\n",
       "    .dataframe tbody tr th:only-of-type {\n",
       "        vertical-align: middle;\n",
       "    }\n",
       "\n",
       "    .dataframe tbody tr th {\n",
       "        vertical-align: top;\n",
       "    }\n",
       "\n",
       "    .dataframe thead th {\n",
       "        text-align: right;\n",
       "    }\n",
       "</style>\n",
       "<table border=\"1\" class=\"dataframe\">\n",
       "  <thead>\n",
       "    <tr style=\"text-align: right;\">\n",
       "      <th></th>\n",
       "      <th>0</th>\n",
       "      <th>1</th>\n",
       "      <th>2</th>\n",
       "      <th>3</th>\n",
       "    </tr>\n",
       "  </thead>\n",
       "  <tbody>\n",
       "    <tr>\n",
       "      <th>0</th>\n",
       "      <td>1.975815</td>\n",
       "      <td>-0.733163</td>\n",
       "      <td>-0.055764</td>\n",
       "      <td>0.705256</td>\n",
       "    </tr>\n",
       "    <tr>\n",
       "      <th>1</th>\n",
       "      <td>-0.724537</td>\n",
       "      <td>-0.942539</td>\n",
       "      <td>-0.328861</td>\n",
       "      <td>-1.066713</td>\n",
       "    </tr>\n",
       "    <tr>\n",
       "      <th>2</th>\n",
       "      <td>-0.297517</td>\n",
       "      <td>-0.016566</td>\n",
       "      <td>-0.416115</td>\n",
       "      <td>1.152769</td>\n",
       "    </tr>\n",
       "  </tbody>\n",
       "</table>\n",
       "</div>"
      ],
      "text/plain": [
       "          0         1         2         3\n",
       "0  1.975815 -0.733163 -0.055764  0.705256\n",
       "1 -0.724537 -0.942539 -0.328861 -1.066713\n",
       "2 -0.297517 -0.016566 -0.416115  1.152769"
      ]
     },
     "execution_count": 5,
     "metadata": {},
     "output_type": "execute_result"
    }
   ],
   "source": [
    "df = pd.DataFrame(np.random.randn(3, 4))\n",
    "df"
   ]
  },
  {
   "cell_type": "markdown",
   "id": "08979d5d-cefd-4c3a-847a-79280b52090d",
   "metadata": {},
   "source": [
    "---\n",
    "\n",
    "# 데이터 전처리\n",
    "- 데이터를 분석에 사용할 때 **성능을 더 좋게 만들기 위해 데이터 수정 또는 형태 변형**을 수행하는 과정\n",
    "- 분석 목적에 맞게 데이터의 품질을 확인하고, 필요 시 품질을 높이기 위한 필터링 작업 포함\n",
    "- **데이터 품질 요소**: 신뢰성, 정확성, 적시성(시의성) 등\n",
    "\n",
    "---\n",
    "\n",
    "## 데이터 전처리를 하는 이유\n",
    "1. 수집한 데이터를 머신러닝 등에 **바로 사용할 수 있는 경우는 거의 없음**\n",
    "2. 데이터 크기가 너무 크면 한 번에 분석하기 어려우므로 **적절히 축소** 필요\n",
    "3. 잘못된 값, 이상치, 결측치(NaN) 등을 **처리해야 함**\n",
    "4. 비정형 데이터라면 이를 **정형 데이터로 변환**해야 함\n",
    "\n",
    "> **Note:** 파이썬으로 데이터 분석을 하려면 반드시 **정형 데이터** 형태여야 한다.\n",
    "--- \n",
    "\n",
    "## 전처리 유형\n",
    "\n",
    "1. **데이터 누락**\n",
    "   - 중간에 데이터가 빠진 경우 (결측치 처리 필요)\n",
    "     \n",
    "2. **잘못된 값**\n",
    "   - 틀린 값, 비현실적인 값 등이 들어 있는 경우 (오타, 잘못된 범위 값 등)\n",
    "    \n",
    "3. **단위 불일치**\n",
    "   - 데이터 단위가 서로 다른 경우 (예: m ↔ inch, kg ↔ 파운드)\n",
    "     \n",
    "4. **결측치(NaN) 및 이상치 처리** <중요도 ↑>\n",
    "   - NaN 값 보정 또는 제거\n",
    "   - 이상치(Outlier) 탐지 및 처리\n",
    "     \n",
    "5. **범주형 데이터 변환**\n",
    "   - 문자열 기반의 범주형 데이터를 숫자형 표현으로 변경 필요  \n",
    "   - 예시:  \n",
    "     - 요일 → 월요일=1, 화요일=2, …  \n",
    "     - 성별 → 남성=0, 여성=1\n",
    "\n",
    "---\n",
    "\n",
    "## 데이터 변환\n",
    "\n",
    "### 1. 로그 변환 (Log Transformation) \n",
    "- **정의**: 데이터에 로그 함수(ln, log10 등)를 적용\n",
    "- **효과**:\n",
    "  - 큰 값을 줄이고 작은 값의 차이를 확대 → 분포를 안정화\n",
    "  - 분포가 한쪽으로 치우친 경우(오른쪽 긴 꼬리, positive skew) 정규 분포에 가깝게 만듦\n",
    "- **예시**: 집값, 소득, 매출처럼 값의 범위가 큰 데이터를 log 변환 + 사람이 느끼는 오감\n",
    "\n",
    "\n",
    "### 2. 역수 변환 (Reciprocal Transformation)\n",
    "- 역수를 사용하면 선형적인 특성을 가져 분석의 정확도가 높아지는 경우\n",
    "- 역수 관계: 자동차의 성능 지표\n",
    "  - 자동차 마일리지(연료 1l로 가는 거리 km)\n",
    "  - 연비\n",
    "\n",
    "### 3. 정규 분포로 변환 (Normalization to Normal Distribution)\n",
    "- **정의**: 데이터를 통계적 기법으로 변형하여 정규 분포(가우시안 분포)에 맞추는 방법\n",
    "- **방법**:\n",
    "  - Box-Cox 변환 (양수 데이터만 가능)\n",
    "  - Yeo-Johnson 변환 (음수, 0 포함 가능)\n",
    "- **효과**:\n",
    "  - 정규성을 확보해 선형 회귀, ANOVA, t-test 등에서 가정 충족\n",
    "  - 머신러닝 알고리즘의 학습 성능 향상\n",
    "\n",
    "** 변환 목적: 선형시스템이어야 정확한 예측 가능\n",
    "\n",
    "---\n",
    "\n",
    "## 데이터 전처리 – 전처리 유형\n",
    "\n",
    "| 구분 | 처리 방법 |\n",
    "|------|------------|\n",
    "| **결측치 (missing) 처리** | - 결측치가 포함된 항목을 **모두 버리는 방법**<br>  → 단, 비중이 크면 무시하기 어려움<br>- 결측치를 **적절한 값으로 대체**<br>  → 예: 0, 평균값, 최소값, 특정 상수, 인접 값 등으로 추정 보정<br>- **분석 단계로 결측치 처리 넘김** (NA로 표기)<br>- 별도의 범주형 변수를 정의하여 추적 가능하게 관리 |\n",
    "| **틀린 값 (invalid) 처리** | - 틀린 값이 포함된 항목을 **모두 버리는 방법**<br>- 틀린 값을 **다른 적절한 값으로 대체**<br>- **분석 단계로 틀린 값 처리 넘김** |\n",
    "| **이상치 (outlier) 검출** | - 값이 일반적인 범위를 벗어나 특별한 값을 갖는 경우<br>- 데이터 분석 과정의 활동이므로 **분석 단계로 넘김**<br>- 예: 도난 카드 사용, 불법 보험료 청구 등 |\n",
    "\n",
    "---\n"
   ]
  },
  {
   "cell_type": "code",
   "execution_count": 11,
   "id": "8b3a9323-63f0-48d3-bef4-d77137d1027b",
   "metadata": {},
   "outputs": [
    {
     "data": {
      "text/html": [
       "<div>\n",
       "<style scoped>\n",
       "    .dataframe tbody tr th:only-of-type {\n",
       "        vertical-align: middle;\n",
       "    }\n",
       "\n",
       "    .dataframe tbody tr th {\n",
       "        vertical-align: top;\n",
       "    }\n",
       "\n",
       "    .dataframe thead th {\n",
       "        text-align: right;\n",
       "    }\n",
       "</style>\n",
       "<table border=\"1\" class=\"dataframe\">\n",
       "  <thead>\n",
       "    <tr style=\"text-align: right;\">\n",
       "      <th></th>\n",
       "      <th>A</th>\n",
       "      <th>B</th>\n",
       "      <th>C</th>\n",
       "    </tr>\n",
       "  </thead>\n",
       "  <tbody>\n",
       "    <tr>\n",
       "      <th>0</th>\n",
       "      <td>1.0</td>\n",
       "      <td>6.0</td>\n",
       "      <td>11.0</td>\n",
       "    </tr>\n",
       "    <tr>\n",
       "      <th>1</th>\n",
       "      <td>2.0</td>\n",
       "      <td>7.0</td>\n",
       "      <td>12.0</td>\n",
       "    </tr>\n",
       "    <tr>\n",
       "      <th>2</th>\n",
       "      <td>NaN</td>\n",
       "      <td>8.0</td>\n",
       "      <td>13.0</td>\n",
       "    </tr>\n",
       "    <tr>\n",
       "      <th>3</th>\n",
       "      <td>4.0</td>\n",
       "      <td>NaN</td>\n",
       "      <td>NaN</td>\n",
       "    </tr>\n",
       "    <tr>\n",
       "      <th>4</th>\n",
       "      <td>5.0</td>\n",
       "      <td>10.0</td>\n",
       "      <td>NaN</td>\n",
       "    </tr>\n",
       "  </tbody>\n",
       "</table>\n",
       "</div>"
      ],
      "text/plain": [
       "     A     B     C\n",
       "0  1.0   6.0  11.0\n",
       "1  2.0   7.0  12.0\n",
       "2  NaN   8.0  13.0\n",
       "3  4.0   NaN   NaN\n",
       "4  5.0  10.0   NaN"
      ]
     },
     "execution_count": 11,
     "metadata": {},
     "output_type": "execute_result"
    }
   ],
   "source": [
    "df = pd.DataFrame({'A':[1, 2, np.nan, 4, 5],\n",
    "                   'B':[6, 7, 8,np.nan, 10],\n",
    "                   'C':[11, 12, 13, np.nan, np.nan]})\n",
    "df"
   ]
  },
  {
   "cell_type": "code",
   "execution_count": 12,
   "id": "526fb514-393a-417b-8492-b8bd36527d7a",
   "metadata": {},
   "outputs": [
    {
     "data": {
      "text/html": [
       "<div>\n",
       "<style scoped>\n",
       "    .dataframe tbody tr th:only-of-type {\n",
       "        vertical-align: middle;\n",
       "    }\n",
       "\n",
       "    .dataframe tbody tr th {\n",
       "        vertical-align: top;\n",
       "    }\n",
       "\n",
       "    .dataframe thead th {\n",
       "        text-align: right;\n",
       "    }\n",
       "</style>\n",
       "<table border=\"1\" class=\"dataframe\">\n",
       "  <thead>\n",
       "    <tr style=\"text-align: right;\">\n",
       "      <th></th>\n",
       "      <th>A</th>\n",
       "      <th>B</th>\n",
       "      <th>C</th>\n",
       "    </tr>\n",
       "  </thead>\n",
       "  <tbody>\n",
       "    <tr>\n",
       "      <th>0</th>\n",
       "      <td>False</td>\n",
       "      <td>False</td>\n",
       "      <td>False</td>\n",
       "    </tr>\n",
       "    <tr>\n",
       "      <th>1</th>\n",
       "      <td>False</td>\n",
       "      <td>False</td>\n",
       "      <td>False</td>\n",
       "    </tr>\n",
       "    <tr>\n",
       "      <th>2</th>\n",
       "      <td>True</td>\n",
       "      <td>False</td>\n",
       "      <td>False</td>\n",
       "    </tr>\n",
       "    <tr>\n",
       "      <th>3</th>\n",
       "      <td>False</td>\n",
       "      <td>True</td>\n",
       "      <td>True</td>\n",
       "    </tr>\n",
       "    <tr>\n",
       "      <th>4</th>\n",
       "      <td>False</td>\n",
       "      <td>False</td>\n",
       "      <td>True</td>\n",
       "    </tr>\n",
       "  </tbody>\n",
       "</table>\n",
       "</div>"
      ],
      "text/plain": [
       "       A      B      C\n",
       "0  False  False  False\n",
       "1  False  False  False\n",
       "2   True  False  False\n",
       "3  False   True   True\n",
       "4  False  False   True"
      ]
     },
     "execution_count": 12,
     "metadata": {},
     "output_type": "execute_result"
    }
   ],
   "source": [
    "pd.isna(df)"
   ]
  },
  {
   "cell_type": "code",
   "execution_count": 14,
   "id": "9020a323-4dd9-4a2b-8457-8d216f359eaf",
   "metadata": {},
   "outputs": [
    {
     "data": {
      "text/plain": [
       "A    1\n",
       "B    1\n",
       "C    2\n",
       "dtype: int64"
      ]
     },
     "execution_count": 14,
     "metadata": {},
     "output_type": "execute_result"
    }
   ],
   "source": [
    "pd.isna(df).sum() # 열 단위로 결측치 개수 세기"
   ]
  },
  {
   "cell_type": "code",
   "execution_count": 21,
   "id": "f6bd9fb6-9127-424b-ac0f-71f629f1c51a",
   "metadata": {},
   "outputs": [
    {
     "data": {
      "text/html": [
       "<div>\n",
       "<style scoped>\n",
       "    .dataframe tbody tr th:only-of-type {\n",
       "        vertical-align: middle;\n",
       "    }\n",
       "\n",
       "    .dataframe tbody tr th {\n",
       "        vertical-align: top;\n",
       "    }\n",
       "\n",
       "    .dataframe thead th {\n",
       "        text-align: right;\n",
       "    }\n",
       "</style>\n",
       "<table border=\"1\" class=\"dataframe\">\n",
       "  <thead>\n",
       "    <tr style=\"text-align: right;\">\n",
       "      <th></th>\n",
       "      <th>A</th>\n",
       "      <th>B</th>\n",
       "      <th>C</th>\n",
       "    </tr>\n",
       "  </thead>\n",
       "  <tbody>\n",
       "    <tr>\n",
       "      <th>0</th>\n",
       "      <td>1.0</td>\n",
       "      <td>6.0</td>\n",
       "      <td>11.0</td>\n",
       "    </tr>\n",
       "    <tr>\n",
       "      <th>1</th>\n",
       "      <td>2.0</td>\n",
       "      <td>7.0</td>\n",
       "      <td>12.0</td>\n",
       "    </tr>\n",
       "  </tbody>\n",
       "</table>\n",
       "</div>"
      ],
      "text/plain": [
       "     A    B     C\n",
       "0  1.0  6.0  11.0\n",
       "1  2.0  7.0  12.0"
      ]
     },
     "execution_count": 21,
     "metadata": {},
     "output_type": "execute_result"
    }
   ],
   "source": [
    "dropDf = df.dropna()\n",
    "dropDf"
   ]
  },
  {
   "cell_type": "code",
   "execution_count": 22,
   "id": "d04c3eef-514c-4d64-97f4-bf9454726366",
   "metadata": {},
   "outputs": [
    {
     "data": {
      "text/html": [
       "<div>\n",
       "<style scoped>\n",
       "    .dataframe tbody tr th:only-of-type {\n",
       "        vertical-align: middle;\n",
       "    }\n",
       "\n",
       "    .dataframe tbody tr th {\n",
       "        vertical-align: top;\n",
       "    }\n",
       "\n",
       "    .dataframe thead th {\n",
       "        text-align: right;\n",
       "    }\n",
       "</style>\n",
       "<table border=\"1\" class=\"dataframe\">\n",
       "  <thead>\n",
       "    <tr style=\"text-align: right;\">\n",
       "      <th></th>\n",
       "      <th>A</th>\n",
       "      <th>B</th>\n",
       "      <th>C</th>\n",
       "    </tr>\n",
       "  </thead>\n",
       "  <tbody>\n",
       "    <tr>\n",
       "      <th>0</th>\n",
       "      <td>1.0</td>\n",
       "      <td>6.0</td>\n",
       "      <td>11.0</td>\n",
       "    </tr>\n",
       "    <tr>\n",
       "      <th>1</th>\n",
       "      <td>2.0</td>\n",
       "      <td>7.0</td>\n",
       "      <td>12.0</td>\n",
       "    </tr>\n",
       "    <tr>\n",
       "      <th>2</th>\n",
       "      <td>0.0</td>\n",
       "      <td>8.0</td>\n",
       "      <td>13.0</td>\n",
       "    </tr>\n",
       "    <tr>\n",
       "      <th>3</th>\n",
       "      <td>4.0</td>\n",
       "      <td>0.0</td>\n",
       "      <td>0.0</td>\n",
       "    </tr>\n",
       "    <tr>\n",
       "      <th>4</th>\n",
       "      <td>5.0</td>\n",
       "      <td>10.0</td>\n",
       "      <td>0.0</td>\n",
       "    </tr>\n",
       "  </tbody>\n",
       "</table>\n",
       "</div>"
      ],
      "text/plain": [
       "     A     B     C\n",
       "0  1.0   6.0  11.0\n",
       "1  2.0   7.0  12.0\n",
       "2  0.0   8.0  13.0\n",
       "3  4.0   0.0   0.0\n",
       "4  5.0  10.0   0.0"
      ]
     },
     "execution_count": 22,
     "metadata": {},
     "output_type": "execute_result"
    }
   ],
   "source": [
    "dfAll = df.fillna(0)\n",
    "dfAll"
   ]
  },
  {
   "cell_type": "code",
   "execution_count": 18,
   "id": "5071d91c-3cfe-4f11-ab69-eed79d3ad7e0",
   "metadata": {},
   "outputs": [
    {
     "data": {
      "text/plain": [
       "0    11.0\n",
       "1    12.0\n",
       "2    13.0\n",
       "3     0.0\n",
       "4     0.0\n",
       "Name: C, dtype: float64"
      ]
     },
     "execution_count": 18,
     "metadata": {},
     "output_type": "execute_result"
    }
   ],
   "source": [
    "dfC=df['C'].fillna(0)\n",
    "dfC"
   ]
  },
  {
   "cell_type": "code",
   "execution_count": 19,
   "id": "57dc7984-0bd6-456b-8893-f9b6fc2e06e4",
   "metadata": {},
   "outputs": [
    {
     "data": {
      "text/plain": [
       "0        1.0\n",
       "1        2.0\n",
       "2    Missing\n",
       "3        4.0\n",
       "4        5.0\n",
       "Name: A, dtype: object"
      ]
     },
     "execution_count": 19,
     "metadata": {},
     "output_type": "execute_result"
    }
   ],
   "source": [
    "dfA = df['A'].fillna('Missing')\n",
    "dfA"
   ]
  },
  {
   "cell_type": "code",
   "execution_count": 20,
   "id": "931b2da6-6e14-4139-a297-5bd3e2304a2a",
   "metadata": {},
   "outputs": [
    {
     "data": {
      "text/html": [
       "<div>\n",
       "<style scoped>\n",
       "    .dataframe tbody tr th:only-of-type {\n",
       "        vertical-align: middle;\n",
       "    }\n",
       "\n",
       "    .dataframe tbody tr th {\n",
       "        vertical-align: top;\n",
       "    }\n",
       "\n",
       "    .dataframe thead th {\n",
       "        text-align: right;\n",
       "    }\n",
       "</style>\n",
       "<table border=\"1\" class=\"dataframe\">\n",
       "  <thead>\n",
       "    <tr style=\"text-align: right;\">\n",
       "      <th></th>\n",
       "      <th>A</th>\n",
       "      <th>B</th>\n",
       "      <th>C</th>\n",
       "    </tr>\n",
       "  </thead>\n",
       "  <tbody>\n",
       "    <tr>\n",
       "      <th>0</th>\n",
       "      <td>1.0</td>\n",
       "      <td>6.00</td>\n",
       "      <td>11.0</td>\n",
       "    </tr>\n",
       "    <tr>\n",
       "      <th>1</th>\n",
       "      <td>2.0</td>\n",
       "      <td>7.00</td>\n",
       "      <td>12.0</td>\n",
       "    </tr>\n",
       "    <tr>\n",
       "      <th>2</th>\n",
       "      <td>3.0</td>\n",
       "      <td>8.00</td>\n",
       "      <td>13.0</td>\n",
       "    </tr>\n",
       "    <tr>\n",
       "      <th>3</th>\n",
       "      <td>4.0</td>\n",
       "      <td>7.75</td>\n",
       "      <td>12.0</td>\n",
       "    </tr>\n",
       "    <tr>\n",
       "      <th>4</th>\n",
       "      <td>5.0</td>\n",
       "      <td>10.00</td>\n",
       "      <td>12.0</td>\n",
       "    </tr>\n",
       "  </tbody>\n",
       "</table>\n",
       "</div>"
      ],
      "text/plain": [
       "     A      B     C\n",
       "0  1.0   6.00  11.0\n",
       "1  2.0   7.00  12.0\n",
       "2  3.0   8.00  13.0\n",
       "3  4.0   7.75  12.0\n",
       "4  5.0  10.00  12.0"
      ]
     },
     "execution_count": 20,
     "metadata": {},
     "output_type": "execute_result"
    }
   ],
   "source": [
    "dfM = df.fillna(df.mean())\n",
    "dfM"
   ]
  },
  {
   "cell_type": "code",
   "execution_count": 23,
   "id": "b88940dc-80fc-4b90-8315-82ab0256b244",
   "metadata": {},
   "outputs": [
    {
     "data": {
      "text/html": [
       "<div>\n",
       "<style scoped>\n",
       "    .dataframe tbody tr th:only-of-type {\n",
       "        vertical-align: middle;\n",
       "    }\n",
       "\n",
       "    .dataframe tbody tr th {\n",
       "        vertical-align: top;\n",
       "    }\n",
       "\n",
       "    .dataframe thead th {\n",
       "        text-align: right;\n",
       "    }\n",
       "</style>\n",
       "<table border=\"1\" class=\"dataframe\">\n",
       "  <thead>\n",
       "    <tr style=\"text-align: right;\">\n",
       "      <th></th>\n",
       "      <th>A</th>\n",
       "      <th>B</th>\n",
       "      <th>C</th>\n",
       "    </tr>\n",
       "  </thead>\n",
       "  <tbody>\n",
       "    <tr>\n",
       "      <th>0</th>\n",
       "      <td>1.0</td>\n",
       "      <td>6.0</td>\n",
       "      <td>11.0</td>\n",
       "    </tr>\n",
       "    <tr>\n",
       "      <th>1</th>\n",
       "      <td>2.0</td>\n",
       "      <td>7.0</td>\n",
       "      <td>12.0</td>\n",
       "    </tr>\n",
       "    <tr>\n",
       "      <th>2</th>\n",
       "      <td>2.0</td>\n",
       "      <td>8.0</td>\n",
       "      <td>13.0</td>\n",
       "    </tr>\n",
       "    <tr>\n",
       "      <th>3</th>\n",
       "      <td>4.0</td>\n",
       "      <td>8.0</td>\n",
       "      <td>13.0</td>\n",
       "    </tr>\n",
       "    <tr>\n",
       "      <th>4</th>\n",
       "      <td>5.0</td>\n",
       "      <td>10.0</td>\n",
       "      <td>13.0</td>\n",
       "    </tr>\n",
       "  </tbody>\n",
       "</table>\n",
       "</div>"
      ],
      "text/plain": [
       "     A     B     C\n",
       "0  1.0   6.0  11.0\n",
       "1  2.0   7.0  12.0\n",
       "2  2.0   8.0  13.0\n",
       "3  4.0   8.0  13.0\n",
       "4  5.0  10.0  13.0"
      ]
     },
     "execution_count": 23,
     "metadata": {},
     "output_type": "execute_result"
    }
   ],
   "source": [
    "dfUp = df.fillna(method='ffill') # 위의 값으로 대체\n",
    "dfUp"
   ]
  },
  {
   "cell_type": "code",
   "execution_count": 25,
   "id": "356a3078-3f31-43a3-bcab-fdeef588bd42",
   "metadata": {},
   "outputs": [
    {
     "data": {
      "text/html": [
       "<div>\n",
       "<style scoped>\n",
       "    .dataframe tbody tr th:only-of-type {\n",
       "        vertical-align: middle;\n",
       "    }\n",
       "\n",
       "    .dataframe tbody tr th {\n",
       "        vertical-align: top;\n",
       "    }\n",
       "\n",
       "    .dataframe thead th {\n",
       "        text-align: right;\n",
       "    }\n",
       "</style>\n",
       "<table border=\"1\" class=\"dataframe\">\n",
       "  <thead>\n",
       "    <tr style=\"text-align: right;\">\n",
       "      <th></th>\n",
       "      <th>A</th>\n",
       "      <th>B</th>\n",
       "      <th>C</th>\n",
       "    </tr>\n",
       "  </thead>\n",
       "  <tbody>\n",
       "    <tr>\n",
       "      <th>0</th>\n",
       "      <td>1.0</td>\n",
       "      <td>6.0</td>\n",
       "      <td>11.0</td>\n",
       "    </tr>\n",
       "    <tr>\n",
       "      <th>1</th>\n",
       "      <td>2.0</td>\n",
       "      <td>7.0</td>\n",
       "      <td>12.0</td>\n",
       "    </tr>\n",
       "    <tr>\n",
       "      <th>2</th>\n",
       "      <td>4.0</td>\n",
       "      <td>8.0</td>\n",
       "      <td>13.0</td>\n",
       "    </tr>\n",
       "    <tr>\n",
       "      <th>3</th>\n",
       "      <td>4.0</td>\n",
       "      <td>10.0</td>\n",
       "      <td>NaN</td>\n",
       "    </tr>\n",
       "    <tr>\n",
       "      <th>4</th>\n",
       "      <td>5.0</td>\n",
       "      <td>10.0</td>\n",
       "      <td>NaN</td>\n",
       "    </tr>\n",
       "  </tbody>\n",
       "</table>\n",
       "</div>"
      ],
      "text/plain": [
       "     A     B     C\n",
       "0  1.0   6.0  11.0\n",
       "1  2.0   7.0  12.0\n",
       "2  4.0   8.0  13.0\n",
       "3  4.0  10.0   NaN\n",
       "4  5.0  10.0   NaN"
      ]
     },
     "execution_count": 25,
     "metadata": {},
     "output_type": "execute_result"
    }
   ],
   "source": [
    "dfDown=df.fillna(method='bfill') # 아래 값으로 대체\n",
    "dfDown"
   ]
  },
  {
   "cell_type": "code",
   "execution_count": 26,
   "id": "5c668bdb-0a44-4313-ba98-134a45d2d6ee",
   "metadata": {},
   "outputs": [
    {
     "data": {
      "text/html": [
       "<div>\n",
       "<style scoped>\n",
       "    .dataframe tbody tr th:only-of-type {\n",
       "        vertical-align: middle;\n",
       "    }\n",
       "\n",
       "    .dataframe tbody tr th {\n",
       "        vertical-align: top;\n",
       "    }\n",
       "\n",
       "    .dataframe thead th {\n",
       "        text-align: right;\n",
       "    }\n",
       "</style>\n",
       "<table border=\"1\" class=\"dataframe\">\n",
       "  <thead>\n",
       "    <tr style=\"text-align: right;\">\n",
       "      <th></th>\n",
       "      <th>A</th>\n",
       "      <th>B</th>\n",
       "      <th>C</th>\n",
       "    </tr>\n",
       "  </thead>\n",
       "  <tbody>\n",
       "    <tr>\n",
       "      <th>0</th>\n",
       "      <td>1.0</td>\n",
       "      <td>6.0</td>\n",
       "      <td>11.0</td>\n",
       "    </tr>\n",
       "    <tr>\n",
       "      <th>1</th>\n",
       "      <td>2.0</td>\n",
       "      <td>7.0</td>\n",
       "      <td>12.0</td>\n",
       "    </tr>\n",
       "    <tr>\n",
       "      <th>2</th>\n",
       "      <td>3.0</td>\n",
       "      <td>8.0</td>\n",
       "      <td>13.0</td>\n",
       "    </tr>\n",
       "    <tr>\n",
       "      <th>3</th>\n",
       "      <td>4.0</td>\n",
       "      <td>12/15</td>\n",
       "      <td>Missing</td>\n",
       "    </tr>\n",
       "    <tr>\n",
       "      <th>4</th>\n",
       "      <td>5.0</td>\n",
       "      <td>10.0</td>\n",
       "      <td>Missing</td>\n",
       "    </tr>\n",
       "  </tbody>\n",
       "</table>\n",
       "</div>"
      ],
      "text/plain": [
       "     A      B        C\n",
       "0  1.0    6.0     11.0\n",
       "1  2.0    7.0     12.0\n",
       "2  3.0    8.0     13.0\n",
       "3  4.0  12/15  Missing\n",
       "4  5.0   10.0  Missing"
      ]
     },
     "execution_count": 26,
     "metadata": {},
     "output_type": "execute_result"
    }
   ],
   "source": [
    "dfCO = df.fillna({'A':df['A'].mean(), 'B':'12/15', 'C':'Missing'})\n",
    "dfCO"
   ]
  },
  {
   "cell_type": "code",
   "execution_count": 27,
   "id": "120cf15f-a707-419f-92e8-d7c34301fcd8",
   "metadata": {},
   "outputs": [
    {
     "data": {
      "text/html": [
       "<div>\n",
       "<style scoped>\n",
       "    .dataframe tbody tr th:only-of-type {\n",
       "        vertical-align: middle;\n",
       "    }\n",
       "\n",
       "    .dataframe tbody tr th {\n",
       "        vertical-align: top;\n",
       "    }\n",
       "\n",
       "    .dataframe thead th {\n",
       "        text-align: right;\n",
       "    }\n",
       "</style>\n",
       "<table border=\"1\" class=\"dataframe\">\n",
       "  <thead>\n",
       "    <tr style=\"text-align: right;\">\n",
       "      <th></th>\n",
       "      <th>A</th>\n",
       "      <th>B</th>\n",
       "      <th>C</th>\n",
       "    </tr>\n",
       "  </thead>\n",
       "  <tbody>\n",
       "    <tr>\n",
       "      <th>0</th>\n",
       "      <td>1.0</td>\n",
       "      <td>6.0</td>\n",
       "      <td>11.0</td>\n",
       "    </tr>\n",
       "    <tr>\n",
       "      <th>1</th>\n",
       "      <td>2.0</td>\n",
       "      <td>7.0</td>\n",
       "      <td>12.0</td>\n",
       "    </tr>\n",
       "    <tr>\n",
       "      <th>2</th>\n",
       "      <td>1.0</td>\n",
       "      <td>8.0</td>\n",
       "      <td>13.0</td>\n",
       "    </tr>\n",
       "    <tr>\n",
       "      <th>3</th>\n",
       "      <td>4.0</td>\n",
       "      <td>5/4</td>\n",
       "      <td>M</td>\n",
       "    </tr>\n",
       "    <tr>\n",
       "      <th>4</th>\n",
       "      <td>5.0</td>\n",
       "      <td>10.0</td>\n",
       "      <td>M</td>\n",
       "    </tr>\n",
       "  </tbody>\n",
       "</table>\n",
       "</div>"
      ],
      "text/plain": [
       "     A     B     C\n",
       "0  1.0   6.0  11.0\n",
       "1  2.0   7.0  12.0\n",
       "2  1.0   8.0  13.0\n",
       "3  4.0   5/4     M\n",
       "4  5.0  10.0     M"
      ]
     },
     "execution_count": 27,
     "metadata": {},
     "output_type": "execute_result"
    }
   ],
   "source": [
    "test = {'A':df['A'].min(), 'B':'5/4', 'C':'M'}\n",
    "dfCO2 = df.fillna(value=test)\n",
    "dfCO2"
   ]
  },
  {
   "attachments": {
    "02e43d18-a70a-4022-8946-c3bb3f070490.png": {
     "image/png": "[encoded data removed]"
    }
   },
   "cell_type": "markdown",
   "id": "3cba42c5-2073-4b84-90b7-073f921f382a",
   "metadata": {},
   "source": [
    "\n",
    "![image.png](attachment:02e43d18-a70a-4022-8946-c3bb3f070490.png)\n",
    "\n",
    "# 데이터 전처리 – 이상치 처리\n",
    "\n",
    "- **Q1**: 데이터의 첫 번째 사분위수 (25번째 백분위수)\n",
    "- **Q2**: 데이터의 두 번째 사분위수 (중앙값, 50번째 백분위수)\n",
    "- **Q3**: 데이터의 세 번째 사분위수 (75번째 백분위수)\n",
    "\n",
    "---\n",
    "\n",
    "## IQR (Interquartile Range)\n",
    "- 정의: **제1사분위수(Q1)에서 제3사분위수(Q3)까지의 거리**\n",
    "- 계산식: `IQR = Q3 - Q1`\n",
    "\n",
    "---\n",
    "\n",
    "## 이상치 기준\n",
    "- **최소값 경계**: `Q1 - 1.5 × IQR`\n",
    "- **최대값 경계**: `Q3 + 1.5 × IQR`\n",
    "\n",
    "-> 위 범위를 벗어난 데이터는 **이상치(outlier)** 로 간주하여 제거\n",
    "\n",
    "---\n",
    "\n",
    "## 정리\n",
    "- IQR의 1.5배보다 멀리 떨어진 데이터 = 이상치\n",
    "- 최소 경계보다 작은 값, 최대 경계보다 큰 값 → 모두 이상치로 처리\n",
    "\n",
    "---\n"
   ]
  },
  {
   "cell_type": "markdown",
   "id": "465f5bbe-e6ba-49a9-922a-421216289dd7",
   "metadata": {},
   "source": [
    "# 데이터 전처리 – 범주형으로 변환\n",
    "\n",
    "## 1. 필요성\n",
    "- 수치형 데이터의 **개별 값 구분이 오히려 혼란스러울 경우** 범주형으로 변환\n",
    "  - 예시:\n",
    "    - 나이: 10대, 20대, 30대, 40대 …\n",
    "    - 연간 소득: 고소득층, 중간층, 저소득층 등\n",
    "\n",
    "---\n",
    "\n",
    "## 2. 범주형 변환 방식\n",
    "- **각 구간의 범위를 균등하게** 정할 수 있음  \n",
    "- 또는 **서로 다른 범위**를 설정할 수도 있음  \n",
    "\n",
    "### 예시\n",
    "- 고교 내신 성적:\n",
    "  - 1등급 / 9등급 (각 4%)\n",
    "  - 2등급 / 8등급 (15%) 등\n"
   ]
  },
  {
   "cell_type": "code",
   "execution_count": 34,
   "id": "99de53a2-1839-4cb1-a96c-1638b0ffc49d",
   "metadata": {},
   "outputs": [
    {
     "data": {
      "text/html": [
       "<div>\n",
       "<style scoped>\n",
       "    .dataframe tbody tr th:only-of-type {\n",
       "        vertical-align: middle;\n",
       "    }\n",
       "\n",
       "    .dataframe tbody tr th {\n",
       "        vertical-align: top;\n",
       "    }\n",
       "\n",
       "    .dataframe thead th {\n",
       "        text-align: right;\n",
       "    }\n",
       "</style>\n",
       "<table border=\"1\" class=\"dataframe\">\n",
       "  <thead>\n",
       "    <tr style=\"text-align: right;\">\n",
       "      <th></th>\n",
       "      <th>Date</th>\n",
       "      <th>temp</th>\n",
       "      <th>level</th>\n",
       "      <th>EC</th>\n",
       "    </tr>\n",
       "  </thead>\n",
       "  <tbody>\n",
       "    <tr>\n",
       "      <th>0</th>\n",
       "      <td>2009-01-01 00:00:00</td>\n",
       "      <td>16.1</td>\n",
       "      <td>44.47</td>\n",
       "      <td>749</td>\n",
       "    </tr>\n",
       "    <tr>\n",
       "      <th>1</th>\n",
       "      <td>2009-01-01 01:00:00</td>\n",
       "      <td>16.1</td>\n",
       "      <td>44.47</td>\n",
       "      <td>749</td>\n",
       "    </tr>\n",
       "    <tr>\n",
       "      <th>2</th>\n",
       "      <td>2009-01-01 02:00:00</td>\n",
       "      <td>16.1</td>\n",
       "      <td>44.47</td>\n",
       "      <td>749</td>\n",
       "    </tr>\n",
       "    <tr>\n",
       "      <th>3</th>\n",
       "      <td>2009-01-01 03:00:00</td>\n",
       "      <td>16.1</td>\n",
       "      <td>44.47</td>\n",
       "      <td>749</td>\n",
       "    </tr>\n",
       "  </tbody>\n",
       "</table>\n",
       "</div>"
      ],
      "text/plain": [
       "                  Date  temp  level   EC\n",
       "0  2009-01-01 00:00:00  16.1  44.47  749\n",
       "1  2009-01-01 01:00:00  16.1  44.47  749\n",
       "2  2009-01-01 02:00:00  16.1  44.47  749\n",
       "3  2009-01-01 03:00:00  16.1  44.47  749"
      ]
     },
     "execution_count": 34,
     "metadata": {},
     "output_type": "execute_result"
    }
   ],
   "source": [
    "dfA2 = pd.read_csv('../sources/Data/대전지하수.csv')\n",
    "dfA2.head(4)"
   ]
  },
  {
   "cell_type": "code",
   "execution_count": 35,
   "id": "8a4e014e-b6dc-423d-a2fb-90f78fda8a7b",
   "metadata": {},
   "outputs": [
    {
     "data": {
      "text/html": [
       "<div>\n",
       "<style scoped>\n",
       "    .dataframe tbody tr th:only-of-type {\n",
       "        vertical-align: middle;\n",
       "    }\n",
       "\n",
       "    .dataframe tbody tr th {\n",
       "        vertical-align: top;\n",
       "    }\n",
       "\n",
       "    .dataframe thead th {\n",
       "        text-align: right;\n",
       "    }\n",
       "</style>\n",
       "<table border=\"1\" class=\"dataframe\">\n",
       "  <thead>\n",
       "    <tr style=\"text-align: right;\">\n",
       "      <th></th>\n",
       "      <th>temp</th>\n",
       "      <th>level</th>\n",
       "      <th>EC</th>\n",
       "    </tr>\n",
       "    <tr>\n",
       "      <th>Date</th>\n",
       "      <th></th>\n",
       "      <th></th>\n",
       "      <th></th>\n",
       "    </tr>\n",
       "  </thead>\n",
       "  <tbody>\n",
       "    <tr>\n",
       "      <th>2009-01-01 00:00:00</th>\n",
       "      <td>16.1</td>\n",
       "      <td>44.47</td>\n",
       "      <td>749</td>\n",
       "    </tr>\n",
       "    <tr>\n",
       "      <th>2009-01-01 01:00:00</th>\n",
       "      <td>16.1</td>\n",
       "      <td>44.47</td>\n",
       "      <td>749</td>\n",
       "    </tr>\n",
       "    <tr>\n",
       "      <th>2009-01-01 02:00:00</th>\n",
       "      <td>16.1</td>\n",
       "      <td>44.47</td>\n",
       "      <td>749</td>\n",
       "    </tr>\n",
       "    <tr>\n",
       "      <th>2009-01-01 03:00:00</th>\n",
       "      <td>16.1</td>\n",
       "      <td>44.47</td>\n",
       "      <td>749</td>\n",
       "    </tr>\n",
       "  </tbody>\n",
       "</table>\n",
       "</div>"
      ],
      "text/plain": [
       "                     temp  level   EC\n",
       "Date                                 \n",
       "2009-01-01 00:00:00  16.1  44.47  749\n",
       "2009-01-01 01:00:00  16.1  44.47  749\n",
       "2009-01-01 02:00:00  16.1  44.47  749\n",
       "2009-01-01 03:00:00  16.1  44.47  749"
      ]
     },
     "execution_count": 35,
     "metadata": {},
     "output_type": "execute_result"
    }
   ],
   "source": [
    "dfA = pd.read_csv('../sources/Data/대전지하수.csv',\n",
    "                  index_col='Date', # Date 열을 인덱스로 처리\n",
    "                  parse_dates=True, \n",
    "                  encoding='cp949') # csv나 엑셀은 cp949\n",
    "dfA.head(4)"
   ]
  },
  {
   "cell_type": "code",
   "execution_count": 37,
   "id": "6918b258-c314-40a0-93e2-6a27b11334c8",
   "metadata": {},
   "outputs": [
    {
     "data": {
      "text/html": [
       "<div>\n",
       "<style scoped>\n",
       "    .dataframe tbody tr th:only-of-type {\n",
       "        vertical-align: middle;\n",
       "    }\n",
       "\n",
       "    .dataframe tbody tr th {\n",
       "        vertical-align: top;\n",
       "    }\n",
       "\n",
       "    .dataframe thead th {\n",
       "        text-align: right;\n",
       "    }\n",
       "</style>\n",
       "<table border=\"1\" class=\"dataframe\">\n",
       "  <thead>\n",
       "    <tr style=\"text-align: right;\">\n",
       "      <th></th>\n",
       "      <th>temp</th>\n",
       "      <th>level</th>\n",
       "      <th>EC</th>\n",
       "    </tr>\n",
       "  </thead>\n",
       "  <tbody>\n",
       "    <tr>\n",
       "      <th>count</th>\n",
       "      <td>69548.000000</td>\n",
       "      <td>69548.000000</td>\n",
       "      <td>69548.000000</td>\n",
       "    </tr>\n",
       "    <tr>\n",
       "      <th>mean</th>\n",
       "      <td>16.262491</td>\n",
       "      <td>44.295353</td>\n",
       "      <td>727.024027</td>\n",
       "    </tr>\n",
       "    <tr>\n",
       "      <th>std</th>\n",
       "      <td>0.089778</td>\n",
       "      <td>2.539464</td>\n",
       "      <td>51.544590</td>\n",
       "    </tr>\n",
       "    <tr>\n",
       "      <th>min</th>\n",
       "      <td>15.800000</td>\n",
       "      <td>11.530000</td>\n",
       "      <td>13.000000</td>\n",
       "    </tr>\n",
       "    <tr>\n",
       "      <th>25%</th>\n",
       "      <td>16.200000</td>\n",
       "      <td>44.370000</td>\n",
       "      <td>722.000000</td>\n",
       "    </tr>\n",
       "    <tr>\n",
       "      <th>50%</th>\n",
       "      <td>16.300000</td>\n",
       "      <td>44.460000</td>\n",
       "      <td>730.000000</td>\n",
       "    </tr>\n",
       "    <tr>\n",
       "      <th>75%</th>\n",
       "      <td>16.300000</td>\n",
       "      <td>44.550000</td>\n",
       "      <td>742.000000</td>\n",
       "    </tr>\n",
       "    <tr>\n",
       "      <th>max</th>\n",
       "      <td>16.500000</td>\n",
       "      <td>45.900000</td>\n",
       "      <td>778.000000</td>\n",
       "    </tr>\n",
       "  </tbody>\n",
       "</table>\n",
       "</div>"
      ],
      "text/plain": [
       "               temp         level            EC\n",
       "count  69548.000000  69548.000000  69548.000000\n",
       "mean      16.262491     44.295353    727.024027\n",
       "std        0.089778      2.539464     51.544590\n",
       "min       15.800000     11.530000     13.000000\n",
       "25%       16.200000     44.370000    722.000000\n",
       "50%       16.300000     44.460000    730.000000\n",
       "75%       16.300000     44.550000    742.000000\n",
       "max       16.500000     45.900000    778.000000"
      ]
     },
     "execution_count": 37,
     "metadata": {},
     "output_type": "execute_result"
    }
   ],
   "source": [
    "dfA.describe()"
   ]
  },
  {
   "cell_type": "code",
   "execution_count": 40,
   "id": "00182329-347a-45fb-b6cd-f45b28517a3a",
   "metadata": {},
   "outputs": [
    {
     "data": {
      "image/png": "[encoded data removed]",
      "text/plain": [
       "<Figure size 640x480 with 4 Axes>"
      ]
     },
     "metadata": {},
     "output_type": "display_data"
    }
   ],
   "source": [
    "dfA.hist(bins=50)\n",
    "plt.show()"
   ]
  },
  {
   "cell_type": "code",
   "execution_count": 45,
   "id": "6d6eb9ae-fad3-4d34-b834-d8d986b13f06",
   "metadata": {},
   "outputs": [
    {
     "data": {
      "image/png": "[encoded data removed]",
      "text/plain": [
       "<Figure size 300x400 with 1 Axes>"
      ]
     },
     "metadata": {},
     "output_type": "display_data"
    }
   ],
   "source": [
    "dfA.boxplot(column='temp', figsize=(3,4))\n",
    "plt.show()"
   ]
  },
  {
   "cell_type": "code",
   "execution_count": 51,
   "id": "8282c3aa-b813-438d-a257-91e356216154",
   "metadata": {},
   "outputs": [
    {
     "name": "stdout",
     "output_type": "stream",
     "text": [
      "16.2 16.3 16.3 0.10000000000000142\n",
      "16.450000000000003 16.049999999999997\n"
     ]
    },
    {
     "data": {
      "text/plain": [
       "(69548,)"
      ]
     },
     "execution_count": 51,
     "metadata": {},
     "output_type": "execute_result"
    }
   ],
   "source": [
    "Q1 = dfA['temp'].quantile(q=0.25)\n",
    "Q2 = dfA['temp'].quantile(q=0.50)\n",
    "Q3 = dfA['temp'].quantile(q=0.75)\n",
    "\n",
    "IQR = Q3 - Q1\n",
    "\n",
    "upData = Q3 + 1.5 * IQR\n",
    "downData = Q1 - 1.5 * IQR\n",
    "\n",
    "print(Q1, Q2, Q3, IQR)\n",
    "print(upData, downData)\n",
    "dfA['temp'].shape"
   ]
  },
  {
   "cell_type": "code",
   "execution_count": 50,
   "id": "8a55cab3-3d79-4b9b-b77c-68f92815ca1e",
   "metadata": {},
   "outputs": [
    {
     "data": {
      "text/plain": [
       "(69306, 3)"
      ]
     },
     "execution_count": 50,
     "metadata": {},
     "output_type": "execute_result"
    }
   ],
   "source": [
    "fillData = dfA[(dfA['temp'] < upData ) & (dfA['temp'] > downData)]\n",
    "fillData.shape"
   ]
  },
  {
   "cell_type": "code",
   "execution_count": 52,
   "id": "40191170-92a6-46de-b785-ae39bf908696",
   "metadata": {},
   "outputs": [
    {
     "data": {
      "text/html": [
       "<div>\n",
       "<style scoped>\n",
       "    .dataframe tbody tr th:only-of-type {\n",
       "        vertical-align: middle;\n",
       "    }\n",
       "\n",
       "    .dataframe tbody tr th {\n",
       "        vertical-align: top;\n",
       "    }\n",
       "\n",
       "    .dataframe thead th {\n",
       "        text-align: right;\n",
       "    }\n",
       "</style>\n",
       "<table border=\"1\" class=\"dataframe\">\n",
       "  <thead>\n",
       "    <tr style=\"text-align: right;\">\n",
       "      <th></th>\n",
       "      <th>temp</th>\n",
       "      <th>level</th>\n",
       "      <th>EC</th>\n",
       "    </tr>\n",
       "  </thead>\n",
       "  <tbody>\n",
       "    <tr>\n",
       "      <th>count</th>\n",
       "      <td>69306.000000</td>\n",
       "      <td>69306.000000</td>\n",
       "      <td>69306.000000</td>\n",
       "    </tr>\n",
       "    <tr>\n",
       "      <th>mean</th>\n",
       "      <td>16.261775</td>\n",
       "      <td>44.294800</td>\n",
       "      <td>726.961100</td>\n",
       "    </tr>\n",
       "    <tr>\n",
       "      <th>std</th>\n",
       "      <td>0.088793</td>\n",
       "      <td>2.543865</td>\n",
       "      <td>51.555575</td>\n",
       "    </tr>\n",
       "    <tr>\n",
       "      <th>min</th>\n",
       "      <td>16.100000</td>\n",
       "      <td>11.530000</td>\n",
       "      <td>13.000000</td>\n",
       "    </tr>\n",
       "    <tr>\n",
       "      <th>25%</th>\n",
       "      <td>16.200000</td>\n",
       "      <td>44.370000</td>\n",
       "      <td>722.000000</td>\n",
       "    </tr>\n",
       "    <tr>\n",
       "      <th>50%</th>\n",
       "      <td>16.300000</td>\n",
       "      <td>44.460000</td>\n",
       "      <td>730.000000</td>\n",
       "    </tr>\n",
       "    <tr>\n",
       "      <th>75%</th>\n",
       "      <td>16.300000</td>\n",
       "      <td>44.550000</td>\n",
       "      <td>742.000000</td>\n",
       "    </tr>\n",
       "    <tr>\n",
       "      <th>max</th>\n",
       "      <td>16.400000</td>\n",
       "      <td>45.900000</td>\n",
       "      <td>778.000000</td>\n",
       "    </tr>\n",
       "  </tbody>\n",
       "</table>\n",
       "</div>"
      ],
      "text/plain": [
       "               temp         level            EC\n",
       "count  69306.000000  69306.000000  69306.000000\n",
       "mean      16.261775     44.294800    726.961100\n",
       "std        0.088793      2.543865     51.555575\n",
       "min       16.100000     11.530000     13.000000\n",
       "25%       16.200000     44.370000    722.000000\n",
       "50%       16.300000     44.460000    730.000000\n",
       "75%       16.300000     44.550000    742.000000\n",
       "max       16.400000     45.900000    778.000000"
      ]
     },
     "execution_count": 52,
     "metadata": {},
     "output_type": "execute_result"
    }
   ],
   "source": [
    "fillData.describe()"
   ]
  },
  {
   "cell_type": "code",
   "execution_count": 54,
   "id": "e38f439e-787d-4215-8f3b-6d646dfc0daf",
   "metadata": {},
   "outputs": [
    {
     "name": "stdout",
     "output_type": "stream",
     "text": [
      "[167. 170. 173. 170. 173. 173. 170. 170. 173. 173.]\n",
      "[0 1 2 2 2 1 2 0 0 1]\n"
     ]
    }
   ],
   "source": [
    "n_samples = 10\n",
    "height = 3 * np.random.randn(n_samples).round() + 170\n",
    "# 평균 170, 표준편차 3 의미\n",
    "\n",
    "nationality = np.random.randint(0, 3, n_samples)\n",
    "# 0, 1, 2 만 추출 -> ex)국가명 0-한국, 1-미국, 2-일본 \n",
    "\n",
    "print(height)\n",
    "print(nationality)"
   ]
  },
  {
   "cell_type": "code",
   "execution_count": 55,
   "id": "49d55eac-146b-4495-8f5b-bc269f856a9c",
   "metadata": {},
   "outputs": [
    {
     "data": {
      "text/plain": [
       "zip"
      ]
     },
     "execution_count": 55,
     "metadata": {},
     "output_type": "execute_result"
    }
   ],
   "source": [
    "type(zip(height, nationality))\n",
    "\n",
    "## concat --> Pandas 데이터프레임에서 열 단위 또는 행 단위로 합치기\n",
    "## zip --> Numpy 배열에서 열 단위로 합치기"
   ]
  },
  {
   "cell_type": "code",
   "execution_count": 59,
   "id": "b7e05759-94b5-4aa1-8810-c88c318b3973",
   "metadata": {},
   "outputs": [
    {
     "data": {
      "text/plain": [
       "[(np.float64(167.0), np.int32(0)),\n",
       " (np.float64(170.0), np.int32(1)),\n",
       " (np.float64(173.0), np.int32(2)),\n",
       " (np.float64(170.0), np.int32(2)),\n",
       " (np.float64(173.0), np.int32(2)),\n",
       " (np.float64(173.0), np.int32(1)),\n",
       " (np.float64(170.0), np.int32(2)),\n",
       " (np.float64(170.0), np.int32(0)),\n",
       " (np.float64(173.0), np.int32(0)),\n",
       " (np.float64(173.0), np.int32(1))]"
      ]
     },
     "execution_count": 59,
     "metadata": {},
     "output_type": "execute_result"
    }
   ],
   "source": [
    "list(zip(height, nationality))"
   ]
  },
  {
   "cell_type": "code",
   "execution_count": 66,
   "id": "b497cf17-3e58-4571-aa3c-a9e1df94273d",
   "metadata": {},
   "outputs": [
    {
     "data": {
      "text/html": [
       "<div>\n",
       "<style scoped>\n",
       "    .dataframe tbody tr th:only-of-type {\n",
       "        vertical-align: middle;\n",
       "    }\n",
       "\n",
       "    .dataframe tbody tr th {\n",
       "        vertical-align: top;\n",
       "    }\n",
       "\n",
       "    .dataframe thead th {\n",
       "        text-align: right;\n",
       "    }\n",
       "</style>\n",
       "<table border=\"1\" class=\"dataframe\">\n",
       "  <thead>\n",
       "    <tr style=\"text-align: right;\">\n",
       "      <th></th>\n",
       "      <th>height</th>\n",
       "      <th>nationality</th>\n",
       "    </tr>\n",
       "  </thead>\n",
       "  <tbody>\n",
       "    <tr>\n",
       "      <th>0</th>\n",
       "      <td>167.0</td>\n",
       "      <td>0</td>\n",
       "    </tr>\n",
       "    <tr>\n",
       "      <th>1</th>\n",
       "      <td>170.0</td>\n",
       "      <td>1</td>\n",
       "    </tr>\n",
       "  </tbody>\n",
       "</table>\n",
       "</div>"
      ],
      "text/plain": [
       "   height  nationality\n",
       "0   167.0            0\n",
       "1   170.0            1"
      ]
     },
     "execution_count": 66,
     "metadata": {},
     "output_type": "execute_result"
    }
   ],
   "source": [
    "df = pd.DataFrame(list(zip(height, nationality)), columns=[\"height\", \"nationality\"])\n",
    "df.head(2)"
   ]
  },
  {
   "cell_type": "code",
   "execution_count": 60,
   "id": "82c22f57-1508-4ab2-896d-d37506e1fc07",
   "metadata": {},
   "outputs": [
    {
     "data": {
      "text/html": [
       "<div>\n",
       "<style scoped>\n",
       "    .dataframe tbody tr th:only-of-type {\n",
       "        vertical-align: middle;\n",
       "    }\n",
       "\n",
       "    .dataframe tbody tr th {\n",
       "        vertical-align: top;\n",
       "    }\n",
       "\n",
       "    .dataframe thead th {\n",
       "        text-align: right;\n",
       "    }\n",
       "</style>\n",
       "<table border=\"1\" class=\"dataframe\">\n",
       "  <thead>\n",
       "    <tr style=\"text-align: right;\">\n",
       "      <th></th>\n",
       "      <th>nat__0</th>\n",
       "      <th>nat__1</th>\n",
       "      <th>nat__2</th>\n",
       "    </tr>\n",
       "  </thead>\n",
       "  <tbody>\n",
       "    <tr>\n",
       "      <th>0</th>\n",
       "      <td>True</td>\n",
       "      <td>False</td>\n",
       "      <td>False</td>\n",
       "    </tr>\n",
       "    <tr>\n",
       "      <th>1</th>\n",
       "      <td>False</td>\n",
       "      <td>True</td>\n",
       "      <td>False</td>\n",
       "    </tr>\n",
       "    <tr>\n",
       "      <th>2</th>\n",
       "      <td>False</td>\n",
       "      <td>False</td>\n",
       "      <td>True</td>\n",
       "    </tr>\n",
       "    <tr>\n",
       "      <th>3</th>\n",
       "      <td>False</td>\n",
       "      <td>False</td>\n",
       "      <td>True</td>\n",
       "    </tr>\n",
       "    <tr>\n",
       "      <th>4</th>\n",
       "      <td>False</td>\n",
       "      <td>False</td>\n",
       "      <td>True</td>\n",
       "    </tr>\n",
       "    <tr>\n",
       "      <th>5</th>\n",
       "      <td>False</td>\n",
       "      <td>True</td>\n",
       "      <td>False</td>\n",
       "    </tr>\n",
       "    <tr>\n",
       "      <th>6</th>\n",
       "      <td>False</td>\n",
       "      <td>False</td>\n",
       "      <td>True</td>\n",
       "    </tr>\n",
       "    <tr>\n",
       "      <th>7</th>\n",
       "      <td>True</td>\n",
       "      <td>False</td>\n",
       "      <td>False</td>\n",
       "    </tr>\n",
       "    <tr>\n",
       "      <th>8</th>\n",
       "      <td>True</td>\n",
       "      <td>False</td>\n",
       "      <td>False</td>\n",
       "    </tr>\n",
       "    <tr>\n",
       "      <th>9</th>\n",
       "      <td>False</td>\n",
       "      <td>True</td>\n",
       "      <td>False</td>\n",
       "    </tr>\n",
       "  </tbody>\n",
       "</table>\n",
       "</div>"
      ],
      "text/plain": [
       "   nat__0  nat__1  nat__2\n",
       "0    True   False   False\n",
       "1   False    True   False\n",
       "2   False   False    True\n",
       "3   False   False    True\n",
       "4   False   False    True\n",
       "5   False    True   False\n",
       "6   False   False    True\n",
       "7    True   False   False\n",
       "8    True   False   False\n",
       "9   False    True   False"
      ]
     },
     "execution_count": 60,
     "metadata": {},
     "output_type": "execute_result"
    }
   ],
   "source": [
    "nat = pd.get_dummies(df['nationality'], prefix='nat_')\n",
    "# 더미 데이터 생성 - 기존 데이터 기반으로 0 1 2 카테고리 생성\n",
    "# ex) nationality가 0 이면 nat_0 만 True, 1이면 nat_1만 True...\n",
    "nat"
   ]
  },
  {
   "cell_type": "code",
   "execution_count": 61,
   "id": "a7b34023-0c68-4abc-8fc5-acfa7b04979b",
   "metadata": {},
   "outputs": [
    {
     "data": {
      "text/html": [
       "<div>\n",
       "<style scoped>\n",
       "    .dataframe tbody tr th:only-of-type {\n",
       "        vertical-align: middle;\n",
       "    }\n",
       "\n",
       "    .dataframe tbody tr th {\n",
       "        vertical-align: top;\n",
       "    }\n",
       "\n",
       "    .dataframe thead th {\n",
       "        text-align: right;\n",
       "    }\n",
       "</style>\n",
       "<table border=\"1\" class=\"dataframe\">\n",
       "  <thead>\n",
       "    <tr style=\"text-align: right;\">\n",
       "      <th></th>\n",
       "      <th>height</th>\n",
       "      <th>nationality</th>\n",
       "      <th>nat__0</th>\n",
       "      <th>nat__1</th>\n",
       "      <th>nat__2</th>\n",
       "    </tr>\n",
       "  </thead>\n",
       "  <tbody>\n",
       "    <tr>\n",
       "      <th>0</th>\n",
       "      <td>167.0</td>\n",
       "      <td>0</td>\n",
       "      <td>True</td>\n",
       "      <td>False</td>\n",
       "      <td>False</td>\n",
       "    </tr>\n",
       "    <tr>\n",
       "      <th>1</th>\n",
       "      <td>170.0</td>\n",
       "      <td>1</td>\n",
       "      <td>False</td>\n",
       "      <td>True</td>\n",
       "      <td>False</td>\n",
       "    </tr>\n",
       "    <tr>\n",
       "      <th>2</th>\n",
       "      <td>173.0</td>\n",
       "      <td>2</td>\n",
       "      <td>False</td>\n",
       "      <td>False</td>\n",
       "      <td>True</td>\n",
       "    </tr>\n",
       "    <tr>\n",
       "      <th>3</th>\n",
       "      <td>170.0</td>\n",
       "      <td>2</td>\n",
       "      <td>False</td>\n",
       "      <td>False</td>\n",
       "      <td>True</td>\n",
       "    </tr>\n",
       "    <tr>\n",
       "      <th>4</th>\n",
       "      <td>173.0</td>\n",
       "      <td>2</td>\n",
       "      <td>False</td>\n",
       "      <td>False</td>\n",
       "      <td>True</td>\n",
       "    </tr>\n",
       "    <tr>\n",
       "      <th>5</th>\n",
       "      <td>173.0</td>\n",
       "      <td>1</td>\n",
       "      <td>False</td>\n",
       "      <td>True</td>\n",
       "      <td>False</td>\n",
       "    </tr>\n",
       "    <tr>\n",
       "      <th>6</th>\n",
       "      <td>170.0</td>\n",
       "      <td>2</td>\n",
       "      <td>False</td>\n",
       "      <td>False</td>\n",
       "      <td>True</td>\n",
       "    </tr>\n",
       "    <tr>\n",
       "      <th>7</th>\n",
       "      <td>170.0</td>\n",
       "      <td>0</td>\n",
       "      <td>True</td>\n",
       "      <td>False</td>\n",
       "      <td>False</td>\n",
       "    </tr>\n",
       "    <tr>\n",
       "      <th>8</th>\n",
       "      <td>173.0</td>\n",
       "      <td>0</td>\n",
       "      <td>True</td>\n",
       "      <td>False</td>\n",
       "      <td>False</td>\n",
       "    </tr>\n",
       "    <tr>\n",
       "      <th>9</th>\n",
       "      <td>173.0</td>\n",
       "      <td>1</td>\n",
       "      <td>False</td>\n",
       "      <td>True</td>\n",
       "      <td>False</td>\n",
       "    </tr>\n",
       "  </tbody>\n",
       "</table>\n",
       "</div>"
      ],
      "text/plain": [
       "   height  nationality  nat__0  nat__1  nat__2\n",
       "0   167.0            0    True   False   False\n",
       "1   170.0            1   False    True   False\n",
       "2   173.0            2   False   False    True\n",
       "3   170.0            2   False   False    True\n",
       "4   173.0            2   False   False    True\n",
       "5   173.0            1   False    True   False\n",
       "6   170.0            2   False   False    True\n",
       "7   170.0            0    True   False   False\n",
       "8   173.0            0    True   False   False\n",
       "9   173.0            1   False    True   False"
      ]
     },
     "execution_count": 61,
     "metadata": {},
     "output_type": "execute_result"
    }
   ],
   "source": [
    "new_df = pd.concat([df, nat], axis=1)\n",
    "new_df"
   ]
  },
  {
   "cell_type": "code",
   "execution_count": 62,
   "id": "a9971e6a-3390-4c3a-89b9-21c3eafe9a92",
   "metadata": {},
   "outputs": [
    {
     "data": {
      "text/html": [
       "<div>\n",
       "<style scoped>\n",
       "    .dataframe tbody tr th:only-of-type {\n",
       "        vertical-align: middle;\n",
       "    }\n",
       "\n",
       "    .dataframe tbody tr th {\n",
       "        vertical-align: top;\n",
       "    }\n",
       "\n",
       "    .dataframe thead th {\n",
       "        text-align: right;\n",
       "    }\n",
       "</style>\n",
       "<table border=\"1\" class=\"dataframe\">\n",
       "  <thead>\n",
       "    <tr style=\"text-align: right;\">\n",
       "      <th></th>\n",
       "      <th>지역</th>\n",
       "    </tr>\n",
       "  </thead>\n",
       "  <tbody>\n",
       "    <tr>\n",
       "      <th>0</th>\n",
       "      <td>서울</td>\n",
       "    </tr>\n",
       "    <tr>\n",
       "      <th>1</th>\n",
       "      <td>경기</td>\n",
       "    </tr>\n",
       "    <tr>\n",
       "      <th>2</th>\n",
       "      <td>경기</td>\n",
       "    </tr>\n",
       "    <tr>\n",
       "      <th>3</th>\n",
       "      <td>서울</td>\n",
       "    </tr>\n",
       "    <tr>\n",
       "      <th>4</th>\n",
       "      <td>부산</td>\n",
       "    </tr>\n",
       "  </tbody>\n",
       "</table>\n",
       "</div>"
      ],
      "text/plain": [
       "   지역\n",
       "0  서울\n",
       "1  경기\n",
       "2  경기\n",
       "3  서울\n",
       "4  부산"
      ]
     },
     "execution_count": 62,
     "metadata": {},
     "output_type": "execute_result"
    }
   ],
   "source": [
    "df = pd.DataFrame(['서울','경기','경기','서울','부산'], columns=['지역'])\n",
    "df"
   ]
  },
  {
   "cell_type": "code",
   "execution_count": 63,
   "id": "19ddbdc1-f34f-4ac4-86e8-d5fe88a8c461",
   "metadata": {},
   "outputs": [
    {
     "data": {
      "text/html": [
       "<div>\n",
       "<style scoped>\n",
       "    .dataframe tbody tr th:only-of-type {\n",
       "        vertical-align: middle;\n",
       "    }\n",
       "\n",
       "    .dataframe tbody tr th {\n",
       "        vertical-align: top;\n",
       "    }\n",
       "\n",
       "    .dataframe thead th {\n",
       "        text-align: right;\n",
       "    }\n",
       "</style>\n",
       "<table border=\"1\" class=\"dataframe\">\n",
       "  <thead>\n",
       "    <tr style=\"text-align: right;\">\n",
       "      <th></th>\n",
       "      <th>지역_경기</th>\n",
       "      <th>지역_부산</th>\n",
       "      <th>지역_서울</th>\n",
       "    </tr>\n",
       "  </thead>\n",
       "  <tbody>\n",
       "    <tr>\n",
       "      <th>0</th>\n",
       "      <td>False</td>\n",
       "      <td>False</td>\n",
       "      <td>True</td>\n",
       "    </tr>\n",
       "    <tr>\n",
       "      <th>1</th>\n",
       "      <td>True</td>\n",
       "      <td>False</td>\n",
       "      <td>False</td>\n",
       "    </tr>\n",
       "    <tr>\n",
       "      <th>2</th>\n",
       "      <td>True</td>\n",
       "      <td>False</td>\n",
       "      <td>False</td>\n",
       "    </tr>\n",
       "    <tr>\n",
       "      <th>3</th>\n",
       "      <td>False</td>\n",
       "      <td>False</td>\n",
       "      <td>True</td>\n",
       "    </tr>\n",
       "    <tr>\n",
       "      <th>4</th>\n",
       "      <td>False</td>\n",
       "      <td>True</td>\n",
       "      <td>False</td>\n",
       "    </tr>\n",
       "  </tbody>\n",
       "</table>\n",
       "</div>"
      ],
      "text/plain": [
       "   지역_경기  지역_부산  지역_서울\n",
       "0  False  False   True\n",
       "1   True  False  False\n",
       "2   True  False  False\n",
       "3  False  False   True\n",
       "4  False   True  False"
      ]
     },
     "execution_count": 63,
     "metadata": {},
     "output_type": "execute_result"
    }
   ],
   "source": [
    "pd.get_dummies(df)"
   ]
  },
  {
   "cell_type": "code",
   "execution_count": 64,
   "id": "dfb2b143-9693-4461-8129-beaaac971c96",
   "metadata": {},
   "outputs": [
    {
     "data": {
      "text/html": [
       "<div>\n",
       "<style scoped>\n",
       "    .dataframe tbody tr th:only-of-type {\n",
       "        vertical-align: middle;\n",
       "    }\n",
       "\n",
       "    .dataframe tbody tr th {\n",
       "        vertical-align: top;\n",
       "    }\n",
       "\n",
       "    .dataframe thead th {\n",
       "        text-align: right;\n",
       "    }\n",
       "</style>\n",
       "<table border=\"1\" class=\"dataframe\">\n",
       "  <thead>\n",
       "    <tr style=\"text-align: right;\">\n",
       "      <th></th>\n",
       "      <th>height</th>\n",
       "      <th>nat__0</th>\n",
       "      <th>nat__1</th>\n",
       "      <th>nat__2</th>\n",
       "    </tr>\n",
       "  </thead>\n",
       "  <tbody>\n",
       "    <tr>\n",
       "      <th>0</th>\n",
       "      <td>167.0</td>\n",
       "      <td>True</td>\n",
       "      <td>False</td>\n",
       "      <td>False</td>\n",
       "    </tr>\n",
       "    <tr>\n",
       "      <th>1</th>\n",
       "      <td>170.0</td>\n",
       "      <td>False</td>\n",
       "      <td>True</td>\n",
       "      <td>False</td>\n",
       "    </tr>\n",
       "    <tr>\n",
       "      <th>2</th>\n",
       "      <td>173.0</td>\n",
       "      <td>False</td>\n",
       "      <td>False</td>\n",
       "      <td>True</td>\n",
       "    </tr>\n",
       "    <tr>\n",
       "      <th>3</th>\n",
       "      <td>170.0</td>\n",
       "      <td>False</td>\n",
       "      <td>False</td>\n",
       "      <td>True</td>\n",
       "    </tr>\n",
       "    <tr>\n",
       "      <th>4</th>\n",
       "      <td>173.0</td>\n",
       "      <td>False</td>\n",
       "      <td>False</td>\n",
       "      <td>True</td>\n",
       "    </tr>\n",
       "    <tr>\n",
       "      <th>5</th>\n",
       "      <td>173.0</td>\n",
       "      <td>False</td>\n",
       "      <td>True</td>\n",
       "      <td>False</td>\n",
       "    </tr>\n",
       "    <tr>\n",
       "      <th>6</th>\n",
       "      <td>170.0</td>\n",
       "      <td>False</td>\n",
       "      <td>False</td>\n",
       "      <td>True</td>\n",
       "    </tr>\n",
       "    <tr>\n",
       "      <th>7</th>\n",
       "      <td>170.0</td>\n",
       "      <td>True</td>\n",
       "      <td>False</td>\n",
       "      <td>False</td>\n",
       "    </tr>\n",
       "    <tr>\n",
       "      <th>8</th>\n",
       "      <td>173.0</td>\n",
       "      <td>True</td>\n",
       "      <td>False</td>\n",
       "      <td>False</td>\n",
       "    </tr>\n",
       "    <tr>\n",
       "      <th>9</th>\n",
       "      <td>173.0</td>\n",
       "      <td>False</td>\n",
       "      <td>True</td>\n",
       "      <td>False</td>\n",
       "    </tr>\n",
       "  </tbody>\n",
       "</table>\n",
       "</div>"
      ],
      "text/plain": [
       "   height  nat__0  nat__1  nat__2\n",
       "0   167.0    True   False   False\n",
       "1   170.0   False    True   False\n",
       "2   173.0   False   False    True\n",
       "3   170.0   False   False    True\n",
       "4   173.0   False   False    True\n",
       "5   173.0   False    True   False\n",
       "6   170.0   False   False    True\n",
       "7   170.0    True   False   False\n",
       "8   173.0    True   False   False\n",
       "9   173.0   False    True   False"
      ]
     },
     "execution_count": 64,
     "metadata": {},
     "output_type": "execute_result"
    }
   ],
   "source": [
    "new_df.drop('nationality', axis=1, inplace=True)\n",
    "new_df"
   ]
  },
  {
   "cell_type": "code",
   "execution_count": 65,
   "id": "3697a2d4-685c-4494-85d5-96bcef7fac8b",
   "metadata": {},
   "outputs": [
    {
     "data": {
      "text/plain": [
       "[0, 1, 2, 2, 2, 1, 2, 0, 0, 1]\n",
       "Categories (3, int32): [0, 1, 2]"
      ]
     },
     "execution_count": 65,
     "metadata": {},
     "output_type": "execute_result"
    }
   ],
   "source": [
    "nat_categ = pd.Categorical(nationality)\n",
    "nat_categ"
   ]
  },
  {
   "cell_type": "markdown",
   "id": "5cc0eff1-ba0e-4ddc-85b4-8ab0f0167e85",
   "metadata": {},
   "source": [
    "# ↑ One-Hot Encoding\n",
    "\n",
    "## 정의\n",
    "- 하나의 특성(컬럼)만 1이 될 수 있고, 다른 특성은 모두 0으로 코딩하는 방법\n",
    "- 범주형 변수를 머신러닝 알고리즘에서 사용할 수 있도록 수치화하는 방식\n",
    "\n",
    "---\n",
    "\n",
    "## 예시\n",
    "- **월요일**: [1, 0, 0, 0, 0, 0, 0]  \n",
    "- **수요일**: [0, 0, 1, 0, 0, 0, 0]  \n",
    "\n",
    "---\n",
    "\n",
    "## 구현 (pandas)\n",
    "- `pd.get_dummies()` 사용\n",
    "- 범주형 변수를 자동으로 **one-hot encoding** 형태로 변환해줌\n"
   ]
  },
  {
   "cell_type": "markdown",
   "id": "8efe203b-a0cf-4fc4-91c9-1135b6b6db54",
   "metadata": {},
   "source": [
    "데이터 프레임 -> 열이름\n",
    "\n",
    "데이터셋 -> feature"
   ]
  },
  {
   "cell_type": "markdown",
   "id": "b7a3403d-e8d3-4b5a-83f8-da4220bd43af",
   "metadata": {},
   "source": [
    "# 데이터 전처리 – 표준화 (Standardization)\n",
    "\n",
    "## 표준화란?\n",
    "- 데이터 분포를 **평균 0, 표준편차 1**이 되도록 변환하는 데이터 전처리 기법\n",
    "- 여러 개의 변수가 있을 때, 서로 다른 변수들을 비교하기 편리하게 만들어줌\n",
    "\n",
    "---\n",
    "\n",
    "## Z 점수 (Z-score)\n",
    "- 어떤 값이 평균에서 **얼마나 떨어져 있는지**를 나타내는 수치\n",
    "- 정의:\n",
    "  - 확률변수 X가 평균 μ(뮤)로부터 표준편차 σ(시그마)의 몇 배만큼 떨어져 있는지를 나타냄\n",
    "  - 공식:  \n",
    "    $$\n",
    "    Z = \\frac{X - \\mu}{\\sigma}\n",
    "    $$\n",
    "- **Z 점수** = 표준화 점수, 표준 점수라고도 함\n"
   ]
  },
  {
   "cell_type": "markdown",
   "id": "0b0621e2-a8b6-4d5d-a4bd-6e64f9c9b4d9",
   "metadata": {},
   "source": [
    "## !!<중요>\n",
    "# 데이터 전처리 – ★ 스케일링 (Scaling) \n",
    "\n",
    "## 정의\n",
    "- 원래 데이터가 갖는 **값의 범위를 다르게 조정**하는 작업\n",
    "- 즉, 기준점을 같게 만드는 과정\n",
    "\n",
    "---\n",
    "\n",
    "## 스케일링을 하는 이유\n",
    "- 여러 특성 변수의 **중요도를 같도록** 맞추기 위해서\n",
    "- 예시:\n",
    "  - 모든 시험을 100점 만점으로 환산하면 동일한 비중으로 취급됨\n",
    "  - 어떤 과목은 50점 만점, 어떤 과목은 80점 만점이면 동일한 조건으로 비교하기 어려움\n",
    "\n",
    "---\n",
    "\n",
    "## 스케일링 방법\n",
    "\n",
    "### 1. 최소–최대 스케일링 (Min-Max Scaling)\n",
    "- 주어진 값을 **최소값=0, 최대값=1** 범위로 재조정\n",
    "- 사용 함수: `MinMaxScaler()` (scikit-learn)\n",
    "\n",
    "### 2. 표준 스케일링 (Standard Scaling)\n",
    "- 데이터 분포를 **표준 정규분포(평균=0, 표준편차=1)** 로 정규화\n",
    "- 표준화(standardization), z-score 정규화\n",
    "- 사용 함수: `StandardScaler()` (scikit-learn)\n"
   ]
  },
  {
   "cell_type": "markdown",
   "id": "9de1195b-c501-44cf-8f56-cbfd7baa0777",
   "metadata": {},
   "source": [
    "# 데이터 전처리 – 스케일링 종류와 사용\n",
    "\n",
    "## 스케일링 종류\n",
    "- **StandardScaler**\n",
    "  - 기본 스케일링\n",
    "  - 평균 0, 표준편차 1 사용\n",
    "- **MinMaxScaler**\n",
    "  - 최소값/최대값을 각각 0, 1이 되도록 스케일링\n",
    "- **MaxAbsScaler**\n",
    "  - 최대 절댓값을 기준으로 -1, 1 범위에 맞춰 스케일링\n",
    "- **RobustScaler**\n",
    "  - 중앙값(median)과 IQR(interquartile range)을 사용\n",
    "  - 이상치(outlier)의 영향을 최소화\n",
    "\n",
    "---\n",
    "\n",
    "## 사용 예시 (scikit-learn)\n",
    "\n",
    "```python\n",
    "from sklearn.preprocessing import StandardScaler\n",
    "\n",
    "# 1) 스케일링 라이브러리 호출\n",
    "scaler = StandardScaler()  \n",
    "\n",
    "# 2) 사용할 스케일링 객체 선언\n",
    "# scaler = MinMaxScaler()\n",
    "# scaler = MaxAbsScaler()\n",
    "# scaler = RobustScaler()\n",
    "\n",
    "# 3) 훈련 데이터에 fit 적용 (평균, 표준편차 계산)\n",
    "scaler.fit(train_data)\n",
    "\n",
    "# 4) fit된 scaler를 이용하여 데이터 변환\n",
    "train_scaled = scaler.transform(train_data)\n"
   ]
  },
  {
   "cell_type": "code",
   "execution_count": 74,
   "id": "55e4ffdc-e813-4177-a15a-ff35968c029e",
   "metadata": {},
   "outputs": [
    {
     "data": {
      "text/html": [
       "<div>\n",
       "<style scoped>\n",
       "    .dataframe tbody tr th:only-of-type {\n",
       "        vertical-align: middle;\n",
       "    }\n",
       "\n",
       "    .dataframe tbody tr th {\n",
       "        vertical-align: top;\n",
       "    }\n",
       "\n",
       "    .dataframe thead th {\n",
       "        text-align: right;\n",
       "    }\n",
       "</style>\n",
       "<table border=\"1\" class=\"dataframe\">\n",
       "  <thead>\n",
       "    <tr style=\"text-align: right;\">\n",
       "      <th></th>\n",
       "      <th>0</th>\n",
       "      <th>1</th>\n",
       "    </tr>\n",
       "  </thead>\n",
       "  <tbody>\n",
       "    <tr>\n",
       "      <th>0</th>\n",
       "      <td>170.0</td>\n",
       "      <td>72</td>\n",
       "    </tr>\n",
       "    <tr>\n",
       "      <th>1</th>\n",
       "      <td>167.0</td>\n",
       "      <td>70</td>\n",
       "    </tr>\n",
       "    <tr>\n",
       "      <th>2</th>\n",
       "      <td>161.0</td>\n",
       "      <td>72</td>\n",
       "    </tr>\n",
       "  </tbody>\n",
       "</table>\n",
       "</div>"
      ],
      "text/plain": [
       "       0   1\n",
       "0  170.0  72\n",
       "1  167.0  70\n",
       "2  161.0  72"
      ]
     },
     "execution_count": 74,
     "metadata": {},
     "output_type": "execute_result"
    }
   ],
   "source": [
    "n_samples = 10\n",
    "height = 3 * np.random.randn(n_samples).round() + 170\n",
    "weight = np.random.randint(0, 3, n_samples) + 70\n",
    "X = pd.DataFrame(list(zip(height, weight)))\n",
    "X.head(3)"
   ]
  },
  {
   "cell_type": "code",
   "execution_count": 72,
   "id": "b134cf41-d8aa-41a0-a42b-6079609814e3",
   "metadata": {},
   "outputs": [
    {
     "name": "stdout",
     "output_type": "stream",
     "text": [
      "StandardScaler()\n",
      "[[ 0.91766294  0.14285714]\n",
      " [ 0.91766294  0.14285714]\n",
      " [-1.3764944   0.14285714]\n",
      " [-1.3764944   0.14285714]\n",
      " [-0.22941573  1.57142857]\n",
      " [-1.3764944   0.14285714]\n",
      " [ 0.91766294 -1.28571429]\n",
      " [ 0.91766294  1.57142857]\n",
      " [ 0.91766294 -1.28571429]\n",
      " [-0.22941573 -1.28571429]]\n"
     ]
    }
   ],
   "source": [
    "from sklearn.preprocessing import StandardScaler\n",
    "a = StandardScaler() # 1)표준 스케일링을 하기 위해서 표준 스케일링을 객체로 생성\n",
    "b = a.fit(X)         # 2) 1에 데이터 X를 타입을 맞춤\n",
    "c = a.transform(X)   # 3) 데이터 X를 표준스케일링 1에 맞게 변형\n",
    "\n",
    "print(b)\n",
    "print(c)"
   ]
  },
  {
   "cell_type": "code",
   "execution_count": 87,
   "id": "16137333-8d84-4ca4-be90-09990af8c2b8",
   "metadata": {},
   "outputs": [
    {
     "name": "stdout",
     "output_type": "stream",
     "text": [
      "스탠다드\n",
      " [[ 0.33333333  0.89625816]\n",
      " [-0.5        -1.66447944]\n",
      " [-2.16666667  0.89625816]\n",
      " [-0.5         0.89625816]\n",
      " [ 1.16666667 -0.38411064]\n",
      " [ 1.16666667  0.89625816]\n",
      " [ 0.33333333 -0.38411064]\n",
      " [-0.5        -0.38411064]\n",
      " [ 1.16666667 -1.66447944]\n",
      " [-0.5         0.89625816]]\n",
      "<class 'numpy.ndarray'>\n",
      "\n",
      "MinMaxScaler\n",
      " [[0.75 1.  ]\n",
      " [0.5  0.  ]\n",
      " [0.   1.  ]\n",
      " [0.5  1.  ]\n",
      " [1.   0.5 ]\n",
      " [1.   1.  ]\n",
      " [0.75 0.5 ]\n",
      " [0.5  0.5 ]\n",
      " [1.   0.  ]\n",
      " [0.5  1.  ]]\n",
      "\n",
      "MaxAbsScaler\n",
      " [[0.98265896 1.        ]\n",
      " [0.96531792 0.97222222]\n",
      " [0.93063584 1.        ]\n",
      " [0.96531792 1.        ]\n",
      " [1.         0.98611111]\n",
      " [1.         1.        ]\n",
      " [0.98265896 0.98611111]\n",
      " [0.96531792 0.98611111]\n",
      " [1.         0.97222222]\n",
      " [0.96531792 1.        ]]\n",
      "\n",
      "RobustScaler\n",
      " [[ 0.28571429  0.5       ]\n",
      " [-0.28571429 -1.5       ]\n",
      " [-1.42857143  0.5       ]\n",
      " [-0.28571429  0.5       ]\n",
      " [ 0.85714286 -0.5       ]\n",
      " [ 0.85714286  0.5       ]\n",
      " [ 0.28571429 -0.5       ]\n",
      " [-0.28571429 -0.5       ]\n",
      " [ 0.85714286 -1.5       ]\n",
      " [-0.28571429  0.5       ]]\n"
     ]
    }
   ],
   "source": [
    "XS1 = StandardScaler().fit_transform(X)\n",
    "print(\"스탠다드\\n\",XS1)\n",
    "print(type(XS1))\n",
    "\n",
    "XS2 = MinMaxScaler().fit_transform(X) #최소 0, 최대 1\n",
    "print(\"\\nMinMaxScaler\\n\", XS2)\n",
    "\n",
    "XS3 = MaxAbsScaler().fit_transform(X)\n",
    "print(\"\\nMaxAbsScaler\\n\", XS3)\n",
    "\n",
    "XS4 = RobustScaler().fit_transform(X)\n",
    "print(\"\\nRobustScaler\\n\", XS4)"
   ]
  },
  {
   "cell_type": "code",
   "execution_count": 101,
   "id": "83e38b1e-1dd7-4e27-bf4b-f48c8e97df52",
   "metadata": {},
   "outputs": [
    {
     "data": {
      "image/png": "[encoded data removed]",
      "text/plain": [
       "<Figure size 640x480 with 1 Axes>"
      ]
     },
     "metadata": {},
     "output_type": "display_data"
    }
   ],
   "source": [
    "X.plot.kde()\n",
    "plt.show()"
   ]
  },
  {
   "cell_type": "markdown",
   "id": "98d8e48b-2f33-4cee-8b41-3ce1a32b3ad1",
   "metadata": {},
   "source": [
    "c, XS1~4까지는 모두 numpy 이기 때문에 불가능"
   ]
  },
  {
   "cell_type": "code",
   "execution_count": 88,
   "id": "6b687d2d-4191-49da-9085-e891071b8465",
   "metadata": {},
   "outputs": [
    {
     "data": {
      "image/png": "[encoded data removed]",
      "text/plain": [
       "<Figure size 640x480 with 1 Axes>"
      ]
     },
     "metadata": {},
     "output_type": "display_data"
    }
   ],
   "source": [
    "cp = pd.DataFrame(c)\n",
    "cp.plot.kde()\n",
    "plt.show()"
   ]
  },
  {
   "cell_type": "code",
   "execution_count": 93,
   "id": "71d888e7-4f2c-41f3-a6b8-08a63e3a4857",
   "metadata": {},
   "outputs": [
    {
     "data": {
      "image/png": "[encoded data removed]",
      "text/plain": [
       "<Figure size 640x480 with 1 Axes>"
      ]
     },
     "metadata": {},
     "output_type": "display_data"
    }
   ],
   "source": [
    "XS1p = pd.DataFrame(XS1)\n",
    "XS1p.plot.kde()\n",
    "plt.show()"
   ]
  },
  {
   "cell_type": "code",
   "execution_count": 94,
   "id": "f8ba66e5-e3d4-46f9-ac5f-35816199b636",
   "metadata": {},
   "outputs": [
    {
     "data": {
      "image/png": "[encoded data removed]",
      "text/plain": [
       "<Figure size 640x480 with 1 Axes>"
      ]
     },
     "metadata": {},
     "output_type": "display_data"
    }
   ],
   "source": [
    "XS2p = pd.DataFrame(XS2)\n",
    "XS2p.plot.kde()\n",
    "plt.show()"
   ]
  },
  {
   "cell_type": "code",
   "execution_count": 95,
   "id": "d26a2523-35d3-470b-949a-d04b3443fe02",
   "metadata": {},
   "outputs": [
    {
     "data": {
      "image/png": "[encoded data removed]",
      "text/plain": [
       "<Figure size 640x480 with 1 Axes>"
      ]
     },
     "metadata": {},
     "output_type": "display_data"
    }
   ],
   "source": [
    "XS3p = pd.DataFrame(XS3) #사용하면 안되는 모습\n",
    "XS3p.plot.kde()\n",
    "plt.show()"
   ]
  },
  {
   "cell_type": "code",
   "execution_count": 96,
   "id": "86397489-befa-4a71-a0dc-b9ba95d6091d",
   "metadata": {},
   "outputs": [
    {
     "data": {
      "image/png": "[encoded data removed]",
      "text/plain": [
       "<Figure size 640x480 with 1 Axes>"
      ]
     },
     "metadata": {},
     "output_type": "display_data"
    }
   ],
   "source": [
    "XS4p = pd.DataFrame(XS4)\n",
    "XS4p.plot.kde()\n",
    "plt.show()"
   ]
  },
  {
   "cell_type": "code",
   "execution_count": 104,
   "id": "c291ec16-669f-4e16-8ceb-ef1435c261df",
   "metadata": {},
   "outputs": [
    {
     "name": "stdout",
     "output_type": "stream",
     "text": [
      "            x1        x2         x3\n",
      "0    -2.510297  9.006946 -11.363455\n",
      "1     0.127859  8.747625  -6.340222\n",
      "2    -0.769576  6.781474   1.472698\n",
      "3    -0.970968  8.887988  -0.507571\n",
      "4     1.435274  1.774373  -5.089091\n",
      "...        ...       ...        ...\n",
      "9995 -5.627554  5.856690   1.409166\n",
      "9996 -0.442160  5.638629  -7.585166\n",
      "9997 -1.548362  6.151858 -12.932907\n",
      "9998  0.543567  1.590875  -3.821395\n",
      "9999  2.745678  7.104048  -5.990051\n",
      "\n",
      "[10000 rows x 3 columns]\n"
     ]
    },
    {
     "data": {
      "image/png": "[encoded data removed]",
      "text/plain": [
       "<Figure size 640x480 with 1 Axes>"
      ]
     },
     "metadata": {},
     "output_type": "display_data"
    }
   ],
   "source": [
    "df = pd.DataFrame({\n",
    "    'x1': np.random.normal(0, 2, 10000), # (평균, 표준편차, 갯수)\n",
    "    'x2': np.random.normal(5, 3, 10000),\n",
    "    'x3': np.random.normal(-5, 5, 10000)\n",
    "})\n",
    "print(df)\n",
    "df.plot.kde()\n",
    "plt.show()"
   ]
  },
  {
   "cell_type": "code",
   "execution_count": 105,
   "id": "484cec2d-8f92-45aa-b63a-f2b5f81da006",
   "metadata": {},
   "outputs": [
    {
     "data": {
      "image/png": "[encoded data removed]",
      "text/plain": [
       "<Figure size 640x480 with 1 Axes>"
      ]
     },
     "metadata": {},
     "output_type": "display_data"
    }
   ],
   "source": [
    "data_tf = StandardScaler().fit_transform(df)\n",
    "df = pd.DataFrame(data_tf, columns=['x1','x2','x3'])\n",
    "df.plot.kde()\n",
    "plt.show()"
   ]
  },
  {
   "cell_type": "code",
   "execution_count": 106,
   "id": "8016a964-247b-472c-b82e-457ed7b85346",
   "metadata": {},
   "outputs": [
    {
     "name": "stdout",
     "output_type": "stream",
     "text": [
      "            x1        x2        x3\n",
      "0    -1.270674  1.349286 -1.273083\n",
      "1     0.050084  1.262352 -0.270428\n",
      "2    -0.399205  0.603224  1.289059\n",
      "3    -0.500029  1.309407  0.893790\n",
      "4     0.704624 -1.075345 -0.020698\n",
      "...        ...       ...       ...\n",
      "9995 -2.831287  0.293202  1.276378\n",
      "9996 -0.235288  0.220099 -0.518923\n",
      "9997 -0.789094  0.392153 -1.586351\n",
      "9998  0.258203 -1.136861  0.232339\n",
      "9999  1.360661  0.711363 -0.200532\n",
      "\n",
      "[10000 rows x 3 columns]\n",
      "            x1        x2        x3\n",
      "0     0.352189  0.642134  0.396105\n",
      "1     0.515895  0.631709  0.522883\n",
      "2     0.460207  0.552669  0.720069\n",
      "3     0.447709  0.637352  0.670090\n",
      "4     0.597025  0.351382  0.554460\n",
      "...        ...       ...       ...\n",
      "9995  0.158752  0.515492  0.718466\n",
      "9996  0.480524  0.506726  0.491463\n",
      "9997  0.411880  0.527358  0.356494\n",
      "9998  0.541692  0.344005  0.586454\n",
      "9999  0.678340  0.565637  0.531721\n",
      "\n",
      "[10000 rows x 3 columns]\n"
     ]
    },
    {
     "data": {
      "image/png": "[encoded data removed]",
      "text/plain": [
       "<Figure size 640x480 with 1 Axes>"
      ]
     },
     "metadata": {},
     "output_type": "display_data"
    }
   ],
   "source": [
    "print(df) # 원본데이터\n",
    "\n",
    "data_tf = MinMaxScaler().fit_transform(df) # 결과는 Numpy\n",
    "df = pd.DataFrame(data_tf, columns=['x1','x2','x3']) # 데이터프레임으로 변경\n",
    "\n",
    "print(df) # 스케일링 된 데이터\n",
    "df.plot.kde()\n",
    "plt.show()"
   ]
  },
  {
   "cell_type": "code",
   "execution_count": 107,
   "id": "403dac4a-17eb-442a-a4be-cdde7b71d185",
   "metadata": {},
   "outputs": [
    {
     "data": {
      "image/png": "[encoded data removed]",
      "text/plain": [
       "<Figure size 640x480 with 1 Axes>"
      ]
     },
     "metadata": {},
     "output_type": "display_data"
    }
   ],
   "source": [
    "data_tf = MaxAbsScaler().fit_transform(df)\n",
    "df = pd.DataFrame(data_tf, columns=['x1','x2','x3'])\n",
    "df.plot.kde()\n",
    "plt.show()"
   ]
  },
  {
   "cell_type": "code",
   "execution_count": 108,
   "id": "67079891-a2c5-4175-a3de-86ed73e0687e",
   "metadata": {},
   "outputs": [
    {
     "data": {
      "image/png": "[encoded data removed]",
      "text/plain": [
       "<Figure size 640x480 with 1 Axes>"
      ]
     },
     "metadata": {},
     "output_type": "display_data"
    }
   ],
   "source": [
    "data_tf = RobustScaler().fit_transform(df)\n",
    "df = pd.DataFrame(data_tf, columns=['x1','x2','x3'])\n",
    "df.plot.kde()\n",
    "plt.show()"
   ]
  },
  {
   "cell_type": "code",
   "execution_count": null,
   "id": "a89b23ec-8d67-4cd6-808b-f64ed04302a7",
   "metadata": {},
   "outputs": [],
   "source": []
  }
 ],
 "metadata": {
  "kernelspec": {
   "display_name": "Python [conda env:base] *",
   "language": "python",
   "name": "conda-base-py"
  },
  "language_info": {
   "codemirror_mode": {
    "name": "ipython",
    "version": 3
   },
   "file_extension": ".py",
   "mimetype": "text/x-python",
   "name": "python",
   "nbconvert_exporter": "python",
   "pygments_lexer": "ipython3",
   "version": "3.13.5"
  }
 },
 "nbformat": 4,
 "nbformat_minor": 5
}
