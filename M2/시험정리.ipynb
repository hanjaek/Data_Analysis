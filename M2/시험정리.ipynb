{
 "cells": [
  {
   "cell_type": "markdown",
   "id": "b939739f-2cb0-43b9-b416-ec879dded16d",
   "metadata": {},
   "source": [
    "1) 용어 설명\n",
    "ex) 유사도, 거리, 유클리디안, 코사인, 자카드를 이용하여 군집화하는 것은?\n",
    "    -> 클러스터링\n",
    "\n",
    "(*) 지도, 비지도, 강화, 독립변수, 종속변수, 탐색적분석, 전처리, 클러스터링,\n",
    "선형회귀, 선형분류, 로지스틱회귀, MSE, Entropy, 유클리디안, 코사인, 자카드, kmeans, dbscan,원핫인코딩 등등\n",
    "\n",
    "2) 코드 결과 묻기\n",
    "\n",
    "3) 코드 설명"
   ]
  }
 ],
 "metadata": {
  "kernelspec": {
   "display_name": "Python [conda env:base] *",
   "language": "python",
   "name": "conda-base-py"
  },
  "language_info": {
   "codemirror_mode": {
    "name": "ipython",
    "version": 3
   },
   "file_extension": ".py",
   "mimetype": "text/x-python",
   "name": "python",
   "nbconvert_exporter": "python",
   "pygments_lexer": "ipython3",
   "version": "3.13.5"
  }
 },
 "nbformat": 4,
 "nbformat_minor": 5
}
