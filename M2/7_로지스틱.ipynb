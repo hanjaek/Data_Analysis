{
 "cells": [
  {
   "cell_type": "code",
   "execution_count": 1,
   "id": "3721e6f8-72be-4cce-b55d-f9c325847771",
   "metadata": {},
   "outputs": [],
   "source": [
    "import numpy as np\n",
    "import pandas as pd\n",
    "import seaborn as sns\n",
    "import platform\n",
    "\n",
    "from matplotlib import pyplot as plt\n",
    "from matplotlib import font_manager, rc\n",
    "from scipy.stats import *\n",
    "\n",
    "from sklearn import * \n",
    "from sklearn import datasets\n",
    "from sklearn.feature_extraction.text import *\n",
    "from sklearn.metrics.pairwise import *\n",
    "from sklearn.model_selection import *\n",
    "from sklearn.preprocessing import *\n",
    "from sklearn.linear_model import *\n",
    "from sklearn.datasets import *\n",
    "from sklearn.cluster import *\n",
    "\n",
    "from scipy.cluster.hierarchy import *\n",
    "\n",
    "from scipy import *\n",
    "import warnings\n",
    "warnings.filterwarnings('ignore')\n",
    "%matplotlib inline"
   ]
  },
  {
   "cell_type": "code",
   "execution_count": 2,
   "id": "da0acf81-5dec-466e-90b7-e98c4c6e88b1",
   "metadata": {},
   "outputs": [],
   "source": [
    "import platform\n",
    "import matplotlib\n",
    "from matplotlib import font_manager, rc\n",
    "\n",
    "# '-' 기호 보이게 하기\n",
    "matplotlib.rcParams['axes.unicode_minus'] = False\n",
    "# 윈도우\n",
    "if platform.system() == 'Windows':\n",
    "    path = \"c:/Windows/Fonts/malgun.ttf\"\n",
    "    font_name = font_manager.FontProperties(fname=path).get_name()\n",
    "    rc('font', family=font_name)\n",
    "# 맥\n",
    "elif platform.system() == 'Darwin':\n",
    "    rc('font', family='AppleGothic')\n",
    "# 리눅스\n",
    "elif platform.system() == 'Linux':\n",
    "    rc('font', family='NanumBarunGothic')"
   ]
  },
  {
   "cell_type": "code",
   "execution_count": 3,
   "id": "6750f2d3-adf7-44e1-98cb-1dc84c35afff",
   "metadata": {},
   "outputs": [],
   "source": [
    "# 합격한 사람 3~9시간 조금 적게 12시간이상은 많게 \n",
    "pass_time = [3, 8,9, 9, 9.5, 10, 12, 14, 14.5, 15, 16, 16, 16.5, 17, 17, 17, 17.5,20, 20, 20, 7, 19]\n",
    "\n",
    "# 불합격한 사람 1~8시간 조금 많게 8~10시간이상은 적게 \n",
    "fail_time = [1, 2,2.1,2.6,2.7,2.8,2.9, 3,3.2,3.4,3.5,3.6,3, 5,5.2,5.4, 6, 6.5, 7, 8, 9, 10]"
   ]
  },
  {
   "cell_type": "code",
   "execution_count": 4,
   "id": "cbcf0c41-e263-4d89-9009-74ebf71643fb",
   "metadata": {},
   "outputs": [
    {
     "data": {
      "text/plain": [
       "(22, 22)"
      ]
     },
     "execution_count": 4,
     "metadata": {},
     "output_type": "execute_result"
    }
   ],
   "source": [
    "len(pass_time), len(fail_time)"
   ]
  },
  {
   "cell_type": "code",
   "execution_count": 5,
   "id": "389c3f3e-14f9-4c74-a3e1-1fb519138be7",
   "metadata": {},
   "outputs": [
    {
     "data": {
      "text/plain": [
       "array([ 3. ,  8. ,  9. ,  9. ,  9.5, 10. , 12. , 14. , 14.5, 15. , 16. ,\n",
       "       16. , 16.5, 17. , 17. , 17. , 17.5, 20. , 20. , 20. ,  7. , 19. ,\n",
       "        1. ,  2. ,  2.1,  2.6,  2.7,  2.8,  2.9,  3. ,  3.2,  3.4,  3.5,\n",
       "        3.6,  3. ,  5. ,  5.2,  5.4,  6. ,  6.5,  7. ,  8. ,  9. , 10. ])"
      ]
     },
     "execution_count": 5,
     "metadata": {},
     "output_type": "execute_result"
    }
   ],
   "source": [
    "X= np.hstack((pass_time, fail_time))\n",
    "X"
   ]
  },
  {
   "cell_type": "code",
   "execution_count": 6,
   "id": "30d9b4a9-2b19-4946-9ad1-703ae0473978",
   "metadata": {},
   "outputs": [
    {
     "data": {
      "text/plain": [
       "(array([ 3. ,  8. ,  9. ,  9. ,  9.5, 10. , 12. , 14. , 14.5, 15. , 16. ,\n",
       "        16. , 16.5, 17. , 17. , 17. , 17.5, 20. , 20. , 20. ,  7. , 19. ,\n",
       "         1. ,  2. ,  2.1,  2.6,  2.7,  2.8,  2.9,  3. ,  3.2,  3.4,  3.5,\n",
       "         3.6,  3. ,  5. ,  5.2,  5.4,  6. ,  6.5,  7. ,  8. ,  9. , 10. ]),\n",
       " array([1, 1, 1, 1, 1, 1, 1, 1, 1, 1, 1, 1, 1, 1, 1, 1, 1, 1, 1, 1, 1, 1,\n",
       "        0, 0, 0, 0, 0, 0, 0, 0, 0, 0, 0, 0, 0, 0, 0, 0, 0, 0, 0, 0, 0, 0]))"
      ]
     },
     "execution_count": 6,
     "metadata": {},
     "output_type": "execute_result"
    }
   ],
   "source": [
    "y1 = [1]*len(pass_time)\n",
    "y0 = [0]*len(pass_time)\n",
    "y = np.hstack((y1, y0))\n",
    "X,y"
   ]
  },
  {
   "cell_type": "code",
   "execution_count": 7,
   "id": "d47d8b68-ac68-45b8-ab3d-8cbc498d17d4",
   "metadata": {},
   "outputs": [
    {
     "data": {
      "image/png": "[encoded data removed]",
      "text/plain": [
       "<Figure size 600x300 with 1 Axes>"
      ]
     },
     "metadata": {},
     "output_type": "display_data"
    }
   ],
   "source": [
    "fig = plt.figure(figsize=(6,3))\n",
    "plt.xlim(0.0, 21)\n",
    "plt.ylim(-0.2, 1.2)\n",
    "plt.scatter(X,y)\n",
    "plt.show()"
   ]
  },
  {
   "cell_type": "code",
   "execution_count": 8,
   "id": "a30f02f0-2a06-4587-8184-8078925df352",
   "metadata": {},
   "outputs": [
    {
     "name": "stdout",
     "output_type": "stream",
     "text": [
      "[[0.59228875]]\n",
      "[-4.82774829]\n"
     ]
    }
   ],
   "source": [
    "model = LogisticRegression()\n",
    "model.fit(X.reshape(-1,1), y.reshape(-1,1))\n",
    "print(model.coef_)\n",
    "print(model.intercept_)"
   ]
  },
  {
   "cell_type": "code",
   "execution_count": null,
   "id": "9cde1ee5-bd7a-4f54-9b63-489c2ae61b84",
   "metadata": {},
   "outputs": [],
   "source": []
  }
 ],
 "metadata": {
  "kernelspec": {
   "display_name": "Python [conda env:base] *",
   "language": "python",
   "name": "conda-base-py"
  },
  "language_info": {
   "codemirror_mode": {
    "name": "ipython",
    "version": 3
   },
   "file_extension": ".py",
   "mimetype": "text/x-python",
   "name": "python",
   "nbconvert_exporter": "python",
   "pygments_lexer": "ipython3",
   "version": "3.13.5"
  }
 },
 "nbformat": 4,
 "nbformat_minor": 5
}
