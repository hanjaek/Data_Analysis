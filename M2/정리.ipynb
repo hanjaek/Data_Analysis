{
 "cells": [
  {
   "cell_type": "markdown",
   "id": "333e5235-45ee-47e2-bbb2-f84b65d8676a",
   "metadata": {},
   "source": [
    "탐색적분석?\n",
    "데이터의 전체적인 양상, 흐름 파악\n",
    "-> 평균, 표준편차, 0~100%,...\n",
    "-> 시각화\n",
    "-> 단계 X (언제든지 양상을 볼 때 실시)\n",
    "-> describe()\n",
    "\n",
    "데이터전처리? 머신러닝 하기전 데이터를 미리 수정\n",
    "-> nan, 틀린 값, 이상치 -> 삭제, 변경..\n",
    "-> 데이터의 갯수 조정, feature의 갯수 조정\n",
    "\n",
    "--- 머신러닝 시작: 훈련, 학습 ---\n",
    "\n",
    "지도: 입력에 따른 정답 출력 존재 -> 신뢰도 확인 가능\n",
    "\n",
    "비지도: 입력에 따른 정답 출력 존재 X -> 패턴과 특징을 통해 정답을 유추 \n",
    "        대표예시) 클러스터링\n",
    "\n",
    "강화: 입력에 따른 정답 출력 존재, but 알려주지 XX\n",
    "        대표예시) 게임, 알파고\n",
    "\n",
    "---\n",
    "\n",
    "클러스터링 = 군집화 : 그룹핑\n",
    "  --> 유사도, 거리 : 유클리디안, 코사인 \n",
    "  --> KMEANS: 절대적 물리적 거리\n",
    "  --> DBSCAN: 밀도 거리\n"
   ]
  },
  {
   "cell_type": "code",
   "execution_count": null,
   "id": "cc41326b-5614-4d50-a363-c6296b1e6c3b",
   "metadata": {},
   "outputs": [],
   "source": [
    "\n"
   ]
  }
 ],
 "metadata": {
  "kernelspec": {
   "display_name": "Python [conda env:base] *",
   "language": "python",
   "name": "conda-base-py"
  },
  "language_info": {
   "codemirror_mode": {
    "name": "ipython",
    "version": 3
   },
   "file_extension": ".py",
   "mimetype": "text/x-python",
   "name": "python",
   "nbconvert_exporter": "python",
   "pygments_lexer": "ipython3",
   "version": "3.13.5"
  }
 },
 "nbformat": 4,
 "nbformat_minor": 5
}
