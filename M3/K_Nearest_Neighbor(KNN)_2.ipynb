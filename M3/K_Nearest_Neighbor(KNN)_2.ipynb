{
 "cells": [
  {
   "cell_type": "markdown",
   "id": "3cf6fcf1-0633-4190-84a1-04c382ab272b",
   "metadata": {},
   "source": [
    "## 머신러닝 기본 개념 복습\n",
    "\n",
    "### 1. 데이터 구성\n",
    "머신러닝 모델을 학습시키기 위해 전체 데이터를 다음과 같이 분할한다.\n",
    "\n",
    "| 구분 | 목적 | 사용 시점 |\n",
    "|:--:|:--|:--|\n",
    "| **훈련(Training) 데이터** | 모델의 파라미터 학습에 사용 | 학습 단계 |\n",
    "| **검증(Validation) 데이터** | 과적합 여부 확인, 하이퍼파라미터 조정 | 학습 중간 |\n",
    "| **테스트(Test) 데이터** | 최종 성능 평가 | 학습 완료 후 |\n",
    "\n",
    "---\n",
    "\n",
    "### 2. 입력과 출력의 관계\n",
    "- **입력 데이터:**  \n",
    "  $X = (x_1, x_2, \\dots, x_n)$\n",
    "\n",
    "- **목표 출력(정답):**  \n",
    "  $Y = (y_1, y_2, \\dots, y_n)$\n",
    "\n",
    "모델은 입력 $X$를 받아 예측값 $Y'$을 생성하고,  \n",
    "예측값과 실제값의 차이를 통해 오차를 계산한다.\n",
    "\n",
    "---\n",
    "\n",
    "### 3. 모델 구조\n",
    "모델은 함수 형태로 표현할 수 있다.\n",
    "\n",
    "$$\n",
    "Y' = f(X; W)\n",
    "$$\n",
    "\n",
    "- $f$: 모델 함수 (예: 선형 모델, 신경망 등)  \n",
    "- $W$: 학습해야 할 파라미터(parameter)  \n",
    "- 초기에는 $W$를 **랜덤(random)** 하게 설정한다.\n",
    "\n",
    "---\n",
    "\n",
    "### 4. 손실함수 (Loss Function)\n",
    "예측값 $Y'$과 실제값 $Y$의 차이를 계산하여 모델의 성능을 측정한다.\n",
    "\n",
    "$$\n",
    "E = \\sum_i (y_i - y'_i)^2\n",
    "$$\n",
    "\n",
    "- 오차가 클수록 모델의 성능이 낮음을 의미한다.  \n",
    "- 대표적인 손실함수: 평균제곱오차(MSE, Mean Squared Error)\n",
    "\n",
    "---\n",
    "\n",
    "### 5. 최적화 (Optimization)\n",
    "손실함수를 최소화하기 위해 파라미터 $W$를 업데이트한다.\n",
    "\n",
    "$$\n",
    "W := W - \\eta \\frac{\\partial E}{\\partial W}\n",
    "$$\n",
    "\n",
    "- $\\eta$: 학습률(learning rate)  \n",
    "- 손실이 줄어드는 방향(기울기 하강 방향)으로 파라미터를 조정한다.  \n",
    "- 이 과정을 여러 번 반복하면서 최적의 $W$를 찾는다.\n",
    "\n",
    "---\n",
    "\n",
    "### 6. 학습 과정 요약\n",
    "\n",
    "1. **데이터 준비:** 학습·검증·테스트 데이터 분리  \n",
    "2. **모델 정의:** 입력 $X$ → 출력 $Y' = f(X; W)$  \n",
    "3. **오차 계산:** $E = (Y - Y')^2$  \n",
    "4. **최적화:** 경사하강법으로 $W$ 업데이트  \n",
    "5. **검증:** Validation 데이터로 과적합 여부 확인  \n",
    "6. **평가:** Test 데이터로 최종 성능 측정\n",
    "\n",
    "---\n",
    "\n",
    "### 7. 용어 정리\n",
    "\n",
    "| 용어 | 의미 |\n",
    "|:--|:--|\n",
    "| **Batch** | 한 번의 학습에서 사용하는 데이터 묶음 |\n",
    "| **Iteration** | 한 번의 파라미터 업데이트 과정 |\n",
    "| **Epoch** | 전체 데이터를 한 번 학습하는 주기 |\n",
    "| **Optimization** | 손실함수를 최소화하기 위한 과정 |\n",
    "| **Parameter** | 모델이 학습을 통해 조정하는 값 (가중치 등) |\n",
    "\n",
    "---"
   ]
  },
  {
   "cell_type": "code",
   "execution_count": 1,
   "id": "51b56275-0a71-48a1-ac5a-e3d3f021238d",
   "metadata": {},
   "outputs": [],
   "source": [
    "import numpy as np\n",
    "import pandas as pd\n",
    "import matplotlib.pyplot as plt"
   ]
  },
  {
   "cell_type": "code",
   "execution_count": 9,
   "id": "094798b3-87a6-4fec-9e18-f45c00db0c59",
   "metadata": {},
   "outputs": [],
   "source": [
    "from sklearn.neighbors import KNeighborsClassifier\n",
    "from sklearn.linear_model import SGDClassifier\n",
    "from sklearn.model_selection import train_test_split\n",
    "from sklearn.datasets import load_iris\n",
    "from sklearn.model_selection import cross_val_score, KFold\n",
    "from sklearn.preprocessing import StandardScaler"
   ]
  },
  {
   "cell_type": "code",
   "execution_count": 3,
   "id": "87b66fb4-29ae-47d7-b264-5f1a2a3218a1",
   "metadata": {},
   "outputs": [
    {
     "name": "stdout",
     "output_type": "stream",
     "text": [
      "kNN score: 0.96\n",
      "kNN score(train): 0.96\n",
      "Linear Reg score: 0.76\n",
      "Linear Reg score(train): 0.72\n"
     ]
    }
   ],
   "source": [
    "# iris 데이터 로드\n",
    "iris = load_iris()\n",
    "X, y = iris.data, iris.target\n",
    "\n",
    "# 학습용/테스트용 데이터 분리\n",
    "# test_size=0.3 (즉 30%를 테스트로 사용)\n",
    "X_train, X_test, y_train, y_test = train_test_split(X, y, test_size=0.3)\n",
    "\n",
    "# 분류 모델: KNN (k=3)\n",
    "knn = KNeighborsClassifier(n_neighbors=3)\n",
    "knn.fit(X_train, y_train)\n",
    "\n",
    "# 선형 분류 모델: SGDClassifier (선형분류기 예시로 사용)\n",
    "clf = SGDClassifier()\n",
    "clf.fit(X_train, y_train)\n",
    "\n",
    "# 정확도 출력\n",
    "print(\"kNN score: {:.2f}\".format(knn.score(X_test, y_test)))\n",
    "print(\"kNN score(train): {:.2f}\".format(knn.score(X_train, y_train)))\n",
    "print(\"Linear Reg score: {:.2f}\".format(clf.score(X_test, y_test)))\n",
    "print(\"Linear Reg score(train): {:.2f}\".format(clf.score(X_train, y_train)))"
   ]
  },
  {
   "cell_type": "code",
   "execution_count": 4,
   "id": "7b92af14-c2e3-4dd6-9c3d-7b59a41b0d4c",
   "metadata": {},
   "outputs": [
    {
     "name": "stdout",
     "output_type": "stream",
     "text": [
      "K가 1 일 때 정확도: 0.9556\n",
      "K가 2 일 때 정확도: 0.9333\n",
      "K가 3 일 때 정확도: 0.9556\n",
      "K가 4 일 때 정확도: 0.9556\n",
      "K가 5 일 때 정확도: 0.9778\n",
      "K가 6 일 때 정확도: 0.9556\n",
      "K가 7 일 때 정확도: 1.0000\n",
      "K가 8 일 때 정확도: 0.9556\n",
      "K가 9 일 때 정확도: 0.9778\n"
     ]
    }
   ],
   "source": [
    "# k를 1부터 9까지 바꿔가며 정확도 비교\n",
    "for i in range(1, 10):\n",
    "    knn = KNeighborsClassifier(n_neighbors=i)\n",
    "    knn.fit(X_train, y_train)\n",
    "    print(\"K가\", i, \"일 때 정확도: {:.4f}\".format(knn.score(X_test, y_test)))"
   ]
  },
  {
   "cell_type": "code",
   "execution_count": 7,
   "id": "60244ed9-4c40-4fa9-9ff4-c7a930a63bfb",
   "metadata": {},
   "outputs": [
    {
     "data": {
      "text/plain": [
       "np.float64(0.9733)"
      ]
     },
     "execution_count": 7,
     "metadata": {},
     "output_type": "execute_result"
    }
   ],
   "source": [
    "cross_val_score(knn, X, y, cv=5).mean().round(4)"
   ]
  },
  {
   "cell_type": "code",
   "execution_count": 8,
   "id": "6b9b8a0f-2e48-4ff1-8f3f-0e7824d5d071",
   "metadata": {},
   "outputs": [
    {
     "data": {
      "text/plain": [
       "np.float64(0.7733)"
      ]
     },
     "execution_count": 8,
     "metadata": {},
     "output_type": "execute_result"
    }
   ],
   "source": [
    "cross_val_score(clf, X, y, cv=5).mean().round(4)"
   ]
  },
  {
   "cell_type": "code",
   "execution_count": 10,
   "id": "2d600ade-f859-4bf0-9daa-5fa39b33879a",
   "metadata": {},
   "outputs": [
    {
     "data": {
      "text/plain": [
       "np.float64(0.9)"
      ]
     },
     "execution_count": 10,
     "metadata": {},
     "output_type": "execute_result"
    }
   ],
   "source": [
    "sc = StandardScaler()\n",
    "X_sc = sc.fit_transform(X)\n",
    "cross_val_score(clf, X_sc, y, cv=5).mean().round(4)"
   ]
  },
  {
   "cell_type": "code",
   "execution_count": null,
   "id": "72142206-1203-4c12-b2d0-2ea8d2fa70e0",
   "metadata": {},
   "outputs": [],
   "source": []
  }
 ],
 "metadata": {
  "kernelspec": {
   "display_name": "Python [conda env:base] *",
   "language": "python",
   "name": "conda-base-py"
  },
  "language_info": {
   "codemirror_mode": {
    "name": "ipython",
    "version": 3
   },
   "file_extension": ".py",
   "mimetype": "text/x-python",
   "name": "python",
   "nbconvert_exporter": "python",
   "pygments_lexer": "ipython3",
   "version": "3.13.5"
  }
 },
 "nbformat": 4,
 "nbformat_minor": 5
}
