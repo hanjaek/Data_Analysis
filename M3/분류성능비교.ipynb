{
 "cells": [
  {
   "cell_type": "markdown",
   "id": "98468f5f-c3c8-4e53-9030-f1a5a9cdb73f",
   "metadata": {},
   "source": [
    "# 분류 성능 비교 (Classification Performance Evaluation)\n",
    "\n",
    "---\n",
    "\n",
    "## 1. 다루는 내용\n",
    "\n",
    "- **정적 성능평가 (Static Evaluation):** Confusion Matrix  \n",
    "- **동적 성능평가 (Dynamic Evaluation):** ROC Curve  \n",
    "- **기본 평가 지표:**  \n",
    "  - `score()` : 정확도(Accuracy)  \n",
    "  - `confusion_matrix()` : 예측 결과 행렬  \n",
    "  - `classification_report()` : 정밀도(Precision), 재현율(Recall), F1 Score\n",
    "\n",
    "---\n",
    "\n",
    "## 2. Confusion Matrix (혼동 행렬)\n",
    "\n",
    "| 구분 | 실제값 Positive | 실제값 Negative |\n",
    "|:--:|:--:|:--:|\n",
    "| **예측값 Positive** | TP (True Positive) | FP (False Positive) |\n",
    "| **예측값 Negative** | FN (False Negative) | TN (True Negative) |\n",
    "\n",
    "- **TP** : 실제로 Positive이고, 모델이 Positive로 맞춘 경우  \n",
    "- **TN** : 실제로 Negative이고, 모델이 Negative로 맞춘 경우  \n",
    "- **FP** : 실제로 Negative인데, Positive로 잘못 예측한 경우  \n",
    "- **FN** : 실제로 Positive인데, Negative로 잘못 예측한 경우\n",
    "\n",
    "---\n",
    "\n",
    "### 주요 지표 (from Confusion Matrix)\n",
    "\n",
    "$$\n",
    "\\text{Accuracy} = \\frac{TP + TN}{TP + TN + FP + FN}\n",
    "$$\n",
    "\n",
    "$$\n",
    "\\text{Precision} = \\frac{TP}{TP + FP}\n",
    "$$\n",
    "\n",
    "$$\n",
    "\\text{Recall (Sensitivity)} = \\frac{TP}{TP + FN}\n",
    "$$\n",
    "\n",
    "$$\n",
    "\\text{F1-Score} = 2 \\times \\frac{Precision \\times Recall}{Precision + Recall}\n",
    "$$\n",
    "\n",
    "- **Accuracy (정확도):** 전체 중 맞춘 비율  \n",
    "- **Precision (정밀도):** Positive로 예측한 것 중 실제 Positive인 비율  \n",
    "- **Recall (재현율):** 실제 Positive 중 모델이 맞게 예측한 비율  \n",
    "- **F1 Score:** Precision과 Recall의 조화 평균 (균형 지표)\n",
    "\n",
    "---\n",
    "\n",
    "### 코드 예시\n",
    "\n",
    "```python\n",
    "from sklearn.metrics import confusion_matrix, classification_report\n",
    "\n",
    "y_true = [1, 0, 1, 1, 0, 1, 0]\n",
    "y_pred = [1, 0, 1, 0, 0, 1, 1]\n",
    "\n",
    "# 혼동 행렬\n",
    "print(confusion_matrix(y_true, y_pred))\n",
    "\n",
    "# 세부 평가 지표\n",
    "print(classification_report(y_true, y_pred))\n"
   ]
  },
  {
   "cell_type": "code",
   "execution_count": 1,
   "id": "feac9b8c-5bb2-48cb-9c9b-8695666f1348",
   "metadata": {},
   "outputs": [],
   "source": [
    "import pandas as pd\n",
    "import numpy as np \n",
    "import matplotlib.pyplot as plt\n",
    "from sklearn.metrics import confusion_matrix, classification_report, roc_curve, auc\n",
    "from sklearn.preprocessing import StandardScaler, LabelEncoder\n",
    "%matplotlib inline"
   ]
  },
  {
   "cell_type": "markdown",
   "id": "ced855de-09f3-44fd-a9f1-a408fe36a011",
   "metadata": {},
   "source": [
    "# **정적 평가**\n",
    "### **혼돈 매트릭스 (confusion_matrix)**"
   ]
  },
  {
   "cell_type": "markdown",
   "id": "0a8c49ec-2fe5-4dfc-a412-bff887c9cdbe",
   "metadata": {},
   "source": [
    "## 남녀가 썩여있는 20명을 상대로 남녀의 성별 예측\n",
    "#### 여성이라고 판단한 평가 점수(임의)"
   ]
  },
  {
   "cell_type": "code",
   "execution_count": 3,
   "id": "0b57dd31-a40e-443c-b144-02819747dded",
   "metadata": {},
   "outputs": [
    {
     "name": "stdout",
     "output_type": "stream",
     "text": [
      "[99.  96.9 94.9 92.8 90.8 88.7 86.7 84.6 82.6 80.5 78.5 76.4 74.4 72.3\n",
      " 70.3 68.2 66.2 64.1 62.1 60. ]\n"
     ]
    }
   ],
   "source": [
    "# 평가 점수 score\n",
    "y_score = np.linspace(99, 60, 20).round(1)\n",
    "\n",
    "print(y_score)"
   ]
  },
  {
   "cell_type": "markdown",
   "id": "3539984c-a9ce-410b-bfaa-f885e1b2e942",
   "metadata": {},
   "source": [
    "#### 가정 : 상위 8명을 여성이라고 분류 예측\n",
    "0 : 남성, 1 : 여성"
   ]
  },
  {
   "cell_type": "code",
   "execution_count": 4,
   "id": "b0d29391-71fe-4333-af69-fc83027b7d4f",
   "metadata": {},
   "outputs": [
    {
     "name": "stdout",
     "output_type": "stream",
     "text": [
      "20\n"
     ]
    },
    {
     "data": {
      "text/plain": [
       "(8, 12)"
      ]
     },
     "execution_count": 4,
     "metadata": {},
     "output_type": "execute_result"
    }
   ],
   "source": [
    "# 예측 분류 (상위 8명)\n",
    "y_pred=[1,1,1,1,1,1,1,1,0,0,0,0,0,0,0,0,0,0,0,0]\n",
    "\n",
    "print(len(y_pred))\n",
    "y_pred.count(1), y_pred.count(0)"
   ]
  },
  {
   "cell_type": "code",
   "execution_count": 5,
   "id": "11aaf4ed-8e8b-4333-8097-3fcb1b636586",
   "metadata": {},
   "outputs": [
    {
     "data": {
      "text/plain": [
       "20"
      ]
     },
     "execution_count": 5,
     "metadata": {},
     "output_type": "execute_result"
    }
   ],
   "source": [
    "len(y_pred)"
   ]
  },
  {
   "cell_type": "markdown",
   "id": "93b8d687-ecf2-46d8-a0f4-7bbfb0f1d22d",
   "metadata": {},
   "source": [
    "#### 실제 확인한 여성과 남성(정답)"
   ]
  },
  {
   "cell_type": "code",
   "execution_count": 6,
   "id": "ae2ee956-82eb-4844-921c-c0f20c32c909",
   "metadata": {},
   "outputs": [
    {
     "data": {
      "text/plain": [
       "(10, 10)"
      ]
     },
     "execution_count": 6,
     "metadata": {},
     "output_type": "execute_result"
    }
   ],
   "source": [
    "# 실제 값\n",
    "y_test=[1,1,0,1,0,1,1,1,0,0,1,0,1,1,0,1,0,0,0,0]\n",
    "y_test.count(1), y_test.count(0)"
   ]
  },
  {
   "cell_type": "code",
   "execution_count": 8,
   "id": "33eee69b-f696-48c4-95c5-1ea62dc1c5e4",
   "metadata": {},
   "outputs": [
    {
     "name": "stdout",
     "output_type": "stream",
     "text": [
      "              precision    recall  f1-score   support\n",
      "\n",
      "           0       0.67      0.80      0.73        10\n",
      "           1       0.75      0.60      0.67        10\n",
      "\n",
      "    accuracy                           0.70        20\n",
      "   macro avg       0.71      0.70      0.70        20\n",
      "weighted avg       0.71      0.70      0.70        20\n",
      "\n"
     ]
    }
   ],
   "source": [
    "confusion_matrix(y_test, y_pred)\n",
    "print(classification_report(y_test, y_pred))"
   ]
  },
  {
   "cell_type": "markdown",
   "id": "5a083cfe-ca74-4735-8528-99a734625215",
   "metadata": {},
   "source": [
    "- Precision  = 모델이 옳다고 한 것이 실제로 옳은 비율     TP / ( TP + FP ) \n",
    "- Recall =  실제 정답인 것들 중, 모델이 정답이라고 예측한 것    TP / TP+FN\n",
    "- f1-score = Precision과 Recall의 조화평균  (2 x  Precision x Recall ) /  (Precision + Recall)\n",
    "- support는 이 모델에서 응답한 샘플의 수이다"
   ]
  },
  {
   "cell_type": "markdown",
   "id": "8efb2747-4b66-46ff-82a9-37e4d63365e4",
   "metadata": {},
   "source": [
    "- 0.67 : 0 으로 예측된 것 중, 67%만 실제 0 --> 8/12\n",
    "- 0.80 : 실제 0 인 것 중, 80%가 0 으로 예측됨 --> 8/10"
   ]
  },
  {
   "cell_type": "markdown",
   "id": "acfe276a-2b68-4039-b5a5-8e420143398e",
   "metadata": {},
   "source": [
    "- macro: 단순평균\n",
    "- weighted: 각 클래스에 속하는 표본의 갯수로 가중평균\n",
    "- accuracy: 정확도. 전체 학습데이터의 개수에서 각 클래스에서 자신의 클래스를 정확하게 맞춘 개수의 비율"
   ]
  },
  {
   "cell_type": "markdown",
   "id": "9b6ff865-ab2f-445e-833a-bc4aea4545c8",
   "metadata": {},
   "source": [
    "### **랭킹 (순서를 평가)**\n",
    "---"
   ]
  },
  {
   "cell_type": "code",
   "execution_count": 10,
   "id": "5f202c63-cc5a-4cc5-96f7-0d1b7cb48627",
   "metadata": {},
   "outputs": [
    {
     "data": {
      "text/html": [
       "<div>\n",
       "<style scoped>\n",
       "    .dataframe tbody tr th:only-of-type {\n",
       "        vertical-align: middle;\n",
       "    }\n",
       "\n",
       "    .dataframe tbody tr th {\n",
       "        vertical-align: top;\n",
       "    }\n",
       "\n",
       "    .dataframe thead th {\n",
       "        text-align: right;\n",
       "    }\n",
       "</style>\n",
       "<table border=\"1\" class=\"dataframe\">\n",
       "  <thead>\n",
       "    <tr style=\"text-align: right;\">\n",
       "      <th></th>\n",
       "      <th>score</th>\n",
       "      <th>predict</th>\n",
       "      <th>real</th>\n",
       "      <th>correct</th>\n",
       "    </tr>\n",
       "  </thead>\n",
       "  <tbody>\n",
       "    <tr>\n",
       "      <th>0</th>\n",
       "      <td>99.0</td>\n",
       "      <td>1</td>\n",
       "      <td>1</td>\n",
       "      <td>True</td>\n",
       "    </tr>\n",
       "    <tr>\n",
       "      <th>1</th>\n",
       "      <td>96.9</td>\n",
       "      <td>1</td>\n",
       "      <td>1</td>\n",
       "      <td>True</td>\n",
       "    </tr>\n",
       "    <tr>\n",
       "      <th>2</th>\n",
       "      <td>94.9</td>\n",
       "      <td>1</td>\n",
       "      <td>0</td>\n",
       "      <td>False</td>\n",
       "    </tr>\n",
       "    <tr>\n",
       "      <th>3</th>\n",
       "      <td>92.8</td>\n",
       "      <td>1</td>\n",
       "      <td>1</td>\n",
       "      <td>True</td>\n",
       "    </tr>\n",
       "    <tr>\n",
       "      <th>4</th>\n",
       "      <td>90.8</td>\n",
       "      <td>1</td>\n",
       "      <td>0</td>\n",
       "      <td>False</td>\n",
       "    </tr>\n",
       "    <tr>\n",
       "      <th>5</th>\n",
       "      <td>88.7</td>\n",
       "      <td>1</td>\n",
       "      <td>1</td>\n",
       "      <td>True</td>\n",
       "    </tr>\n",
       "    <tr>\n",
       "      <th>6</th>\n",
       "      <td>86.7</td>\n",
       "      <td>1</td>\n",
       "      <td>1</td>\n",
       "      <td>True</td>\n",
       "    </tr>\n",
       "    <tr>\n",
       "      <th>7</th>\n",
       "      <td>84.6</td>\n",
       "      <td>1</td>\n",
       "      <td>1</td>\n",
       "      <td>True</td>\n",
       "    </tr>\n",
       "    <tr>\n",
       "      <th>8</th>\n",
       "      <td>82.6</td>\n",
       "      <td>0</td>\n",
       "      <td>0</td>\n",
       "      <td>True</td>\n",
       "    </tr>\n",
       "    <tr>\n",
       "      <th>9</th>\n",
       "      <td>80.5</td>\n",
       "      <td>0</td>\n",
       "      <td>0</td>\n",
       "      <td>True</td>\n",
       "    </tr>\n",
       "    <tr>\n",
       "      <th>10</th>\n",
       "      <td>78.5</td>\n",
       "      <td>0</td>\n",
       "      <td>1</td>\n",
       "      <td>False</td>\n",
       "    </tr>\n",
       "    <tr>\n",
       "      <th>11</th>\n",
       "      <td>76.4</td>\n",
       "      <td>0</td>\n",
       "      <td>0</td>\n",
       "      <td>True</td>\n",
       "    </tr>\n",
       "    <tr>\n",
       "      <th>12</th>\n",
       "      <td>74.4</td>\n",
       "      <td>0</td>\n",
       "      <td>1</td>\n",
       "      <td>False</td>\n",
       "    </tr>\n",
       "    <tr>\n",
       "      <th>13</th>\n",
       "      <td>72.3</td>\n",
       "      <td>0</td>\n",
       "      <td>1</td>\n",
       "      <td>False</td>\n",
       "    </tr>\n",
       "    <tr>\n",
       "      <th>14</th>\n",
       "      <td>70.3</td>\n",
       "      <td>0</td>\n",
       "      <td>0</td>\n",
       "      <td>True</td>\n",
       "    </tr>\n",
       "    <tr>\n",
       "      <th>15</th>\n",
       "      <td>68.2</td>\n",
       "      <td>0</td>\n",
       "      <td>1</td>\n",
       "      <td>False</td>\n",
       "    </tr>\n",
       "    <tr>\n",
       "      <th>16</th>\n",
       "      <td>66.2</td>\n",
       "      <td>0</td>\n",
       "      <td>0</td>\n",
       "      <td>True</td>\n",
       "    </tr>\n",
       "    <tr>\n",
       "      <th>17</th>\n",
       "      <td>64.1</td>\n",
       "      <td>0</td>\n",
       "      <td>0</td>\n",
       "      <td>True</td>\n",
       "    </tr>\n",
       "    <tr>\n",
       "      <th>18</th>\n",
       "      <td>62.1</td>\n",
       "      <td>0</td>\n",
       "      <td>0</td>\n",
       "      <td>True</td>\n",
       "    </tr>\n",
       "    <tr>\n",
       "      <th>19</th>\n",
       "      <td>60.0</td>\n",
       "      <td>0</td>\n",
       "      <td>0</td>\n",
       "      <td>True</td>\n",
       "    </tr>\n",
       "  </tbody>\n",
       "</table>\n",
       "</div>"
      ],
      "text/plain": [
       "    score  predict  real  correct\n",
       "0    99.0        1     1     True\n",
       "1    96.9        1     1     True\n",
       "2    94.9        1     0    False\n",
       "3    92.8        1     1     True\n",
       "4    90.8        1     0    False\n",
       "5    88.7        1     1     True\n",
       "6    86.7        1     1     True\n",
       "7    84.6        1     1     True\n",
       "8    82.6        0     0     True\n",
       "9    80.5        0     0     True\n",
       "10   78.5        0     1    False\n",
       "11   76.4        0     0     True\n",
       "12   74.4        0     1    False\n",
       "13   72.3        0     1    False\n",
       "14   70.3        0     0     True\n",
       "15   68.2        0     1    False\n",
       "16   66.2        0     0     True\n",
       "17   64.1        0     0     True\n",
       "18   62.1        0     0     True\n",
       "19   60.0        0     0     True"
      ]
     },
     "execution_count": 10,
     "metadata": {},
     "output_type": "execute_result"
    }
   ],
   "source": [
    "result = pd.DataFrame(list(zip(y_score, y_pred, y_test)), \n",
    "                      columns=['score', 'predict', 'real'])\n",
    "result['correct'] = (result.predict == result.real)\n",
    "result.head(20)"
   ]
  },
  {
   "cell_type": "markdown",
   "id": "b202ee56-2c2f-400e-b1eb-b99236ace9c9",
   "metadata": {},
   "source": [
    "### **ROC로 성능 평가 (맞춘 순서를 평가)**\n",
    "---"
   ]
  },
  {
   "cell_type": "markdown",
   "id": "6f0e6dcc-fc2f-4dcc-b95e-f3284512a6ae",
   "metadata": {},
   "source": [
    "- ranking 순서대로 계속 내려가면서 P 에 대한 threshold를 점점 낮추어가며 그래프를 그린다.\n",
    "- 따라서 ranking 순서를 어떻게 결정하는가가... 전문가의 능력\n",
    "\n",
    "- TPR (True Positive Rate) : 암 환자를 암이라고 진단한 비율\n",
    "    - TP / (TP + FN) ==> 전체 TP 수 / 정답이 Positive 인 수\n",
    "    - 1 인경우, 1로 진단 \n",
    "- FPR (False Positive Rate) : 암이 아닌 사람(정상)을 암이라고 진단한 비율\n",
    "    - FP / (FP + TN), ==> 전체 FP 수 / 정답이 Negative 인 수\n",
    "    - 0인 경우, 1으로 진단 \n",
    "- ref) http://blog.naver.com/PostView.nhn?blogId=sw4r&logNo=221015817276"
   ]
  },
  {
   "cell_type": "markdown",
   "id": "bee73b4a-59f1-4e32-b193-0c680e15c2e5",
   "metadata": {},
   "source": [
    "### **dict()**\n",
    "empty dictionary 생성"
   ]
  },
  {
   "cell_type": "code",
   "execution_count": 12,
   "id": "11f3132a-0a16-4059-93d3-fd1884336df9",
   "metadata": {},
   "outputs": [],
   "source": [
    "fpr = dict()\n",
    "tpr = dict()\n",
    "roc_auc = dict()\n",
    "fpr, tpr, _ = roc_curve(y_test, y_score)\n",
    "roc_auc = auc(fpr, tpr)"
   ]
  },
  {
   "cell_type": "code",
   "execution_count": 13,
   "id": "62cbbe11-2ff5-4229-bce6-eaef75a4b673",
   "metadata": {},
   "outputs": [
    {
     "data": {
      "text/plain": [
       "(array([0. , 0. , 0. , 0.1, 0.1, 0.2, 0.2, 0.4, 0.4, 0.5, 0.5, 0.6, 0.6,\n",
       "        1. ]),\n",
       " array([0. , 0.1, 0.2, 0.2, 0.3, 0.3, 0.6, 0.6, 0.7, 0.7, 0.9, 0.9, 1. ,\n",
       "        1. ]))"
      ]
     },
     "execution_count": 13,
     "metadata": {},
     "output_type": "execute_result"
    }
   ],
   "source": [
    "fpr, tpr"
   ]
  },
  {
   "cell_type": "code",
   "execution_count": 14,
   "id": "8d5cdf58-babb-4c99-93dc-1445e0741710",
   "metadata": {},
   "outputs": [
    {
     "data": {
      "text/plain": [
       "<matplotlib.legend.Legend at 0x1d7b7d8d6a0>"
      ]
     },
     "execution_count": 14,
     "metadata": {},
     "output_type": "execute_result"
    }
   ],
   "source": [
    "plt.figure(figsize=(6,6))\n",
    "plt.plot(fpr, tpr, label='ROC curve (area = %0.2f)' % roc_auc)\n",
    "plt.plot([0, 1], [0, 1], linestyle='--')\n",
    "plt.xlim([0.0, 1.0])\n",
    "plt.ylim([0.0, 1.05])\n",
    "plt.xlabel('False Positive Rate')\n",
    "plt.ylabel('True Positive Rate')\n",
    "plt.title('ROC')\n",
    "plt.legend(loc=\"lower right\")"
   ]
  },
  {
   "cell_type": "code",
   "execution_count": 15,
   "id": "71610520-84d6-423b-b2e9-59c2c381b416",
   "metadata": {},
   "outputs": [
    {
     "data": {
      "image/png": "[encoded data removed]",
      "text/plain": [
       "<Figure size 600x600 with 1 Axes>"
      ]
     },
     "metadata": {},
     "output_type": "display_data"
    }
   ],
   "source": [
    "plt.show()"
   ]
  },
  {
   "cell_type": "markdown",
   "id": "eece1347-a573-4151-ab14-4c19090ad7d6",
   "metadata": {},
   "source": [
    "### 교재 여기까지\n",
    "---"
   ]
  },
  {
   "cell_type": "markdown",
   "id": "26cb1fbd-62e6-44c7-8385-404231deb744",
   "metadata": {},
   "source": [
    "### **3명의 능력 비교**"
   ]
  },
  {
   "cell_type": "code",
   "execution_count": 16,
   "id": "895e80b4-0edd-48a3-bc71-473d3037fcfc",
   "metadata": {},
   "outputs": [],
   "source": [
    "y_real=[[1,0,0,0,0,0,1,1,0,0,1,0,1,1,0,1,0,1,0,0],\n",
    "        [1,1,0,1,1,0,1,1,0,0,1,0,1,1,0,1,0,0,0,0],\n",
    "        [1,1,1,1,1,1,1,1,0,0,1,0,1,1,0,1,0,0,0,0]]\n",
    "\n",
    "plt.figure(figsize=(6,6))    \n",
    "fpr = dict()\n",
    "tpr = dict()\n",
    "plt.plot([0, 1], [0, 1], linestyle='--')\n",
    "\n",
    "my_color = ['r', 'b', 'k']\n",
    "for i in range(3):\n",
    "    fpr, tpr, _ = roc_curve(y_real[i], y_score)\n",
    "    roc_auc = auc(fpr, tpr)\n",
    "    plt.plot(fpr, tpr, c=my_color[i])"
   ]
  },
  {
   "cell_type": "code",
   "execution_count": 17,
   "id": "7774c9c2-d771-42a6-ad56-e6150b760edb",
   "metadata": {},
   "outputs": [
    {
     "data": {
      "image/png": "[encoded data removed]",
      "text/plain": [
       "<Figure size 600x600 with 1 Axes>"
      ]
     },
     "metadata": {},
     "output_type": "display_data"
    }
   ],
   "source": [
    "plt.show()"
   ]
  },
  {
   "cell_type": "code",
   "execution_count": null,
   "id": "2378a31c-5c22-43dd-b03f-a8772e1ec0f0",
   "metadata": {},
   "outputs": [],
   "source": []
  }
 ],
 "metadata": {
  "kernelspec": {
   "display_name": "Python [conda env:base] *",
   "language": "python",
   "name": "conda-base-py"
  },
  "language_info": {
   "codemirror_mode": {
    "name": "ipython",
    "version": 3
   },
   "file_extension": ".py",
   "mimetype": "text/x-python",
   "name": "python",
   "nbconvert_exporter": "python",
   "pygments_lexer": "ipython3",
   "version": "3.13.5"
  }
 },
 "nbformat": 4,
 "nbformat_minor": 5
}
