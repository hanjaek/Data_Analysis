{
 "cells": [
  {
   "cell_type": "code",
   "execution_count": 1,
   "id": "e70aed9e-e883-4279-bc7b-a1dcc010cd3b",
   "metadata": {},
   "outputs": [],
   "source": [
    "from numpy import *\n",
    "from pandas import *\n",
    "\n",
    "import matplotlib.pyplot as plt\n",
    "import numpy as np\n",
    "import pandas as pd"
   ]
  },
  {
   "cell_type": "code",
   "execution_count": 2,
   "id": "67322a28-5489-421b-81b6-373b874473a5",
   "metadata": {},
   "outputs": [],
   "source": [
    "dic1={'서울':800, '부산':2000, '대구':500}\n",
    "dic2={'서울':[800], '부산':[2000], '대구':[500]}\n",
    "#dic1, dic2"
   ]
  },
  {
   "cell_type": "code",
   "execution_count": 3,
   "id": "c9422003-6794-407e-b3c6-5a572cea0de9",
   "metadata": {},
   "outputs": [
    {
     "data": {
      "text/plain": [
       "서울     800\n",
       "부산    2000\n",
       "대구     500\n",
       "dtype: int64"
      ]
     },
     "execution_count": 3,
     "metadata": {},
     "output_type": "execute_result"
    }
   ],
   "source": [
    "pd1=pd.Series(dic1);pd1  # 1차원"
   ]
  },
  {
   "cell_type": "code",
   "execution_count": 4,
   "id": "36d42920-3124-4d66-b5f9-747111aeb01f",
   "metadata": {},
   "outputs": [
    {
     "data": {
      "text/plain": [
       "서울     [800]\n",
       "부산    [2000]\n",
       "대구     [500]\n",
       "dtype: object"
      ]
     },
     "execution_count": 4,
     "metadata": {},
     "output_type": "execute_result"
    }
   ],
   "source": [
    "pd2=pd.Series(dic2);pd2 # 1차원"
   ]
  },
  {
   "cell_type": "code",
   "execution_count": 5,
   "id": "004747b1-77ab-4950-9dea-4888414fab5d",
   "metadata": {},
   "outputs": [],
   "source": [
    "#pd3=pd.DataFrame(dic1);pd3\n",
    "## 2차원 데이터프레임은 딕셔너리의 value값이 반드시 리스트여야 함"
   ]
  },
  {
   "cell_type": "code",
   "execution_count": 6,
   "id": "4cc4f2e3-5aa3-47f3-85aa-f32dc7ce565b",
   "metadata": {},
   "outputs": [
    {
     "data": {
      "text/html": [
       "<div>\n",
       "<style scoped>\n",
       "    .dataframe tbody tr th:only-of-type {\n",
       "        vertical-align: middle;\n",
       "    }\n",
       "\n",
       "    .dataframe tbody tr th {\n",
       "        vertical-align: top;\n",
       "    }\n",
       "\n",
       "    .dataframe thead th {\n",
       "        text-align: right;\n",
       "    }\n",
       "</style>\n",
       "<table border=\"1\" class=\"dataframe\">\n",
       "  <thead>\n",
       "    <tr style=\"text-align: right;\">\n",
       "      <th></th>\n",
       "      <th>서울</th>\n",
       "      <th>부산</th>\n",
       "      <th>대구</th>\n",
       "    </tr>\n",
       "  </thead>\n",
       "  <tbody>\n",
       "    <tr>\n",
       "      <th>0</th>\n",
       "      <td>800</td>\n",
       "      <td>2000</td>\n",
       "      <td>500</td>\n",
       "    </tr>\n",
       "  </tbody>\n",
       "</table>\n",
       "</div>"
      ],
      "text/plain": [
       "    서울    부산   대구\n",
       "0  800  2000  500"
      ]
     },
     "execution_count": 6,
     "metadata": {},
     "output_type": "execute_result"
    }
   ],
   "source": [
    "pd4=pd.DataFrame(dic2);pd4\n",
    "# 딕셔너리의 키값이 열의 제목이 됨. \n",
    "# 딕셔너리의 value값이 열의 값이 됨"
   ]
  },
  {
   "cell_type": "code",
   "execution_count": 7,
   "id": "5fe98bac-5260-480d-9dbd-543008657a98",
   "metadata": {},
   "outputs": [
    {
     "data": {
      "text/html": [
       "<div>\n",
       "<style scoped>\n",
       "    .dataframe tbody tr th:only-of-type {\n",
       "        vertical-align: middle;\n",
       "    }\n",
       "\n",
       "    .dataframe tbody tr th {\n",
       "        vertical-align: top;\n",
       "    }\n",
       "\n",
       "    .dataframe thead th {\n",
       "        text-align: right;\n",
       "    }\n",
       "</style>\n",
       "<table border=\"1\" class=\"dataframe\">\n",
       "  <thead>\n",
       "    <tr style=\"text-align: right;\">\n",
       "      <th></th>\n",
       "      <th>서울</th>\n",
       "      <th>부산</th>\n",
       "      <th>대구</th>\n",
       "    </tr>\n",
       "  </thead>\n",
       "  <tbody>\n",
       "    <tr>\n",
       "      <th>0</th>\n",
       "      <td>800</td>\n",
       "      <td>2000</td>\n",
       "      <td>500</td>\n",
       "    </tr>\n",
       "    <tr>\n",
       "      <th>1</th>\n",
       "      <td>200</td>\n",
       "      <td>400</td>\n",
       "      <td>4</td>\n",
       "    </tr>\n",
       "    <tr>\n",
       "      <th>2</th>\n",
       "      <td>500</td>\n",
       "      <td>300</td>\n",
       "      <td>0</td>\n",
       "    </tr>\n",
       "  </tbody>\n",
       "</table>\n",
       "</div>"
      ],
      "text/plain": [
       "    서울    부산   대구\n",
       "0  800  2000  500\n",
       "1  200   400    4\n",
       "2  500   300    0"
      ]
     },
     "execution_count": 7,
     "metadata": {},
     "output_type": "execute_result"
    }
   ],
   "source": [
    "dic3={'서울':[800, 200, 500], '부산':[2000, 400, 300], '대구':[500, 4,0]}\n",
    "pd5=pd.DataFrame(dic3);pd5"
   ]
  },
  {
   "cell_type": "code",
   "execution_count": 8,
   "id": "8e5045fc-5d77-4bad-9604-55e8e87b81a6",
   "metadata": {},
   "outputs": [
    {
     "data": {
      "text/html": [
       "<div>\n",
       "<style scoped>\n",
       "    .dataframe tbody tr th:only-of-type {\n",
       "        vertical-align: middle;\n",
       "    }\n",
       "\n",
       "    .dataframe tbody tr th {\n",
       "        vertical-align: top;\n",
       "    }\n",
       "\n",
       "    .dataframe thead th {\n",
       "        text-align: right;\n",
       "    }\n",
       "</style>\n",
       "<table border=\"1\" class=\"dataframe\">\n",
       "  <thead>\n",
       "    <tr style=\"text-align: right;\">\n",
       "      <th></th>\n",
       "      <th>서울</th>\n",
       "      <th>부산</th>\n",
       "      <th>대구</th>\n",
       "    </tr>\n",
       "  </thead>\n",
       "  <tbody>\n",
       "    <tr>\n",
       "      <th>car</th>\n",
       "      <td>800</td>\n",
       "      <td>2000</td>\n",
       "      <td>500</td>\n",
       "    </tr>\n",
       "    <tr>\n",
       "      <th>7.2</th>\n",
       "      <td>200</td>\n",
       "      <td>400</td>\n",
       "      <td>4</td>\n",
       "    </tr>\n",
       "    <tr>\n",
       "      <th>동아</th>\n",
       "      <td>500</td>\n",
       "      <td>300</td>\n",
       "      <td>0</td>\n",
       "    </tr>\n",
       "  </tbody>\n",
       "</table>\n",
       "</div>"
      ],
      "text/plain": [
       "      서울    부산   대구\n",
       "car  800  2000  500\n",
       "7.2  200   400    4\n",
       "동아   500   300    0"
      ]
     },
     "execution_count": 8,
     "metadata": {},
     "output_type": "execute_result"
    }
   ],
   "source": [
    "pd6=pd.DataFrame(dic3, index=['car', 7.2, '동아'] );pd6"
   ]
  },
  {
   "cell_type": "code",
   "execution_count": 9,
   "id": "551f98f5-caa9-4833-879a-1f4dd5c25406",
   "metadata": {},
   "outputs": [],
   "source": [
    "dic4={'city':   ['서울',  '부산',  '대전', '대구',  '광주'],\n",
    "        'year': [2017,    2017,   2020,    2022,   2025],\n",
    "        'temp': [18,       20,      19,    21,      16]  }"
   ]
  },
  {
   "cell_type": "code",
   "execution_count": 10,
   "id": "50382a70-32d5-468c-abd7-d0ca3e8fd35c",
   "metadata": {},
   "outputs": [
    {
     "data": {
      "text/plain": [
       "city              [서울, 부산, 대전, 대구, 광주]\n",
       "year    [2017, 2017, 2020, 2022, 2025]\n",
       "temp              [18, 20, 19, 21, 16]\n",
       "dtype: object"
      ]
     },
     "execution_count": 10,
     "metadata": {},
     "output_type": "execute_result"
    }
   ],
   "source": [
    "pd7=pd.Series(dic4);pd7"
   ]
  },
  {
   "cell_type": "code",
   "execution_count": 11,
   "id": "586d73ec-e17c-4936-81e2-f146357a8c56",
   "metadata": {},
   "outputs": [
    {
     "data": {
      "text/html": [
       "<div>\n",
       "<style scoped>\n",
       "    .dataframe tbody tr th:only-of-type {\n",
       "        vertical-align: middle;\n",
       "    }\n",
       "\n",
       "    .dataframe tbody tr th {\n",
       "        vertical-align: top;\n",
       "    }\n",
       "\n",
       "    .dataframe thead th {\n",
       "        text-align: right;\n",
       "    }\n",
       "</style>\n",
       "<table border=\"1\" class=\"dataframe\">\n",
       "  <thead>\n",
       "    <tr style=\"text-align: right;\">\n",
       "      <th></th>\n",
       "      <th>city</th>\n",
       "      <th>year</th>\n",
       "      <th>temp</th>\n",
       "    </tr>\n",
       "  </thead>\n",
       "  <tbody>\n",
       "    <tr>\n",
       "      <th>0</th>\n",
       "      <td>서울</td>\n",
       "      <td>2017</td>\n",
       "      <td>18</td>\n",
       "    </tr>\n",
       "    <tr>\n",
       "      <th>1</th>\n",
       "      <td>부산</td>\n",
       "      <td>2017</td>\n",
       "      <td>20</td>\n",
       "    </tr>\n",
       "    <tr>\n",
       "      <th>2</th>\n",
       "      <td>대전</td>\n",
       "      <td>2020</td>\n",
       "      <td>19</td>\n",
       "    </tr>\n",
       "    <tr>\n",
       "      <th>3</th>\n",
       "      <td>대구</td>\n",
       "      <td>2022</td>\n",
       "      <td>21</td>\n",
       "    </tr>\n",
       "    <tr>\n",
       "      <th>4</th>\n",
       "      <td>광주</td>\n",
       "      <td>2025</td>\n",
       "      <td>16</td>\n",
       "    </tr>\n",
       "  </tbody>\n",
       "</table>\n",
       "</div>"
      ],
      "text/plain": [
       "  city  year  temp\n",
       "0   서울  2017    18\n",
       "1   부산  2017    20\n",
       "2   대전  2020    19\n",
       "3   대구  2022    21\n",
       "4   광주  2025    16"
      ]
     },
     "execution_count": 11,
     "metadata": {},
     "output_type": "execute_result"
    }
   ],
   "source": [
    "pd8=pd.DataFrame(dic4);pd8\n",
    "# 딕셔너리의 키이름 -> 데이터프레임의 열제목\n",
    "# 딕셔너리의 value값 -> 데이터프레임의 행에 열값에 해당하는 값\n",
    "# 인덱스는 자동으로 0부터 1씩 증가"
   ]
  },
  {
   "cell_type": "code",
   "execution_count": 12,
   "id": "b80e02cd-2fa6-403e-8342-30c7a56eb55f",
   "metadata": {},
   "outputs": [
    {
     "data": {
      "text/plain": [
       "(pandas.core.series.Series, pandas.core.frame.DataFrame)"
      ]
     },
     "execution_count": 12,
     "metadata": {},
     "output_type": "execute_result"
    }
   ],
   "source": [
    "type(pd7) , type(pd8)"
   ]
  },
  {
   "cell_type": "code",
   "execution_count": 13,
   "id": "94dcd7af-a4e3-4f12-b066-2abdc086868b",
   "metadata": {},
   "outputs": [
    {
     "data": {
      "text/html": [
       "<div>\n",
       "<style scoped>\n",
       "    .dataframe tbody tr th:only-of-type {\n",
       "        vertical-align: middle;\n",
       "    }\n",
       "\n",
       "    .dataframe tbody tr th {\n",
       "        vertical-align: top;\n",
       "    }\n",
       "\n",
       "    .dataframe thead th {\n",
       "        text-align: right;\n",
       "    }\n",
       "</style>\n",
       "<table border=\"1\" class=\"dataframe\">\n",
       "  <thead>\n",
       "    <tr style=\"text-align: right;\">\n",
       "      <th></th>\n",
       "      <th>temp</th>\n",
       "      <th>city</th>\n",
       "      <th>year</th>\n",
       "    </tr>\n",
       "  </thead>\n",
       "  <tbody>\n",
       "    <tr>\n",
       "      <th>0</th>\n",
       "      <td>18</td>\n",
       "      <td>서울</td>\n",
       "      <td>2017</td>\n",
       "    </tr>\n",
       "    <tr>\n",
       "      <th>1</th>\n",
       "      <td>20</td>\n",
       "      <td>부산</td>\n",
       "      <td>2017</td>\n",
       "    </tr>\n",
       "    <tr>\n",
       "      <th>2</th>\n",
       "      <td>19</td>\n",
       "      <td>대전</td>\n",
       "      <td>2020</td>\n",
       "    </tr>\n",
       "    <tr>\n",
       "      <th>3</th>\n",
       "      <td>21</td>\n",
       "      <td>대구</td>\n",
       "      <td>2022</td>\n",
       "    </tr>\n",
       "    <tr>\n",
       "      <th>4</th>\n",
       "      <td>16</td>\n",
       "      <td>광주</td>\n",
       "      <td>2025</td>\n",
       "    </tr>\n",
       "  </tbody>\n",
       "</table>\n",
       "</div>"
      ],
      "text/plain": [
       "   temp city  year\n",
       "0    18   서울  2017\n",
       "1    20   부산  2017\n",
       "2    19   대전  2020\n",
       "3    21   대구  2022\n",
       "4    16   광주  2025"
      ]
     },
     "execution_count": 13,
     "metadata": {},
     "output_type": "execute_result"
    }
   ],
   "source": [
    "pd8[ ['temp', 'city','year' ] ] \n",
    "## 실제 데이터의 열 위치가 변경된것이 아니고, 보여만 줌"
   ]
  },
  {
   "cell_type": "code",
   "execution_count": 14,
   "id": "ecf207e8-2ff3-4c17-b644-f386f2040d87",
   "metadata": {},
   "outputs": [
    {
     "data": {
      "text/html": [
       "<div>\n",
       "<style scoped>\n",
       "    .dataframe tbody tr th:only-of-type {\n",
       "        vertical-align: middle;\n",
       "    }\n",
       "\n",
       "    .dataframe tbody tr th {\n",
       "        vertical-align: top;\n",
       "    }\n",
       "\n",
       "    .dataframe thead th {\n",
       "        text-align: right;\n",
       "    }\n",
       "</style>\n",
       "<table border=\"1\" class=\"dataframe\">\n",
       "  <thead>\n",
       "    <tr style=\"text-align: right;\">\n",
       "      <th></th>\n",
       "      <th>city</th>\n",
       "      <th>year</th>\n",
       "      <th>temp</th>\n",
       "    </tr>\n",
       "  </thead>\n",
       "  <tbody>\n",
       "    <tr>\n",
       "      <th>0</th>\n",
       "      <td>서울</td>\n",
       "      <td>2017</td>\n",
       "      <td>18</td>\n",
       "    </tr>\n",
       "    <tr>\n",
       "      <th>1</th>\n",
       "      <td>부산</td>\n",
       "      <td>2017</td>\n",
       "      <td>20</td>\n",
       "    </tr>\n",
       "    <tr>\n",
       "      <th>2</th>\n",
       "      <td>대전</td>\n",
       "      <td>2020</td>\n",
       "      <td>19</td>\n",
       "    </tr>\n",
       "    <tr>\n",
       "      <th>3</th>\n",
       "      <td>대구</td>\n",
       "      <td>2022</td>\n",
       "      <td>21</td>\n",
       "    </tr>\n",
       "    <tr>\n",
       "      <th>4</th>\n",
       "      <td>광주</td>\n",
       "      <td>2025</td>\n",
       "      <td>16</td>\n",
       "    </tr>\n",
       "  </tbody>\n",
       "</table>\n",
       "</div>"
      ],
      "text/plain": [
       "  city  year  temp\n",
       "0   서울  2017    18\n",
       "1   부산  2017    20\n",
       "2   대전  2020    19\n",
       "3   대구  2022    21\n",
       "4   광주  2025    16"
      ]
     },
     "execution_count": 14,
     "metadata": {},
     "output_type": "execute_result"
    }
   ],
   "source": [
    "pd8"
   ]
  },
  {
   "cell_type": "code",
   "execution_count": 15,
   "id": "0ba2b4e1-4f97-405b-a8fa-7fa8a942642c",
   "metadata": {},
   "outputs": [
    {
     "data": {
      "text/html": [
       "<div>\n",
       "<style scoped>\n",
       "    .dataframe tbody tr th:only-of-type {\n",
       "        vertical-align: middle;\n",
       "    }\n",
       "\n",
       "    .dataframe tbody tr th {\n",
       "        vertical-align: top;\n",
       "    }\n",
       "\n",
       "    .dataframe thead th {\n",
       "        text-align: right;\n",
       "    }\n",
       "</style>\n",
       "<table border=\"1\" class=\"dataframe\">\n",
       "  <thead>\n",
       "    <tr style=\"text-align: right;\">\n",
       "      <th></th>\n",
       "      <th>temp</th>\n",
       "      <th>city</th>\n",
       "      <th>year</th>\n",
       "    </tr>\n",
       "  </thead>\n",
       "  <tbody>\n",
       "    <tr>\n",
       "      <th>0</th>\n",
       "      <td>18</td>\n",
       "      <td>서울</td>\n",
       "      <td>2017</td>\n",
       "    </tr>\n",
       "    <tr>\n",
       "      <th>1</th>\n",
       "      <td>20</td>\n",
       "      <td>부산</td>\n",
       "      <td>2017</td>\n",
       "    </tr>\n",
       "    <tr>\n",
       "      <th>2</th>\n",
       "      <td>19</td>\n",
       "      <td>대전</td>\n",
       "      <td>2020</td>\n",
       "    </tr>\n",
       "    <tr>\n",
       "      <th>3</th>\n",
       "      <td>21</td>\n",
       "      <td>대구</td>\n",
       "      <td>2022</td>\n",
       "    </tr>\n",
       "    <tr>\n",
       "      <th>4</th>\n",
       "      <td>16</td>\n",
       "      <td>광주</td>\n",
       "      <td>2025</td>\n",
       "    </tr>\n",
       "  </tbody>\n",
       "</table>\n",
       "</div>"
      ],
      "text/plain": [
       "   temp city  year\n",
       "0    18   서울  2017\n",
       "1    20   부산  2017\n",
       "2    19   대전  2020\n",
       "3    21   대구  2022\n",
       "4    16   광주  2025"
      ]
     },
     "execution_count": 15,
     "metadata": {},
     "output_type": "execute_result"
    }
   ],
   "source": [
    "pd9 = pd8[ ['temp', 'city','year' ] ] \n",
    "# 열들의 위치를 변경한 값을 저장하고 싶다면 변수=~~~\n",
    "pd9"
   ]
  },
  {
   "cell_type": "code",
   "execution_count": 16,
   "id": "faa9bf37-bdb4-4d3e-9cc7-59be215f562f",
   "metadata": {},
   "outputs": [
    {
     "data": {
      "text/plain": [
       "0    서울\n",
       "1    부산\n",
       "2    대전\n",
       "3    대구\n",
       "4    광주\n",
       "Name: city, dtype: object"
      ]
     },
     "execution_count": 16,
     "metadata": {},
     "output_type": "execute_result"
    }
   ],
   "source": [
    "pd8['city']  # 1개의 열만 출력은 [] 1번 사용"
   ]
  },
  {
   "cell_type": "code",
   "execution_count": 17,
   "id": "33bc383e-bb14-4cf5-8a3a-0970ee60ac7a",
   "metadata": {},
   "outputs": [
    {
     "data": {
      "text/html": [
       "<div>\n",
       "<style scoped>\n",
       "    .dataframe tbody tr th:only-of-type {\n",
       "        vertical-align: middle;\n",
       "    }\n",
       "\n",
       "    .dataframe tbody tr th {\n",
       "        vertical-align: top;\n",
       "    }\n",
       "\n",
       "    .dataframe thead th {\n",
       "        text-align: right;\n",
       "    }\n",
       "</style>\n",
       "<table border=\"1\" class=\"dataframe\">\n",
       "  <thead>\n",
       "    <tr style=\"text-align: right;\">\n",
       "      <th></th>\n",
       "      <th>city</th>\n",
       "      <th>year</th>\n",
       "    </tr>\n",
       "  </thead>\n",
       "  <tbody>\n",
       "    <tr>\n",
       "      <th>0</th>\n",
       "      <td>서울</td>\n",
       "      <td>2017</td>\n",
       "    </tr>\n",
       "    <tr>\n",
       "      <th>1</th>\n",
       "      <td>부산</td>\n",
       "      <td>2017</td>\n",
       "    </tr>\n",
       "    <tr>\n",
       "      <th>2</th>\n",
       "      <td>대전</td>\n",
       "      <td>2020</td>\n",
       "    </tr>\n",
       "    <tr>\n",
       "      <th>3</th>\n",
       "      <td>대구</td>\n",
       "      <td>2022</td>\n",
       "    </tr>\n",
       "    <tr>\n",
       "      <th>4</th>\n",
       "      <td>광주</td>\n",
       "      <td>2025</td>\n",
       "    </tr>\n",
       "  </tbody>\n",
       "</table>\n",
       "</div>"
      ],
      "text/plain": [
       "  city  year\n",
       "0   서울  2017\n",
       "1   부산  2017\n",
       "2   대전  2020\n",
       "3   대구  2022\n",
       "4   광주  2025"
      ]
     },
     "execution_count": 17,
     "metadata": {},
     "output_type": "execute_result"
    }
   ],
   "source": [
    "pd8[ [ 'city', 'year'] ] # 2개 이상의 열 출력은 [] 2번 사용"
   ]
  },
  {
   "cell_type": "code",
   "execution_count": 18,
   "id": "332d6612-0071-4b7a-b0c0-f6b7641a5ef8",
   "metadata": {},
   "outputs": [
    {
     "data": {
      "text/html": [
       "<div>\n",
       "<style scoped>\n",
       "    .dataframe tbody tr th:only-of-type {\n",
       "        vertical-align: middle;\n",
       "    }\n",
       "\n",
       "    .dataframe tbody tr th {\n",
       "        vertical-align: top;\n",
       "    }\n",
       "\n",
       "    .dataframe thead th {\n",
       "        text-align: right;\n",
       "    }\n",
       "</style>\n",
       "<table border=\"1\" class=\"dataframe\">\n",
       "  <thead>\n",
       "    <tr style=\"text-align: right;\">\n",
       "      <th></th>\n",
       "      <th>city</th>\n",
       "      <th>year</th>\n",
       "      <th>temp</th>\n",
       "    </tr>\n",
       "  </thead>\n",
       "  <tbody>\n",
       "    <tr>\n",
       "      <th>0</th>\n",
       "      <td>서울</td>\n",
       "      <td>2017</td>\n",
       "      <td>18</td>\n",
       "    </tr>\n",
       "    <tr>\n",
       "      <th>1</th>\n",
       "      <td>부산</td>\n",
       "      <td>2017</td>\n",
       "      <td>20</td>\n",
       "    </tr>\n",
       "    <tr>\n",
       "      <th>2</th>\n",
       "      <td>대전</td>\n",
       "      <td>2020</td>\n",
       "      <td>19</td>\n",
       "    </tr>\n",
       "    <tr>\n",
       "      <th>3</th>\n",
       "      <td>대구</td>\n",
       "      <td>2022</td>\n",
       "      <td>21</td>\n",
       "    </tr>\n",
       "    <tr>\n",
       "      <th>4</th>\n",
       "      <td>광주</td>\n",
       "      <td>2025</td>\n",
       "      <td>16</td>\n",
       "    </tr>\n",
       "  </tbody>\n",
       "</table>\n",
       "</div>"
      ],
      "text/plain": [
       "  city  year  temp\n",
       "0   서울  2017    18\n",
       "1   부산  2017    20\n",
       "2   대전  2020    19\n",
       "3   대구  2022    21\n",
       "4   광주  2025    16"
      ]
     },
     "execution_count": 18,
     "metadata": {},
     "output_type": "execute_result"
    }
   ],
   "source": [
    "pd8"
   ]
  },
  {
   "cell_type": "code",
   "execution_count": 19,
   "id": "3d3732b1-3f65-4bfa-8864-260e38adca44",
   "metadata": {},
   "outputs": [
    {
     "data": {
      "text/html": [
       "<div>\n",
       "<style scoped>\n",
       "    .dataframe tbody tr th:only-of-type {\n",
       "        vertical-align: middle;\n",
       "    }\n",
       "\n",
       "    .dataframe tbody tr th {\n",
       "        vertical-align: top;\n",
       "    }\n",
       "\n",
       "    .dataframe thead th {\n",
       "        text-align: right;\n",
       "    }\n",
       "</style>\n",
       "<table border=\"1\" class=\"dataframe\">\n",
       "  <thead>\n",
       "    <tr style=\"text-align: right;\">\n",
       "      <th></th>\n",
       "      <th>city</th>\n",
       "      <th>year</th>\n",
       "      <th>temp</th>\n",
       "    </tr>\n",
       "  </thead>\n",
       "  <tbody>\n",
       "    <tr>\n",
       "      <th>a</th>\n",
       "      <td>서울</td>\n",
       "      <td>2017</td>\n",
       "      <td>18</td>\n",
       "    </tr>\n",
       "    <tr>\n",
       "      <th>b</th>\n",
       "      <td>부산</td>\n",
       "      <td>2017</td>\n",
       "      <td>20</td>\n",
       "    </tr>\n",
       "    <tr>\n",
       "      <th>c</th>\n",
       "      <td>대전</td>\n",
       "      <td>2020</td>\n",
       "      <td>19</td>\n",
       "    </tr>\n",
       "    <tr>\n",
       "      <th>d</th>\n",
       "      <td>대구</td>\n",
       "      <td>2022</td>\n",
       "      <td>21</td>\n",
       "    </tr>\n",
       "    <tr>\n",
       "      <th>e</th>\n",
       "      <td>광주</td>\n",
       "      <td>2025</td>\n",
       "      <td>16</td>\n",
       "    </tr>\n",
       "  </tbody>\n",
       "</table>\n",
       "</div>"
      ],
      "text/plain": [
       "  city  year  temp\n",
       "a   서울  2017    18\n",
       "b   부산  2017    20\n",
       "c   대전  2020    19\n",
       "d   대구  2022    21\n",
       "e   광주  2025    16"
      ]
     },
     "execution_count": 19,
     "metadata": {},
     "output_type": "execute_result"
    }
   ],
   "source": [
    "pd8.index=['a','b','c','d','e']\n",
    "pd8"
   ]
  },
  {
   "cell_type": "code",
   "execution_count": 20,
   "id": "74aa68ea-05a8-40b4-bae7-f5e430a2e241",
   "metadata": {},
   "outputs": [
    {
     "data": {
      "text/html": [
       "<div>\n",
       "<style scoped>\n",
       "    .dataframe tbody tr th:only-of-type {\n",
       "        vertical-align: middle;\n",
       "    }\n",
       "\n",
       "    .dataframe tbody tr th {\n",
       "        vertical-align: top;\n",
       "    }\n",
       "\n",
       "    .dataframe thead th {\n",
       "        text-align: right;\n",
       "    }\n",
       "</style>\n",
       "<table border=\"1\" class=\"dataframe\">\n",
       "  <thead>\n",
       "    <tr style=\"text-align: right;\">\n",
       "      <th></th>\n",
       "      <th>도시</th>\n",
       "      <th>연도</th>\n",
       "      <th>날씨</th>\n",
       "    </tr>\n",
       "  </thead>\n",
       "  <tbody>\n",
       "    <tr>\n",
       "      <th>a</th>\n",
       "      <td>서울</td>\n",
       "      <td>2017</td>\n",
       "      <td>18</td>\n",
       "    </tr>\n",
       "    <tr>\n",
       "      <th>b</th>\n",
       "      <td>부산</td>\n",
       "      <td>2017</td>\n",
       "      <td>20</td>\n",
       "    </tr>\n",
       "    <tr>\n",
       "      <th>c</th>\n",
       "      <td>대전</td>\n",
       "      <td>2020</td>\n",
       "      <td>19</td>\n",
       "    </tr>\n",
       "    <tr>\n",
       "      <th>d</th>\n",
       "      <td>대구</td>\n",
       "      <td>2022</td>\n",
       "      <td>21</td>\n",
       "    </tr>\n",
       "    <tr>\n",
       "      <th>e</th>\n",
       "      <td>광주</td>\n",
       "      <td>2025</td>\n",
       "      <td>16</td>\n",
       "    </tr>\n",
       "  </tbody>\n",
       "</table>\n",
       "</div>"
      ],
      "text/plain": [
       "   도시    연도  날씨\n",
       "a  서울  2017  18\n",
       "b  부산  2017  20\n",
       "c  대전  2020  19\n",
       "d  대구  2022  21\n",
       "e  광주  2025  16"
      ]
     },
     "execution_count": 20,
     "metadata": {},
     "output_type": "execute_result"
    }
   ],
   "source": [
    "pd8.columns=['도시','연도','날씨'];pd8"
   ]
  },
  {
   "cell_type": "code",
   "execution_count": 21,
   "id": "38c66a77-e018-4cf0-b834-ac19374ee2f4",
   "metadata": {},
   "outputs": [
    {
     "data": {
      "text/plain": [
       "(a    서울\n",
       " b    부산\n",
       " c    대전\n",
       " d    대구\n",
       " e    광주\n",
       " Name: 도시, dtype: object,\n",
       " a    서울\n",
       " b    부산\n",
       " c    대전\n",
       " d    대구\n",
       " e    광주\n",
       " Name: 도시, dtype: object)"
      ]
     },
     "execution_count": 21,
     "metadata": {},
     "output_type": "execute_result"
    }
   ],
   "source": [
    "#pd8['city']   이미 city가 도시로 변경이 됨\n",
    "pd8['도시'], pd8.도시"
   ]
  },
  {
   "cell_type": "code",
   "execution_count": 22,
   "id": "ad3052f5-b0e5-472e-a6d8-87d15985f4b6",
   "metadata": {},
   "outputs": [
    {
     "data": {
      "text/plain": [
       "도시      부산\n",
       "연도    2017\n",
       "날씨      20\n",
       "Name: b, dtype: object"
      ]
     },
     "execution_count": 22,
     "metadata": {},
     "output_type": "execute_result"
    }
   ],
   "source": [
    "pd8.loc['b']  ## 인덱스값으로 접근"
   ]
  },
  {
   "cell_type": "code",
   "execution_count": 23,
   "id": "df26f297-a6af-477c-9662-75d6f41be53c",
   "metadata": {},
   "outputs": [
    {
     "data": {
      "text/plain": [
       "pandas.core.series.Series"
      ]
     },
     "execution_count": 23,
     "metadata": {},
     "output_type": "execute_result"
    }
   ],
   "source": [
    "b=pd8.loc['b'] \n",
    "type(b)"
   ]
  },
  {
   "cell_type": "code",
   "execution_count": 24,
   "id": "de51262d-f28e-4523-a305-c0f6d5dc6255",
   "metadata": {},
   "outputs": [
    {
     "data": {
      "text/plain": [
       "pandas.core.series.Series"
      ]
     },
     "execution_count": 24,
     "metadata": {},
     "output_type": "execute_result"
    }
   ],
   "source": [
    "e=pd8.도시\n",
    "type(e)"
   ]
  },
  {
   "cell_type": "code",
   "execution_count": 25,
   "id": "eec802a8-2e1e-4d64-99f0-b51081542436",
   "metadata": {},
   "outputs": [
    {
     "data": {
      "text/plain": [
       "pandas.core.frame.DataFrame"
      ]
     },
     "execution_count": 25,
     "metadata": {},
     "output_type": "execute_result"
    }
   ],
   "source": [
    "f=pd8[ ['도시','연도']]\n",
    "type(f)"
   ]
  },
  {
   "cell_type": "code",
   "execution_count": 26,
   "id": "53a5ecce-eefb-432d-8617-6bf0c98565b1",
   "metadata": {},
   "outputs": [
    {
     "data": {
      "text/html": [
       "<div>\n",
       "<style scoped>\n",
       "    .dataframe tbody tr th:only-of-type {\n",
       "        vertical-align: middle;\n",
       "    }\n",
       "\n",
       "    .dataframe tbody tr th {\n",
       "        vertical-align: top;\n",
       "    }\n",
       "\n",
       "    .dataframe thead th {\n",
       "        text-align: right;\n",
       "    }\n",
       "</style>\n",
       "<table border=\"1\" class=\"dataframe\">\n",
       "  <thead>\n",
       "    <tr style=\"text-align: right;\">\n",
       "      <th></th>\n",
       "      <th>도시</th>\n",
       "      <th>연도</th>\n",
       "      <th>날씨</th>\n",
       "    </tr>\n",
       "  </thead>\n",
       "  <tbody>\n",
       "    <tr>\n",
       "      <th>b</th>\n",
       "      <td>부산</td>\n",
       "      <td>2017</td>\n",
       "      <td>20</td>\n",
       "    </tr>\n",
       "    <tr>\n",
       "      <th>c</th>\n",
       "      <td>대전</td>\n",
       "      <td>2020</td>\n",
       "      <td>19</td>\n",
       "    </tr>\n",
       "    <tr>\n",
       "      <th>d</th>\n",
       "      <td>대구</td>\n",
       "      <td>2022</td>\n",
       "      <td>21</td>\n",
       "    </tr>\n",
       "    <tr>\n",
       "      <th>e</th>\n",
       "      <td>광주</td>\n",
       "      <td>2025</td>\n",
       "      <td>16</td>\n",
       "    </tr>\n",
       "  </tbody>\n",
       "</table>\n",
       "</div>"
      ],
      "text/plain": [
       "   도시    연도  날씨\n",
       "b  부산  2017  20\n",
       "c  대전  2020  19\n",
       "d  대구  2022  21\n",
       "e  광주  2025  16"
      ]
     },
     "execution_count": 26,
     "metadata": {},
     "output_type": "execute_result"
    }
   ],
   "source": [
    "pd8.loc['b' :] "
   ]
  },
  {
   "cell_type": "code",
   "execution_count": 27,
   "id": "e730dc98-3e0b-4111-9637-0caefd6a498c",
   "metadata": {},
   "outputs": [
    {
     "data": {
      "text/html": [
       "<div>\n",
       "<style scoped>\n",
       "    .dataframe tbody tr th:only-of-type {\n",
       "        vertical-align: middle;\n",
       "    }\n",
       "\n",
       "    .dataframe tbody tr th {\n",
       "        vertical-align: top;\n",
       "    }\n",
       "\n",
       "    .dataframe thead th {\n",
       "        text-align: right;\n",
       "    }\n",
       "</style>\n",
       "<table border=\"1\" class=\"dataframe\">\n",
       "  <thead>\n",
       "    <tr style=\"text-align: right;\">\n",
       "      <th></th>\n",
       "      <th>도시</th>\n",
       "      <th>연도</th>\n",
       "      <th>날씨</th>\n",
       "    </tr>\n",
       "  </thead>\n",
       "  <tbody>\n",
       "    <tr>\n",
       "      <th>a</th>\n",
       "      <td>서울</td>\n",
       "      <td>2017</td>\n",
       "      <td>18</td>\n",
       "    </tr>\n",
       "    <tr>\n",
       "      <th>b</th>\n",
       "      <td>부산</td>\n",
       "      <td>2017</td>\n",
       "      <td>20</td>\n",
       "    </tr>\n",
       "    <tr>\n",
       "      <th>c</th>\n",
       "      <td>대전</td>\n",
       "      <td>2020</td>\n",
       "      <td>19</td>\n",
       "    </tr>\n",
       "  </tbody>\n",
       "</table>\n",
       "</div>"
      ],
      "text/plain": [
       "   도시    연도  날씨\n",
       "a  서울  2017  18\n",
       "b  부산  2017  20\n",
       "c  대전  2020  19"
      ]
     },
     "execution_count": 27,
     "metadata": {},
     "output_type": "execute_result"
    }
   ],
   "source": [
    "pd8.loc[ : 'c'] "
   ]
  },
  {
   "cell_type": "code",
   "execution_count": 28,
   "id": "3f0f1488-4520-4e16-9997-c80c654afedd",
   "metadata": {},
   "outputs": [
    {
     "data": {
      "text/html": [
       "<div>\n",
       "<style scoped>\n",
       "    .dataframe tbody tr th:only-of-type {\n",
       "        vertical-align: middle;\n",
       "    }\n",
       "\n",
       "    .dataframe tbody tr th {\n",
       "        vertical-align: top;\n",
       "    }\n",
       "\n",
       "    .dataframe thead th {\n",
       "        text-align: right;\n",
       "    }\n",
       "</style>\n",
       "<table border=\"1\" class=\"dataframe\">\n",
       "  <thead>\n",
       "    <tr style=\"text-align: right;\">\n",
       "      <th></th>\n",
       "      <th>도시</th>\n",
       "      <th>연도</th>\n",
       "      <th>날씨</th>\n",
       "    </tr>\n",
       "  </thead>\n",
       "  <tbody>\n",
       "    <tr>\n",
       "      <th>b</th>\n",
       "      <td>부산</td>\n",
       "      <td>2017</td>\n",
       "      <td>20</td>\n",
       "    </tr>\n",
       "    <tr>\n",
       "      <th>c</th>\n",
       "      <td>대전</td>\n",
       "      <td>2020</td>\n",
       "      <td>19</td>\n",
       "    </tr>\n",
       "    <tr>\n",
       "      <th>d</th>\n",
       "      <td>대구</td>\n",
       "      <td>2022</td>\n",
       "      <td>21</td>\n",
       "    </tr>\n",
       "  </tbody>\n",
       "</table>\n",
       "</div>"
      ],
      "text/plain": [
       "   도시    연도  날씨\n",
       "b  부산  2017  20\n",
       "c  대전  2020  19\n",
       "d  대구  2022  21"
      ]
     },
     "execution_count": 28,
     "metadata": {},
     "output_type": "execute_result"
    }
   ],
   "source": [
    "pd8.loc[ 'b': 'd'] "
   ]
  },
  {
   "cell_type": "code",
   "execution_count": 29,
   "id": "c7d35b41-c881-47cf-9b0a-97599b0ed88b",
   "metadata": {},
   "outputs": [
    {
     "data": {
      "text/html": [
       "<div>\n",
       "<style scoped>\n",
       "    .dataframe tbody tr th:only-of-type {\n",
       "        vertical-align: middle;\n",
       "    }\n",
       "\n",
       "    .dataframe tbody tr th {\n",
       "        vertical-align: top;\n",
       "    }\n",
       "\n",
       "    .dataframe thead th {\n",
       "        text-align: right;\n",
       "    }\n",
       "</style>\n",
       "<table border=\"1\" class=\"dataframe\">\n",
       "  <thead>\n",
       "    <tr style=\"text-align: right;\">\n",
       "      <th></th>\n",
       "      <th>도시</th>\n",
       "      <th>연도</th>\n",
       "      <th>날씨</th>\n",
       "    </tr>\n",
       "  </thead>\n",
       "  <tbody>\n",
       "  </tbody>\n",
       "</table>\n",
       "</div>"
      ],
      "text/plain": [
       "Empty DataFrame\n",
       "Columns: [도시, 연도, 날씨]\n",
       "Index: []"
      ]
     },
     "execution_count": 29,
     "metadata": {},
     "output_type": "execute_result"
    }
   ],
   "source": [
    "pd8.loc[ 'd': 'b'] "
   ]
  },
  {
   "cell_type": "code",
   "execution_count": 30,
   "id": "a47369e2-7900-4724-b2a4-6a737e413b34",
   "metadata": {},
   "outputs": [
    {
     "data": {
      "text/html": [
       "<div>\n",
       "<style scoped>\n",
       "    .dataframe tbody tr th:only-of-type {\n",
       "        vertical-align: middle;\n",
       "    }\n",
       "\n",
       "    .dataframe tbody tr th {\n",
       "        vertical-align: top;\n",
       "    }\n",
       "\n",
       "    .dataframe thead th {\n",
       "        text-align: right;\n",
       "    }\n",
       "</style>\n",
       "<table border=\"1\" class=\"dataframe\">\n",
       "  <thead>\n",
       "    <tr style=\"text-align: right;\">\n",
       "      <th></th>\n",
       "      <th>도시</th>\n",
       "      <th>연도</th>\n",
       "      <th>날씨</th>\n",
       "    </tr>\n",
       "  </thead>\n",
       "  <tbody>\n",
       "    <tr>\n",
       "      <th>c</th>\n",
       "      <td>대전</td>\n",
       "      <td>2020</td>\n",
       "      <td>19</td>\n",
       "    </tr>\n",
       "    <tr>\n",
       "      <th>e</th>\n",
       "      <td>광주</td>\n",
       "      <td>2025</td>\n",
       "      <td>16</td>\n",
       "    </tr>\n",
       "  </tbody>\n",
       "</table>\n",
       "</div>"
      ],
      "text/plain": [
       "   도시    연도  날씨\n",
       "c  대전  2020  19\n",
       "e  광주  2025  16"
      ]
     },
     "execution_count": 30,
     "metadata": {},
     "output_type": "execute_result"
    }
   ],
   "source": [
    "pd8.loc [ [ 'c' , 'e' ] ]"
   ]
  },
  {
   "cell_type": "code",
   "execution_count": 31,
   "id": "ce6d7399-db7e-4220-aa56-13a7d93beb03",
   "metadata": {},
   "outputs": [
    {
     "data": {
      "text/html": [
       "<div>\n",
       "<style scoped>\n",
       "    .dataframe tbody tr th:only-of-type {\n",
       "        vertical-align: middle;\n",
       "    }\n",
       "\n",
       "    .dataframe tbody tr th {\n",
       "        vertical-align: top;\n",
       "    }\n",
       "\n",
       "    .dataframe thead th {\n",
       "        text-align: right;\n",
       "    }\n",
       "</style>\n",
       "<table border=\"1\" class=\"dataframe\">\n",
       "  <thead>\n",
       "    <tr style=\"text-align: right;\">\n",
       "      <th></th>\n",
       "      <th>도시</th>\n",
       "      <th>연도</th>\n",
       "      <th>날씨</th>\n",
       "    </tr>\n",
       "  </thead>\n",
       "  <tbody>\n",
       "    <tr>\n",
       "      <th>e</th>\n",
       "      <td>광주</td>\n",
       "      <td>2025</td>\n",
       "      <td>16</td>\n",
       "    </tr>\n",
       "    <tr>\n",
       "      <th>c</th>\n",
       "      <td>대전</td>\n",
       "      <td>2020</td>\n",
       "      <td>19</td>\n",
       "    </tr>\n",
       "  </tbody>\n",
       "</table>\n",
       "</div>"
      ],
      "text/plain": [
       "   도시    연도  날씨\n",
       "e  광주  2025  16\n",
       "c  대전  2020  19"
      ]
     },
     "execution_count": 31,
     "metadata": {},
     "output_type": "execute_result"
    }
   ],
   "source": [
    "pd8.loc [ [ 'e' , 'c' ] ]"
   ]
  },
  {
   "cell_type": "code",
   "execution_count": 32,
   "id": "e7bbb4ea-545b-42c2-b47a-abe73380d2d7",
   "metadata": {},
   "outputs": [
    {
     "data": {
      "text/html": [
       "<div>\n",
       "<style scoped>\n",
       "    .dataframe tbody tr th:only-of-type {\n",
       "        vertical-align: middle;\n",
       "    }\n",
       "\n",
       "    .dataframe tbody tr th {\n",
       "        vertical-align: top;\n",
       "    }\n",
       "\n",
       "    .dataframe thead th {\n",
       "        text-align: right;\n",
       "    }\n",
       "</style>\n",
       "<table border=\"1\" class=\"dataframe\">\n",
       "  <thead>\n",
       "    <tr style=\"text-align: right;\">\n",
       "      <th></th>\n",
       "      <th>도시</th>\n",
       "      <th>연도</th>\n",
       "      <th>날씨</th>\n",
       "    </tr>\n",
       "  </thead>\n",
       "  <tbody>\n",
       "    <tr>\n",
       "      <th>a</th>\n",
       "      <td>서울</td>\n",
       "      <td>2017</td>\n",
       "      <td>18</td>\n",
       "    </tr>\n",
       "    <tr>\n",
       "      <th>b</th>\n",
       "      <td>부산</td>\n",
       "      <td>2017</td>\n",
       "      <td>20</td>\n",
       "    </tr>\n",
       "    <tr>\n",
       "      <th>c</th>\n",
       "      <td>대전</td>\n",
       "      <td>2020</td>\n",
       "      <td>19</td>\n",
       "    </tr>\n",
       "    <tr>\n",
       "      <th>d</th>\n",
       "      <td>대구</td>\n",
       "      <td>2022</td>\n",
       "      <td>21</td>\n",
       "    </tr>\n",
       "    <tr>\n",
       "      <th>e</th>\n",
       "      <td>광주</td>\n",
       "      <td>2025</td>\n",
       "      <td>16</td>\n",
       "    </tr>\n",
       "  </tbody>\n",
       "</table>\n",
       "</div>"
      ],
      "text/plain": [
       "   도시    연도  날씨\n",
       "a  서울  2017  18\n",
       "b  부산  2017  20\n",
       "c  대전  2020  19\n",
       "d  대구  2022  21\n",
       "e  광주  2025  16"
      ]
     },
     "execution_count": 32,
     "metadata": {},
     "output_type": "execute_result"
    }
   ],
   "source": [
    "pd8"
   ]
  },
  {
   "cell_type": "code",
   "execution_count": 33,
   "id": "b8dbf21c-9e67-461e-ad98-867074f9319d",
   "metadata": {},
   "outputs": [
    {
     "data": {
      "text/html": [
       "<div>\n",
       "<style scoped>\n",
       "    .dataframe tbody tr th:only-of-type {\n",
       "        vertical-align: middle;\n",
       "    }\n",
       "\n",
       "    .dataframe tbody tr th {\n",
       "        vertical-align: top;\n",
       "    }\n",
       "\n",
       "    .dataframe thead th {\n",
       "        text-align: right;\n",
       "    }\n",
       "</style>\n",
       "<table border=\"1\" class=\"dataframe\">\n",
       "  <thead>\n",
       "    <tr style=\"text-align: right;\">\n",
       "      <th></th>\n",
       "      <th>연도</th>\n",
       "      <th>날씨</th>\n",
       "    </tr>\n",
       "    <tr>\n",
       "      <th>도시</th>\n",
       "      <th></th>\n",
       "      <th></th>\n",
       "    </tr>\n",
       "  </thead>\n",
       "  <tbody>\n",
       "    <tr>\n",
       "      <th>서울</th>\n",
       "      <td>2017</td>\n",
       "      <td>18</td>\n",
       "    </tr>\n",
       "    <tr>\n",
       "      <th>부산</th>\n",
       "      <td>2017</td>\n",
       "      <td>20</td>\n",
       "    </tr>\n",
       "    <tr>\n",
       "      <th>대전</th>\n",
       "      <td>2020</td>\n",
       "      <td>19</td>\n",
       "    </tr>\n",
       "    <tr>\n",
       "      <th>대구</th>\n",
       "      <td>2022</td>\n",
       "      <td>21</td>\n",
       "    </tr>\n",
       "    <tr>\n",
       "      <th>광주</th>\n",
       "      <td>2025</td>\n",
       "      <td>16</td>\n",
       "    </tr>\n",
       "  </tbody>\n",
       "</table>\n",
       "</div>"
      ],
      "text/plain": [
       "      연도  날씨\n",
       "도시          \n",
       "서울  2017  18\n",
       "부산  2017  20\n",
       "대전  2020  19\n",
       "대구  2022  21\n",
       "광주  2025  16"
      ]
     },
     "execution_count": 33,
     "metadata": {},
     "output_type": "execute_result"
    }
   ],
   "source": [
    "pd8.set_index(\"도시\")  ## 도시열을 인덱스로 값을 설정\n",
    "#원본 변경이 안 됨."
   ]
  },
  {
   "cell_type": "code",
   "execution_count": 34,
   "id": "97d67174-b610-4856-8bed-17203069b81a",
   "metadata": {},
   "outputs": [
    {
     "data": {
      "text/html": [
       "<div>\n",
       "<style scoped>\n",
       "    .dataframe tbody tr th:only-of-type {\n",
       "        vertical-align: middle;\n",
       "    }\n",
       "\n",
       "    .dataframe tbody tr th {\n",
       "        vertical-align: top;\n",
       "    }\n",
       "\n",
       "    .dataframe thead th {\n",
       "        text-align: right;\n",
       "    }\n",
       "</style>\n",
       "<table border=\"1\" class=\"dataframe\">\n",
       "  <thead>\n",
       "    <tr style=\"text-align: right;\">\n",
       "      <th></th>\n",
       "      <th>도시</th>\n",
       "      <th>연도</th>\n",
       "      <th>날씨</th>\n",
       "    </tr>\n",
       "  </thead>\n",
       "  <tbody>\n",
       "    <tr>\n",
       "      <th>a</th>\n",
       "      <td>서울</td>\n",
       "      <td>2017</td>\n",
       "      <td>18</td>\n",
       "    </tr>\n",
       "    <tr>\n",
       "      <th>b</th>\n",
       "      <td>부산</td>\n",
       "      <td>2017</td>\n",
       "      <td>20</td>\n",
       "    </tr>\n",
       "    <tr>\n",
       "      <th>c</th>\n",
       "      <td>대전</td>\n",
       "      <td>2020</td>\n",
       "      <td>19</td>\n",
       "    </tr>\n",
       "    <tr>\n",
       "      <th>d</th>\n",
       "      <td>대구</td>\n",
       "      <td>2022</td>\n",
       "      <td>21</td>\n",
       "    </tr>\n",
       "    <tr>\n",
       "      <th>e</th>\n",
       "      <td>광주</td>\n",
       "      <td>2025</td>\n",
       "      <td>16</td>\n",
       "    </tr>\n",
       "  </tbody>\n",
       "</table>\n",
       "</div>"
      ],
      "text/plain": [
       "   도시    연도  날씨\n",
       "a  서울  2017  18\n",
       "b  부산  2017  20\n",
       "c  대전  2020  19\n",
       "d  대구  2022  21\n",
       "e  광주  2025  16"
      ]
     },
     "execution_count": 34,
     "metadata": {},
     "output_type": "execute_result"
    }
   ],
   "source": [
    "pd8"
   ]
  },
  {
   "cell_type": "code",
   "execution_count": 35,
   "id": "ceef3d32-0be6-4524-a96c-8b5d6fbb0898",
   "metadata": {},
   "outputs": [
    {
     "data": {
      "text/html": [
       "<div>\n",
       "<style scoped>\n",
       "    .dataframe tbody tr th:only-of-type {\n",
       "        vertical-align: middle;\n",
       "    }\n",
       "\n",
       "    .dataframe tbody tr th {\n",
       "        vertical-align: top;\n",
       "    }\n",
       "\n",
       "    .dataframe thead th {\n",
       "        text-align: right;\n",
       "    }\n",
       "</style>\n",
       "<table border=\"1\" class=\"dataframe\">\n",
       "  <thead>\n",
       "    <tr style=\"text-align: right;\">\n",
       "      <th></th>\n",
       "      <th>연도</th>\n",
       "      <th>날씨</th>\n",
       "    </tr>\n",
       "    <tr>\n",
       "      <th>도시</th>\n",
       "      <th></th>\n",
       "      <th></th>\n",
       "    </tr>\n",
       "  </thead>\n",
       "  <tbody>\n",
       "    <tr>\n",
       "      <th>서울</th>\n",
       "      <td>2017</td>\n",
       "      <td>18</td>\n",
       "    </tr>\n",
       "    <tr>\n",
       "      <th>부산</th>\n",
       "      <td>2017</td>\n",
       "      <td>20</td>\n",
       "    </tr>\n",
       "    <tr>\n",
       "      <th>대전</th>\n",
       "      <td>2020</td>\n",
       "      <td>19</td>\n",
       "    </tr>\n",
       "    <tr>\n",
       "      <th>대구</th>\n",
       "      <td>2022</td>\n",
       "      <td>21</td>\n",
       "    </tr>\n",
       "    <tr>\n",
       "      <th>광주</th>\n",
       "      <td>2025</td>\n",
       "      <td>16</td>\n",
       "    </tr>\n",
       "  </tbody>\n",
       "</table>\n",
       "</div>"
      ],
      "text/plain": [
       "      연도  날씨\n",
       "도시          \n",
       "서울  2017  18\n",
       "부산  2017  20\n",
       "대전  2020  19\n",
       "대구  2022  21\n",
       "광주  2025  16"
      ]
     },
     "execution_count": 35,
     "metadata": {},
     "output_type": "execute_result"
    }
   ],
   "source": [
    "pd9=pd8.set_index(\"도시\")  ## 원본변경이 안 되므로 \"변수=\"라는 방법을 활용\n",
    "pd9"
   ]
  },
  {
   "cell_type": "code",
   "execution_count": 36,
   "id": "4e470ead-6241-4abd-80fb-47cce7fab762",
   "metadata": {},
   "outputs": [
    {
     "data": {
      "text/html": [
       "<div>\n",
       "<style scoped>\n",
       "    .dataframe tbody tr th:only-of-type {\n",
       "        vertical-align: middle;\n",
       "    }\n",
       "\n",
       "    .dataframe tbody tr th {\n",
       "        vertical-align: top;\n",
       "    }\n",
       "\n",
       "    .dataframe thead th {\n",
       "        text-align: right;\n",
       "    }\n",
       "</style>\n",
       "<table border=\"1\" class=\"dataframe\">\n",
       "  <thead>\n",
       "    <tr style=\"text-align: right;\">\n",
       "      <th></th>\n",
       "      <th>연도</th>\n",
       "      <th>날씨</th>\n",
       "    </tr>\n",
       "    <tr>\n",
       "      <th>도시</th>\n",
       "      <th></th>\n",
       "      <th></th>\n",
       "    </tr>\n",
       "  </thead>\n",
       "  <tbody>\n",
       "    <tr>\n",
       "      <th>서울</th>\n",
       "      <td>2017</td>\n",
       "      <td>18</td>\n",
       "    </tr>\n",
       "    <tr>\n",
       "      <th>부산</th>\n",
       "      <td>2017</td>\n",
       "      <td>20</td>\n",
       "    </tr>\n",
       "    <tr>\n",
       "      <th>대전</th>\n",
       "      <td>2020</td>\n",
       "      <td>19</td>\n",
       "    </tr>\n",
       "    <tr>\n",
       "      <th>대구</th>\n",
       "      <td>2022</td>\n",
       "      <td>21</td>\n",
       "    </tr>\n",
       "    <tr>\n",
       "      <th>광주</th>\n",
       "      <td>2025</td>\n",
       "      <td>16</td>\n",
       "    </tr>\n",
       "  </tbody>\n",
       "</table>\n",
       "</div>"
      ],
      "text/plain": [
       "      연도  날씨\n",
       "도시          \n",
       "서울  2017  18\n",
       "부산  2017  20\n",
       "대전  2020  19\n",
       "대구  2022  21\n",
       "광주  2025  16"
      ]
     },
     "execution_count": 36,
     "metadata": {},
     "output_type": "execute_result"
    }
   ],
   "source": [
    "pd8.set_index(\"도시\", inplace=True)  ## inplace=True : 원본이 변경\n",
    "\n",
    "pd8"
   ]
  },
  {
   "cell_type": "code",
   "execution_count": 37,
   "id": "32f186d0-635b-45e2-ae30-488201999b08",
   "metadata": {},
   "outputs": [
    {
     "data": {
      "text/plain": [
       "연도    2025\n",
       "날씨      16\n",
       "Name: 광주, dtype: int64"
      ]
     },
     "execution_count": 37,
     "metadata": {},
     "output_type": "execute_result"
    }
   ],
   "source": [
    "pd8.loc['광주']  ## 광주열만"
   ]
  },
  {
   "cell_type": "code",
   "execution_count": 38,
   "id": "352de904-ea3f-4060-9d5c-1a32274939d1",
   "metadata": {},
   "outputs": [
    {
     "data": {
      "text/html": [
       "<div>\n",
       "<style scoped>\n",
       "    .dataframe tbody tr th:only-of-type {\n",
       "        vertical-align: middle;\n",
       "    }\n",
       "\n",
       "    .dataframe tbody tr th {\n",
       "        vertical-align: top;\n",
       "    }\n",
       "\n",
       "    .dataframe thead th {\n",
       "        text-align: right;\n",
       "    }\n",
       "</style>\n",
       "<table border=\"1\" class=\"dataframe\">\n",
       "  <thead>\n",
       "    <tr style=\"text-align: right;\">\n",
       "      <th></th>\n",
       "      <th>연도</th>\n",
       "      <th>날씨</th>\n",
       "    </tr>\n",
       "    <tr>\n",
       "      <th>도시</th>\n",
       "      <th></th>\n",
       "      <th></th>\n",
       "    </tr>\n",
       "  </thead>\n",
       "  <tbody>\n",
       "    <tr>\n",
       "      <th>부산</th>\n",
       "      <td>2017</td>\n",
       "      <td>20</td>\n",
       "    </tr>\n",
       "    <tr>\n",
       "      <th>대전</th>\n",
       "      <td>2020</td>\n",
       "      <td>19</td>\n",
       "    </tr>\n",
       "    <tr>\n",
       "      <th>대구</th>\n",
       "      <td>2022</td>\n",
       "      <td>21</td>\n",
       "    </tr>\n",
       "  </tbody>\n",
       "</table>\n",
       "</div>"
      ],
      "text/plain": [
       "      연도  날씨\n",
       "도시          \n",
       "부산  2017  20\n",
       "대전  2020  19\n",
       "대구  2022  21"
      ]
     },
     "execution_count": 38,
     "metadata": {},
     "output_type": "execute_result"
    }
   ],
   "source": [
    "pd8.loc['부산':'대구']  ## 부산~대구"
   ]
  },
  {
   "cell_type": "code",
   "execution_count": 39,
   "id": "196120d5-5d6b-454e-ba17-2ca9bb74ec0a",
   "metadata": {},
   "outputs": [
    {
     "data": {
      "text/html": [
       "<div>\n",
       "<style scoped>\n",
       "    .dataframe tbody tr th:only-of-type {\n",
       "        vertical-align: middle;\n",
       "    }\n",
       "\n",
       "    .dataframe tbody tr th {\n",
       "        vertical-align: top;\n",
       "    }\n",
       "\n",
       "    .dataframe thead th {\n",
       "        text-align: right;\n",
       "    }\n",
       "</style>\n",
       "<table border=\"1\" class=\"dataframe\">\n",
       "  <thead>\n",
       "    <tr style=\"text-align: right;\">\n",
       "      <th></th>\n",
       "      <th>연도</th>\n",
       "      <th>날씨</th>\n",
       "    </tr>\n",
       "    <tr>\n",
       "      <th>도시</th>\n",
       "      <th></th>\n",
       "      <th></th>\n",
       "    </tr>\n",
       "  </thead>\n",
       "  <tbody>\n",
       "    <tr>\n",
       "      <th>부산</th>\n",
       "      <td>2017</td>\n",
       "      <td>20</td>\n",
       "    </tr>\n",
       "    <tr>\n",
       "      <th>대구</th>\n",
       "      <td>2022</td>\n",
       "      <td>21</td>\n",
       "    </tr>\n",
       "  </tbody>\n",
       "</table>\n",
       "</div>"
      ],
      "text/plain": [
       "      연도  날씨\n",
       "도시          \n",
       "부산  2017  20\n",
       "대구  2022  21"
      ]
     },
     "execution_count": 39,
     "metadata": {},
     "output_type": "execute_result"
    }
   ],
   "source": [
    "pd8.loc[ ['부산' , '대구'] ] ## 부산과 대구"
   ]
  },
  {
   "cell_type": "code",
   "execution_count": 40,
   "id": "09d520c9-e9fe-48ea-a269-fac4d3f9be84",
   "metadata": {},
   "outputs": [
    {
     "data": {
      "text/plain": [
       "(연도    2017\n",
       " 날씨      18\n",
       " Name: 서울, dtype: int64,\n",
       "       연도  날씨\n",
       " 도시          \n",
       " 대전  2020  19\n",
       " 대구  2022  21,\n",
       "       연도  날씨\n",
       " 도시          \n",
       " 서울  2017  18\n",
       " 부산  2017  20\n",
       " 대전  2020  19,\n",
       "       연도  날씨\n",
       " 도시          \n",
       " 대전  2020  19\n",
       " 대구  2022  21\n",
       " 광주  2025  16)"
      ]
     },
     "execution_count": 40,
     "metadata": {},
     "output_type": "execute_result"
    }
   ],
   "source": [
    "pd8.iloc[0], pd8.iloc[2:4], pd8.iloc[:3], pd8.iloc[2:], "
   ]
  },
  {
   "cell_type": "code",
   "execution_count": 41,
   "id": "db7abcfc-3633-417f-b470-d7b8faf1c0a6",
   "metadata": {},
   "outputs": [
    {
     "data": {
      "text/html": [
       "<div>\n",
       "<style scoped>\n",
       "    .dataframe tbody tr th:only-of-type {\n",
       "        vertical-align: middle;\n",
       "    }\n",
       "\n",
       "    .dataframe tbody tr th {\n",
       "        vertical-align: top;\n",
       "    }\n",
       "\n",
       "    .dataframe thead th {\n",
       "        text-align: right;\n",
       "    }\n",
       "</style>\n",
       "<table border=\"1\" class=\"dataframe\">\n",
       "  <thead>\n",
       "    <tr style=\"text-align: right;\">\n",
       "      <th></th>\n",
       "      <th>연도</th>\n",
       "      <th>날씨</th>\n",
       "      <th>자동차</th>\n",
       "      <th>자동차2</th>\n",
       "    </tr>\n",
       "    <tr>\n",
       "      <th>도시</th>\n",
       "      <th></th>\n",
       "      <th></th>\n",
       "      <th></th>\n",
       "      <th></th>\n",
       "    </tr>\n",
       "  </thead>\n",
       "  <tbody>\n",
       "    <tr>\n",
       "      <th>서울</th>\n",
       "      <td>2017</td>\n",
       "      <td>18</td>\n",
       "      <td>10</td>\n",
       "      <td>10</td>\n",
       "    </tr>\n",
       "    <tr>\n",
       "      <th>부산</th>\n",
       "      <td>2017</td>\n",
       "      <td>20</td>\n",
       "      <td>20</td>\n",
       "      <td>20</td>\n",
       "    </tr>\n",
       "    <tr>\n",
       "      <th>대전</th>\n",
       "      <td>2020</td>\n",
       "      <td>19</td>\n",
       "      <td>70</td>\n",
       "      <td>70</td>\n",
       "    </tr>\n",
       "    <tr>\n",
       "      <th>대구</th>\n",
       "      <td>2022</td>\n",
       "      <td>21</td>\n",
       "      <td>40</td>\n",
       "      <td>40</td>\n",
       "    </tr>\n",
       "    <tr>\n",
       "      <th>광주</th>\n",
       "      <td>2025</td>\n",
       "      <td>16</td>\n",
       "      <td>50</td>\n",
       "      <td>50</td>\n",
       "    </tr>\n",
       "  </tbody>\n",
       "</table>\n",
       "</div>"
      ],
      "text/plain": [
       "      연도  날씨  자동차  자동차2\n",
       "도시                     \n",
       "서울  2017  18   10    10\n",
       "부산  2017  20   20    20\n",
       "대전  2020  19   70    70\n",
       "대구  2022  21   40    40\n",
       "광주  2025  16   50    50"
      ]
     },
     "execution_count": 41,
     "metadata": {},
     "output_type": "execute_result"
    }
   ],
   "source": [
    "cars=[10,20,70,40,50]\n",
    "pd8['자동차']=cars  ## 기존의 있는 열이름의 경우 수정\n",
    "pd8['자동차2']=cars ## 기존의 없는 열이름의 경우 추가\n",
    "pd8"
   ]
  },
  {
   "cell_type": "code",
   "execution_count": 42,
   "id": "bb3de102-cf3e-4f1c-baf4-cfba8f073ff2",
   "metadata": {},
   "outputs": [
    {
     "data": {
      "text/html": [
       "<div>\n",
       "<style scoped>\n",
       "    .dataframe tbody tr th:only-of-type {\n",
       "        vertical-align: middle;\n",
       "    }\n",
       "\n",
       "    .dataframe tbody tr th {\n",
       "        vertical-align: top;\n",
       "    }\n",
       "\n",
       "    .dataframe thead th {\n",
       "        text-align: right;\n",
       "    }\n",
       "</style>\n",
       "<table border=\"1\" class=\"dataframe\">\n",
       "  <thead>\n",
       "    <tr style=\"text-align: right;\">\n",
       "      <th></th>\n",
       "      <th>연도</th>\n",
       "      <th>날씨</th>\n",
       "      <th>자동차</th>\n",
       "      <th>자동차2</th>\n",
       "      <th>자동차가치</th>\n",
       "    </tr>\n",
       "    <tr>\n",
       "      <th>도시</th>\n",
       "      <th></th>\n",
       "      <th></th>\n",
       "      <th></th>\n",
       "      <th></th>\n",
       "      <th></th>\n",
       "    </tr>\n",
       "  </thead>\n",
       "  <tbody>\n",
       "    <tr>\n",
       "      <th>서울</th>\n",
       "      <td>2017</td>\n",
       "      <td>18</td>\n",
       "      <td>10</td>\n",
       "      <td>10</td>\n",
       "      <td>False</td>\n",
       "    </tr>\n",
       "    <tr>\n",
       "      <th>부산</th>\n",
       "      <td>2017</td>\n",
       "      <td>20</td>\n",
       "      <td>20</td>\n",
       "      <td>20</td>\n",
       "      <td>False</td>\n",
       "    </tr>\n",
       "    <tr>\n",
       "      <th>대전</th>\n",
       "      <td>2020</td>\n",
       "      <td>19</td>\n",
       "      <td>70</td>\n",
       "      <td>70</td>\n",
       "      <td>True</td>\n",
       "    </tr>\n",
       "    <tr>\n",
       "      <th>대구</th>\n",
       "      <td>2022</td>\n",
       "      <td>21</td>\n",
       "      <td>40</td>\n",
       "      <td>40</td>\n",
       "      <td>True</td>\n",
       "    </tr>\n",
       "    <tr>\n",
       "      <th>광주</th>\n",
       "      <td>2025</td>\n",
       "      <td>16</td>\n",
       "      <td>50</td>\n",
       "      <td>50</td>\n",
       "      <td>True</td>\n",
       "    </tr>\n",
       "  </tbody>\n",
       "</table>\n",
       "</div>"
      ],
      "text/plain": [
       "      연도  날씨  자동차  자동차2  자동차가치\n",
       "도시                            \n",
       "서울  2017  18   10    10  False\n",
       "부산  2017  20   20    20  False\n",
       "대전  2020  19   70    70   True\n",
       "대구  2022  21   40    40   True\n",
       "광주  2025  16   50    50   True"
      ]
     },
     "execution_count": 42,
     "metadata": {},
     "output_type": "execute_result"
    }
   ],
   "source": [
    "pd8['자동차가치']=pd8.자동차 > 30\n",
    "pd8"
   ]
  },
  {
   "cell_type": "code",
   "execution_count": 43,
   "id": "65161497-8f96-414c-8b27-c30f5be0f135",
   "metadata": {},
   "outputs": [
    {
     "data": {
      "text/plain": [
       "Index(['연도', '날씨', '자동차', '자동차2', '자동차가치'], dtype='object')"
      ]
     },
     "execution_count": 43,
     "metadata": {},
     "output_type": "execute_result"
    }
   ],
   "source": [
    "pd8.columns   ## 열 제목을 추출"
   ]
  },
  {
   "cell_type": "code",
   "execution_count": 44,
   "id": "aa481d9c-1315-4d7b-b25b-9803822c3257",
   "metadata": {},
   "outputs": [
    {
     "data": {
      "text/html": [
       "<div>\n",
       "<style scoped>\n",
       "    .dataframe tbody tr th:only-of-type {\n",
       "        vertical-align: middle;\n",
       "    }\n",
       "\n",
       "    .dataframe tbody tr th {\n",
       "        vertical-align: top;\n",
       "    }\n",
       "\n",
       "    .dataframe thead th {\n",
       "        text-align: right;\n",
       "    }\n",
       "</style>\n",
       "<table border=\"1\" class=\"dataframe\">\n",
       "  <thead>\n",
       "    <tr style=\"text-align: right;\">\n",
       "      <th></th>\n",
       "      <th>연도</th>\n",
       "      <th>날씨</th>\n",
       "      <th>자동차</th>\n",
       "      <th>자동차2</th>\n",
       "    </tr>\n",
       "  </thead>\n",
       "  <tbody>\n",
       "    <tr>\n",
       "      <th>count</th>\n",
       "      <td>5.000000</td>\n",
       "      <td>5.000000</td>\n",
       "      <td>5.000000</td>\n",
       "      <td>5.000000</td>\n",
       "    </tr>\n",
       "    <tr>\n",
       "      <th>mean</th>\n",
       "      <td>2020.200000</td>\n",
       "      <td>18.800000</td>\n",
       "      <td>38.000000</td>\n",
       "      <td>38.000000</td>\n",
       "    </tr>\n",
       "    <tr>\n",
       "      <th>std</th>\n",
       "      <td>3.420526</td>\n",
       "      <td>1.923538</td>\n",
       "      <td>23.874673</td>\n",
       "      <td>23.874673</td>\n",
       "    </tr>\n",
       "    <tr>\n",
       "      <th>min</th>\n",
       "      <td>2017.000000</td>\n",
       "      <td>16.000000</td>\n",
       "      <td>10.000000</td>\n",
       "      <td>10.000000</td>\n",
       "    </tr>\n",
       "    <tr>\n",
       "      <th>25%</th>\n",
       "      <td>2017.000000</td>\n",
       "      <td>18.000000</td>\n",
       "      <td>20.000000</td>\n",
       "      <td>20.000000</td>\n",
       "    </tr>\n",
       "    <tr>\n",
       "      <th>50%</th>\n",
       "      <td>2020.000000</td>\n",
       "      <td>19.000000</td>\n",
       "      <td>40.000000</td>\n",
       "      <td>40.000000</td>\n",
       "    </tr>\n",
       "    <tr>\n",
       "      <th>75%</th>\n",
       "      <td>2022.000000</td>\n",
       "      <td>20.000000</td>\n",
       "      <td>50.000000</td>\n",
       "      <td>50.000000</td>\n",
       "    </tr>\n",
       "    <tr>\n",
       "      <th>max</th>\n",
       "      <td>2025.000000</td>\n",
       "      <td>21.000000</td>\n",
       "      <td>70.000000</td>\n",
       "      <td>70.000000</td>\n",
       "    </tr>\n",
       "  </tbody>\n",
       "</table>\n",
       "</div>"
      ],
      "text/plain": [
       "                연도         날씨        자동차       자동차2\n",
       "count     5.000000   5.000000   5.000000   5.000000\n",
       "mean   2020.200000  18.800000  38.000000  38.000000\n",
       "std       3.420526   1.923538  23.874673  23.874673\n",
       "min    2017.000000  16.000000  10.000000  10.000000\n",
       "25%    2017.000000  18.000000  20.000000  20.000000\n",
       "50%    2020.000000  19.000000  40.000000  40.000000\n",
       "75%    2022.000000  20.000000  50.000000  50.000000\n",
       "max    2025.000000  21.000000  70.000000  70.000000"
      ]
     },
     "execution_count": 44,
     "metadata": {},
     "output_type": "execute_result"
    }
   ],
   "source": [
    "pd8.describe()\n",
    "# 데이터의 전체 통계값 출력 \n",
    "#-> 갯수, 평균, 표준편차, 최소값, 25%-1사분위값, 2사분위값, 3사분위값, 최대"
   ]
  },
  {
   "cell_type": "code",
   "execution_count": 45,
   "id": "d0548108-d303-43d1-b6bd-1fb942f414e0",
   "metadata": {},
   "outputs": [],
   "source": [
    "pd.options.display.float_format='{:.3f}'.format"
   ]
  },
  {
   "cell_type": "code",
   "execution_count": 46,
   "id": "69cc9078-212d-4203-9713-48abb3b1c0b3",
   "metadata": {},
   "outputs": [
    {
     "data": {
      "text/html": [
       "<div>\n",
       "<style scoped>\n",
       "    .dataframe tbody tr th:only-of-type {\n",
       "        vertical-align: middle;\n",
       "    }\n",
       "\n",
       "    .dataframe tbody tr th {\n",
       "        vertical-align: top;\n",
       "    }\n",
       "\n",
       "    .dataframe thead th {\n",
       "        text-align: right;\n",
       "    }\n",
       "</style>\n",
       "<table border=\"1\" class=\"dataframe\">\n",
       "  <thead>\n",
       "    <tr style=\"text-align: right;\">\n",
       "      <th></th>\n",
       "      <th>연도</th>\n",
       "      <th>날씨</th>\n",
       "      <th>자동차</th>\n",
       "      <th>자동차2</th>\n",
       "    </tr>\n",
       "  </thead>\n",
       "  <tbody>\n",
       "    <tr>\n",
       "      <th>count</th>\n",
       "      <td>5.000</td>\n",
       "      <td>5.000</td>\n",
       "      <td>5.000</td>\n",
       "      <td>5.000</td>\n",
       "    </tr>\n",
       "    <tr>\n",
       "      <th>mean</th>\n",
       "      <td>2020.200</td>\n",
       "      <td>18.800</td>\n",
       "      <td>38.000</td>\n",
       "      <td>38.000</td>\n",
       "    </tr>\n",
       "    <tr>\n",
       "      <th>std</th>\n",
       "      <td>3.421</td>\n",
       "      <td>1.924</td>\n",
       "      <td>23.875</td>\n",
       "      <td>23.875</td>\n",
       "    </tr>\n",
       "    <tr>\n",
       "      <th>min</th>\n",
       "      <td>2017.000</td>\n",
       "      <td>16.000</td>\n",
       "      <td>10.000</td>\n",
       "      <td>10.000</td>\n",
       "    </tr>\n",
       "    <tr>\n",
       "      <th>25%</th>\n",
       "      <td>2017.000</td>\n",
       "      <td>18.000</td>\n",
       "      <td>20.000</td>\n",
       "      <td>20.000</td>\n",
       "    </tr>\n",
       "    <tr>\n",
       "      <th>50%</th>\n",
       "      <td>2020.000</td>\n",
       "      <td>19.000</td>\n",
       "      <td>40.000</td>\n",
       "      <td>40.000</td>\n",
       "    </tr>\n",
       "    <tr>\n",
       "      <th>75%</th>\n",
       "      <td>2022.000</td>\n",
       "      <td>20.000</td>\n",
       "      <td>50.000</td>\n",
       "      <td>50.000</td>\n",
       "    </tr>\n",
       "    <tr>\n",
       "      <th>max</th>\n",
       "      <td>2025.000</td>\n",
       "      <td>21.000</td>\n",
       "      <td>70.000</td>\n",
       "      <td>70.000</td>\n",
       "    </tr>\n",
       "  </tbody>\n",
       "</table>\n",
       "</div>"
      ],
      "text/plain": [
       "            연도     날씨    자동차   자동차2\n",
       "count    5.000  5.000  5.000  5.000\n",
       "mean  2020.200 18.800 38.000 38.000\n",
       "std      3.421  1.924 23.875 23.875\n",
       "min   2017.000 16.000 10.000 10.000\n",
       "25%   2017.000 18.000 20.000 20.000\n",
       "50%   2020.000 19.000 40.000 40.000\n",
       "75%   2022.000 20.000 50.000 50.000\n",
       "max   2025.000 21.000 70.000 70.000"
      ]
     },
     "execution_count": 46,
     "metadata": {},
     "output_type": "execute_result"
    }
   ],
   "source": [
    "pd8.describe()"
   ]
  },
  {
   "cell_type": "code",
   "execution_count": 47,
   "id": "370c5014-8d33-4754-9ee2-c3bd3bb3fe05",
   "metadata": {},
   "outputs": [
    {
     "data": {
      "text/html": [
       "<div>\n",
       "<style scoped>\n",
       "    .dataframe tbody tr th:only-of-type {\n",
       "        vertical-align: middle;\n",
       "    }\n",
       "\n",
       "    .dataframe tbody tr th {\n",
       "        vertical-align: top;\n",
       "    }\n",
       "\n",
       "    .dataframe thead th {\n",
       "        text-align: right;\n",
       "    }\n",
       "</style>\n",
       "<table border=\"1\" class=\"dataframe\">\n",
       "  <thead>\n",
       "    <tr style=\"text-align: right;\">\n",
       "      <th></th>\n",
       "      <th>연도</th>\n",
       "      <th>날씨</th>\n",
       "      <th>자동차</th>\n",
       "      <th>자동차2</th>\n",
       "      <th>자동차가치</th>\n",
       "    </tr>\n",
       "    <tr>\n",
       "      <th>도시</th>\n",
       "      <th></th>\n",
       "      <th></th>\n",
       "      <th></th>\n",
       "      <th></th>\n",
       "      <th></th>\n",
       "    </tr>\n",
       "  </thead>\n",
       "  <tbody>\n",
       "    <tr>\n",
       "      <th>서울</th>\n",
       "      <td>2017</td>\n",
       "      <td>18</td>\n",
       "      <td>10</td>\n",
       "      <td>10</td>\n",
       "      <td>False</td>\n",
       "    </tr>\n",
       "    <tr>\n",
       "      <th>부산</th>\n",
       "      <td>2017</td>\n",
       "      <td>20</td>\n",
       "      <td>20</td>\n",
       "      <td>20</td>\n",
       "      <td>False</td>\n",
       "    </tr>\n",
       "    <tr>\n",
       "      <th>대전</th>\n",
       "      <td>2020</td>\n",
       "      <td>19</td>\n",
       "      <td>70</td>\n",
       "      <td>70</td>\n",
       "      <td>True</td>\n",
       "    </tr>\n",
       "    <tr>\n",
       "      <th>대구</th>\n",
       "      <td>2022</td>\n",
       "      <td>21</td>\n",
       "      <td>40</td>\n",
       "      <td>40</td>\n",
       "      <td>True</td>\n",
       "    </tr>\n",
       "    <tr>\n",
       "      <th>광주</th>\n",
       "      <td>2025</td>\n",
       "      <td>16</td>\n",
       "      <td>50</td>\n",
       "      <td>50</td>\n",
       "      <td>True</td>\n",
       "    </tr>\n",
       "  </tbody>\n",
       "</table>\n",
       "</div>"
      ],
      "text/plain": [
       "      연도  날씨  자동차  자동차2  자동차가치\n",
       "도시                            \n",
       "서울  2017  18   10    10  False\n",
       "부산  2017  20   20    20  False\n",
       "대전  2020  19   70    70   True\n",
       "대구  2022  21   40    40   True\n",
       "광주  2025  16   50    50   True"
      ]
     },
     "execution_count": 47,
     "metadata": {},
     "output_type": "execute_result"
    }
   ],
   "source": [
    "pd8"
   ]
  },
  {
   "cell_type": "code",
   "execution_count": 48,
   "id": "938fe28f-06bb-4741-8572-3a907d5eb43e",
   "metadata": {},
   "outputs": [
    {
     "data": {
      "text/html": [
       "<div>\n",
       "<style scoped>\n",
       "    .dataframe tbody tr th:only-of-type {\n",
       "        vertical-align: middle;\n",
       "    }\n",
       "\n",
       "    .dataframe tbody tr th {\n",
       "        vertical-align: top;\n",
       "    }\n",
       "\n",
       "    .dataframe thead th {\n",
       "        text-align: right;\n",
       "    }\n",
       "</style>\n",
       "<table border=\"1\" class=\"dataframe\">\n",
       "  <thead>\n",
       "    <tr style=\"text-align: right;\">\n",
       "      <th></th>\n",
       "      <th>연도</th>\n",
       "      <th>날씨</th>\n",
       "      <th>자동차</th>\n",
       "      <th>자동차2</th>\n",
       "      <th>자동차가치</th>\n",
       "      <th>브랜드</th>\n",
       "    </tr>\n",
       "    <tr>\n",
       "      <th>도시</th>\n",
       "      <th></th>\n",
       "      <th></th>\n",
       "      <th></th>\n",
       "      <th></th>\n",
       "      <th></th>\n",
       "      <th></th>\n",
       "    </tr>\n",
       "  </thead>\n",
       "  <tbody>\n",
       "    <tr>\n",
       "      <th>서울</th>\n",
       "      <td>2017</td>\n",
       "      <td>18</td>\n",
       "      <td>10</td>\n",
       "      <td>10</td>\n",
       "      <td>False</td>\n",
       "      <td>현대</td>\n",
       "    </tr>\n",
       "    <tr>\n",
       "      <th>부산</th>\n",
       "      <td>2017</td>\n",
       "      <td>20</td>\n",
       "      <td>20</td>\n",
       "      <td>20</td>\n",
       "      <td>False</td>\n",
       "      <td>기아</td>\n",
       "    </tr>\n",
       "    <tr>\n",
       "      <th>대전</th>\n",
       "      <td>2020</td>\n",
       "      <td>19</td>\n",
       "      <td>70</td>\n",
       "      <td>70</td>\n",
       "      <td>True</td>\n",
       "      <td>벤츠</td>\n",
       "    </tr>\n",
       "    <tr>\n",
       "      <th>대구</th>\n",
       "      <td>2022</td>\n",
       "      <td>21</td>\n",
       "      <td>40</td>\n",
       "      <td>40</td>\n",
       "      <td>True</td>\n",
       "      <td>동아</td>\n",
       "    </tr>\n",
       "    <tr>\n",
       "      <th>광주</th>\n",
       "      <td>2025</td>\n",
       "      <td>16</td>\n",
       "      <td>50</td>\n",
       "      <td>50</td>\n",
       "      <td>True</td>\n",
       "      <td>부산</td>\n",
       "    </tr>\n",
       "  </tbody>\n",
       "</table>\n",
       "</div>"
      ],
      "text/plain": [
       "      연도  날씨  자동차  자동차2  자동차가치 브랜드\n",
       "도시                                \n",
       "서울  2017  18   10    10  False  현대\n",
       "부산  2017  20   20    20  False  기아\n",
       "대전  2020  19   70    70   True  벤츠\n",
       "대구  2022  21   40    40   True  동아\n",
       "광주  2025  16   50    50   True  부산"
      ]
     },
     "execution_count": 48,
     "metadata": {},
     "output_type": "execute_result"
    }
   ],
   "source": [
    "cars2=['현대','기아','벤츠','동아','부산']\n",
    "pd8['브랜드']=cars2\n",
    "pd8"
   ]
  },
  {
   "cell_type": "code",
   "execution_count": 49,
   "id": "663c42ef-4ccf-49b3-8219-f9bdcc88d7a8",
   "metadata": {},
   "outputs": [
    {
     "data": {
      "text/html": [
       "<div>\n",
       "<style scoped>\n",
       "    .dataframe tbody tr th:only-of-type {\n",
       "        vertical-align: middle;\n",
       "    }\n",
       "\n",
       "    .dataframe tbody tr th {\n",
       "        vertical-align: top;\n",
       "    }\n",
       "\n",
       "    .dataframe thead th {\n",
       "        text-align: right;\n",
       "    }\n",
       "</style>\n",
       "<table border=\"1\" class=\"dataframe\">\n",
       "  <thead>\n",
       "    <tr style=\"text-align: right;\">\n",
       "      <th></th>\n",
       "      <th>연도</th>\n",
       "      <th>날씨</th>\n",
       "      <th>자동차</th>\n",
       "      <th>자동차2</th>\n",
       "    </tr>\n",
       "  </thead>\n",
       "  <tbody>\n",
       "    <tr>\n",
       "      <th>count</th>\n",
       "      <td>5.000</td>\n",
       "      <td>5.000</td>\n",
       "      <td>5.000</td>\n",
       "      <td>5.000</td>\n",
       "    </tr>\n",
       "    <tr>\n",
       "      <th>mean</th>\n",
       "      <td>2020.200</td>\n",
       "      <td>18.800</td>\n",
       "      <td>38.000</td>\n",
       "      <td>38.000</td>\n",
       "    </tr>\n",
       "    <tr>\n",
       "      <th>std</th>\n",
       "      <td>3.421</td>\n",
       "      <td>1.924</td>\n",
       "      <td>23.875</td>\n",
       "      <td>23.875</td>\n",
       "    </tr>\n",
       "    <tr>\n",
       "      <th>min</th>\n",
       "      <td>2017.000</td>\n",
       "      <td>16.000</td>\n",
       "      <td>10.000</td>\n",
       "      <td>10.000</td>\n",
       "    </tr>\n",
       "    <tr>\n",
       "      <th>25%</th>\n",
       "      <td>2017.000</td>\n",
       "      <td>18.000</td>\n",
       "      <td>20.000</td>\n",
       "      <td>20.000</td>\n",
       "    </tr>\n",
       "    <tr>\n",
       "      <th>50%</th>\n",
       "      <td>2020.000</td>\n",
       "      <td>19.000</td>\n",
       "      <td>40.000</td>\n",
       "      <td>40.000</td>\n",
       "    </tr>\n",
       "    <tr>\n",
       "      <th>75%</th>\n",
       "      <td>2022.000</td>\n",
       "      <td>20.000</td>\n",
       "      <td>50.000</td>\n",
       "      <td>50.000</td>\n",
       "    </tr>\n",
       "    <tr>\n",
       "      <th>max</th>\n",
       "      <td>2025.000</td>\n",
       "      <td>21.000</td>\n",
       "      <td>70.000</td>\n",
       "      <td>70.000</td>\n",
       "    </tr>\n",
       "  </tbody>\n",
       "</table>\n",
       "</div>"
      ],
      "text/plain": [
       "            연도     날씨    자동차   자동차2\n",
       "count    5.000  5.000  5.000  5.000\n",
       "mean  2020.200 18.800 38.000 38.000\n",
       "std      3.421  1.924 23.875 23.875\n",
       "min   2017.000 16.000 10.000 10.000\n",
       "25%   2017.000 18.000 20.000 20.000\n",
       "50%   2020.000 19.000 40.000 40.000\n",
       "75%   2022.000 20.000 50.000 50.000\n",
       "max   2025.000 21.000 70.000 70.000"
      ]
     },
     "execution_count": 49,
     "metadata": {},
     "output_type": "execute_result"
    }
   ],
   "source": [
    "pd8.describe()  ## true, false인 자동차가치와 문자값인 브랜드는 로딩되지 않음."
   ]
  },
  {
   "cell_type": "code",
   "execution_count": 50,
   "id": "b0f87d30-f794-4491-9b17-43a31da50a54",
   "metadata": {},
   "outputs": [
    {
     "data": {
      "text/html": [
       "<div>\n",
       "<style scoped>\n",
       "    .dataframe tbody tr th:only-of-type {\n",
       "        vertical-align: middle;\n",
       "    }\n",
       "\n",
       "    .dataframe tbody tr th {\n",
       "        vertical-align: top;\n",
       "    }\n",
       "\n",
       "    .dataframe thead th {\n",
       "        text-align: right;\n",
       "    }\n",
       "</style>\n",
       "<table border=\"1\" class=\"dataframe\">\n",
       "  <thead>\n",
       "    <tr style=\"text-align: right;\">\n",
       "      <th></th>\n",
       "      <th>연도</th>\n",
       "      <th>날씨</th>\n",
       "      <th>자동차</th>\n",
       "      <th>자동차2</th>\n",
       "      <th>브랜드</th>\n",
       "    </tr>\n",
       "    <tr>\n",
       "      <th>도시</th>\n",
       "      <th></th>\n",
       "      <th></th>\n",
       "      <th></th>\n",
       "      <th></th>\n",
       "      <th></th>\n",
       "    </tr>\n",
       "  </thead>\n",
       "  <tbody>\n",
       "    <tr>\n",
       "      <th>서울</th>\n",
       "      <td>2017</td>\n",
       "      <td>18</td>\n",
       "      <td>10</td>\n",
       "      <td>10</td>\n",
       "      <td>현대</td>\n",
       "    </tr>\n",
       "    <tr>\n",
       "      <th>부산</th>\n",
       "      <td>2017</td>\n",
       "      <td>20</td>\n",
       "      <td>20</td>\n",
       "      <td>20</td>\n",
       "      <td>기아</td>\n",
       "    </tr>\n",
       "    <tr>\n",
       "      <th>대전</th>\n",
       "      <td>2020</td>\n",
       "      <td>19</td>\n",
       "      <td>70</td>\n",
       "      <td>70</td>\n",
       "      <td>벤츠</td>\n",
       "    </tr>\n",
       "    <tr>\n",
       "      <th>대구</th>\n",
       "      <td>2022</td>\n",
       "      <td>21</td>\n",
       "      <td>40</td>\n",
       "      <td>40</td>\n",
       "      <td>동아</td>\n",
       "    </tr>\n",
       "    <tr>\n",
       "      <th>광주</th>\n",
       "      <td>2025</td>\n",
       "      <td>16</td>\n",
       "      <td>50</td>\n",
       "      <td>50</td>\n",
       "      <td>부산</td>\n",
       "    </tr>\n",
       "  </tbody>\n",
       "</table>\n",
       "</div>"
      ],
      "text/plain": [
       "      연도  날씨  자동차  자동차2 브랜드\n",
       "도시                         \n",
       "서울  2017  18   10    10  현대\n",
       "부산  2017  20   20    20  기아\n",
       "대전  2020  19   70    70  벤츠\n",
       "대구  2022  21   40    40  동아\n",
       "광주  2025  16   50    50  부산"
      ]
     },
     "execution_count": 50,
     "metadata": {},
     "output_type": "execute_result"
    }
   ],
   "source": [
    "pd8.drop('자동차가치', axis=1)\n",
    "# 열을 삭제하기 위해서는 열이름을 이용하여 axis=1 을 반드시 표기"
   ]
  },
  {
   "cell_type": "code",
   "execution_count": 51,
   "id": "f39818a3-faba-4bf2-af9d-66ddd9d5ec24",
   "metadata": {},
   "outputs": [
    {
     "data": {
      "text/html": [
       "<div>\n",
       "<style scoped>\n",
       "    .dataframe tbody tr th:only-of-type {\n",
       "        vertical-align: middle;\n",
       "    }\n",
       "\n",
       "    .dataframe tbody tr th {\n",
       "        vertical-align: top;\n",
       "    }\n",
       "\n",
       "    .dataframe thead th {\n",
       "        text-align: right;\n",
       "    }\n",
       "</style>\n",
       "<table border=\"1\" class=\"dataframe\">\n",
       "  <thead>\n",
       "    <tr style=\"text-align: right;\">\n",
       "      <th></th>\n",
       "      <th>연도</th>\n",
       "      <th>날씨</th>\n",
       "      <th>자동차</th>\n",
       "      <th>자동차2</th>\n",
       "      <th>자동차가치</th>\n",
       "      <th>브랜드</th>\n",
       "    </tr>\n",
       "    <tr>\n",
       "      <th>도시</th>\n",
       "      <th></th>\n",
       "      <th></th>\n",
       "      <th></th>\n",
       "      <th></th>\n",
       "      <th></th>\n",
       "      <th></th>\n",
       "    </tr>\n",
       "  </thead>\n",
       "  <tbody>\n",
       "    <tr>\n",
       "      <th>서울</th>\n",
       "      <td>2017</td>\n",
       "      <td>18</td>\n",
       "      <td>10</td>\n",
       "      <td>10</td>\n",
       "      <td>False</td>\n",
       "      <td>현대</td>\n",
       "    </tr>\n",
       "    <tr>\n",
       "      <th>부산</th>\n",
       "      <td>2017</td>\n",
       "      <td>20</td>\n",
       "      <td>20</td>\n",
       "      <td>20</td>\n",
       "      <td>False</td>\n",
       "      <td>기아</td>\n",
       "    </tr>\n",
       "    <tr>\n",
       "      <th>대구</th>\n",
       "      <td>2022</td>\n",
       "      <td>21</td>\n",
       "      <td>40</td>\n",
       "      <td>40</td>\n",
       "      <td>True</td>\n",
       "      <td>동아</td>\n",
       "    </tr>\n",
       "    <tr>\n",
       "      <th>광주</th>\n",
       "      <td>2025</td>\n",
       "      <td>16</td>\n",
       "      <td>50</td>\n",
       "      <td>50</td>\n",
       "      <td>True</td>\n",
       "      <td>부산</td>\n",
       "    </tr>\n",
       "  </tbody>\n",
       "</table>\n",
       "</div>"
      ],
      "text/plain": [
       "      연도  날씨  자동차  자동차2  자동차가치 브랜드\n",
       "도시                                \n",
       "서울  2017  18   10    10  False  현대\n",
       "부산  2017  20   20    20  False  기아\n",
       "대구  2022  21   40    40   True  동아\n",
       "광주  2025  16   50    50   True  부산"
      ]
     },
     "execution_count": 51,
     "metadata": {},
     "output_type": "execute_result"
    }
   ],
   "source": [
    "pd8.drop('대전', axis=0)\n",
    "# 행을 삭제하기 위해서는 인덱스값을 이용하여 axis=0 을 반드시 표기"
   ]
  },
  {
   "cell_type": "code",
   "execution_count": 52,
   "id": "9e5a5ba9-d69f-4dad-a1fa-91c4d9bf90d8",
   "metadata": {},
   "outputs": [],
   "source": [
    "pd8=pd8.drop('자동차가치', axis=1)"
   ]
  },
  {
   "cell_type": "code",
   "execution_count": 53,
   "id": "3eed6c22-ef6e-496e-ae7e-2121bed71380",
   "metadata": {},
   "outputs": [],
   "source": [
    "pd8.drop('대전', axis=0, inplace=True)"
   ]
  },
  {
   "cell_type": "code",
   "execution_count": 54,
   "id": "28ac8c48-9cca-49ae-ac51-93527ca56e63",
   "metadata": {},
   "outputs": [
    {
     "data": {
      "text/html": [
       "<div>\n",
       "<style scoped>\n",
       "    .dataframe tbody tr th:only-of-type {\n",
       "        vertical-align: middle;\n",
       "    }\n",
       "\n",
       "    .dataframe tbody tr th {\n",
       "        vertical-align: top;\n",
       "    }\n",
       "\n",
       "    .dataframe thead th {\n",
       "        text-align: right;\n",
       "    }\n",
       "</style>\n",
       "<table border=\"1\" class=\"dataframe\">\n",
       "  <thead>\n",
       "    <tr style=\"text-align: right;\">\n",
       "      <th></th>\n",
       "      <th>연도</th>\n",
       "      <th>날씨</th>\n",
       "      <th>자동차</th>\n",
       "      <th>자동차2</th>\n",
       "      <th>브랜드</th>\n",
       "    </tr>\n",
       "    <tr>\n",
       "      <th>도시</th>\n",
       "      <th></th>\n",
       "      <th></th>\n",
       "      <th></th>\n",
       "      <th></th>\n",
       "      <th></th>\n",
       "    </tr>\n",
       "  </thead>\n",
       "  <tbody>\n",
       "    <tr>\n",
       "      <th>광주</th>\n",
       "      <td>2025</td>\n",
       "      <td>16</td>\n",
       "      <td>50</td>\n",
       "      <td>50</td>\n",
       "      <td>부산</td>\n",
       "    </tr>\n",
       "    <tr>\n",
       "      <th>대구</th>\n",
       "      <td>2022</td>\n",
       "      <td>21</td>\n",
       "      <td>40</td>\n",
       "      <td>40</td>\n",
       "      <td>동아</td>\n",
       "    </tr>\n",
       "    <tr>\n",
       "      <th>부산</th>\n",
       "      <td>2017</td>\n",
       "      <td>20</td>\n",
       "      <td>20</td>\n",
       "      <td>20</td>\n",
       "      <td>기아</td>\n",
       "    </tr>\n",
       "    <tr>\n",
       "      <th>서울</th>\n",
       "      <td>2017</td>\n",
       "      <td>18</td>\n",
       "      <td>10</td>\n",
       "      <td>10</td>\n",
       "      <td>현대</td>\n",
       "    </tr>\n",
       "  </tbody>\n",
       "</table>\n",
       "</div>"
      ],
      "text/plain": [
       "      연도  날씨  자동차  자동차2 브랜드\n",
       "도시                         \n",
       "광주  2025  16   50    50  부산\n",
       "대구  2022  21   40    40  동아\n",
       "부산  2017  20   20    20  기아\n",
       "서울  2017  18   10    10  현대"
      ]
     },
     "execution_count": 54,
     "metadata": {},
     "output_type": "execute_result"
    }
   ],
   "source": [
    "pd8.sort_index()  ## 인덱스 값에 의해서 오름차순 정렬"
   ]
  },
  {
   "cell_type": "code",
   "execution_count": 55,
   "id": "9a979ff9-0e49-4466-b3d2-2e129f5fcbe8",
   "metadata": {},
   "outputs": [
    {
     "data": {
      "text/html": [
       "<div>\n",
       "<style scoped>\n",
       "    .dataframe tbody tr th:only-of-type {\n",
       "        vertical-align: middle;\n",
       "    }\n",
       "\n",
       "    .dataframe tbody tr th {\n",
       "        vertical-align: top;\n",
       "    }\n",
       "\n",
       "    .dataframe thead th {\n",
       "        text-align: right;\n",
       "    }\n",
       "</style>\n",
       "<table border=\"1\" class=\"dataframe\">\n",
       "  <thead>\n",
       "    <tr style=\"text-align: right;\">\n",
       "      <th></th>\n",
       "      <th>연도</th>\n",
       "      <th>날씨</th>\n",
       "      <th>자동차</th>\n",
       "      <th>자동차2</th>\n",
       "      <th>브랜드</th>\n",
       "    </tr>\n",
       "    <tr>\n",
       "      <th>도시</th>\n",
       "      <th></th>\n",
       "      <th></th>\n",
       "      <th></th>\n",
       "      <th></th>\n",
       "      <th></th>\n",
       "    </tr>\n",
       "  </thead>\n",
       "  <tbody>\n",
       "    <tr>\n",
       "      <th>광주</th>\n",
       "      <td>2025</td>\n",
       "      <td>16</td>\n",
       "      <td>50</td>\n",
       "      <td>50</td>\n",
       "      <td>부산</td>\n",
       "    </tr>\n",
       "    <tr>\n",
       "      <th>대구</th>\n",
       "      <td>2022</td>\n",
       "      <td>21</td>\n",
       "      <td>40</td>\n",
       "      <td>40</td>\n",
       "      <td>동아</td>\n",
       "    </tr>\n",
       "    <tr>\n",
       "      <th>부산</th>\n",
       "      <td>2017</td>\n",
       "      <td>20</td>\n",
       "      <td>20</td>\n",
       "      <td>20</td>\n",
       "      <td>기아</td>\n",
       "    </tr>\n",
       "    <tr>\n",
       "      <th>서울</th>\n",
       "      <td>2017</td>\n",
       "      <td>18</td>\n",
       "      <td>10</td>\n",
       "      <td>10</td>\n",
       "      <td>현대</td>\n",
       "    </tr>\n",
       "  </tbody>\n",
       "</table>\n",
       "</div>"
      ],
      "text/plain": [
       "      연도  날씨  자동차  자동차2 브랜드\n",
       "도시                         \n",
       "광주  2025  16   50    50  부산\n",
       "대구  2022  21   40    40  동아\n",
       "부산  2017  20   20    20  기아\n",
       "서울  2017  18   10    10  현대"
      ]
     },
     "execution_count": 55,
     "metadata": {},
     "output_type": "execute_result"
    }
   ],
   "source": [
    "pd8.sort_index(axis=0) ## 인덱스 값에 의해서 오름차순 정렬 - axis 생략시 기본값이 0"
   ]
  },
  {
   "cell_type": "code",
   "execution_count": 56,
   "id": "9356ffae-c3c8-4e58-bcea-2d25320f647c",
   "metadata": {},
   "outputs": [
    {
     "data": {
      "text/html": [
       "<div>\n",
       "<style scoped>\n",
       "    .dataframe tbody tr th:only-of-type {\n",
       "        vertical-align: middle;\n",
       "    }\n",
       "\n",
       "    .dataframe tbody tr th {\n",
       "        vertical-align: top;\n",
       "    }\n",
       "\n",
       "    .dataframe thead th {\n",
       "        text-align: right;\n",
       "    }\n",
       "</style>\n",
       "<table border=\"1\" class=\"dataframe\">\n",
       "  <thead>\n",
       "    <tr style=\"text-align: right;\">\n",
       "      <th></th>\n",
       "      <th>날씨</th>\n",
       "      <th>브랜드</th>\n",
       "      <th>연도</th>\n",
       "      <th>자동차</th>\n",
       "      <th>자동차2</th>\n",
       "    </tr>\n",
       "    <tr>\n",
       "      <th>도시</th>\n",
       "      <th></th>\n",
       "      <th></th>\n",
       "      <th></th>\n",
       "      <th></th>\n",
       "      <th></th>\n",
       "    </tr>\n",
       "  </thead>\n",
       "  <tbody>\n",
       "    <tr>\n",
       "      <th>서울</th>\n",
       "      <td>18</td>\n",
       "      <td>현대</td>\n",
       "      <td>2017</td>\n",
       "      <td>10</td>\n",
       "      <td>10</td>\n",
       "    </tr>\n",
       "    <tr>\n",
       "      <th>부산</th>\n",
       "      <td>20</td>\n",
       "      <td>기아</td>\n",
       "      <td>2017</td>\n",
       "      <td>20</td>\n",
       "      <td>20</td>\n",
       "    </tr>\n",
       "    <tr>\n",
       "      <th>대구</th>\n",
       "      <td>21</td>\n",
       "      <td>동아</td>\n",
       "      <td>2022</td>\n",
       "      <td>40</td>\n",
       "      <td>40</td>\n",
       "    </tr>\n",
       "    <tr>\n",
       "      <th>광주</th>\n",
       "      <td>16</td>\n",
       "      <td>부산</td>\n",
       "      <td>2025</td>\n",
       "      <td>50</td>\n",
       "      <td>50</td>\n",
       "    </tr>\n",
       "  </tbody>\n",
       "</table>\n",
       "</div>"
      ],
      "text/plain": [
       "    날씨 브랜드    연도  자동차  자동차2\n",
       "도시                         \n",
       "서울  18  현대  2017   10    10\n",
       "부산  20  기아  2017   20    20\n",
       "대구  21  동아  2022   40    40\n",
       "광주  16  부산  2025   50    50"
      ]
     },
     "execution_count": 56,
     "metadata": {},
     "output_type": "execute_result"
    }
   ],
   "source": [
    "pd8.sort_index(axis=1) ## 열제목값으로 오름차순 정렬"
   ]
  },
  {
   "cell_type": "code",
   "execution_count": 57,
   "id": "9c88d871-3625-489a-822c-18ac25236fc8",
   "metadata": {},
   "outputs": [
    {
     "data": {
      "text/html": [
       "<div>\n",
       "<style scoped>\n",
       "    .dataframe tbody tr th:only-of-type {\n",
       "        vertical-align: middle;\n",
       "    }\n",
       "\n",
       "    .dataframe tbody tr th {\n",
       "        vertical-align: top;\n",
       "    }\n",
       "\n",
       "    .dataframe thead th {\n",
       "        text-align: right;\n",
       "    }\n",
       "</style>\n",
       "<table border=\"1\" class=\"dataframe\">\n",
       "  <thead>\n",
       "    <tr style=\"text-align: right;\">\n",
       "      <th></th>\n",
       "      <th>연도</th>\n",
       "      <th>날씨</th>\n",
       "      <th>자동차</th>\n",
       "      <th>자동차2</th>\n",
       "      <th>브랜드</th>\n",
       "    </tr>\n",
       "    <tr>\n",
       "      <th>도시</th>\n",
       "      <th></th>\n",
       "      <th></th>\n",
       "      <th></th>\n",
       "      <th></th>\n",
       "      <th></th>\n",
       "    </tr>\n",
       "  </thead>\n",
       "  <tbody>\n",
       "    <tr>\n",
       "      <th>서울</th>\n",
       "      <td>2017</td>\n",
       "      <td>18</td>\n",
       "      <td>10</td>\n",
       "      <td>10</td>\n",
       "      <td>현대</td>\n",
       "    </tr>\n",
       "    <tr>\n",
       "      <th>부산</th>\n",
       "      <td>2017</td>\n",
       "      <td>20</td>\n",
       "      <td>20</td>\n",
       "      <td>20</td>\n",
       "      <td>기아</td>\n",
       "    </tr>\n",
       "    <tr>\n",
       "      <th>대구</th>\n",
       "      <td>2022</td>\n",
       "      <td>21</td>\n",
       "      <td>40</td>\n",
       "      <td>40</td>\n",
       "      <td>동아</td>\n",
       "    </tr>\n",
       "    <tr>\n",
       "      <th>광주</th>\n",
       "      <td>2025</td>\n",
       "      <td>16</td>\n",
       "      <td>50</td>\n",
       "      <td>50</td>\n",
       "      <td>부산</td>\n",
       "    </tr>\n",
       "  </tbody>\n",
       "</table>\n",
       "</div>"
      ],
      "text/plain": [
       "      연도  날씨  자동차  자동차2 브랜드\n",
       "도시                         \n",
       "서울  2017  18   10    10  현대\n",
       "부산  2017  20   20    20  기아\n",
       "대구  2022  21   40    40  동아\n",
       "광주  2025  16   50    50  부산"
      ]
     },
     "execution_count": 57,
     "metadata": {},
     "output_type": "execute_result"
    }
   ],
   "source": [
    "pd8"
   ]
  },
  {
   "cell_type": "code",
   "execution_count": 58,
   "id": "382a84eb-8bdf-4430-b73d-98da59b85766",
   "metadata": {},
   "outputs": [],
   "source": [
    "pd8.sort_index(axis=1, inplace=True) ## 열제목값으로 오름차순 정렬"
   ]
  },
  {
   "cell_type": "code",
   "execution_count": 59,
   "id": "080619df-c30d-4508-94e3-b9f82d0460d2",
   "metadata": {},
   "outputs": [
    {
     "data": {
      "text/html": [
       "<div>\n",
       "<style scoped>\n",
       "    .dataframe tbody tr th:only-of-type {\n",
       "        vertical-align: middle;\n",
       "    }\n",
       "\n",
       "    .dataframe tbody tr th {\n",
       "        vertical-align: top;\n",
       "    }\n",
       "\n",
       "    .dataframe thead th {\n",
       "        text-align: right;\n",
       "    }\n",
       "</style>\n",
       "<table border=\"1\" class=\"dataframe\">\n",
       "  <thead>\n",
       "    <tr style=\"text-align: right;\">\n",
       "      <th></th>\n",
       "      <th>날씨</th>\n",
       "      <th>브랜드</th>\n",
       "      <th>연도</th>\n",
       "      <th>자동차</th>\n",
       "      <th>자동차2</th>\n",
       "    </tr>\n",
       "    <tr>\n",
       "      <th>도시</th>\n",
       "      <th></th>\n",
       "      <th></th>\n",
       "      <th></th>\n",
       "      <th></th>\n",
       "      <th></th>\n",
       "    </tr>\n",
       "  </thead>\n",
       "  <tbody>\n",
       "    <tr>\n",
       "      <th>서울</th>\n",
       "      <td>18</td>\n",
       "      <td>현대</td>\n",
       "      <td>2017</td>\n",
       "      <td>10</td>\n",
       "      <td>10</td>\n",
       "    </tr>\n",
       "    <tr>\n",
       "      <th>부산</th>\n",
       "      <td>20</td>\n",
       "      <td>기아</td>\n",
       "      <td>2017</td>\n",
       "      <td>20</td>\n",
       "      <td>20</td>\n",
       "    </tr>\n",
       "    <tr>\n",
       "      <th>대구</th>\n",
       "      <td>21</td>\n",
       "      <td>동아</td>\n",
       "      <td>2022</td>\n",
       "      <td>40</td>\n",
       "      <td>40</td>\n",
       "    </tr>\n",
       "    <tr>\n",
       "      <th>광주</th>\n",
       "      <td>16</td>\n",
       "      <td>부산</td>\n",
       "      <td>2025</td>\n",
       "      <td>50</td>\n",
       "      <td>50</td>\n",
       "    </tr>\n",
       "  </tbody>\n",
       "</table>\n",
       "</div>"
      ],
      "text/plain": [
       "    날씨 브랜드    연도  자동차  자동차2\n",
       "도시                         \n",
       "서울  18  현대  2017   10    10\n",
       "부산  20  기아  2017   20    20\n",
       "대구  21  동아  2022   40    40\n",
       "광주  16  부산  2025   50    50"
      ]
     },
     "execution_count": 59,
     "metadata": {},
     "output_type": "execute_result"
    }
   ],
   "source": [
    "pd8"
   ]
  },
  {
   "cell_type": "code",
   "execution_count": 60,
   "id": "54c17b32-2cd6-40a5-9c4f-26e8b546b4da",
   "metadata": {},
   "outputs": [
    {
     "data": {
      "text/html": [
       "<div>\n",
       "<style scoped>\n",
       "    .dataframe tbody tr th:only-of-type {\n",
       "        vertical-align: middle;\n",
       "    }\n",
       "\n",
       "    .dataframe tbody tr th {\n",
       "        vertical-align: top;\n",
       "    }\n",
       "\n",
       "    .dataframe thead th {\n",
       "        text-align: right;\n",
       "    }\n",
       "</style>\n",
       "<table border=\"1\" class=\"dataframe\">\n",
       "  <thead>\n",
       "    <tr style=\"text-align: right;\">\n",
       "      <th></th>\n",
       "      <th>날씨</th>\n",
       "      <th>브랜드</th>\n",
       "      <th>연도</th>\n",
       "      <th>자동차</th>\n",
       "      <th>자동차2</th>\n",
       "    </tr>\n",
       "    <tr>\n",
       "      <th>도시</th>\n",
       "      <th></th>\n",
       "      <th></th>\n",
       "      <th></th>\n",
       "      <th></th>\n",
       "      <th></th>\n",
       "    </tr>\n",
       "  </thead>\n",
       "  <tbody>\n",
       "    <tr>\n",
       "      <th>광주</th>\n",
       "      <td>16</td>\n",
       "      <td>부산</td>\n",
       "      <td>2025</td>\n",
       "      <td>50</td>\n",
       "      <td>50</td>\n",
       "    </tr>\n",
       "    <tr>\n",
       "      <th>대구</th>\n",
       "      <td>21</td>\n",
       "      <td>동아</td>\n",
       "      <td>2022</td>\n",
       "      <td>40</td>\n",
       "      <td>40</td>\n",
       "    </tr>\n",
       "    <tr>\n",
       "      <th>부산</th>\n",
       "      <td>20</td>\n",
       "      <td>기아</td>\n",
       "      <td>2017</td>\n",
       "      <td>20</td>\n",
       "      <td>20</td>\n",
       "    </tr>\n",
       "    <tr>\n",
       "      <th>서울</th>\n",
       "      <td>18</td>\n",
       "      <td>현대</td>\n",
       "      <td>2017</td>\n",
       "      <td>10</td>\n",
       "      <td>10</td>\n",
       "    </tr>\n",
       "  </tbody>\n",
       "</table>\n",
       "</div>"
      ],
      "text/plain": [
       "    날씨 브랜드    연도  자동차  자동차2\n",
       "도시                         \n",
       "광주  16  부산  2025   50    50\n",
       "대구  21  동아  2022   40    40\n",
       "부산  20  기아  2017   20    20\n",
       "서울  18  현대  2017   10    10"
      ]
     },
     "execution_count": 60,
     "metadata": {},
     "output_type": "execute_result"
    }
   ],
   "source": [
    "pd8=pd8.sort_index(axis=0) \n",
    "pd8"
   ]
  },
  {
   "cell_type": "code",
   "execution_count": 61,
   "id": "fa1bca74-c087-4c6b-89f8-dbd3afcdf25b",
   "metadata": {},
   "outputs": [
    {
     "data": {
      "text/html": [
       "<div>\n",
       "<style scoped>\n",
       "    .dataframe tbody tr th:only-of-type {\n",
       "        vertical-align: middle;\n",
       "    }\n",
       "\n",
       "    .dataframe tbody tr th {\n",
       "        vertical-align: top;\n",
       "    }\n",
       "\n",
       "    .dataframe thead th {\n",
       "        text-align: right;\n",
       "    }\n",
       "</style>\n",
       "<table border=\"1\" class=\"dataframe\">\n",
       "  <thead>\n",
       "    <tr style=\"text-align: right;\">\n",
       "      <th></th>\n",
       "      <th>날씨</th>\n",
       "      <th>브랜드</th>\n",
       "      <th>연도</th>\n",
       "      <th>자동차</th>\n",
       "      <th>자동차2</th>\n",
       "    </tr>\n",
       "    <tr>\n",
       "      <th>도시</th>\n",
       "      <th></th>\n",
       "      <th></th>\n",
       "      <th></th>\n",
       "      <th></th>\n",
       "      <th></th>\n",
       "    </tr>\n",
       "  </thead>\n",
       "  <tbody>\n",
       "    <tr>\n",
       "      <th>광주</th>\n",
       "      <td>16</td>\n",
       "      <td>부산</td>\n",
       "      <td>2025</td>\n",
       "      <td>50</td>\n",
       "      <td>50</td>\n",
       "    </tr>\n",
       "    <tr>\n",
       "      <th>대구</th>\n",
       "      <td>21</td>\n",
       "      <td>동아</td>\n",
       "      <td>2022</td>\n",
       "      <td>40</td>\n",
       "      <td>40</td>\n",
       "    </tr>\n",
       "    <tr>\n",
       "      <th>부산</th>\n",
       "      <td>20</td>\n",
       "      <td>기아</td>\n",
       "      <td>2017</td>\n",
       "      <td>20</td>\n",
       "      <td>20</td>\n",
       "    </tr>\n",
       "    <tr>\n",
       "      <th>서울</th>\n",
       "      <td>18</td>\n",
       "      <td>현대</td>\n",
       "      <td>2017</td>\n",
       "      <td>10</td>\n",
       "      <td>10</td>\n",
       "    </tr>\n",
       "  </tbody>\n",
       "</table>\n",
       "</div>"
      ],
      "text/plain": [
       "    날씨 브랜드    연도  자동차  자동차2\n",
       "도시                         \n",
       "광주  16  부산  2025   50    50\n",
       "대구  21  동아  2022   40    40\n",
       "부산  20  기아  2017   20    20\n",
       "서울  18  현대  2017   10    10"
      ]
     },
     "execution_count": 61,
     "metadata": {},
     "output_type": "execute_result"
    }
   ],
   "source": [
    "pd8.sort_index(axis=0, ascending=True) "
   ]
  },
  {
   "cell_type": "code",
   "execution_count": 62,
   "id": "b0bd11dd-0fe0-42e8-bbc7-4ae6ed72ed94",
   "metadata": {},
   "outputs": [
    {
     "data": {
      "text/html": [
       "<div>\n",
       "<style scoped>\n",
       "    .dataframe tbody tr th:only-of-type {\n",
       "        vertical-align: middle;\n",
       "    }\n",
       "\n",
       "    .dataframe tbody tr th {\n",
       "        vertical-align: top;\n",
       "    }\n",
       "\n",
       "    .dataframe thead th {\n",
       "        text-align: right;\n",
       "    }\n",
       "</style>\n",
       "<table border=\"1\" class=\"dataframe\">\n",
       "  <thead>\n",
       "    <tr style=\"text-align: right;\">\n",
       "      <th></th>\n",
       "      <th>날씨</th>\n",
       "      <th>브랜드</th>\n",
       "      <th>연도</th>\n",
       "      <th>자동차</th>\n",
       "      <th>자동차2</th>\n",
       "    </tr>\n",
       "    <tr>\n",
       "      <th>도시</th>\n",
       "      <th></th>\n",
       "      <th></th>\n",
       "      <th></th>\n",
       "      <th></th>\n",
       "      <th></th>\n",
       "    </tr>\n",
       "  </thead>\n",
       "  <tbody>\n",
       "    <tr>\n",
       "      <th>서울</th>\n",
       "      <td>18</td>\n",
       "      <td>현대</td>\n",
       "      <td>2017</td>\n",
       "      <td>10</td>\n",
       "      <td>10</td>\n",
       "    </tr>\n",
       "    <tr>\n",
       "      <th>부산</th>\n",
       "      <td>20</td>\n",
       "      <td>기아</td>\n",
       "      <td>2017</td>\n",
       "      <td>20</td>\n",
       "      <td>20</td>\n",
       "    </tr>\n",
       "    <tr>\n",
       "      <th>대구</th>\n",
       "      <td>21</td>\n",
       "      <td>동아</td>\n",
       "      <td>2022</td>\n",
       "      <td>40</td>\n",
       "      <td>40</td>\n",
       "    </tr>\n",
       "    <tr>\n",
       "      <th>광주</th>\n",
       "      <td>16</td>\n",
       "      <td>부산</td>\n",
       "      <td>2025</td>\n",
       "      <td>50</td>\n",
       "      <td>50</td>\n",
       "    </tr>\n",
       "  </tbody>\n",
       "</table>\n",
       "</div>"
      ],
      "text/plain": [
       "    날씨 브랜드    연도  자동차  자동차2\n",
       "도시                         \n",
       "서울  18  현대  2017   10    10\n",
       "부산  20  기아  2017   20    20\n",
       "대구  21  동아  2022   40    40\n",
       "광주  16  부산  2025   50    50"
      ]
     },
     "execution_count": 62,
     "metadata": {},
     "output_type": "execute_result"
    }
   ],
   "source": [
    "pd8.sort_index(axis=0, ascending=False) "
   ]
  },
  {
   "cell_type": "code",
   "execution_count": 63,
   "id": "150167c8-a085-4af9-b212-249ffe602617",
   "metadata": {},
   "outputs": [
    {
     "data": {
      "text/html": [
       "<div>\n",
       "<style scoped>\n",
       "    .dataframe tbody tr th:only-of-type {\n",
       "        vertical-align: middle;\n",
       "    }\n",
       "\n",
       "    .dataframe tbody tr th {\n",
       "        vertical-align: top;\n",
       "    }\n",
       "\n",
       "    .dataframe thead th {\n",
       "        text-align: right;\n",
       "    }\n",
       "</style>\n",
       "<table border=\"1\" class=\"dataframe\">\n",
       "  <thead>\n",
       "    <tr style=\"text-align: right;\">\n",
       "      <th></th>\n",
       "      <th>날씨</th>\n",
       "      <th>브랜드</th>\n",
       "      <th>연도</th>\n",
       "      <th>자동차</th>\n",
       "      <th>자동차2</th>\n",
       "    </tr>\n",
       "    <tr>\n",
       "      <th>도시</th>\n",
       "      <th></th>\n",
       "      <th></th>\n",
       "      <th></th>\n",
       "      <th></th>\n",
       "      <th></th>\n",
       "    </tr>\n",
       "  </thead>\n",
       "  <tbody>\n",
       "    <tr>\n",
       "      <th>광주</th>\n",
       "      <td>16</td>\n",
       "      <td>부산</td>\n",
       "      <td>2025</td>\n",
       "      <td>50</td>\n",
       "      <td>50</td>\n",
       "    </tr>\n",
       "    <tr>\n",
       "      <th>서울</th>\n",
       "      <td>18</td>\n",
       "      <td>현대</td>\n",
       "      <td>2017</td>\n",
       "      <td>10</td>\n",
       "      <td>10</td>\n",
       "    </tr>\n",
       "    <tr>\n",
       "      <th>부산</th>\n",
       "      <td>20</td>\n",
       "      <td>기아</td>\n",
       "      <td>2017</td>\n",
       "      <td>20</td>\n",
       "      <td>20</td>\n",
       "    </tr>\n",
       "    <tr>\n",
       "      <th>대구</th>\n",
       "      <td>21</td>\n",
       "      <td>동아</td>\n",
       "      <td>2022</td>\n",
       "      <td>40</td>\n",
       "      <td>40</td>\n",
       "    </tr>\n",
       "  </tbody>\n",
       "</table>\n",
       "</div>"
      ],
      "text/plain": [
       "    날씨 브랜드    연도  자동차  자동차2\n",
       "도시                         \n",
       "광주  16  부산  2025   50    50\n",
       "서울  18  현대  2017   10    10\n",
       "부산  20  기아  2017   20    20\n",
       "대구  21  동아  2022   40    40"
      ]
     },
     "execution_count": 63,
     "metadata": {},
     "output_type": "execute_result"
    }
   ],
   "source": [
    "pd8.sort_values('날씨')"
   ]
  },
  {
   "cell_type": "code",
   "execution_count": 64,
   "id": "8337f2ed-f16f-4eaa-b15a-e8ed690e0142",
   "metadata": {},
   "outputs": [
    {
     "data": {
      "text/html": [
       "<div>\n",
       "<style scoped>\n",
       "    .dataframe tbody tr th:only-of-type {\n",
       "        vertical-align: middle;\n",
       "    }\n",
       "\n",
       "    .dataframe tbody tr th {\n",
       "        vertical-align: top;\n",
       "    }\n",
       "\n",
       "    .dataframe thead th {\n",
       "        text-align: right;\n",
       "    }\n",
       "</style>\n",
       "<table border=\"1\" class=\"dataframe\">\n",
       "  <thead>\n",
       "    <tr style=\"text-align: right;\">\n",
       "      <th></th>\n",
       "      <th>날씨</th>\n",
       "      <th>브랜드</th>\n",
       "      <th>연도</th>\n",
       "      <th>자동차</th>\n",
       "      <th>자동차2</th>\n",
       "    </tr>\n",
       "    <tr>\n",
       "      <th>도시</th>\n",
       "      <th></th>\n",
       "      <th></th>\n",
       "      <th></th>\n",
       "      <th></th>\n",
       "      <th></th>\n",
       "    </tr>\n",
       "  </thead>\n",
       "  <tbody>\n",
       "    <tr>\n",
       "      <th>대구</th>\n",
       "      <td>21</td>\n",
       "      <td>동아</td>\n",
       "      <td>2022</td>\n",
       "      <td>40</td>\n",
       "      <td>40</td>\n",
       "    </tr>\n",
       "    <tr>\n",
       "      <th>부산</th>\n",
       "      <td>20</td>\n",
       "      <td>기아</td>\n",
       "      <td>2017</td>\n",
       "      <td>20</td>\n",
       "      <td>20</td>\n",
       "    </tr>\n",
       "    <tr>\n",
       "      <th>서울</th>\n",
       "      <td>18</td>\n",
       "      <td>현대</td>\n",
       "      <td>2017</td>\n",
       "      <td>10</td>\n",
       "      <td>10</td>\n",
       "    </tr>\n",
       "    <tr>\n",
       "      <th>광주</th>\n",
       "      <td>16</td>\n",
       "      <td>부산</td>\n",
       "      <td>2025</td>\n",
       "      <td>50</td>\n",
       "      <td>50</td>\n",
       "    </tr>\n",
       "  </tbody>\n",
       "</table>\n",
       "</div>"
      ],
      "text/plain": [
       "    날씨 브랜드    연도  자동차  자동차2\n",
       "도시                         \n",
       "대구  21  동아  2022   40    40\n",
       "부산  20  기아  2017   20    20\n",
       "서울  18  현대  2017   10    10\n",
       "광주  16  부산  2025   50    50"
      ]
     },
     "execution_count": 64,
     "metadata": {},
     "output_type": "execute_result"
    }
   ],
   "source": [
    "pd8.sort_values('날씨', ascending=False)"
   ]
  },
  {
   "cell_type": "code",
   "execution_count": 65,
   "id": "4bcd5f50-0c36-4463-991b-434473b71b47",
   "metadata": {},
   "outputs": [],
   "source": [
    "pd8.sort_values('날씨', ascending=False, inplace=True)"
   ]
  },
  {
   "cell_type": "code",
   "execution_count": 66,
   "id": "322e00fc-ab6b-46d4-85a5-deb9675e3467",
   "metadata": {},
   "outputs": [
    {
     "data": {
      "text/html": [
       "<div>\n",
       "<style scoped>\n",
       "    .dataframe tbody tr th:only-of-type {\n",
       "        vertical-align: middle;\n",
       "    }\n",
       "\n",
       "    .dataframe tbody tr th {\n",
       "        vertical-align: top;\n",
       "    }\n",
       "\n",
       "    .dataframe thead th {\n",
       "        text-align: right;\n",
       "    }\n",
       "</style>\n",
       "<table border=\"1\" class=\"dataframe\">\n",
       "  <thead>\n",
       "    <tr style=\"text-align: right;\">\n",
       "      <th></th>\n",
       "      <th>날씨</th>\n",
       "      <th>브랜드</th>\n",
       "      <th>연도</th>\n",
       "      <th>자동차</th>\n",
       "      <th>자동차2</th>\n",
       "    </tr>\n",
       "    <tr>\n",
       "      <th>도시</th>\n",
       "      <th></th>\n",
       "      <th></th>\n",
       "      <th></th>\n",
       "      <th></th>\n",
       "      <th></th>\n",
       "    </tr>\n",
       "  </thead>\n",
       "  <tbody>\n",
       "    <tr>\n",
       "      <th>대구</th>\n",
       "      <td>21</td>\n",
       "      <td>동아</td>\n",
       "      <td>2022</td>\n",
       "      <td>40</td>\n",
       "      <td>40</td>\n",
       "    </tr>\n",
       "    <tr>\n",
       "      <th>부산</th>\n",
       "      <td>20</td>\n",
       "      <td>기아</td>\n",
       "      <td>2017</td>\n",
       "      <td>20</td>\n",
       "      <td>20</td>\n",
       "    </tr>\n",
       "  </tbody>\n",
       "</table>\n",
       "</div>"
      ],
      "text/plain": [
       "    날씨 브랜드    연도  자동차  자동차2\n",
       "도시                         \n",
       "대구  21  동아  2022   40    40\n",
       "부산  20  기아  2017   20    20"
      ]
     },
     "execution_count": 66,
     "metadata": {},
     "output_type": "execute_result"
    }
   ],
   "source": [
    "pd8.head(2)"
   ]
  },
  {
   "cell_type": "code",
   "execution_count": 67,
   "id": "b09e9457-11d7-4b96-b8b9-0430057e5463",
   "metadata": {},
   "outputs": [
    {
     "data": {
      "text/html": [
       "<div>\n",
       "<style scoped>\n",
       "    .dataframe tbody tr th:only-of-type {\n",
       "        vertical-align: middle;\n",
       "    }\n",
       "\n",
       "    .dataframe tbody tr th {\n",
       "        vertical-align: top;\n",
       "    }\n",
       "\n",
       "    .dataframe thead th {\n",
       "        text-align: right;\n",
       "    }\n",
       "</style>\n",
       "<table border=\"1\" class=\"dataframe\">\n",
       "  <thead>\n",
       "    <tr style=\"text-align: right;\">\n",
       "      <th></th>\n",
       "      <th>날씨</th>\n",
       "      <th>브랜드</th>\n",
       "      <th>연도</th>\n",
       "      <th>자동차</th>\n",
       "      <th>자동차2</th>\n",
       "    </tr>\n",
       "    <tr>\n",
       "      <th>도시</th>\n",
       "      <th></th>\n",
       "      <th></th>\n",
       "      <th></th>\n",
       "      <th></th>\n",
       "      <th></th>\n",
       "    </tr>\n",
       "  </thead>\n",
       "  <tbody>\n",
       "    <tr>\n",
       "      <th>서울</th>\n",
       "      <td>18</td>\n",
       "      <td>현대</td>\n",
       "      <td>2017</td>\n",
       "      <td>10</td>\n",
       "      <td>10</td>\n",
       "    </tr>\n",
       "    <tr>\n",
       "      <th>광주</th>\n",
       "      <td>16</td>\n",
       "      <td>부산</td>\n",
       "      <td>2025</td>\n",
       "      <td>50</td>\n",
       "      <td>50</td>\n",
       "    </tr>\n",
       "  </tbody>\n",
       "</table>\n",
       "</div>"
      ],
      "text/plain": [
       "    날씨 브랜드    연도  자동차  자동차2\n",
       "도시                         \n",
       "서울  18  현대  2017   10    10\n",
       "광주  16  부산  2025   50    50"
      ]
     },
     "execution_count": 67,
     "metadata": {},
     "output_type": "execute_result"
    }
   ],
   "source": [
    "pd8.tail(2)"
   ]
  },
  {
   "cell_type": "code",
   "execution_count": 68,
   "id": "9d83146e-a794-418f-ad18-66af664407fb",
   "metadata": {},
   "outputs": [],
   "source": [
    "def fun1(x):\n",
    "    k=x.max()-x.min()\n",
    "    return k\n",
    "    \n",
    "def fun2(x):\n",
    "    return x.max()-x.min()\n",
    "\n",
    "fun3 = lambda x : x.max()-x.min()\n",
    "#람다식 : 간단한 함수를 수식으로 처리\n",
    "# 함수이름 = lambda 매개변수 : 함수내용"
   ]
  },
  {
   "cell_type": "code",
   "execution_count": 69,
   "id": "ccd5daaf-982a-4570-8a2c-beb82059fb8b",
   "metadata": {},
   "outputs": [
    {
     "data": {
      "text/html": [
       "<div>\n",
       "<style scoped>\n",
       "    .dataframe tbody tr th:only-of-type {\n",
       "        vertical-align: middle;\n",
       "    }\n",
       "\n",
       "    .dataframe tbody tr th {\n",
       "        vertical-align: top;\n",
       "    }\n",
       "\n",
       "    .dataframe thead th {\n",
       "        text-align: right;\n",
       "    }\n",
       "</style>\n",
       "<table border=\"1\" class=\"dataframe\">\n",
       "  <thead>\n",
       "    <tr style=\"text-align: right;\">\n",
       "      <th></th>\n",
       "      <th>AA</th>\n",
       "      <th>CC</th>\n",
       "      <th>BB</th>\n",
       "      <th>DD</th>\n",
       "    </tr>\n",
       "  </thead>\n",
       "  <tbody>\n",
       "    <tr>\n",
       "      <th>가가</th>\n",
       "      <td>0</td>\n",
       "      <td>1</td>\n",
       "      <td>2</td>\n",
       "      <td>3</td>\n",
       "    </tr>\n",
       "    <tr>\n",
       "      <th>다다</th>\n",
       "      <td>4</td>\n",
       "      <td>5</td>\n",
       "      <td>6</td>\n",
       "      <td>7</td>\n",
       "    </tr>\n",
       "    <tr>\n",
       "      <th>나나</th>\n",
       "      <td>8</td>\n",
       "      <td>9</td>\n",
       "      <td>10</td>\n",
       "      <td>11</td>\n",
       "    </tr>\n",
       "  </tbody>\n",
       "</table>\n",
       "</div>"
      ],
      "text/plain": [
       "    AA  CC  BB  DD\n",
       "가가   0   1   2   3\n",
       "다다   4   5   6   7\n",
       "나나   8   9  10  11"
      ]
     },
     "execution_count": 69,
     "metadata": {},
     "output_type": "execute_result"
    }
   ],
   "source": [
    "df = pd.DataFrame(np.arange(12).reshape(3, 4), \n",
    "                  columns=['AA', 'CC', 'BB', 'DD'], \n",
    "                  index = ['가가', '다다', '나나'] )\n",
    "df"
   ]
  },
  {
   "cell_type": "code",
   "execution_count": 70,
   "id": "fc3b747e-c7c2-4d31-a54c-38017336db79",
   "metadata": {},
   "outputs": [
    {
     "data": {
      "text/plain": [
       "AA    8\n",
       "CC    8\n",
       "BB    8\n",
       "DD    8\n",
       "dtype: int64"
      ]
     },
     "execution_count": 70,
     "metadata": {},
     "output_type": "execute_result"
    }
   ],
   "source": [
    "df.apply(fun1)"
   ]
  },
  {
   "cell_type": "code",
   "execution_count": 71,
   "id": "016f9cf2-6500-43c5-bdd6-83d960cdc9a6",
   "metadata": {},
   "outputs": [
    {
     "data": {
      "text/plain": [
       "AA    8\n",
       "CC    8\n",
       "BB    8\n",
       "DD    8\n",
       "dtype: int64"
      ]
     },
     "execution_count": 71,
     "metadata": {},
     "output_type": "execute_result"
    }
   ],
   "source": [
    "df.apply(fun2)"
   ]
  },
  {
   "cell_type": "code",
   "execution_count": 72,
   "id": "77754186-d08a-4dee-afe4-9796c6160ed3",
   "metadata": {},
   "outputs": [
    {
     "data": {
      "text/plain": [
       "AA    8\n",
       "CC    8\n",
       "BB    8\n",
       "DD    8\n",
       "dtype: int64"
      ]
     },
     "execution_count": 72,
     "metadata": {},
     "output_type": "execute_result"
    }
   ],
   "source": [
    "df.apply(fun3)"
   ]
  },
  {
   "cell_type": "code",
   "execution_count": 73,
   "id": "ab4c16c7-97ba-4923-89e7-ad76c1aa1eaf",
   "metadata": {},
   "outputs": [
    {
     "data": {
      "text/plain": [
       "AA    8\n",
       "CC    8\n",
       "BB    8\n",
       "DD    8\n",
       "dtype: int64"
      ]
     },
     "execution_count": 73,
     "metadata": {},
     "output_type": "execute_result"
    }
   ],
   "source": [
    "df.apply(fun1, axis=0)  ## axis=0 열단위로 처리하는 기본"
   ]
  },
  {
   "cell_type": "code",
   "execution_count": 74,
   "id": "5e73454a-e1f1-493d-bcb1-af9951487e59",
   "metadata": {},
   "outputs": [
    {
     "data": {
      "text/plain": [
       "가가    3\n",
       "다다    3\n",
       "나나    3\n",
       "dtype: int64"
      ]
     },
     "execution_count": 74,
     "metadata": {},
     "output_type": "execute_result"
    }
   ],
   "source": [
    "df.apply(fun1, 1)"
   ]
  },
  {
   "cell_type": "code",
   "execution_count": 75,
   "id": "84eb41fc-c5e2-40dc-90e0-af0536b26c39",
   "metadata": {},
   "outputs": [
    {
     "data": {
      "text/plain": [
       "가가    3\n",
       "다다    3\n",
       "나나    3\n",
       "dtype: int64"
      ]
     },
     "execution_count": 75,
     "metadata": {},
     "output_type": "execute_result"
    }
   ],
   "source": [
    "df.apply(fun2, axis=1)"
   ]
  },
  {
   "cell_type": "code",
   "execution_count": 76,
   "id": "fe52033f-c685-4147-97c1-7615ca545b47",
   "metadata": {},
   "outputs": [
    {
     "data": {
      "text/plain": [
       "가가    3\n",
       "다다    3\n",
       "나나    3\n",
       "dtype: int64"
      ]
     },
     "execution_count": 76,
     "metadata": {},
     "output_type": "execute_result"
    }
   ],
   "source": [
    "df.apply(fun3, axis=1)"
   ]
  },
  {
   "cell_type": "code",
   "execution_count": 77,
   "id": "55e38baa-86ce-46b1-9ae9-4ba9bc8b37ba",
   "metadata": {},
   "outputs": [
    {
     "data": {
      "text/plain": [
       "0    10\n",
       "1    20\n",
       "2    30\n",
       "3     5\n",
       "4    -4\n",
       "dtype: int64"
      ]
     },
     "execution_count": 77,
     "metadata": {},
     "output_type": "execute_result"
    }
   ],
   "source": [
    "df2=pd.Series([10, 20, 30, 5, -4])\n",
    "df2"
   ]
  },
  {
   "cell_type": "code",
   "execution_count": 78,
   "id": "f0a8e0bd-6527-453f-a525-60a64c3fc4b8",
   "metadata": {},
   "outputs": [
    {
     "data": {
      "text/plain": [
       "0   3.000\n",
       "1   4.000\n",
       "2   5.000\n",
       "3   2.000\n",
       "4   1.000\n",
       "dtype: float64"
      ]
     },
     "execution_count": 78,
     "metadata": {},
     "output_type": "execute_result"
    }
   ],
   "source": [
    "df2.rank()"
   ]
  },
  {
   "cell_type": "code",
   "execution_count": 79,
   "id": "c593f20f-02af-4e46-b418-c7373f6cbed4",
   "metadata": {},
   "outputs": [
    {
     "data": {
      "text/plain": [
       "0   3.000\n",
       "1   2.000\n",
       "2   1.000\n",
       "3   4.000\n",
       "4   5.000\n",
       "dtype: float64"
      ]
     },
     "execution_count": 79,
     "metadata": {},
     "output_type": "execute_result"
    }
   ],
   "source": [
    "df2.rank(ascending=False)"
   ]
  },
  {
   "cell_type": "code",
   "execution_count": 80,
   "id": "6d9a3654-2928-46b3-9927-7888e2171ba4",
   "metadata": {},
   "outputs": [
    {
     "name": "stdout",
     "output_type": "stream",
     "text": [
      "0    10\n",
      "1    10\n",
      "2    30\n",
      "3     5\n",
      "4    -4\n",
      "dtype: int64\n"
     ]
    },
    {
     "data": {
      "text/plain": [
       "0   3.500\n",
       "1   3.500\n",
       "2   5.000\n",
       "3   2.000\n",
       "4   1.000\n",
       "dtype: float64"
      ]
     },
     "execution_count": 80,
     "metadata": {},
     "output_type": "execute_result"
    }
   ],
   "source": [
    "df3=pd.Series([10, 10, 30, 5, -4])\n",
    "print(df3)\n",
    "df3.rank()  ## 3~4등이 존재 -> 3.5등이 됨"
   ]
  },
  {
   "cell_type": "code",
   "execution_count": 81,
   "id": "f424b12b-b189-4883-85e9-35b918b065b4",
   "metadata": {},
   "outputs": [
    {
     "name": "stdout",
     "output_type": "stream",
     "text": [
      "0    10\n",
      "1    10\n",
      "2    10\n",
      "3     5\n",
      "4    -4\n",
      "dtype: int64\n"
     ]
    },
    {
     "data": {
      "text/plain": [
       "0   4.000\n",
       "1   4.000\n",
       "2   4.000\n",
       "3   2.000\n",
       "4   1.000\n",
       "dtype: float64"
      ]
     },
     "execution_count": 81,
     "metadata": {},
     "output_type": "execute_result"
    }
   ],
   "source": [
    "df4=pd.Series([10, 10, 10, 5, -4])\n",
    "print(df4)\n",
    "df4.rank()"
   ]
  },
  {
   "cell_type": "code",
   "execution_count": 82,
   "id": "2f8abe94-6aa6-4ec4-b234-7104efc91e22",
   "metadata": {},
   "outputs": [
    {
     "data": {
      "text/plain": [
       "0   3.000\n",
       "1   4.000\n",
       "2   5.000\n",
       "3   2.000\n",
       "4   1.000\n",
       "dtype: float64"
      ]
     },
     "execution_count": 82,
     "metadata": {},
     "output_type": "execute_result"
    }
   ],
   "source": [
    "df4.rank(method='first')"
   ]
  },
  {
   "cell_type": "code",
   "execution_count": 83,
   "id": "91272967-1814-4616-b6f2-6b8ba28bdd65",
   "metadata": {},
   "outputs": [
    {
     "data": {
      "text/plain": [
       "0   5.000\n",
       "1   5.000\n",
       "2   5.000\n",
       "3   2.000\n",
       "4   1.000\n",
       "dtype: float64"
      ]
     },
     "execution_count": 83,
     "metadata": {},
     "output_type": "execute_result"
    }
   ],
   "source": [
    "df4.rank(method='max')"
   ]
  },
  {
   "cell_type": "code",
   "execution_count": 84,
   "id": "a3b8de61-fd91-499e-9e78-61a603f01a26",
   "metadata": {},
   "outputs": [
    {
     "data": {
      "text/plain": [
       "0   3.000\n",
       "1   3.000\n",
       "2   3.000\n",
       "3   2.000\n",
       "4   1.000\n",
       "dtype: float64"
      ]
     },
     "execution_count": 84,
     "metadata": {},
     "output_type": "execute_result"
    }
   ],
   "source": [
    "df4.rank(method='min')"
   ]
  },
  {
   "cell_type": "code",
   "execution_count": 85,
   "id": "eccc6ce7-49dd-4762-8aba-74e4854180c0",
   "metadata": {},
   "outputs": [
    {
     "data": {
      "text/plain": [
       "0   4.000\n",
       "1   4.000\n",
       "2   4.000\n",
       "3   2.000\n",
       "4   1.000\n",
       "dtype: float64"
      ]
     },
     "execution_count": 85,
     "metadata": {},
     "output_type": "execute_result"
    }
   ],
   "source": [
    "df4.rank(method='average')"
   ]
  },
  {
   "cell_type": "code",
   "execution_count": 86,
   "id": "6effedf7-249b-412e-87df-33ddfcff4260",
   "metadata": {},
   "outputs": [
    {
     "data": {
      "text/plain": [
       "0   3.000\n",
       "1   3.000\n",
       "2   3.000\n",
       "3   2.000\n",
       "4   1.000\n",
       "dtype: float64"
      ]
     },
     "execution_count": 86,
     "metadata": {},
     "output_type": "execute_result"
    }
   ],
   "source": [
    "df4.rank(method='dense')"
   ]
  },
  {
   "cell_type": "code",
   "execution_count": 87,
   "id": "0b82c15e-8b26-46af-a7f5-f8e90a5f3458",
   "metadata": {},
   "outputs": [
    {
     "name": "stdout",
     "output_type": "stream",
     "text": [
      "   b  a  c\n",
      "0  4  8  5\n",
      "1  7  9  7\n",
      "2  3  6  3\n",
      "3  2  5  9\n"
     ]
    },
    {
     "data": {
      "text/html": [
       "<div>\n",
       "<style scoped>\n",
       "    .dataframe tbody tr th:only-of-type {\n",
       "        vertical-align: middle;\n",
       "    }\n",
       "\n",
       "    .dataframe tbody tr th {\n",
       "        vertical-align: top;\n",
       "    }\n",
       "\n",
       "    .dataframe thead th {\n",
       "        text-align: right;\n",
       "    }\n",
       "</style>\n",
       "<table border=\"1\" class=\"dataframe\">\n",
       "  <thead>\n",
       "    <tr style=\"text-align: right;\">\n",
       "      <th></th>\n",
       "      <th>b</th>\n",
       "      <th>a</th>\n",
       "      <th>c</th>\n",
       "    </tr>\n",
       "  </thead>\n",
       "  <tbody>\n",
       "    <tr>\n",
       "      <th>0</th>\n",
       "      <td>3.000</td>\n",
       "      <td>3.000</td>\n",
       "      <td>2.000</td>\n",
       "    </tr>\n",
       "    <tr>\n",
       "      <th>1</th>\n",
       "      <td>4.000</td>\n",
       "      <td>4.000</td>\n",
       "      <td>3.000</td>\n",
       "    </tr>\n",
       "    <tr>\n",
       "      <th>2</th>\n",
       "      <td>2.000</td>\n",
       "      <td>2.000</td>\n",
       "      <td>1.000</td>\n",
       "    </tr>\n",
       "    <tr>\n",
       "      <th>3</th>\n",
       "      <td>1.000</td>\n",
       "      <td>1.000</td>\n",
       "      <td>4.000</td>\n",
       "    </tr>\n",
       "  </tbody>\n",
       "</table>\n",
       "</div>"
      ],
      "text/plain": [
       "      b     a     c\n",
       "0 3.000 3.000 2.000\n",
       "1 4.000 4.000 3.000\n",
       "2 2.000 2.000 1.000\n",
       "3 1.000 1.000 4.000"
      ]
     },
     "execution_count": 87,
     "metadata": {},
     "output_type": "execute_result"
    }
   ],
   "source": [
    "df5=DataFrame({'b':[4,7,3,2], 'a':[8,9, 6, 5], 'c':[5,7,3,9]})\n",
    "print(df5)\n",
    "df5.rank()  ## axis=0이 기본값 -> 열기준으로 "
   ]
  },
  {
   "cell_type": "code",
   "execution_count": 88,
   "id": "f4acecc4-cef9-4dee-881d-338a4244ca2b",
   "metadata": {},
   "outputs": [
    {
     "data": {
      "text/html": [
       "<div>\n",
       "<style scoped>\n",
       "    .dataframe tbody tr th:only-of-type {\n",
       "        vertical-align: middle;\n",
       "    }\n",
       "\n",
       "    .dataframe tbody tr th {\n",
       "        vertical-align: top;\n",
       "    }\n",
       "\n",
       "    .dataframe thead th {\n",
       "        text-align: right;\n",
       "    }\n",
       "</style>\n",
       "<table border=\"1\" class=\"dataframe\">\n",
       "  <thead>\n",
       "    <tr style=\"text-align: right;\">\n",
       "      <th></th>\n",
       "      <th>b</th>\n",
       "      <th>a</th>\n",
       "      <th>c</th>\n",
       "    </tr>\n",
       "  </thead>\n",
       "  <tbody>\n",
       "    <tr>\n",
       "      <th>0</th>\n",
       "      <td>1.000</td>\n",
       "      <td>3.000</td>\n",
       "      <td>2.000</td>\n",
       "    </tr>\n",
       "    <tr>\n",
       "      <th>1</th>\n",
       "      <td>1.500</td>\n",
       "      <td>3.000</td>\n",
       "      <td>1.500</td>\n",
       "    </tr>\n",
       "    <tr>\n",
       "      <th>2</th>\n",
       "      <td>1.500</td>\n",
       "      <td>3.000</td>\n",
       "      <td>1.500</td>\n",
       "    </tr>\n",
       "    <tr>\n",
       "      <th>3</th>\n",
       "      <td>1.000</td>\n",
       "      <td>2.000</td>\n",
       "      <td>3.000</td>\n",
       "    </tr>\n",
       "  </tbody>\n",
       "</table>\n",
       "</div>"
      ],
      "text/plain": [
       "      b     a     c\n",
       "0 1.000 3.000 2.000\n",
       "1 1.500 3.000 1.500\n",
       "2 1.500 3.000 1.500\n",
       "3 1.000 2.000 3.000"
      ]
     },
     "execution_count": 88,
     "metadata": {},
     "output_type": "execute_result"
    }
   ],
   "source": [
    "df5.rank(axis=1) "
   ]
  },
  {
   "cell_type": "code",
   "execution_count": 89,
   "id": "33518529-ed5c-4f3f-afae-37567a58ec0e",
   "metadata": {},
   "outputs": [
    {
     "data": {
      "text/html": [
       "<div>\n",
       "<style scoped>\n",
       "    .dataframe tbody tr th:only-of-type {\n",
       "        vertical-align: middle;\n",
       "    }\n",
       "\n",
       "    .dataframe tbody tr th {\n",
       "        vertical-align: top;\n",
       "    }\n",
       "\n",
       "    .dataframe thead th {\n",
       "        text-align: right;\n",
       "    }\n",
       "</style>\n",
       "<table border=\"1\" class=\"dataframe\">\n",
       "  <thead>\n",
       "    <tr style=\"text-align: right;\">\n",
       "      <th></th>\n",
       "      <th>b</th>\n",
       "      <th>a</th>\n",
       "      <th>c</th>\n",
       "    </tr>\n",
       "  </thead>\n",
       "  <tbody>\n",
       "    <tr>\n",
       "      <th>0</th>\n",
       "      <td>1.000</td>\n",
       "      <td>3.000</td>\n",
       "      <td>2.000</td>\n",
       "    </tr>\n",
       "    <tr>\n",
       "      <th>1</th>\n",
       "      <td>1.500</td>\n",
       "      <td>3.000</td>\n",
       "      <td>1.500</td>\n",
       "    </tr>\n",
       "    <tr>\n",
       "      <th>2</th>\n",
       "      <td>1.500</td>\n",
       "      <td>3.000</td>\n",
       "      <td>1.500</td>\n",
       "    </tr>\n",
       "    <tr>\n",
       "      <th>3</th>\n",
       "      <td>1.000</td>\n",
       "      <td>2.000</td>\n",
       "      <td>3.000</td>\n",
       "    </tr>\n",
       "  </tbody>\n",
       "</table>\n",
       "</div>"
      ],
      "text/plain": [
       "      b     a     c\n",
       "0 1.000 3.000 2.000\n",
       "1 1.500 3.000 1.500\n",
       "2 1.500 3.000 1.500\n",
       "3 1.000 2.000 3.000"
      ]
     },
     "execution_count": 89,
     "metadata": {},
     "output_type": "execute_result"
    }
   ],
   "source": [
    "df5.rank(1) "
   ]
  },
  {
   "cell_type": "code",
   "execution_count": 90,
   "id": "3dd8f02c-c48a-4637-90b8-b0971f8379ae",
   "metadata": {},
   "outputs": [
    {
     "data": {
      "text/plain": [
       "b    16\n",
       "a    28\n",
       "c    24\n",
       "dtype: int64"
      ]
     },
     "execution_count": 90,
     "metadata": {},
     "output_type": "execute_result"
    }
   ],
   "source": [
    "df5.sum()"
   ]
  },
  {
   "cell_type": "code",
   "execution_count": 91,
   "id": "42429645-c4da-4c4f-abbd-e038ebfd3157",
   "metadata": {},
   "outputs": [
    {
     "data": {
      "text/plain": [
       "b    16\n",
       "a    28\n",
       "c    24\n",
       "dtype: int64"
      ]
     },
     "execution_count": 91,
     "metadata": {},
     "output_type": "execute_result"
    }
   ],
   "source": [
    "df5.sum(0)"
   ]
  },
  {
   "cell_type": "code",
   "execution_count": 92,
   "id": "2eb782d0-e9a3-4bf3-a5f6-c56dc5e1d996",
   "metadata": {},
   "outputs": [
    {
     "data": {
      "text/plain": [
       "0    17\n",
       "1    23\n",
       "2    12\n",
       "3    16\n",
       "dtype: int64"
      ]
     },
     "execution_count": 92,
     "metadata": {},
     "output_type": "execute_result"
    }
   ],
   "source": [
    "df5.sum(1)"
   ]
  },
  {
   "cell_type": "code",
   "execution_count": null,
   "id": "afc1480d-b12a-415c-a713-8fb4af7c8232",
   "metadata": {},
   "outputs": [],
   "source": []
  }
 ],
 "metadata": {
  "kernelspec": {
   "display_name": "Python 3 (ipykernel)",
   "language": "python",
   "name": "python3"
  },
  "language_info": {
   "codemirror_mode": {
    "name": "ipython",
    "version": 3
   },
   "file_extension": ".py",
   "mimetype": "text/x-python",
   "name": "python",
   "nbconvert_exporter": "python",
   "pygments_lexer": "ipython3",
   "version": "3.11.7"
  }
 },
 "nbformat": 4,
 "nbformat_minor": 5
}
