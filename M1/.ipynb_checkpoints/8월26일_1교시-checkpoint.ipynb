{
 "cells": [
  {
   "cell_type": "markdown",
   "id": "8fa2c878-75ad-4a22-8cc9-dbe760d6544a",
   "metadata": {},
   "source": [
    "pip --version"
   ]
  },
  {
   "cell_type": "markdown",
   "id": "2731ea15-d9d8-4084-ba5b-e13acff8fc3f",
   "metadata": {},
   "source": [
    "pip install --upgrade pip"
   ]
  },
  {
   "cell_type": "markdown",
   "id": "20ee1512-7fce-479b-a317-704c678e370f",
   "metadata": {},
   "source": [
    "pip install pkg"
   ]
  },
  {
   "cell_type": "markdown",
   "id": "e381eb83-cec5-4778-a9e8-53559e46b75d",
   "metadata": {},
   "source": [
    "-------------------------------------------------------"
   ]
  },
  {
   "cell_type": "code",
   "execution_count": 2,
   "id": "76399bde-2c05-4c5d-b060-35e39522c037",
   "metadata": {},
   "outputs": [],
   "source": [
    "#난수\n",
    "import random as r"
   ]
  },
  {
   "cell_type": "code",
   "execution_count": null,
   "id": "b3d43fc9-5a89-4d44-8fc7-21daf30e6b7a",
   "metadata": {},
   "outputs": [],
   "source": [
    "r.random()"
   ]
  },
  {
   "cell_type": "code",
   "execution_count": null,
   "id": "5c29b856-9a4b-4189-9f13-a8df534df010",
   "metadata": {},
   "outputs": [],
   "source": [
    "for i in range(10):\n",
    "    print(r.random(), \"\\t\", end='')"
   ]
  },
  {
   "cell_type": "code",
   "execution_count": null,
   "id": "36abf58e-f3f1-42fa-b8b4-8915539b6132",
   "metadata": {},
   "outputs": [],
   "source": [
    "for i in range(10):\n",
    "    print(r.randint(1,6))"
   ]
  },
  {
   "cell_type": "code",
   "execution_count": null,
   "id": "e3f0a01d-c9c7-4621-8cdb-476a925dd6fa",
   "metadata": {},
   "outputs": [],
   "source": [
    "for i in range(10):\n",
    "    print(r.randrange(1,7))"
   ]
  },
  {
   "cell_type": "code",
   "execution_count": 12,
   "id": "095cedd2-e1fb-46b7-8880-7a5b102aa0e9",
   "metadata": {},
   "outputs": [
    {
     "name": "stdout",
     "output_type": "stream",
     "text": [
      "['철수', '영희', '미미', '길동']\n",
      "['영희', '길동', '미미', '철수']\n"
     ]
    }
   ],
   "source": [
    "people = [\"철수\", \"영희\", \"미미\", \"길동\"]\n",
    "print(people)\n",
    "\n",
    "r.shuffle(people)\n",
    "print(people)"
   ]
  },
  {
   "cell_type": "code",
   "execution_count": 14,
   "id": "9e6f4a37-7b61-4290-943b-3aff48735971",
   "metadata": {},
   "outputs": [
    {
     "data": {
      "text/plain": [
       "['길동', '미미', '영희', '철수']"
      ]
     },
     "execution_count": 14,
     "metadata": {},
     "output_type": "execute_result"
    }
   ],
   "source": [
    "people = [\"철수\", \"영희\", \"미미\", \"길동\"]\n",
    "people[::-1]"
   ]
  },
  {
   "cell_type": "code",
   "execution_count": 15,
   "id": "e09696bb-0d21-4417-bffb-91c534b94e77",
   "metadata": {},
   "outputs": [
    {
     "data": {
      "text/plain": [
       "['철수', '영희']"
      ]
     },
     "execution_count": 15,
     "metadata": {},
     "output_type": "execute_result"
    }
   ],
   "source": [
    "people[:2]"
   ]
  },
  {
   "cell_type": "code",
   "execution_count": 16,
   "id": "e088025b-d377-4e25-b928-cbe923a9fa84",
   "metadata": {},
   "outputs": [
    {
     "data": {
      "text/plain": [
       "['철수', '영희', '짱구', '길동']"
      ]
     },
     "execution_count": 16,
     "metadata": {},
     "output_type": "execute_result"
    }
   ],
   "source": [
    "position = 0\n",
    "for i in people:\n",
    "    if i == '미미':\n",
    "        people[position] = '짱구'\n",
    "    position += 1\n",
    "people"
   ]
  },
  {
   "cell_type": "code",
   "execution_count": 25,
   "id": "ef17e2ca-5164-4d0a-bf58-f741ad69f608",
   "metadata": {},
   "outputs": [
    {
     "data": {
      "text/plain": [
       "[10, 29, 39, 19, 2, 4, 5, 7]"
      ]
     },
     "execution_count": 25,
     "metadata": {},
     "output_type": "execute_result"
    }
   ],
   "source": [
    "import array as arr\n",
    "numbers = [7, 7, 7, 10, 29, 39, 19, 2, 4, 5, 7]\n",
    "\n",
    "for i in numbers:\n",
    "    if i == 7:\n",
    "        numbers.remove(7)\n",
    "numbers"
   ]
  },
  {
   "cell_type": "code",
   "execution_count": 29,
   "id": "7c5aacc5-c7cd-4eaa-ae58-c14ad6b56b96",
   "metadata": {},
   "outputs": [
    {
     "name": "stdout",
     "output_type": "stream",
     "text": [
      "[100, 97, 94, 91, 88, 85, 82, 79, 76, 73, 70, 67, 64, 61, 58, 55, 52, 49, 46, 43, 40, 37, 34, 31, 28, 25, 22, 19, 16, 13, 10, 7, 4] \t\n",
      "[4, 7, 10, 13, 16, 19, 22, 25, 28, 31, 34, 37, 40, 43, 46, 49, 52, 55, 58, 61, 64, 67, 70, 73, 76, 79, 82, 85, 88, 91, 94, 97, 100] \t1716\n"
     ]
    }
   ],
   "source": [
    "f=[]\n",
    "for i in range(100, 2, -3):\n",
    "    f.append(i)\n",
    "print(f, \"\\t\", end='')\n",
    "f.sort()\n",
    "print()\n",
    "print(f, \"\\t\", end='')"
   ]
  },
  {
   "cell_type": "code",
   "execution_count": 30,
   "id": "c6410e95-60c3-4caa-8a81-7f260bce2c1a",
   "metadata": {},
   "outputs": [
    {
     "name": "stdout",
     "output_type": "stream",
     "text": [
      "1716\n",
      "100\n",
      "4\n",
      "33\n",
      "52.0\n"
     ]
    }
   ],
   "source": [
    "print(sum(f))\n",
    "print(max(f))\n",
    "print(min(f))\n",
    "print(len(f))\n",
    "print(sum(f)/len(f))"
   ]
  },
  {
   "cell_type": "markdown",
   "id": "9ddc85e3-a3e8-4e57-b85b-f8776f9a41e5",
   "metadata": {},
   "source": [
    "# 튜플 == 리스트\n",
    "## but, 튜플은 값 변경 X "
   ]
  },
  {
   "cell_type": "code",
   "execution_count": 32,
   "id": "6265f74e-a93e-4791-88ca-fdce1b49124c",
   "metadata": {},
   "outputs": [
    {
     "data": {
      "text/plain": [
       "[4, 10, 16, 22, 28, 34, 40, 46, 52, 58, 64, 70, 76, 82, 88, 94, 100]"
      ]
     },
     "execution_count": 32,
     "metadata": {},
     "output_type": "execute_result"
    }
   ],
   "source": [
    "f[::2]"
   ]
  },
  {
   "cell_type": "code",
   "execution_count": null,
   "id": "05fddee6-90d3-4353-a2d0-015d4febde66",
   "metadata": {},
   "outputs": [],
   "source": []
  }
 ],
 "metadata": {
  "kernelspec": {
   "display_name": "Python [conda env:base] *",
   "language": "python",
   "name": "conda-base-py"
  },
  "language_info": {
   "codemirror_mode": {
    "name": "ipython",
    "version": 3
   },
   "file_extension": ".py",
   "mimetype": "text/x-python",
   "name": "python",
   "nbconvert_exporter": "python",
   "pygments_lexer": "ipython3",
   "version": "3.13.5"
  }
 },
 "nbformat": 4,
 "nbformat_minor": 5
}
