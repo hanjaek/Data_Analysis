{
 "cells": [
  {
   "cell_type": "markdown",
   "id": "5e466276-e8d4-4c27-8ad3-7ce83c148bb8",
   "metadata": {},
   "source": [
    "# 동아대 M1과정\n",
    "### 8월 25일 월요일\n",
    "##### 김한재 컴퓨터공학과"
   ]
  },
  {
   "cell_type": "code",
   "execution_count": 1,
   "id": "4a7baa1f-8d8b-496e-8764-afafdf549f2e",
   "metadata": {},
   "outputs": [],
   "source": [
    "# 변수 : 컴퓨터에서 데이터를 저장하는 공간\n",
    "a=5\n",
    "b=5.0\n",
    "c=True\n",
    "d=False"
   ]
  },
  {
   "cell_type": "code",
   "execution_count": 2,
   "id": "6c7cbe9e-5fbe-4ceb-9b30-e85f314a5c98",
   "metadata": {},
   "outputs": [],
   "source": [
    "a=10"
   ]
  },
  {
   "cell_type": "code",
   "execution_count": 3,
   "id": "95f6b315-de21-48a0-a6f7-b2857de990c8",
   "metadata": {},
   "outputs": [
    {
     "name": "stdout",
     "output_type": "stream",
     "text": [
      "10\n"
     ]
    }
   ],
   "source": [
    "print(a)"
   ]
  },
  {
   "cell_type": "code",
   "execution_count": 4,
   "id": "c28908f2-e348-448a-9b23-c9fb825e432a",
   "metadata": {},
   "outputs": [
    {
     "name": "stdout",
     "output_type": "stream",
     "text": [
      "3 + 4 = 7\n"
     ]
    }
   ],
   "source": [
    "a=3\n",
    "b=4\n",
    "c=a+b\n",
    "print(a, \"+\", b, \"=\", c)\n"
   ]
  },
  {
   "cell_type": "code",
   "execution_count": 5,
   "id": "5ab6caed-6b25-49bc-a13f-856337ec452c",
   "metadata": {},
   "outputs": [
    {
     "data": {
      "text/plain": [
       "24"
      ]
     },
     "execution_count": 5,
     "metadata": {},
     "output_type": "execute_result"
    }
   ],
   "source": [
    "a=13\n",
    "b=24\n",
    "c=a+b\n",
    "b\n",
    "#1개의 셀에서 마지막 라인의 변수값은 print 됨"
   ]
  },
  {
   "cell_type": "code",
   "execution_count": 6,
   "id": "7258f12b-9128-4e86-a4cb-05a0eb06dbcc",
   "metadata": {},
   "outputs": [
    {
     "data": {
      "text/plain": [
       "(str, str, str)"
      ]
     },
     "execution_count": 6,
     "metadata": {},
     "output_type": "execute_result"
    }
   ],
   "source": [
    "#파이썬은 문자열 = 문자 같음\n",
    "# ''' \"\"\" 은 여러줄 문자 의미\n",
    "s1 = '문자'\n",
    "s2 = \"문자\"\n",
    "s3 = \"\"\" test~~~~~~\n",
    "test~~~~~~\n",
    "\"\"\"\n",
    "\n",
    "type(s1), type(s2), type(s3)"
   ]
  },
  {
   "cell_type": "code",
   "execution_count": 7,
   "id": "21043b06-0f7c-43ed-89d6-7a0232af809f",
   "metadata": {},
   "outputs": [
    {
     "name": "stdout",
     "output_type": "stream",
     "text": [
      "리스트= [1, 2, 3]\n",
      "튜플= (4, 5, 6)\n",
      "튜플= (4, 5, 6)\n"
     ]
    },
    {
     "data": {
      "text/plain": [
       "(list, tuple, tuple)"
      ]
     },
     "execution_count": 7,
     "metadata": {},
     "output_type": "execute_result"
    }
   ],
   "source": [
    "# 리스트\n",
    "m = [1, 2, 3] # 리스트임, 배열아님!, 단순 값 나열\n",
    "o = (4, 5, 6) # 튜플: 단순 값의 나열 중에서 상수\n",
    "p = 4, 5, 6 # 튜플\n",
    "print(\"리스트=\", m)\n",
    "print(\"튜플=\", o)\n",
    "print(\"튜플=\", p)\n",
    "\n",
    "type(m), type(o), type(p)"
   ]
  },
  {
   "cell_type": "code",
   "execution_count": 8,
   "id": "132508bc-17c3-4c5c-91db-33bd84b831a3",
   "metadata": {},
   "outputs": [],
   "source": [
    "#p[0]=100 불가 튜플이기때문"
   ]
  },
  {
   "cell_type": "code",
   "execution_count": 9,
   "id": "12792844-f93f-46bf-ae83-02d7a29b3421",
   "metadata": {},
   "outputs": [
    {
     "data": {
      "text/plain": [
       "300"
      ]
     },
     "execution_count": 9,
     "metadata": {},
     "output_type": "execute_result"
    }
   ],
   "source": [
    "100+200"
   ]
  },
  {
   "cell_type": "code",
   "execution_count": 10,
   "id": "5d656f1b-87f3-40ac-89b4-fe261c20f89e",
   "metadata": {},
   "outputs": [
    {
     "data": {
      "text/plain": [
       "'100200'"
      ]
     },
     "execution_count": 10,
     "metadata": {},
     "output_type": "execute_result"
    }
   ],
   "source": [
    "\"100\"+\"200\""
   ]
  },
  {
   "cell_type": "code",
   "execution_count": 11,
   "id": "775d54ca-d65f-4c38-b94c-0b7b5c7e1fd5",
   "metadata": {},
   "outputs": [
    {
     "data": {
      "text/plain": [
       "3.3333333333333335"
      ]
     },
     "execution_count": 11,
     "metadata": {},
     "output_type": "execute_result"
    }
   ],
   "source": [
    "10/3"
   ]
  },
  {
   "cell_type": "code",
   "execution_count": 12,
   "id": "73a4339e-06cc-4820-9634-5b120c2a0c1d",
   "metadata": {},
   "outputs": [
    {
     "data": {
      "text/plain": [
       "3.3333333333333335"
      ]
     },
     "execution_count": 12,
     "metadata": {},
     "output_type": "execute_result"
    }
   ],
   "source": [
    "10/3"
   ]
  },
  {
   "cell_type": "code",
   "execution_count": 13,
   "id": "c83240e0-f6e5-4715-8929-24f845fe038a",
   "metadata": {},
   "outputs": [
    {
     "data": {
      "text/plain": [
       "3.3333333333333335"
      ]
     },
     "execution_count": 13,
     "metadata": {},
     "output_type": "execute_result"
    }
   ],
   "source": [
    "10/3.0"
   ]
  },
  {
   "cell_type": "code",
   "execution_count": 14,
   "id": "aca4105b-0c28-4a4f-a468-dcba3ed25940",
   "metadata": {},
   "outputs": [
    {
     "data": {
      "text/plain": [
       "3"
      ]
     },
     "execution_count": 14,
     "metadata": {},
     "output_type": "execute_result"
    }
   ],
   "source": [
    "10//3"
   ]
  },
  {
   "cell_type": "code",
   "execution_count": 15,
   "id": "ff350082-fc9f-457a-a384-d46f1bf2e4fa",
   "metadata": {},
   "outputs": [
    {
     "data": {
      "text/plain": [
       "3.0"
      ]
     },
     "execution_count": 15,
     "metadata": {},
     "output_type": "execute_result"
    }
   ],
   "source": [
    "10//3.0"
   ]
  },
  {
   "cell_type": "code",
   "execution_count": 16,
   "id": "faad2326-c6cb-45e8-aab5-6e21dbb2e5d9",
   "metadata": {},
   "outputs": [
    {
     "name": "stdout",
     "output_type": "stream",
     "text": [
      "123.456 * 456.145 = 37\n",
      "456.145 * 123.456 = 37\n",
      "123.5 * 456.14 = 37\n",
      "456.1 * 123.46 = 37\n"
     ]
    }
   ],
   "source": [
    "a=123.456\n",
    "b=456.145\n",
    "print(\"{} * {} = {}\".format(a, b, c))\n",
    "print(\"{1} * {0} = {2}\".format(a, b, c))\n",
    "print(\"{:.1f} * {:.2f} = {:.0f}\".format(a, b, c))\n",
    "print(\"{1:.1f} * {0:.2f} = {2:.0f}\".format(a, b, c))"
   ]
  },
  {
   "cell_type": "code",
   "execution_count": null,
   "id": "ae0b7fae-5181-425d-a414-d13b0907e18e",
   "metadata": {},
   "outputs": [],
   "source": [
    "a=input(\"수를 입력하시오\")\n",
    "type(a)"
   ]
  },
  {
   "cell_type": "code",
   "execution_count": null,
   "id": "55c1f085-c7cc-4fc9-9ab2-71fe7bc1ed4b",
   "metadata": {},
   "outputs": [],
   "source": [
    "b=int(input(\"수 입력하시오\"))\n",
    "type(b)"
   ]
  },
  {
   "cell_type": "code",
   "execution_count": null,
   "id": "1ec3b6d4-aae3-4de2-825e-e0a34d9110d9",
   "metadata": {},
   "outputs": [],
   "source": [
    "5==5.0"
   ]
  },
  {
   "cell_type": "code",
   "execution_count": null,
   "id": "101ed9ae-d87a-480f-85b2-18a52a470e99",
   "metadata": {},
   "outputs": [],
   "source": [
    "type(5) == type(5.0)"
   ]
  },
  {
   "cell_type": "code",
   "execution_count": null,
   "id": "ab547c86-9201-4f67-b4dd-2c0af12d8725",
   "metadata": {},
   "outputs": [],
   "source": []
  }
 ],
 "metadata": {
  "kernelspec": {
   "display_name": "Python [conda env:base] *",
   "language": "python",
   "name": "conda-base-py"
  },
  "language_info": {
   "codemirror_mode": {
    "name": "ipython",
    "version": 3
   },
   "file_extension": ".py",
   "mimetype": "text/x-python",
   "name": "python",
   "nbconvert_exporter": "python",
   "pygments_lexer": "ipython3",
   "version": "3.13.5"
  }
 },
 "nbformat": 4,
 "nbformat_minor": 5
}
