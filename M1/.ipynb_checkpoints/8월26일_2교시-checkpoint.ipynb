{
 "cells": [
  {
   "cell_type": "code",
   "execution_count": 2,
   "id": "3aea27b1-29a5-43f6-949a-07848184a4e8",
   "metadata": {},
   "outputs": [
    {
     "data": {
      "text/plain": [
       "dict"
      ]
     },
     "execution_count": 2,
     "metadata": {},
     "output_type": "execute_result"
    }
   ],
   "source": [
    "dictA={\"name\":\"홍길동\", \"나이\":20, \"직업\":\"개발자\"}\n",
    "type(dictA)"
   ]
  },
  {
   "cell_type": "code",
   "execution_count": 3,
   "id": "43f77be3-44eb-43dc-8661-80c88c30091f",
   "metadata": {},
   "outputs": [
    {
     "name": "stdout",
     "output_type": "stream",
     "text": [
      "개발자\n"
     ]
    }
   ],
   "source": [
    "print(dictA[\"직업\"])"
   ]
  },
  {
   "cell_type": "code",
   "execution_count": 4,
   "id": "f37b2fd4-0f71-4b79-9384-8c8a49ea2001",
   "metadata": {},
   "outputs": [
    {
     "data": {
      "text/plain": [
       "{'name': '홍길동', '나이': 20, '직업': '개발자'}"
      ]
     },
     "execution_count": 4,
     "metadata": {},
     "output_type": "execute_result"
    }
   ],
   "source": [
    "dictA"
   ]
  },
  {
   "cell_type": "code",
   "execution_count": 6,
   "id": "31f64a65-6399-42bc-b3ae-39d7a48c2963",
   "metadata": {},
   "outputs": [],
   "source": [
    "dictA[\"가족\"] = [\"아빠\", \"엄마\", \"동생\", \"누나\"]"
   ]
  },
  {
   "cell_type": "code",
   "execution_count": 7,
   "id": "548ec245-eb86-4aa9-a094-7aa89ec8ef2d",
   "metadata": {},
   "outputs": [
    {
     "data": {
      "text/plain": [
       "{'name': '홍길동', '나이': 20, '직업': '개발자', '가족': ['아빠', '엄마', '동생', '누나']}"
      ]
     },
     "execution_count": 7,
     "metadata": {},
     "output_type": "execute_result"
    }
   ],
   "source": [
    "dictA"
   ]
  },
  {
   "cell_type": "code",
   "execution_count": 8,
   "id": "0173b3fe-7e83-4f71-95a1-822b7fe46cf0",
   "metadata": {},
   "outputs": [
    {
     "name": "stdout",
     "output_type": "stream",
     "text": [
      "나이 제거\n"
     ]
    }
   ],
   "source": [
    "if '나이' in dictA:\n",
    "    dictA.pop('나이')\n",
    "    print(\"나이 제거\")\n",
    "else:\n",
    "    print(\"나이 없음\")\n",
    "    "
   ]
  },
  {
   "cell_type": "code",
   "execution_count": 12,
   "id": "b25bdd2d-c2ac-4ae4-8e45-d96456795be3",
   "metadata": {},
   "outputs": [
    {
     "data": {
      "text/plain": [
       "['.ipynb_checkpoints',\n",
       " '8월25일_1교시.ipynb',\n",
       " '8월25일_2교시.ipynb',\n",
       " '8월26일_1교시.ipynb',\n",
       " '8월26일_2교시.ipynb']"
      ]
     },
     "execution_count": 12,
     "metadata": {},
     "output_type": "execute_result"
    }
   ],
   "source": [
    "import os\n",
    "\n",
    "os.getcwd()\n",
    "os.listdir()"
   ]
  },
  {
   "cell_type": "code",
   "execution_count": null,
   "id": "9c68747a-19d5-4ff7-bec8-7632f8d69dba",
   "metadata": {},
   "outputs": [],
   "source": [
    "\n"
   ]
  }
 ],
 "metadata": {
  "kernelspec": {
   "display_name": "Python [conda env:base] *",
   "language": "python",
   "name": "conda-base-py"
  },
  "language_info": {
   "codemirror_mode": {
    "name": "ipython",
    "version": 3
   },
   "file_extension": ".py",
   "mimetype": "text/x-python",
   "name": "python",
   "nbconvert_exporter": "python",
   "pygments_lexer": "ipython3",
   "version": "3.13.5"
  }
 },
 "nbformat": 4,
 "nbformat_minor": 5
}
