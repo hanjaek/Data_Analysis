{
 "cells": [
  {
   "cell_type": "markdown",
   "metadata": {
    "collapsed": true,
    "jupyter": {
     "outputs_hidden": true
    }
   },
   "source": [
    "# 부동산 정보 크롤링 \n",
    "## 데이터 출처 조인스 - 서비스 중지\n",
    "\n",
    "http://price.joinsland.joins.com/"
   ]
  },
  {
   "cell_type": "markdown",
   "metadata": {},
   "source": [
    "http://price.joinsland.joins.com/area/index.asp?mcateGroup=A1&mcateCode=A1A3A4&areaCode=1168010600"
   ]
  },
  {
   "cell_type": "markdown",
   "metadata": {},
   "source": [
    "다음 URL의 인자로 다음 값들이 전달.\n",
    "\n",
    "http://price.joinsland.joins.com/ajax/price.info.dongapt.asp\n",
    "* mcateGroup: A1=아파트, A6=오피스텔\n",
    "* mcateCode: A1A3A4\n",
    "* areaCode=1168010600\n",
    "\n",
    "결과적으로 지역코드(areaCode)만 지정하면 가격  데이터를 가져올 수 있다."
   ]
  },
  {
   "cell_type": "markdown",
   "metadata": {},
   "source": [
    "# 지역이름과 코드\n",
    "(참고) joinsland.joins.com 자체에도 법정동을 조회하는 내용이 있으나 데이터가 온전한 JSON 이 아니어서 가공하기 어렵다"
   ]
  },
  {
   "cell_type": "code",
   "execution_count": null,
   "metadata": {},
   "outputs": [],
   "source": [
    "# 구/시/군 (MCODE) 코드 가져오기\n",
    "\n",
    "import requests\n",
    "\n",
    "# 서울특별시 하위 '구/시/군' 읽기\n",
    "area_code = '110000000' \n",
    "url = 'http://price.joinsland.joins.com/ajax/area_search.asp?div=MCODE&areaCode=' + area_code\n",
    "\n",
    "r = requests.get(url)\n",
    "print(r.text)\n",
    "\n",
    "# JSON처럼 보이지만 JSON 규격을 따르지 않고 있다"
   ]
  },
  {
   "cell_type": "markdown",
   "metadata": {},
   "source": [
    "# 법정동 이름과 코드\n",
    "부동산 정보등에는 법정동 코드가 사용된다. \n",
    "* 법정동 코드(8자리)\n",
    "* 2(시/도) + 2자리(구/군/구) + 2자리(읍/면/동) + 2자리(리/단지)\n",
    "\n",
    "법정동 전체 코드는 아래 링크\n",
    "\n",
    "* https://goo.gl/tM6r3v\n",
    "\n",
    "상세한 내용은 다음 링크에 설명을 참고\n",
    "\n",
    "* http://nbviewer.jupyter.org/urls/financedata.github.io/posts/korea-area-code.ipynb"
   ]
  },
  {
   "cell_type": "code",
   "execution_count": null,
   "metadata": {},
   "outputs": [],
   "source": [
    "import pandas as pd\n",
    "\n",
    "def get_areacode():\n",
    "    df_areacode = pd.read_csv('https://goo.gl/tM6r3v', sep='\\t', dtype={'법정동코드':str, '법정동명':str})\n",
    "    df_areacode = df_areacode[df_areacode['폐지여부'] == '존재']\n",
    "    df_areacode = df_areacode[ ['법정동코드', '법정동명'] ]\n",
    "    return df_areacode\n",
    "\n",
    "def get_province():\n",
    "    df_areacode = get_areacode()\n",
    "    df_province = df_areacode[ df_areacode['법정동코드'].str.contains('\\d{2}0{8}|36110{6}')]\n",
    "    return df_province"
   ]
  },
  {
   "cell_type": "code",
   "execution_count": null,
   "metadata": {},
   "outputs": [],
   "source": [
    "df_areacode = get_areacode()\n",
    "df_province = get_province()\n",
    "\n",
    "df_province"
   ]
  },
  {
   "cell_type": "code",
   "execution_count": null,
   "metadata": {},
   "outputs": [],
   "source": [
    "df_areacode.head(3)"
   ]
  },
  {
   "cell_type": "code",
   "execution_count": null,
   "metadata": {},
   "outputs": [],
   "source": [
    "df_areacode[ df_areacode['법정동명'].str.contains('서울특별시 강남구') ]"
   ]
  },
  {
   "cell_type": "markdown",
   "metadata": {},
   "source": [
    "# 데이터 전처리"
   ]
  },
  {
   "cell_type": "markdown",
   "metadata": {
    "collapsed": true,
    "jupyter": {
     "outputs_hidden": true
    }
   },
   "source": [
    "http://price.joinsland.joins.com/ajax/price.info.dongapt.asp\n",
    "* mcateGroup A1=아파트, A6=오피스텔\n",
    "* mcateCode: A1A3A4\n",
    "* areaCode=1168010600 # 강남구 대치동"
   ]
  },
  {
   "cell_type": "code",
   "execution_count": null,
   "metadata": {},
   "outputs": [],
   "source": [
    "import pandas as pd\n",
    "url = 'http://price.joinsland.joins.com/ajax/price.info.dongapt.asp?mcateGroup=A1&mcateCode=A1A3A4&areaCode=' + '1168010600'\n",
    "    \n",
    "print(url)\n",
    "dfs = pd.read_html(url,encoding='utf-8')\n",
    "df = dfs"
   ]
  },
  {
   "cell_type": "code",
   "execution_count": null,
   "metadata": {},
   "outputs": [],
   "source": [
    "import pandas as pd\n",
    "import requests\n",
    "from bs4 import BeautifulSoup\n",
    "\n",
    "url = 'http://price.joinsland.joins.com/ajax/price.info.dongapt.asp?mcateGroup=A1&mcateCode=A1A3A4&areaCode=' + '1168010600'\n",
    "\n",
    "r = requests.get(url)\n",
    "soup = BeautifulSoup(r.text, 'lxml')"
   ]
  },
  {
   "cell_type": "code",
   "execution_count": null,
   "metadata": {},
   "outputs": [],
   "source": [
    "table = soup.find('table')\n",
    "trs = table.tbody.find_all('tr')"
   ]
  },
  {
   "cell_type": "code",
   "execution_count": null,
   "metadata": {},
   "outputs": [],
   "source": [
    "rowspan_val = ''\n",
    "\n",
    "for tr in trs[:20]: # 처음 20개 확인\n",
    "    tds = tr.find_all('td')\n",
    "    if tds[0].has_attr('rowspan'):\n",
    "        rowspan_val = tds[0].text\n",
    "        단지명, 면적, 매매가, 매물, 전세가, 전세_매물 = tds[0].text, tds[1].text, tds[2].text, tds[3].text, tds[4].text, tds[5].text\n",
    "    else:\n",
    "        단지명, 면적, 매매가, 매물, 전세가, 전세_매물 = rowspan_val, tds[0].text, tds[1].text, tds[2].text, tds[3].text, tds[4].text\n",
    "    매매가_저 = int(매매가.split(' ~ ')[0].replace(',', ''))\n",
    "    매매가_고 = int(매매가.split(' ~ ')[1].replace(',', ''))\n",
    "    전세가_저 = int(전세가.split(' ~ ')[0].replace(',', ''))\n",
    "    전세가_고 = int(전세가.split(' ~ ')[1].replace(',', ''))\n",
    "    print(단지명, 면적, 매매가_저, 매매가_고, 매물, 전세가_저, 전세가_고, 전세_매물)"
   ]
  },
  {
   "cell_type": "code",
   "execution_count": null,
   "metadata": {},
   "outputs": [],
   "source": [
    "# DataFrame으로 만들기\n",
    "values_list = []\n",
    "\n",
    "table = soup.find('table', attrs={'class':'tbl_compare'})\n",
    "trs = table.tbody.find_all('tr')\n",
    "\n",
    "rowspan_val = ''\n",
    "\n",
    "for tr in trs:\n",
    "    tds = tr.find_all('td')\n",
    "    if tds[0].has_attr('rowspan'):\n",
    "        rowspan_val = tds[0].text\n",
    "        단지명, 면적, 매매가, 매물, 전세가, 전세_매물 = tds[0].text, tds[1].text, tds[2].text, tds[3].text, tds[4].text, tds[5].text\n",
    "    else:\n",
    "        단지명, 면적, 매매가, 매물, 전세가, 전세_매물 = rowspan_val, tds[0].text, tds[1].text, tds[2].text, tds[3].text, tds[4].text\n",
    "    매매가_저 = int(매매가.split(' ~ ')[0].replace(',', ''))\n",
    "    매매가_고 = int(매매가.split(' ~ ')[1].replace(',', ''))\n",
    "    전세가_저 = int(전세가.split(' ~ ')[0].replace(',', ''))\n",
    "    전세가_고 = int(전세가.split(' ~ ')[1].replace(',', ''))\n",
    "    values_list.append([단지명, 면적, 매매가_저, 매매가_고, 매물, 전세가_저, 전세가_고, 전세_매물])\n",
    "    \n",
    "cols = ['단지명', '면적', '매매가_저', '매매가_고', '매물', '전세가_저', '전세가_고', '전세가_매물']   \n",
    "df = pd.DataFrame(values_list, columns=cols)\n",
    "\n",
    "print (\"건수:\", len(df))\n",
    "df.head(3)"
   ]
  },
  {
   "cell_type": "markdown",
   "metadata": {},
   "source": [
    "# 함수로 만들기"
   ]
  },
  {
   "cell_type": "code",
   "execution_count": null,
   "metadata": {},
   "outputs": [],
   "source": [
    "# 조인스부동산 아파트 조회\n",
    "\n",
    "import pandas as pd\n",
    "import requests\n",
    "from bs4 import BeautifulSoup\n",
    "\n",
    "def get_areacode():\n",
    "    df_areacode = pd.read_csv('https://goo.gl/tM6r3v', sep='\\t', dtype={'법정동코드':str, '법정동명':str})\n",
    "    df_areacode = df_areacode[df_areacode['폐지여부'] == '존재']\n",
    "    df_areacode = df_areacode[['법정동코드', '법정동명']]\n",
    "    return df_areacode\n",
    "\n",
    "def get_province():\n",
    "    df_areacode = get_areacode()\n",
    "    df_province = df_areacode[ df_areacode['법정동코드'].str.contains('\\d{2}0{8}|36110{6}')]\n",
    "    return df_province\n",
    "\n",
    "\n",
    "def joins_realasset(areacode = ''):\n",
    "    url = 'http://price.joinsland.joins.com/ajax/price.info.dongapt.asp?mcateGroup=A1&mcateCode=A1A3A4&areaCode=' + areacode\n",
    "\n",
    "    r = requests.get(url)\n",
    "    soup = BeautifulSoup(r.text, 'lxml')\n",
    "    values_list = []\n",
    "\n",
    "    table = soup.find('table', attrs={'class':'tbl_compare'})\n",
    "    trs = table.tbody.find_all('tr')\n",
    "    rowspan_val = ''\n",
    "\n",
    "    for tr in trs:\n",
    "        tds = tr.find_all('td')\n",
    "        if tds[0].has_attr('rowspan'):\n",
    "            rowspan_val = tds[0].text\n",
    "            단지명, 면적, 매매가, 매물, 전세가, 전세_매물 = tds[0].text, tds[1].text, tds[2].text, tds[3].text, tds[4].text, tds[5].text\n",
    "        else:\n",
    "            단지명, 면적, 매매가, 매물, 전세가, 전세_매물 = rowspan_val, tds[0].text, tds[1].text, tds[2].text, tds[3].text, tds[4].text\n",
    "        매매가_저 = int(매매가.split(' ~ ')[0].replace(',', ''))\n",
    "        매매가_고 = int(매매가.split(' ~ ')[1].replace(',', ''))\n",
    "        전세가_저 = int(전세가.split(' ~ ')[0].replace(',', ''))\n",
    "        전세가_고 = int(전세가.split(' ~ ')[1].replace(',', ''))\n",
    "        values_list.append([단지명, 면적, 매매가_저, 매매가_고, 매물, 전세가_저, 전세가_고, 전세_매물])\n",
    "\n",
    "    cols = ['단지명', '면적', '매매가_저', '매매가_고', '매물', '전세가_저', '전세가_고', '전세가_매물']   \n",
    "    df = pd.DataFrame(values_list, columns=cols)\n",
    "    return df"
   ]
  },
  {
   "cell_type": "markdown",
   "metadata": {},
   "source": [
    "# 검색과 활용"
   ]
  },
  {
   "cell_type": "code",
   "execution_count": null,
   "metadata": {},
   "outputs": [],
   "source": [
    "df_areacode = get_areacode()"
   ]
  },
  {
   "cell_type": "code",
   "execution_count": null,
   "metadata": {},
   "outputs": [],
   "source": [
    "area = '신사동'\n",
    "area_code = df_areacode[ df_areacode['법정동명'].str.contains(area) ]\n",
    "area_code"
   ]
  },
  {
   "cell_type": "code",
   "execution_count": null,
   "metadata": {},
   "outputs": [],
   "source": [
    "area = '강남구 신사동'\n",
    "area_code = df_areacode[ df_areacode['법정동명'].str.contains(area) ]['법정동코드'].values[0]\n",
    "area_code"
   ]
  },
  {
   "cell_type": "code",
   "execution_count": null,
   "metadata": {},
   "outputs": [],
   "source": [
    "joins_realasset(area_code)"
   ]
  },
  {
   "cell_type": "markdown",
   "metadata": {},
   "source": [
    "----\n",
    "### 2017 FinanceData http://financedata.github.com , http://fb.com/financedata"
   ]
  }
 ],
 "metadata": {
  "kernelspec": {
   "display_name": "Python 3 (ipykernel)",
   "language": "python",
   "name": "python3"
  },
  "language_info": {
   "codemirror_mode": {
    "name": "ipython",
    "version": 3
   },
   "file_extension": ".py",
   "mimetype": "text/x-python",
   "name": "python",
   "nbconvert_exporter": "python",
   "pygments_lexer": "ipython3",
   "version": "3.11.7"
  },
  "nikola": {
   "category": "dev",
   "date": "2017-08-04 06:40:23 UTC+09:00",
   "description": "조인스랜드 데이터 크롤링",
   "link": "",
   "slug": "joins-land-crawling",
   "tags": "joins,land,crawling",
   "title": "부동산 - 조인스랜드 데이터 크롤링",
   "type": "text"
  }
 },
 "nbformat": 4,
 "nbformat_minor": 4
}
