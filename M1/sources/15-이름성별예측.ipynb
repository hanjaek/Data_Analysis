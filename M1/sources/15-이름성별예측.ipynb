{
 "cells": [
  {
   "cell_type": "markdown",
   "metadata": {},
   "source": [
    "# 영문 이름으로 성별 예측"
   ]
  },
  {
   "cell_type": "code",
   "execution_count": 1,
   "metadata": {},
   "outputs": [
    {
     "name": "stderr",
     "output_type": "stream",
     "text": [
      "[nltk_data] Downloading package names to\n",
      "[nltk_data]     C:\\Users\\root\\AppData\\Roaming\\nltk_data...\n",
      "[nltk_data]   Package names is already up-to-date!\n"
     ]
    },
    {
     "data": {
      "text/plain": [
       "True"
      ]
     },
     "execution_count": 1,
     "metadata": {},
     "output_type": "execute_result"
    }
   ],
   "source": [
    "from nltk.corpus import names\n",
    "import nltk\n",
    "nltk.download('names')"
   ]
  },
  {
   "cell_type": "code",
   "execution_count": 2,
   "metadata": {},
   "outputs": [
    {
     "data": {
      "text/plain": [
       "[('Aamir', '남자'),\n",
       " ('Aaron', '남자'),\n",
       " ('Abbey', '남자'),\n",
       " ('Abbie', '남자'),\n",
       " ('Abbot', '남자'),\n",
       " ('Abbott', '남자'),\n",
       " ('Abby', '남자'),\n",
       " ('Abdel', '남자'),\n",
       " ('Abdul', '남자'),\n",
       " ('Abdulkarim', '남자')]"
      ]
     },
     "execution_count": 2,
     "metadata": {},
     "output_type": "execute_result"
    }
   ],
   "source": [
    "labeled_names = ([(name, '남자') for name in names.words('male.txt')] + \n",
    "                 [(name, '여자') for name in names.words('female.txt')])\n",
    "labeled_names[:10]"
   ]
  },
  {
   "cell_type": "code",
   "execution_count": 3,
   "metadata": {},
   "outputs": [
    {
     "data": {
      "text/plain": [
       "[('Fayette', '여자'),\n",
       " ('Kingsly', '남자'),\n",
       " ('Viole', '여자'),\n",
       " ('Edy', '여자'),\n",
       " ('Wrennie', '여자'),\n",
       " ('Olive', '여자'),\n",
       " ('Alma', '여자'),\n",
       " ('Sheril', '여자'),\n",
       " ('Ichabod', '남자'),\n",
       " ('Hanford', '남자')]"
      ]
     },
     "execution_count": 3,
     "metadata": {},
     "output_type": "execute_result"
    }
   ],
   "source": [
    "import random\n",
    "random.shuffle(labeled_names, )\n",
    "labeled_names[0:10]"
   ]
  },
  {
   "cell_type": "code",
   "execution_count": 4,
   "metadata": {},
   "outputs": [
    {
     "data": {
      "text/plain": [
       "{'last_letter': 'i'}"
      ]
     },
     "execution_count": 4,
     "metadata": {},
     "output_type": "execute_result"
    }
   ],
   "source": [
    "def gender_features(word):\n",
    "    return {'last_letter': word[-1]}\n",
    "\n",
    "gender_features('Sopi')"
   ]
  },
  {
   "cell_type": "code",
   "execution_count": 5,
   "metadata": {},
   "outputs": [
    {
     "data": {
      "text/plain": [
       "[({'last_letter': 'e'}, '여자'),\n",
       " ({'last_letter': 'y'}, '남자'),\n",
       " ({'last_letter': 'e'}, '여자'),\n",
       " ({'last_letter': 'y'}, '여자'),\n",
       " ({'last_letter': 'e'}, '여자'),\n",
       " ({'last_letter': 'e'}, '여자'),\n",
       " ({'last_letter': 'a'}, '여자'),\n",
       " ({'last_letter': 'l'}, '여자'),\n",
       " ({'last_letter': 'd'}, '남자'),\n",
       " ({'last_letter': 'd'}, '남자')]"
      ]
     },
     "execution_count": 5,
     "metadata": {},
     "output_type": "execute_result"
    }
   ],
   "source": [
    "featuresets = [(gender_features(n), gender) for (n, gender) in labeled_names]\n",
    "featuresets[0:10]"
   ]
  },
  {
   "cell_type": "code",
   "execution_count": 6,
   "metadata": {},
   "outputs": [],
   "source": [
    "train_set, test_set = featuresets[2000:], featuresets[:2000]\n",
    "classifier = nltk.NaiveBayesClassifier.train(train_set)"
   ]
  },
  {
   "cell_type": "code",
   "execution_count": 7,
   "metadata": {},
   "outputs": [
    {
     "data": {
      "text/plain": [
       "'여자'"
      ]
     },
     "execution_count": 7,
     "metadata": {},
     "output_type": "execute_result"
    }
   ],
   "source": [
    "classifier.classify(gender_features('Sephipa'))"
   ]
  },
  {
   "cell_type": "code",
   "execution_count": 8,
   "metadata": {},
   "outputs": [
    {
     "name": "stdout",
     "output_type": "stream",
     "text": [
      "Most Informative Features\n",
      "             last_letter = 'a'                여자 : 남자     =     36.3 : 1.0\n",
      "             last_letter = 'k'                남자 : 여자     =     33.9 : 1.0\n",
      "             last_letter = 'p'                남자 : 여자     =     17.7 : 1.0\n",
      "             last_letter = 'f'                남자 : 여자     =     13.4 : 1.0\n",
      "             last_letter = 'v'                남자 : 여자     =      9.2 : 1.0\n"
     ]
    }
   ],
   "source": [
    "#  likelihood ratios\n",
    "classifier.show_most_informative_features(5)"
   ]
  },
  {
   "cell_type": "code",
   "execution_count": 9,
   "metadata": {},
   "outputs": [
    {
     "name": "stdout",
     "output_type": "stream",
     "text": [
      "0.7635\n"
     ]
    }
   ],
   "source": [
    "print(nltk.classify.accuracy(classifier, test_set))"
   ]
  },
  {
   "cell_type": "code",
   "execution_count": 10,
   "metadata": {
    "scrolled": true
   },
   "outputs": [
    {
     "data": {
      "text/plain": [
       "{'first_letter': 'j',\n",
       " 'last_letter': 'a',\n",
       " 'length': 6,\n",
       " 'count(a)': 1,\n",
       " 'count(b)': 0,\n",
       " 'count(c)': 0,\n",
       " 'count(d)': 0,\n",
       " 'count(e)': 0,\n",
       " 'count(f)': 0,\n",
       " 'count(g)': 0,\n",
       " 'count(h)': 1,\n",
       " 'count(i)': 0,\n",
       " 'count(j)': 1,\n",
       " 'count(k)': 0,\n",
       " 'count(l)': 0,\n",
       " 'count(m)': 0,\n",
       " 'count(n)': 0,\n",
       " 'count(o)': 1,\n",
       " 'count(p)': 0,\n",
       " 'count(q)': 0,\n",
       " 'count(r)': 0,\n",
       " 'count(s)': 1,\n",
       " 'count(t)': 0,\n",
       " 'count(u)': 1,\n",
       " 'count(v)': 0,\n",
       " 'count(w)': 0,\n",
       " 'count(x)': 0,\n",
       " 'count(y)': 0,\n",
       " 'count(z)': 0}"
      ]
     },
     "execution_count": 10,
     "metadata": {},
     "output_type": "execute_result"
    }
   ],
   "source": [
    "def gender_features2(name):\n",
    "    features = {}\n",
    "    features[\"first_letter\"] = name[0].lower()\n",
    "    features[\"last_letter\"] = name[-1].lower()\n",
    "    features[\"length\"] = len(name)\n",
    "    for letter in 'abcdefghijklmnopqrstuvwxyz':\n",
    "        features[\"count({})\".format(letter)] = name.lower().count(letter)\n",
    "#        features[\"has({})\".format(letter)] = (letter in name.lower())\n",
    "    return features\n",
    "\n",
    "gender_features2('Joshua') "
   ]
  },
  {
   "cell_type": "code",
   "execution_count": 11,
   "metadata": {},
   "outputs": [
    {
     "data": {
      "text/plain": [
       "[('Fayette', '여자'),\n",
       " ('Kingsly', '남자'),\n",
       " ('Viole', '여자'),\n",
       " ('Edy', '여자'),\n",
       " ('Wrennie', '여자'),\n",
       " ('Olive', '여자'),\n",
       " ('Alma', '여자'),\n",
       " ('Sheril', '여자'),\n",
       " ('Ichabod', '남자'),\n",
       " ('Hanford', '남자')]"
      ]
     },
     "execution_count": 11,
     "metadata": {},
     "output_type": "execute_result"
    }
   ],
   "source": [
    "labeled_names[0:10]"
   ]
  },
  {
   "cell_type": "code",
   "execution_count": 12,
   "metadata": {},
   "outputs": [
    {
     "data": {
      "text/plain": [
       "[({'first_letter': 'f',\n",
       "   'last_letter': 'e',\n",
       "   'length': 7,\n",
       "   'count(a)': 1,\n",
       "   'count(b)': 0,\n",
       "   'count(c)': 0,\n",
       "   'count(d)': 0,\n",
       "   'count(e)': 2,\n",
       "   'count(f)': 1,\n",
       "   'count(g)': 0,\n",
       "   'count(h)': 0,\n",
       "   'count(i)': 0,\n",
       "   'count(j)': 0,\n",
       "   'count(k)': 0,\n",
       "   'count(l)': 0,\n",
       "   'count(m)': 0,\n",
       "   'count(n)': 0,\n",
       "   'count(o)': 0,\n",
       "   'count(p)': 0,\n",
       "   'count(q)': 0,\n",
       "   'count(r)': 0,\n",
       "   'count(s)': 0,\n",
       "   'count(t)': 2,\n",
       "   'count(u)': 0,\n",
       "   'count(v)': 0,\n",
       "   'count(w)': 0,\n",
       "   'count(x)': 0,\n",
       "   'count(y)': 1,\n",
       "   'count(z)': 0},\n",
       "  '여자'),\n",
       " ({'first_letter': 'k',\n",
       "   'last_letter': 'y',\n",
       "   'length': 7,\n",
       "   'count(a)': 0,\n",
       "   'count(b)': 0,\n",
       "   'count(c)': 0,\n",
       "   'count(d)': 0,\n",
       "   'count(e)': 0,\n",
       "   'count(f)': 0,\n",
       "   'count(g)': 1,\n",
       "   'count(h)': 0,\n",
       "   'count(i)': 1,\n",
       "   'count(j)': 0,\n",
       "   'count(k)': 1,\n",
       "   'count(l)': 1,\n",
       "   'count(m)': 0,\n",
       "   'count(n)': 1,\n",
       "   'count(o)': 0,\n",
       "   'count(p)': 0,\n",
       "   'count(q)': 0,\n",
       "   'count(r)': 0,\n",
       "   'count(s)': 1,\n",
       "   'count(t)': 0,\n",
       "   'count(u)': 0,\n",
       "   'count(v)': 0,\n",
       "   'count(w)': 0,\n",
       "   'count(x)': 0,\n",
       "   'count(y)': 1,\n",
       "   'count(z)': 0},\n",
       "  '남자')]"
      ]
     },
     "execution_count": 12,
     "metadata": {},
     "output_type": "execute_result"
    }
   ],
   "source": [
    "featuresets = [(gender_features2(n), gender) for (n, gender) in labeled_names]\n",
    "featuresets[0:2]"
   ]
  },
  {
   "cell_type": "code",
   "execution_count": 13,
   "metadata": {
    "scrolled": true
   },
   "outputs": [
    {
     "name": "stdout",
     "output_type": "stream",
     "text": [
      "0.8005\n"
     ]
    }
   ],
   "source": [
    "train_set, test_set = featuresets[2000:], featuresets[:2000]\n",
    "classifier = nltk.NaiveBayesClassifier.train(train_set)\n",
    "print(nltk.classify.accuracy(classifier, test_set))"
   ]
  },
  {
   "cell_type": "code",
   "execution_count": 14,
   "metadata": {},
   "outputs": [
    {
     "name": "stdout",
     "output_type": "stream",
     "text": [
      "Most Informative Features\n",
      "             last_letter = 'a'                여자 : 남자     =     36.3 : 1.0\n",
      "             last_letter = 'k'                남자 : 여자     =     33.9 : 1.0\n",
      "             last_letter = 'p'                남자 : 여자     =     17.7 : 1.0\n",
      "             last_letter = 'f'                남자 : 여자     =     13.4 : 1.0\n",
      "             last_letter = 'v'                남자 : 여자     =      9.2 : 1.0\n",
      "             last_letter = 'o'                남자 : 여자     =      8.8 : 1.0\n",
      "             last_letter = 'd'                남자 : 여자     =      8.6 : 1.0\n",
      "             last_letter = 'm'                남자 : 여자     =      7.9 : 1.0\n",
      "             last_letter = 'r'                남자 : 여자     =      7.3 : 1.0\n",
      "                count(v) = 2                  여자 : 남자     =      6.4 : 1.0\n",
      "             last_letter = 'w'                남자 : 여자     =      5.9 : 1.0\n",
      "            first_letter = 'w'                남자 : 여자     =      5.2 : 1.0\n",
      "                count(w) = 2                  남자 : 여자     =      5.1 : 1.0\n",
      "                count(a) = 3                  여자 : 남자     =      4.9 : 1.0\n",
      "                count(w) = 1                  남자 : 여자     =      4.8 : 1.0\n",
      "             last_letter = 'g'                남자 : 여자     =      4.3 : 1.0\n",
      "             last_letter = 'j'                남자 : 여자     =      4.0 : 1.0\n",
      "             last_letter = 't'                남자 : 여자     =      4.0 : 1.0\n",
      "             last_letter = 's'                남자 : 여자     =      3.9 : 1.0\n",
      "                count(k) = 2                  여자 : 남자     =      3.7 : 1.0\n",
      "             last_letter = 'i'                여자 : 남자     =      3.7 : 1.0\n",
      "             last_letter = 'b'                남자 : 여자     =      3.5 : 1.0\n",
      "                count(o) = 2                  남자 : 여자     =      3.4 : 1.0\n",
      "            first_letter = 'u'                남자 : 여자     =      3.3 : 1.0\n",
      "                  length = 2                  남자 : 여자     =      3.3 : 1.0\n",
      "                count(f) = 2                  남자 : 여자     =      3.2 : 1.0\n",
      "                count(a) = 2                  여자 : 남자     =      3.2 : 1.0\n",
      "             last_letter = 'z'                남자 : 여자     =      3.2 : 1.0\n",
      "                count(i) = 3                  남자 : 여자     =      3.1 : 1.0\n",
      "             last_letter = 'u'                남자 : 여자     =      3.0 : 1.0\n",
      "                count(l) = 3                  여자 : 남자     =      2.9 : 1.0\n",
      "                count(d) = 3                  남자 : 여자     =      2.9 : 1.0\n",
      "                count(e) = 3                  여자 : 남자     =      2.7 : 1.0\n",
      "                count(p) = 3                  여자 : 남자     =      2.5 : 1.0\n",
      "                count(u) = 2                  남자 : 여자     =      2.4 : 1.0\n",
      "            first_letter = 'k'                여자 : 남자     =      2.2 : 1.0\n",
      "            first_letter = 'h'                남자 : 여자     =      2.2 : 1.0\n",
      "                count(p) = 1                  남자 : 여자     =      2.1 : 1.0\n",
      "             last_letter = 'n'                남자 : 여자     =      2.1 : 1.0\n",
      "            first_letter = 'q'                남자 : 여자     =      2.1 : 1.0\n",
      "                count(y) = 2                  여자 : 남자     =      2.1 : 1.0\n",
      "                count(d) = 2                  남자 : 여자     =      2.0 : 1.0\n",
      "             last_letter = 'l'                남자 : 여자     =      2.0 : 1.0\n",
      "                  length = 3                  남자 : 여자     =      1.9 : 1.0\n",
      "                count(i) = 2                  여자 : 남자     =      1.8 : 1.0\n",
      "                count(r) = 2                  남자 : 여자     =      1.8 : 1.0\n",
      "             last_letter = 'e'                여자 : 남자     =      1.8 : 1.0\n",
      "            first_letter = 'l'                여자 : 남자     =      1.7 : 1.0\n",
      "                count(u) = 1                  남자 : 여자     =      1.7 : 1.0\n",
      "                count(n) = 2                  여자 : 남자     =      1.7 : 1.0\n",
      "                count(h) = 3                  남자 : 여자     =      1.7 : 1.0\n",
      "                count(l) = 4                  남자 : 여자     =      1.7 : 1.0\n",
      "                  length = 15                 남자 : 여자     =      1.7 : 1.0\n",
      "            first_letter = 'o'                남자 : 여자     =      1.7 : 1.0\n",
      "            first_letter = 'x'                남자 : 여자     =      1.7 : 1.0\n",
      "                count(e) = 2                  여자 : 남자     =      1.7 : 1.0\n",
      "                count(h) = 2                  남자 : 여자     =      1.7 : 1.0\n",
      "                count(l) = 2                  여자 : 남자     =      1.6 : 1.0\n",
      "            first_letter = 'y'                남자 : 여자     =      1.6 : 1.0\n",
      "            first_letter = 'c'                여자 : 남자     =      1.6 : 1.0\n",
      "             last_letter = 'h'                남자 : 여자     =      1.6 : 1.0\n",
      "                count(t) = 2                  여자 : 남자     =      1.6 : 1.0\n",
      "                count(v) = 1                  남자 : 여자     =      1.6 : 1.0\n",
      "                  length = 10                 여자 : 남자     =      1.5 : 1.0\n",
      "                count(b) = 2                  여자 : 남자     =      1.5 : 1.0\n",
      "                count(a) = 0                  남자 : 여자     =      1.5 : 1.0\n",
      "            first_letter = 't'                남자 : 여자     =      1.5 : 1.0\n",
      "                count(p) = 2                  남자 : 여자     =      1.5 : 1.0\n",
      "            first_letter = 'p'                남자 : 여자     =      1.5 : 1.0\n",
      "                count(n) = 3                  여자 : 남자     =      1.5 : 1.0\n",
      "                count(c) = 2                  여자 : 남자     =      1.4 : 1.0\n",
      "            first_letter = 'z'                남자 : 여자     =      1.4 : 1.0\n",
      "                count(o) = 1                  남자 : 여자     =      1.4 : 1.0\n",
      "                count(b) = 3                  남자 : 여자     =      1.4 : 1.0\n",
      "            first_letter = 'm'                여자 : 남자     =      1.4 : 1.0\n",
      "                count(b) = 1                  남자 : 여자     =      1.4 : 1.0\n",
      "                count(g) = 1                  남자 : 여자     =      1.4 : 1.0\n",
      "                count(h) = 1                  남자 : 여자     =      1.4 : 1.0\n",
      "                count(t) = 3                  여자 : 남자     =      1.4 : 1.0\n",
      "                count(f) = 1                  남자 : 여자     =      1.4 : 1.0\n",
      "            first_letter = 'r'                남자 : 여자     =      1.4 : 1.0\n",
      "                count(i) = 1                  여자 : 남자     =      1.3 : 1.0\n",
      "                count(m) = 2                  남자 : 여자     =      1.3 : 1.0\n",
      "            first_letter = 'e'                여자 : 남자     =      1.3 : 1.0\n",
      "                count(i) = 0                  남자 : 여자     =      1.3 : 1.0\n",
      "                count(z) = 1                  남자 : 여자     =      1.3 : 1.0\n",
      "             last_letter = 'x'                남자 : 여자     =      1.3 : 1.0\n",
      "                count(s) = 2                  여자 : 남자     =      1.3 : 1.0\n",
      "            first_letter = 'v'                여자 : 남자     =      1.3 : 1.0\n",
      "                  length = 12                 여자 : 남자     =      1.3 : 1.0\n",
      "            first_letter = 'n'                여자 : 남자     =      1.3 : 1.0\n",
      "                count(s) = 1                  남자 : 여자     =      1.3 : 1.0\n",
      "            first_letter = 'b'                남자 : 여자     =      1.3 : 1.0\n",
      "                  length = 9                  여자 : 남자     =      1.3 : 1.0\n",
      "            first_letter = 's'                남자 : 여자     =      1.3 : 1.0\n",
      "                count(t) = 1                  남자 : 여자     =      1.2 : 1.0\n",
      "             last_letter = 'y'                남자 : 여자     =      1.2 : 1.0\n",
      "                  length = 11                 남자 : 여자     =      1.2 : 1.0\n",
      "                count(l) = 1                  여자 : 남자     =      1.2 : 1.0\n",
      "                count(g) = 2                  남자 : 여자     =      1.2 : 1.0\n"
     ]
    }
   ],
   "source": [
    "classifier.show_most_informative_features(100)"
   ]
  },
  {
   "cell_type": "code",
   "execution_count": 15,
   "metadata": {},
   "outputs": [],
   "source": [
    ">>> train_names = labeled_names[1500:]\n",
    ">>> devtest_names = labeled_names[500:1500]\n",
    ">>> test_names = labeled_names[:500]"
   ]
  },
  {
   "cell_type": "code",
   "execution_count": 16,
   "metadata": {},
   "outputs": [
    {
     "name": "stdout",
     "output_type": "stream",
     "text": [
      "0.767\n"
     ]
    }
   ],
   "source": [
    "train_set = [(gender_features(n), gender) for (n, gender) in train_names]\n",
    "devtest_set = [(gender_features(n), gender) for (n, gender) in devtest_names]\n",
    "test_set = [(gender_features(n), gender) for (n, gender) in test_names]\n",
    "classifier = nltk.NaiveBayesClassifier.train(train_set)\n",
    "print(nltk.classify.accuracy(classifier, devtest_set)) "
   ]
  },
  {
   "cell_type": "code",
   "execution_count": 17,
   "metadata": {},
   "outputs": [
    {
     "data": {
      "text/plain": [
       "[({'last_letter': 'e'}, '여자'),\n",
       " ({'last_letter': 'a'}, '여자'),\n",
       " ({'last_letter': 's'}, '남자'),\n",
       " ({'last_letter': 'm'}, '남자'),\n",
       " ({'last_letter': 'l'}, '여자'),\n",
       " ({'last_letter': 'y'}, '여자'),\n",
       " ({'last_letter': 'e'}, '여자'),\n",
       " ({'last_letter': 'y'}, '남자'),\n",
       " ({'last_letter': 'y'}, '남자'),\n",
       " ({'last_letter': 'a'}, '여자'),\n",
       " ({'last_letter': 'o'}, '남자'),\n",
       " ({'last_letter': 'e'}, '여자'),\n",
       " ({'last_letter': 'a'}, '여자'),\n",
       " ({'last_letter': 'i'}, '여자'),\n",
       " ({'last_letter': 'd'}, '남자'),\n",
       " ({'last_letter': 'd'}, '남자'),\n",
       " ({'last_letter': 'a'}, '여자'),\n",
       " ({'last_letter': 'e'}, '여자'),\n",
       " ({'last_letter': 'o'}, '남자'),\n",
       " ({'last_letter': 'd'}, '남자')]"
      ]
     },
     "execution_count": 17,
     "metadata": {},
     "output_type": "execute_result"
    }
   ],
   "source": [
    "train_set[:20]"
   ]
  },
  {
   "cell_type": "code",
   "execution_count": 18,
   "metadata": {},
   "outputs": [],
   "source": [
    "errors = []\n",
    "for (name, tag) in devtest_names:\n",
    "    guess = classifier.classify(gender_features(name))\n",
    "    if guess != tag:\n",
    "        errors.append( (tag, guess, name) )"
   ]
  },
  {
   "cell_type": "code",
   "execution_count": 19,
   "metadata": {},
   "outputs": [
    {
     "name": "stdout",
     "output_type": "stream",
     "text": [
      "correct=남자       guess=여자       name=Abbie                         \n",
      "correct=남자       guess=여자       name=Aditya                        \n",
      "correct=남자       guess=여자       name=Aguste                        \n",
      "correct=남자       guess=여자       name=Ajay                          \n",
      "correct=남자       guess=여자       name=Allie                         \n",
      "correct=남자       guess=여자       name=Ambrose                       \n",
      "correct=남자       guess=여자       name=Arne                          \n",
      "correct=남자       guess=여자       name=Artie                         \n",
      "correct=남자       guess=여자       name=Bailey                        \n",
      "correct=남자       guess=여자       name=Barnabe                       \n",
      "correct=남자       guess=여자       name=Barney                        \n",
      "correct=남자       guess=여자       name=Barri                         \n",
      "correct=남자       guess=여자       name=Barth                         \n",
      "correct=남자       guess=여자       name=Bernie                        \n",
      "correct=남자       guess=여자       name=Bjorne                        \n",
      "correct=남자       guess=여자       name=Blare                         \n",
      "correct=남자       guess=여자       name=Brandy                        \n",
      "correct=남자       guess=여자       name=Broddie                       \n",
      "correct=남자       guess=여자       name=Cary                          \n",
      "correct=남자       guess=여자       name=Casey                         \n",
      "correct=남자       guess=여자       name=Charley                       \n",
      "correct=남자       guess=여자       name=Charlie                       \n",
      "correct=남자       guess=여자       name=Chauncey                      \n",
      "correct=남자       guess=여자       name=Claire                        \n",
      "correct=남자       guess=여자       name=Clemmie                       \n",
      "correct=남자       guess=여자       name=Cole                          \n",
      "correct=남자       guess=여자       name=Cyrille                       \n",
      "correct=남자       guess=여자       name=Derby                         \n",
      "correct=남자       guess=여자       name=Eddie                         \n",
      "correct=남자       guess=여자       name=Elisha                        \n",
      "correct=남자       guess=여자       name=Emory                         \n",
      "correct=남자       guess=여자       name=Etienne                       \n",
      "correct=남자       guess=여자       name=Fairfax                       \n",
      "correct=남자       guess=여자       name=Felipe                        \n",
      "correct=남자       guess=여자       name=Finley                        \n",
      "correct=남자       guess=여자       name=Freddy                        \n",
      "correct=남자       guess=여자       name=French                        \n",
      "correct=남자       guess=여자       name=Gale                          \n",
      "correct=남자       guess=여자       name=Gay                           \n",
      "correct=남자       guess=여자       name=Giffie                        \n",
      "correct=남자       guess=여자       name=Giorgi                        \n",
      "correct=남자       guess=여자       name=Giuseppe                      \n",
      "correct=남자       guess=여자       name=Gordie                        \n",
      "correct=남자       guess=여자       name=Greggory                      \n",
      "correct=남자       guess=여자       name=Hadley                        \n",
      "correct=남자       guess=여자       name=Hailey                        \n",
      "correct=남자       guess=여자       name=Heinrich                      \n",
      "correct=남자       guess=여자       name=Henrie                        \n",
      "correct=남자       guess=여자       name=Hilary                        \n",
      "correct=남자       guess=여자       name=Hillary                       \n",
      "correct=남자       guess=여자       name=Hodge                         \n",
      "correct=남자       guess=여자       name=Jeromy                        \n",
      "correct=남자       guess=여자       name=Jessee                        \n",
      "correct=남자       guess=여자       name=Jessie                        \n",
      "correct=남자       guess=여자       name=Jodie                         \n",
      "correct=남자       guess=여자       name=Jody                          \n",
      "correct=남자       guess=여자       name=Johnny                        \n",
      "correct=남자       guess=여자       name=Jory                          \n",
      "correct=남자       guess=여자       name=Keene                         \n",
      "correct=남자       guess=여자       name=Kelley                        \n",
      "correct=남자       guess=여자       name=Kenny                         \n",
      "correct=남자       guess=여자       name=Kerry                         \n",
      "correct=남자       guess=여자       name=Krishna                       \n",
      "correct=남자       guess=여자       name=Lindsay                       \n",
      "correct=남자       guess=여자       name=Lonny                         \n",
      "correct=남자       guess=여자       name=Lorne                         \n",
      "correct=남자       guess=여자       name=Marietta                      \n",
      "correct=남자       guess=여자       name=Martie                        \n",
      "correct=남자       guess=여자       name=Marty                         \n",
      "correct=남자       guess=여자       name=Matty                         \n",
      "correct=남자       guess=여자       name=Max                           \n",
      "correct=남자       guess=여자       name=Meredeth                      \n",
      "correct=남자       guess=여자       name=Moe                           \n",
      "correct=남자       guess=여자       name=Morlee                        \n",
      "correct=남자       guess=여자       name=Morry                         \n",
      "correct=남자       guess=여자       name=Nikki                         \n",
      "correct=남자       guess=여자       name=Noe                           \n",
      "correct=남자       guess=여자       name=Pace                          \n",
      "correct=남자       guess=여자       name=Page                          \n",
      "correct=남자       guess=여자       name=Price                         \n",
      "correct=남자       guess=여자       name=Pryce                         \n",
      "correct=남자       guess=여자       name=Quincy                        \n",
      "correct=남자       guess=여자       name=Ravi                          \n",
      "correct=남자       guess=여자       name=Rawley                        \n",
      "correct=남자       guess=여자       name=Reese                         \n",
      "correct=남자       guess=여자       name=Reggy                         \n",
      "correct=남자       guess=여자       name=Rice                          \n",
      "correct=남자       guess=여자       name=Rickey                        \n",
      "correct=남자       guess=여자       name=Rikki                         \n",
      "correct=남자       guess=여자       name=Roarke                        \n",
      "correct=남자       guess=여자       name=Robbie                        \n",
      "correct=남자       guess=여자       name=Rusty                         \n",
      "correct=남자       guess=여자       name=Salomone                      \n",
      "correct=남자       guess=여자       name=Sasha                         \n",
      "correct=남자       guess=여자       name=Serge                         \n",
      "correct=남자       guess=여자       name=Shelley                       \n",
      "correct=남자       guess=여자       name=Sinclare                      \n",
      "correct=남자       guess=여자       name=Sly                           \n",
      "correct=남자       guess=여자       name=Solly                         \n",
      "correct=남자       guess=여자       name=Tallie                        \n",
      "correct=남자       guess=여자       name=Thorndike                     \n",
      "correct=남자       guess=여자       name=Torey                         \n",
      "correct=남자       guess=여자       name=Tye                           \n",
      "correct=남자       guess=여자       name=Uriah                         \n",
      "correct=남자       guess=여자       name=Vale                          \n",
      "correct=남자       guess=여자       name=Vance                         \n",
      "correct=남자       guess=여자       name=Verge                         \n",
      "correct=남자       guess=여자       name=Virge                         \n",
      "correct=남자       guess=여자       name=Wallache                      \n",
      "correct=남자       guess=여자       name=Winnie                        \n",
      "correct=남자       guess=여자       name=Wittie                        \n",
      "correct=남자       guess=여자       name=Wojciech                      \n",
      "correct=남자       guess=여자       name=Wolfie                        \n",
      "correct=남자       guess=여자       name=Zachery                       \n",
      "correct=남자       guess=여자       name=Zackariah                     \n",
      "correct=남자       guess=여자       name=Zane                          \n",
      "correct=남자       guess=여자       name=Zollie                        \n",
      "correct=여자       guess=남자       name=Adrien                        \n",
      "correct=여자       guess=남자       name=Ag                            \n",
      "correct=여자       guess=남자       name=Agnes                         \n",
      "correct=여자       guess=남자       name=Allis                         \n",
      "correct=여자       guess=남자       name=Allison                       \n",
      "correct=여자       guess=남자       name=Allys                         \n",
      "correct=여자       guess=남자       name=Alyson                        \n",
      "correct=여자       guess=남자       name=Amber                         \n",
      "correct=여자       guess=남자       name=Ariel                         \n",
      "correct=여자       guess=남자       name=Averil                        \n",
      "correct=여자       guess=남자       name=Beret                         \n",
      "correct=여자       guess=남자       name=Bette-Ann                     \n",
      "correct=여자       guess=남자       name=Caril                         \n",
      "correct=여자       guess=남자       name=Carlin                        \n",
      "correct=여자       guess=남자       name=Caro                          \n",
      "correct=여자       guess=남자       name=Caroleen                      \n",
      "correct=여자       guess=남자       name=Cass                          \n",
      "correct=여자       guess=남자       name=Cathyleen                     \n",
      "correct=여자       guess=남자       name=Chantal                       \n",
      "correct=여자       guess=남자       name=Charleen                      \n",
      "correct=여자       guess=남자       name=Charyl                        \n",
      "correct=여자       guess=남자       name=Cherin                        \n",
      "correct=여자       guess=남자       name=Chris                         \n",
      "correct=여자       guess=남자       name=Chriss                        \n",
      "correct=여자       guess=남자       name=Christean                     \n",
      "correct=여자       guess=남자       name=Christel                      \n",
      "correct=여자       guess=남자       name=Christian                     \n",
      "correct=여자       guess=남자       name=Clio                          \n",
      "correct=여자       guess=남자       name=Colleen                       \n",
      "correct=여자       guess=남자       name=Cybel                         \n",
      "correct=여자       guess=남자       name=Demeter                       \n",
      "correct=여자       guess=남자       name=Devin                         \n",
      "correct=여자       guess=남자       name=Donnajean                     \n",
      "correct=여자       guess=남자       name=Dorit                         \n",
      "correct=여자       guess=남자       name=Eileen                        \n",
      "correct=여자       guess=남자       name=Elisabet                      \n",
      "correct=여자       guess=남자       name=Ellynn                        \n",
      "correct=여자       guess=남자       name=Emlynn                        \n",
      "correct=여자       guess=남자       name=Ethelin                       \n",
      "correct=여자       guess=남자       name=Ethelyn                       \n",
      "correct=여자       guess=남자       name=Ethyl                         \n",
      "correct=여자       guess=남자       name=Fallon                        \n",
      "correct=여자       guess=남자       name=Greer                         \n",
      "correct=여자       guess=남자       name=Grier                         \n",
      "correct=여자       guess=남자       name=Gwenn                         \n",
      "correct=여자       guess=남자       name=Idell                         \n",
      "correct=여자       guess=남자       name=Inez                          \n",
      "correct=여자       guess=남자       name=Iris                          \n",
      "correct=여자       guess=남자       name=Isabeau                       \n",
      "correct=여자       guess=남자       name=Isobel                        \n",
      "correct=여자       guess=남자       name=Janet                         \n",
      "correct=여자       guess=남자       name=Jannel                        \n",
      "correct=여자       guess=남자       name=Janot                         \n",
      "correct=여자       guess=남자       name=Jaynell                       \n",
      "correct=여자       guess=남자       name=Jean                          \n",
      "correct=여자       guess=남자       name=Jen                           \n",
      "correct=여자       guess=남자       name=Jewel                         \n",
      "correct=여자       guess=남자       name=Jo-Ann                        \n",
      "correct=여자       guess=남자       name=Jocelin                       \n",
      "correct=여자       guess=남자       name=Joselyn                       \n",
      "correct=여자       guess=남자       name=Jourdan                       \n",
      "correct=여자       guess=남자       name=Joyan                         \n",
      "correct=여자       guess=남자       name=Juliann                       \n",
      "correct=여자       guess=남자       name=Kameko                        \n",
      "correct=여자       guess=남자       name=Karel                         \n",
      "correct=여자       guess=남자       name=Karil                         \n",
      "correct=여자       guess=남자       name=Kat                           \n",
      "correct=여자       guess=남자       name=Katalin                       \n",
      "correct=여자       guess=남자       name=Katheryn                      \n",
      "correct=여자       guess=남자       name=Kathleen                      \n",
      "correct=여자       guess=남자       name=Kellen                        \n",
      "correct=여자       guess=남자       name=Kellyann                      \n",
      "correct=여자       guess=남자       name=Kiersten                      \n",
      "correct=여자       guess=남자       name=Kristyn                       \n",
      "correct=여자       guess=남자       name=Kyrstin                       \n",
      "correct=여자       guess=남자       name=Leanor                        \n",
      "correct=여자       guess=남자       name=Lil                           \n",
      "correct=여자       guess=남자       name=Loralyn                       \n",
      "correct=여자       guess=남자       name=Lyndell                       \n",
      "correct=여자       guess=남자       name=Lynn                          \n",
      "correct=여자       guess=남자       name=Marabel                       \n",
      "correct=여자       guess=남자       name=Marget                        \n",
      "correct=여자       guess=남자       name=Marillin                      \n",
      "correct=여자       guess=남자       name=Marit                         \n",
      "correct=여자       guess=남자       name=Maryangelyn                   \n",
      "correct=여자       guess=남자       name=Meghan                        \n",
      "correct=여자       guess=남자       name=Melisent                      \n",
      "correct=여자       guess=남자       name=Mercedes                      \n",
      "correct=여자       guess=남자       name=Milicent                      \n",
      "correct=여자       guess=남자       name=Min                           \n",
      "correct=여자       guess=남자       name=Mirabel                       \n",
      "correct=여자       guess=남자       name=Pegeen                        \n",
      "correct=여자       guess=남자       name=Persis                        \n",
      "correct=여자       guess=남자       name=Rachel                        \n",
      "correct=여자       guess=남자       name=Raynell                       \n",
      "correct=여자       guess=남자       name=Renell                        \n",
      "correct=여자       guess=남자       name=Rianon                        \n",
      "correct=여자       guess=남자       name=Robin                         \n",
      "correct=여자       guess=남자       name=Rochell                       \n",
      "correct=여자       guess=남자       name=Rosamund                      \n",
      "correct=여자       guess=남자       name=Rozamond                      \n",
      "correct=여자       guess=남자       name=Ryann                         \n",
      "correct=여자       guess=남자       name=Shamit                        \n",
      "correct=여자       guess=남자       name=Shannen                       \n",
      "correct=여자       guess=남자       name=Sheryl                        \n",
      "correct=여자       guess=남자       name=Sibel                         \n",
      "correct=여자       guess=남자       name=Sibyl                         \n",
      "correct=여자       guess=남자       name=Tamiko                        \n",
      "correct=여자       guess=남자       name=Taryn                         \n",
      "correct=여자       guess=남자       name=Umeko                         \n",
      "correct=여자       guess=남자       name=Vivyan                        \n",
      "correct=여자       guess=남자       name=Wandis                        \n",
      "correct=여자       guess=남자       name=Wileen                        \n",
      "correct=여자       guess=남자       name=Willow                        \n",
      "correct=여자       guess=남자       name=Winnifred                     \n",
      "correct=여자       guess=남자       name=Wynn                          \n"
     ]
    }
   ],
   "source": [
    "for (tag, guess, name) in sorted(errors):\n",
    "    print('correct={:<8} guess={:<8s} name={:<30}'.format(tag, guess, name))"
   ]
  },
  {
   "cell_type": "code",
   "execution_count": 20,
   "metadata": {},
   "outputs": [],
   "source": [
    "def gender_features(word):\n",
    "    return {'suffix1': word[-1:],\n",
    "            'suffix2': word[-2:]}"
   ]
  },
  {
   "cell_type": "code",
   "execution_count": 21,
   "metadata": {},
   "outputs": [
    {
     "name": "stdout",
     "output_type": "stream",
     "text": [
      "0.785\n"
     ]
    }
   ],
   "source": [
    "train_set = [(gender_features(n), gender) for (n, gender) in train_names]\n",
    "devtest_set = [(gender_features(n), gender) for (n, gender) in devtest_names]\n",
    "classifier = nltk.NaiveBayesClassifier.train(train_set)\n",
    "print(nltk.classify.accuracy(classifier, devtest_set))"
   ]
  },
  {
   "cell_type": "code",
   "execution_count": 22,
   "metadata": {},
   "outputs": [
    {
     "data": {
      "text/plain": [
       "[('Robbie', '여자'),\n",
       " ('Onlea', '여자'),\n",
       " ('Sturgis', '남자'),\n",
       " ('Liam', '남자'),\n",
       " ('Murial', '여자'),\n",
       " ('Clemmy', '여자'),\n",
       " ('Brynne', '여자'),\n",
       " ('Johny', '남자'),\n",
       " ('Dewey', '남자'),\n",
       " ('Catarina', '여자'),\n",
       " ('Alphonso', '남자'),\n",
       " ('Elnore', '여자'),\n",
       " ('Elisa', '여자'),\n",
       " ('Tiphani', '여자'),\n",
       " ('Lenard', '남자'),\n",
       " ('Ellwood', '남자'),\n",
       " ('Selina', '여자'),\n",
       " ('Blondie', '여자'),\n",
       " ('Gustavo', '남자'),\n",
       " ('Alfred', '남자')]"
      ]
     },
     "execution_count": 22,
     "metadata": {},
     "output_type": "execute_result"
    }
   ],
   "source": [
    "# train_set[:20]\n",
    "train_names[:20]"
   ]
  }
 ],
 "metadata": {
  "kernelspec": {
   "display_name": "Python 3 (ipykernel)",
   "language": "python",
   "name": "python3"
  },
  "language_info": {
   "codemirror_mode": {
    "name": "ipython",
    "version": 3
   },
   "file_extension": ".py",
   "mimetype": "text/x-python",
   "name": "python",
   "nbconvert_exporter": "python",
   "pygments_lexer": "ipython3",
   "version": "3.11.7"
  }
 },
 "nbformat": 4,
 "nbformat_minor": 4
}
