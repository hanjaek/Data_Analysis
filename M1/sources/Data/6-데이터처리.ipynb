{
 "cells": [
  {
   "cell_type": "markdown",
   "metadata": {
    "colab_type": "text",
    "id": "20ep-IX9KjEv"
   },
   "source": [
    "## 파일 다루기\n",
    "- 텍스트 파일 다운로드\n",
    "- http://opentechschool.github.io/python-data-intro/files/radishsurvey.txt"
   ]
  },
  {
   "cell_type": "code",
   "execution_count": null,
   "metadata": {
    "colab": {},
    "colab_type": "code",
    "id": "6Zj5rwcpKjEv",
    "outputId": "1d1b55cb-080f-46b2-f615-d29ac034a9c0"
   },
   "outputs": [],
   "source": [
    "!curl http://opentechschool.github.io/python-data-intro/files/radishsurvey.txt\\\n",
    "    -o ./data/radishsurvey.txt"
   ]
  },
  {
   "cell_type": "markdown",
   "metadata": {
    "colab": {},
    "colab_type": "code",
    "id": "QzKSwDaWKjE1",
    "outputId": "b7c75e54-234a-4105-8ee0-726527e0c2b6"
   },
   "source": [
    "#!head -10 ./data/radishsurvey.txt\n",
    "!type radishsurvey.txt"
   ]
  },
  {
   "cell_type": "code",
   "execution_count": 1,
   "metadata": {
    "colab": {},
    "colab_type": "code",
    "id": "BbqjM8JIKjE6",
    "outputId": "71c1b3c8-668c-4d5f-e4a2-d68c6a583a33"
   },
   "outputs": [
    {
     "name": "stdout",
     "output_type": "stream",
     "text": [
      "Evie Pulsford voted for April Cross\n",
      "Matilda Condon voted for April Cross\n",
      "Samantha Mansell voted for Champion\n",
      "geronima trevisani voted for cherry belle\n",
      "Alexandra Shoebridge voted for Snow Belle\n",
      "Sarah Ahuia Ova voted for Snow Belle\n",
      "Emma Slattery voted for Bunny Tail\n",
      "Fabiana  Milanesi voted for Champion\n",
      "Makayla McMinn voted for Snow Belle\n",
      "Julian O'Leary voted for Sicily Giant\n",
      "Hannah Collie voted for Bunny Tail\n",
      "Toby Lundie voted for Plum Purple\n",
      "Baldo Palerma voted for Champion\n",
      "Phoebe Barwell voted for Plum Purple\n",
      "Sheng Shen voted for Champion\n",
      "Jonathan Rolph voted for Snow Belle\n",
      "Aaron Yarnold voted for Red King\n",
      "Indiana angwin voted for  Daikon\n",
      "Luke Komine voted for White Icicle\n",
      "Blake Ricardo voted for Daikon\n",
      "Mikayla Biddell voted for Daikon\n",
      "Piper Wheelwright voted for Bunny Tail\n",
      "Bailey Derrington voted for White Icicle\n",
      "Eufrosina Ferri voted for Daikon\n",
      "Madeleine Abrahams voted for Daikon\n",
      "Indiana Cowper voted for Sicily Giant\n",
      "Procopio Zito voted for Red King\n",
      "Ryan Langley voted for French Breakfast\n",
      "anthony Gairdner voted for French Breakfast\n",
      "Darcy Kayser voted for Champion\n",
      "Adelmo De Luca voted for Plum Purple\n",
      "Sienna Hovell voted for Champion\n",
      "Mary Cardell voted for April Cross\n",
      "Ebony Agnes voted for Daikon\n",
      "Lola Atkinson voted for Plum Purple\n",
      "Jonathan Walton voted for Champion\n",
      "Tristan Gwynn voted for Red King\n",
      "Jackson Longman voted for Red King\n",
      "Archer Dodds voted for April Cross\n",
      "Lilian Burne voted for French Breakfast\n",
      "Ava McNaughtan voted for April Cross\n",
      "Nate Shelley voted for Daikon\n",
      "Antonia Buccho voted for Champion\n",
      "Kaitlyn Rudduck voted for Cherry Belle\n",
      "Skye Thynne voted for Champion\n",
      "Ethan Collings voted for Plum Purple\n",
      "Finn Leverrier voted for Plum Purple\n",
      "Lee T'an voted for Plum Purple\n",
      "Tyler Forbes voted for White Icicle\n",
      "abbey dunkley voted for  plum purple\n",
      "rose stacy voted for french breakfast\n",
      "Gianfranco Cremonesi voted for White Icicle\n",
      "Grace Wentworth voted for French Breakfast\n",
      "Cooper Menkens voted for  Snow Belle\n",
      "Scarlett Macdougall voted for French Breakfast\n",
      "Fabio Pugliesi voted for Bunny Tail\n",
      "Keira Wrenfordsley voted for Red King\n",
      "Daniel Krimper voted for  Plum Purple\n",
      "Anna Deniehy voted for April Cross\n",
      "Sabrina Beneventi voted for Cherry Belle\n",
      "Oliver Potts voted for Snow Belle\n",
      "Milla Winn voted for Plum Purple\n",
      "Finn Whitworth voted for Sicily Giant\n",
      "Sophie Keynes voted for Plum Purple\n",
      "Joel Brownell voted for Plum Purple\n",
      "Jonathan Parsons voted for French Breakfast\n",
      "Amelia Ellwood voted for Snow Belle\n",
      "Lincoln Gatehouse voted for Bunny Tail\n",
      "Jin Huang voted for Daikon\n",
      "Kuan-Yin Sun voted for Champion\n",
      "Tao Hsiao voted for White Icicle\n",
      "Emily Walters voted for White Icicle\n",
      "nicholas kirby voted for french breakfast\n",
      "Hong Tsui voted for April Cross\n",
      "Mikayla Fullagar voted for Cherry Belle\n",
      "Lola Catchpole voted for April Cross\n",
      "Lelia Toscani voted for Bunny Tail\n",
      "Natasha Prout voted for Cherry Belle\n",
      "Raffaello Schiavone voted for Red King\n",
      "Erin Stephen voted for Plum Purple\n",
      "Eve Peacock voted for Daikon\n",
      "Jordan Manning voted for Sicily Giant\n",
      "Tyler Lister voted for April Cross\n",
      "brodie agnew voted for daikon\n",
      "Lincoln Hirschfeld voted for Champion\n",
      "Ciriaca Genovesi voted for Bunny Tail\n",
      "Dewei Niu voted for Snow Belle\n",
      "Fai Teng voted for Bunny Tail\n",
      "Rossana Cattaneo voted for  Snow Belle\n",
      "Isabelle Coombes voted for Daikon\n",
      "Layla Hitchcock voted for Red King\n",
      "Ashley Brigstocke voted for Red King\n",
      "Lei Tai voted for Daikon\n",
      "Victoria Humffray voted for Sicily Giant\n",
      "Jake Champ voted for Daikon\n",
      "Ben Vosper voted for Cherry Belle\n",
      "Harrison Rose voted for Red King\n",
      "Thomas Oom voted for White Icicle\n",
      "Sophie Browning voted for Red King\n",
      "Scarlett Hughes voted for Bunny Tail\n",
      "Anthony Collits voted for Champion\n",
      "Alicia Forrest voted for Sicily Giant\n",
      "Riley Leakey voted for April Cross\n",
      "Bethany Calwell voted for French Breakfast\n",
      "Leo Sheil voted for April Cross\n",
      "Kai MacMahon voted for April Cross\n",
      "Rong Kuo voted for Champion\n",
      "Stephanie Schnaars voted for White Icicle\n",
      "Bethany Bardolph voted for French Breakfast\n",
      "Guido Beneventi voted for French Breakfast\n",
      "Victoria Witt voted for Daikon\n",
      "Jun Hsiung voted for Bunny Tail\n",
      "Noah Berrick voted for Daikon\n",
      "Beato Mazzanti voted for Sicily Giant\n",
      "Anna Denning voted for White Icicle\n",
      "Sebastian George voted for Cherry Belle\n",
      "Mackenzie Andrade voted for Champion\n",
      "Sarah Joris  voted for Champion\n",
      "Joel Cassell voted for Plum Purple\n",
      "Harrison Moowattin voted for Champion\n",
      "william fenner voted for plum purple\n",
      "Madeline Corbin voted for Bunny Tail\n",
      "Sebastian Davitt voted for Champion\n",
      "Li Qin Ch'ien voted for Sicily Giant\n",
      "Owen Lea voted for Champion\n",
      "Liam Copeland voted for Champion\n",
      "Brianna Eltham voted for Sicily Giant\n",
      "Joseph Gresswell voted for Sicily Giant\n",
      "Alfonsina Marchesi voted for April Cross\n",
      "Caitlin Houlding voted for Snow Belle\n",
      "Natalie Schlapp voted for April Cross\n",
      "Shaiming Fu voted for Champion\n",
      "Lisandro Monaldo voted for Champion\n",
      "Ruby Fox voted for White Icicle\n",
      "Benjamin Rankin voted for Snow Belle\n",
      "Connor Letters voted for April Cross\n",
      "Laura Macdowell voted for Daikon\n",
      "Jake Hervey voted for April Cross\n",
      "Alyssa Batman voted for Snow Belle\n",
      "Archer Larra voted for French Breakfast\n",
      "Brayden Dixon voted for Bunny Tail\n",
      "Kuan-Yin Kuo voted for Cherry Belle\n",
      "Lucy Ley voted for Red King\n",
      "Rachele  Russo voted for Cherry Belle\n",
      "Lucy Somers voted for Daikon\n",
      "Ella Boucaut voted for Champion\n",
      "Iacopo Baresi voted for Bunny Tail\n",
      "Ali Dedman voted for White Icicle\n",
      "Victoria Edinburgh voted for French Breakfast\n",
      "Brianna Pye voted for Red King\n",
      "Joel Bruce voted for Snow Belle\n",
      "Lola Lea voted for Bunny Tail\n",
      "Zachary Burford voted for Champion\n",
      "Gabriella Bruton voted for April Cross\n",
      "Finn Dunstan voted for Cherry Belle\n",
      "Logan Truchanas voted for Red King\n",
      "beau mclarty voted for white icicle\n",
      "Carla De Luca voted for Daikon\n",
      "Taylah Reynolds voted for Champion\n",
      "Ava Musgrave voted for Bunny Tail\n",
      "Jade Grimmett voted for Bunny Tail\n",
      "Eliza Fink voted for April Cross\n",
      "Charles Tearle voted for April Cross\n",
      "Victoria Birch voted for Snow Belle\n",
      "Mackenzie Geach voted for Plum Purple\n",
      "Charles Card voted for Cherry Belle\n",
      "Olivia Warnes voted for Sicily Giant\n",
      "Jake Murdoch voted for Cherry Belle\n",
      "Brayden Massina voted for April Cross\n",
      "Sarah Milford voted for White Icicle\n",
      "Lilian Pike voted for French Breakfast\n",
      "Blake Dakin voted for Champion\n",
      "Chi Hsiung voted for April Cross\n",
      "Ludovica Siciliano voted for Sicily Giant\n",
      "Rose Leahy voted for French Breakfast\n",
      "Nicodemo Udinese voted for Bunny Tail\n",
      "Amy Harriman voted for Sicily Giant\n",
      "Harrison Macgeorge voted for Red King\n",
      "Charles Mockridge voted for Cherry Belle\n",
      "Victoria Hardie  voted for Sicily Giant\n",
      "Jake Hambly voted for Sicily Giant\n",
      "Bartolomeo Mancini voted for French Breakfast\n",
      "Maya Shackleton voted for Snow Belle\n",
      "Hudson Dodgshun voted for White Icicle\n",
      "Scarlett Sullivan voted for Snow Belle\n",
      "Noah Doyne voted for April cross\n",
      "Aidan Santo voted for Bunny Tail\n",
      "kai emmett voted for bunny tail\n",
      "Christopher Gillan voted for Daikon\n",
      "Lara Salting voted for White Icicle\n",
      "Alfonso Costa voted for Daikon\n",
      "Mackenzie Knatchbull voted for Red King\n",
      "Oliver Beit voted for Plum Purple\n",
      "Thomas Muecke voted for French Breakfast\n",
      "Sabrina Li Fonti voted for Bunny Tail\n",
      "Jasmine Brake voted for Snow Belle\n",
      "Sienna Bonnor voted for Daikon\n",
      "Isabelle Llewelyn voted for Daikon\n",
      "Amelie Farber voted for White Icicle\n",
      "Keira Horner voted for Red King\n",
      "Annabelle Colechin voted for French Breakfast\n",
      "George Schlunke voted for Daikon\n",
      "Hugo Stretch voted for French Breakfast\n",
      "Isabella Pardey voted for White Icicle\n",
      "Toby Docker voted for Red King\n",
      "Caitlyn Hotchin voted for French Breakfast\n",
      "Samuel Ansell voted for Sicily Giant\n",
      "Prospero Milano voted for Champion\n",
      "Zhi Chin voted for White Icicle\n",
      "nate brooker voted for daikon\n",
      "Elizabeth McNab voted for April Cross\n",
      "Amelie Torpy voted for Champion\n",
      "Audrey Bock voted for Bunny Tail\n",
      "Abbey Dawson voted for Plum Purple\n",
      "Hugo Coppleson voted for Daikon\n",
      "Lilly Tait voted for Red King\n",
      "Archer Frederick voted for April Cross\n",
      "Alvisio Mazzi voted for April Cross\n",
      "Chloe  MacLaurin voted for Champion\n",
      "Georgia Bruny voted for April Cross\n",
      "Caitlyn Mullah voted for White Icicle\n",
      "Gang Chia voted for Red King\n",
      "Lauren Pennefather voted for French Breakfast\n",
      "Fang Ch'eng voted for Cherry Belle\n",
      "Summer Withers voted for Snow Belle\n",
      "Kayla Sievier voted for Snow Belle\n",
      "Edoardo Sal voted for Champion\n",
      "Layla Fossey voted for April Cross\n",
      "Ella Weston voted for Champion\n",
      "Patrick Camidge voted for French Breakfast\n",
      "Erin Stretton voted for French Breakfast\n",
      "Poppy Duggan voted for Champion\n",
      "Daniel Hogben voted for Daikon\n",
      "Wan Tsai voted for Snow Belle\n",
      "Olimpia Udinesi voted for April Cross\n",
      "Xue Fang Fu voted for Daikon\n",
      "Alyssa McInnes voted for Daikon\n",
      "Connor Morphett voted for Plum Purple\n",
      "Nathan Trott voted for French Breakfast\n",
      "Brock Brunker voted for Bunny Tail\n",
      "Hayden O'Connell voted for French Breakfast\n",
      "James  Larra voted for April Cross\n",
      "Eva Geiger voted for Plum Purple\n",
      "Taj Shackell voted for White Icicle\n",
      "Eliza O'Haran voted for Champion\n",
      "Aidan Dore voted for April Cross\n",
      "Aiden Reginald voted for Plum Purple\n",
      "Bruna Rizzo voted for Snow Belle\n",
      "Alex Wemyss voted for April Cross\n",
      "claudia westgarth voted for daikon\n",
      "Jett Glynde voted for Plum Purple\n",
      "Brooke Huffer voted for Daikon\n",
      "Stephanie Synan voted for Sicily Giant\n",
      "Salvatore Sagese voted for French Breakfast\n",
      "Edgardo Mazzanti voted for Daikon\n",
      "Brodie De Lissa voted for Cherry Belle\n",
      "Cai Pan voted for Sicily Giant\n",
      "Caitlyn Ridgeway voted for Sicily Giant\n",
      "Mason Dymock voted for Plum Purple\n",
      "Oliviero Lucchesi voted for Bunny Tail\n",
      "Antonietta Baresi voted for Cherry Belle\n",
      "Abbey Cousens voted for Daikon\n",
      "Hui Hsiung voted for Cherry Belle\n",
      "Marcus Brown voted for Sicily Giant\n",
      "James Poupinel voted for Daikon\n",
      "Lucas Tomkinson voted for Champion\n",
      "Xin Qian Shih voted for White Icicle\n",
      "Abigail Clark voted for White Icicle\n",
      "Archie Gilfillan voted for French Breakfast\n",
      "maya woolcock voted for april cross\n",
      "Wei Hsiao voted for Daikon\n",
      "Lauren Rosevear voted for Red King\n",
      "Eve Gargett voted for Snow Belle\n",
      "Cristian Pisano voted for Champion\n",
      "Bianca Knopwood voted for White Icicle\n",
      "Alyssa Loewe voted for Daikon\n",
      "Feng Li voted for French Breakfast\n",
      "Yi Min Chu voted for Plum Purple\n",
      "Aiden Tasman voted for Red King\n",
      "corinna lucchese voted for champion\n",
      "Taylah Shore voted for Cherry Belle\n",
      "nilde beneventi voted for french breakfast\n",
      "edward greener voted for bunny tail\n",
      "Nate Lodewyckx voted for Sicily Giant\n",
      "Mariam Langridge voted for Red King\n",
      "Indiana Cory voted for Champion\n",
      "David Rees voted for April Cross\n",
      "Daniel Appleton voted for Red King\n",
      "Luke Leeper voted for Red King\n",
      "Toby Spring voted for French Breakfast\n",
      "Cody Laffer voted for Red King\n",
      "Lilian Woodriff voted for Plum Purple\n",
      "hudson crane voted for sicily giant\n",
      "Anthony Wand voted for Bunny Tail\n",
      "Dean Mattner voted for Red King\n",
      "Lucinda Howarde voted for Sicily Giant\n",
      "Caleb Clancy voted for Red King\n",
      "Mia Legg voted for White Icicle\n",
      "Isla Mehaffey voted for Sicily Giant\n",
      "Cooper Lasseter voted for April Cross\n",
      "Indiana Scott voted for Cherry Belle\n",
      "Kaitlyn Kay voted for French Breakfast\n",
      "Abbey Aronson voted for April Cross\n",
      "Madeleine Hartung voted for Snow Belle\n",
      "Abbey Tyas voted for Red King\n",
      "Jacob Spowers voted for Snow Belle\n",
      "Brodie Fraser voted for French Breakfast\n",
      "Ivo Lucchesi voted for Champion\n",
      "Harry Wormald voted for French Breakfast\n",
      "Lilian Macquarie voted for White Icicle\n",
      "Chelsea Warby voted for Bunny Tail\n",
      "Eugenio Pagnotto voted for Sicily Giant\n",
      "Michael Hargrave voted for Cherry Belle\n",
      "Leda Romani voted for April Cross\n",
      "Christopher Walton voted for Champion\n",
      "Zachary Bass voted for White Icicle\n",
      "jorja franklyn voted for white icicle\n",
      "Makayla Sutton voted for Plum Purple\n",
      "Shu Fang Tsou voted for French Breakfast\n",
      "Evie Carey voted for Bunny Tail\n",
      "Alannah Bleakley voted for Bunny Tail\n",
      "Alma Longo voted for Cherry Belle\n",
      "Abbey Garvin voted for Snow Belle\n",
      "Isabella Van De Velde voted for Plum Purple\n",
      "scarlett price voted for april cross\n",
      "Beau Hauslaib voted for Champion\n",
      "Isabelle Mathew voted for Sicily Giant\n",
      "Laura Callinan voted for Cherry Belle\n",
      "Cody Le Rennetel voted for French Breakfast\n",
      "Rachel Luke voted for Snow Belle\n",
      "Tristan Glynde voted for Snow Belle\n",
      "Qiao Tien voted for Bunny Tail\n",
      "Alana Meares voted for Red King\n",
      "Xiao Chen Chiang voted for Sicily Giant\n",
      "Jack Finlay voted for Cherry Belle\n",
      "Jaxon Keen  voted for Plum Purple\n",
      "Jordan Catani voted for Plum Purple\n",
      "Piera Trevisan voted for Red King\n",
      "Bailey Mussen voted for Bunny Tail\n",
      "Hayley Coverdale voted for White Icicle\n",
      "Sophie Eipper voted for Snow Belle\n",
      "Beata Endrizzi voted for Daikon\n",
      "David Moynihan voted for White Icicle\n",
      "Andrew Martens voted for French Breakfast\n",
      "Nate Higgs voted for Red King\n",
      "Isaac Banks voted for Snow Belle\n",
      "Xavier Sligo voted for Champion\n",
      "Nathan Aird  voted for Plum Purple\n",
      "Cooper Monk voted for Bunny Tail\n",
      "Kayla Kinsella voted for Champion\n",
      "Sean Maclurcan voted for Sicily Giant\n",
      "Jett Faucett voted for April Cross\n",
      "Koby Mary voted for Red King\n",
      "Lok Fan voted for Champion\n",
      "Liam Burn voted for French Breakfast\n",
      "Ryan Skeats voted for Snow Belle\n",
      "Harrison Barlee voted for Cherry Belle\n",
      "Marcus South voted for Champion\n",
      "Emily Kumm voted for  White Icicle\n",
      "Tristan Lack voted for Cherry Belle\n",
      "Rebecca Godfrey voted for Red King\n",
      "Bailey Randell voted for Red King\n",
      "Emma Slater voted for Bunny Tail\n",
      "Ellie Eaton voted for Sicily Giant\n",
      "Hamish Kevin voted for Sicily Giant\n",
      "Bella Lyttle voted for Bunny Tail\n",
      "Guang Lo voted for April Cross\n",
      "Jai Keith voted for Daikon\n",
      "Lucinda Emanuel voted for Plum Purple\n",
      "Tayla English voted for Plum Purple\n",
      "Eden Petchy voted for Daikon\n",
      "Lee Chen voted for April Cross\n",
      "Angus De Mestre voted for White Icicle\n",
      "Maya Huish voted for Snow Belle\n",
      "Emily Plante voted for White Icicle\n",
      "Connor Fairbridge voted for Bunny Tail\n",
      "Lara Cawker voted for Champion\n",
      "Blanda Panicucci voted for Bunny Tail\n",
      "Napoleone Marcelo voted for Champion\n",
      "Georgia Gillen voted for Snow Belle\n",
      "Giselda Napolitano voted for French Breakfast\n",
      "Anthony Hugo voted for Red King\n",
      "Oscar Saltau voted for April Cross\n",
      "Ashton Pearce voted for Daikon\n",
      "Kiara Maxwell-Mahon voted for White Icicle\n",
      "Sebastian Ball voted for French Breakfast\n",
      "Anna Howarde voted for Bunny Tail\n",
      "Lauren Nisbet voted for Plum Purple\n",
      "Patrick Porteus voted for Bunny Tail\n",
      "ling tuan voted for Red King\n",
      "Park Ch'en voted for Sicily Giant\n",
      "Yi Tseng voted for French Breakfast\n",
      "Angelina Dangar voted for Snow Belle\n",
      "Carolina Cattaneo voted for Snow Belle\n",
      "Sean Tait voted for Snow Belle\n",
      "Alex Falk voted for White Icicle\n",
      "oliver thirkell voted for french breakfast\n",
      "Jesse Fairley voted for Champion\n",
      "Benito Cocci voted for Snow Belle\n",
      "Laura Samuels voted for Champion\n",
      "Kuan-Yin Tao voted for Cherry Belle\n",
      "Shi She voted for Champion\n",
      "Isabella Hoffnung voted for April Cross\n",
      "George Carandini voted for White Icicle\n",
      "Sarah Bindi voted for French Breakfast\n",
      "Andrew Quick voted for April Cross\n",
      "Giosuè Romano voted for Champion\n",
      "Eva Ruth voted for Plum Purple\n",
      "Koby Gabriel voted for Champion\n",
      "Jayden Josephson voted for April Cross\n",
      "Mafalda Marchesi voted for Snow Belle\n",
      "Gabrielle Porteus voted for Daikon\n",
      "Dylan Synnot voted for Red King\n",
      "Brooke Kisch voted for Bunny Tail\n",
      "Quintilia Trentini voted for Bunny Tail\n",
      "Taj Moonlight voted for Plum Purple\n",
      "Ava Sorell voted for Bunny Tail\n",
      "Kate Buchanan voted for Sicily Giant\n",
      "Stella Inwood voted for Cherry Belle\n",
      "Cody Glauert voted for Snow Belle\n",
      "Callimaco Lombardi voted for Champion\n",
      "ella irving voted for cherry belle\n",
      "Guan-yin Hsiao voted for Red King\n",
      "alicia muscio voted for april cross\n",
      "Alana Sturdee voted for Champion\n",
      "Makayla Fairbairn voted for White Icicle\n",
      "Kaitlyn Collings voted for Bunny Tail\n",
      "Alexis Le Hunte voted for Champion\n",
      "lilian andrade voted for bunny tail\n",
      "Alannah Housley voted for Bunny Tail\n",
      "Rose Peeler voted for Champion\n",
      "Yue Wan Yeh voted for White Icicle\n",
      "Evie Langwell voted for Snow Belle\n",
      "Zoe Jasprizza voted for Red King\n",
      "Ivo Sagese voted for April Cross\n",
      "Rory Springthorpe voted for Snow Belle\n",
      "hannah gabriel voted for red king\n",
      "Jonathan Paten voted for Bunny Tail\n",
      "Jessica Rapke voted for Sicily Giant\n",
      "Jake Sterne voted for Daikon\n",
      "Lola Mashman voted for Bunny Tail\n",
      "Chan Yen voted for Cherry Belle\n",
      "Timothy Beeton voted for White Icicle\n",
      "Joseph Hill voted for Daikon\n",
      "Luke Gye voted for Plum Purple\n",
      "Giuseppe Manna voted for Sicily Giant\n",
      "Matilda Wardlaw voted for Red King\n",
      "Hannah Dibbs voted for Plum Purple\n",
      "Xavier Truman voted for French Breakfast\n",
      "Emma Sodersten voted for April Cross\n",
      "Blake Sodersten voted for French Breakfast\n",
      "Andrew Schwarz voted for Cherry Belle\n",
      "Owen Montgomery voted for Snow Belle\n",
      "Blake Hurst voted for White Icicle\n",
      "Brayden Brill voted for Cherry Belle\n",
      "Keira Strzelecki voted for Champion\n",
      "Zhen Juan Tsai voted for White Icicle\n",
      "Mulan Kung voted for Red King\n",
      "Clorinda Pugliesi voted for Champion\n",
      "Abbey Strzelecki voted for French Breakfast\n",
      "Andrew Howitt voted for April Cross\n",
      "Sebastian Langford voted for Cherry  Belle\n",
      "hayley Hinchcliffe voted for Cherry Belle\n",
      "Ebony Anton voted for Sicily Giant\n",
      "Seth Reginald voted for April Cross\n",
      "Beau Gosling voted for Plum Purple\n",
      "Christopher Moss voted for White Icicle\n",
      "laura uhr voted for red king\n",
      "Jamie Faithful voted for  Red King\n",
      "Isaac Tennyson voted for Daikon\n",
      "Gemma Norton voted for  Sicily Giant\n",
      "Matilda Madden voted for Red King\n",
      "Azeglio Napolitano voted for Red King\n",
      "David Tomlinson voted for Bunny Tail\n",
      "Christian Morris voted for Champion\n",
      "Amy Goulburn voted for April Cross\n",
      "Christopher Clunies voted for April Cross\n",
      "annabelle armytage voted for daikon\n",
      "Hunter Connely voted for Snow Belle\n",
      "Summer Stenhouse voted for April Cross\n",
      "Alicia Farmer voted for White Icicle\n",
      "Charlotte Slattery voted for Red King\n",
      "Georgia Jessop voted for Cherry Belle\n",
      "Abby Metters voted for Champion\n",
      "Madeleine Behan voted for Snow Belle\n",
      "Hayley Kernot voted for Plum Purple\n",
      "Ubaldo Trevisani voted for Champion\n",
      "Annabelle Scarfe voted for Cherry Belle\n",
      "Flynn Weingarth voted for Sicily Giant\n",
      "Indiana Keast voted for April Cross\n",
      "Wang Tien voted for French Breakfast\n",
      "Elijah Kingsbury voted for Plum Purple\n",
      "henry wright voted for sicily giant\n",
      "Meng Ni voted for Snow Belle\n",
      "Sara Coffill voted for Sicily Giant\n",
      "Giusy Lombardi voted for Plum  Purple\n",
      "Egidio Mancini voted for Sicily Giant\n",
      "Bethany Macfarlan voted for Bunny Tail\n",
      "Alexis Cowlishaw voted for Bunny Tail\n",
      "Skye Garvin voted for April Cross\n",
      "Abbey Rivett voted for Snow Belle\n",
      "Mikayla Woollacott voted for Sicily Giant\n",
      "Abbey Cochran voted for Daikon\n",
      "Jasmine Baughan voted for White Icicle\n",
      "Da-Xia Liang voted for April Cross\n",
      "Dominic Nangle voted for White Icicle\n",
      "Jesse Jury voted for Sicily Giant\n",
      "Ruby Elias voted for Daikon\n",
      "David Read voted for Bunny Tail\n",
      "Yue Yan T'ang voted for April Cross\n",
      "Qiang Tsui voted for Cherry Belle\n",
      "Grace Parkinson voted for Snow Belle\n",
      "Yue Yan Hu voted for White Icicle\n",
      "Adele Buccho voted for White Icicle\n",
      "Imogen Gertrude voted for Bunny Tail\n",
      "Kate Cyril voted for April Cross\n",
      "Zoe Canning voted for Plum Purple\n",
      "Imogen Gaunson voted for Bunny Tail\n",
      "Brayden Stretch voted for April Cross\n",
      "Jian Ts'ao voted for Plum Purple\n",
      "Gabriella Titheradge voted for Red King\n",
      "Alexis Nesbitt voted for Daikon\n",
      "Galeazzo Milanesi voted for Champion\n",
      "Eve Everingham voted for Daikon\n",
      "on hê voted for snow belle\n",
      "Archie Mathy voted for White Icicle\n",
      "Skye Reynolds voted for French Breakfast\n",
      "Ben Denovan voted for April Cross\n",
      "Pia Folliero voted for White Icicle\n",
      "Archie Michelides voted for Cherry Belle\n",
      "zane pavy voted for bunny tail\n",
      "Ramiro Esposito voted for Daikon\n",
      "Brock Eames voted for Daikon\n",
      "Savannah Sheehan voted for French Breakfast\n",
      "angus christie voted for french breakfast\n",
      "Dominic Tregurtha voted for Cherry Belle\n",
      "Molly Piguenit voted for Plum Purple\n",
      "matthew john voted for snow belle\n",
      "Koby Ledger voted for White Icicle\n",
      "Jasper Harper voted for White Icicle\n",
      "William Doyle  voted for French Breakfast\n",
      "Taj Maria voted for Sicily Giant\n",
      "Michael Elliot voted for April Cross\n",
      "Matthew Knibbs voted for Sicily Giant\n",
      "Patrick Tilly voted for White Icicle\n",
      "Sarah Kashiwagi voted for Bunny Tail\n",
      "Abbey Bouton voted for Champion\n",
      "Kayla Sandover voted for Bunny Tail\n",
      "Anna Septimus voted for French Breakfast\n",
      "Matthew Birch voted for Champion\n",
      "Mikayla Kennerley voted for French Breakfast\n",
      "Charli Birkbeck voted for Daikon\n",
      "Matilda Gullett voted for Champion\n",
      "Ella McLellan voted for April Cross\n",
      "Silvia Rossi voted for Plum Purple\n",
      "Chan Juan Hsü voted for French Breakfast\n",
      "Oliver Aspinall voted for  Cherry Belle\n",
      "Timothy Baldwinson voted for Bunny Tail\n",
      "Li Wei Chien voted for Snow Belle\n",
      "Bethany Layh voted for French Breakfast\n",
      "Gang Hsu voted for April Cross\n",
      "Mikayla Brodney voted for Champion\n",
      "Kuan-Yin Mao voted for Daikon\n",
      "Elizabeth Minifie voted for Champion\n",
      "Sarah Band voted for Sicily Giant\n",
      "Tyson Kaberry voted for French Breakfast\n",
      "Victoria Shipp voted for Cherry Belle\n",
      "Henry McCorkindale voted for French Breakfast\n",
      "William De Satg voted for Snow Belle\n",
      "Skye Atkins voted for Cherry Belle\n",
      "Sean Hogben voted for Champion\n",
      "Claire Boelke voted for Cherry Belle\n",
      "Tristan Turley voted for Snow Belle\n",
      "Tyler Hansen voted for Champion\n",
      "Caleb Ride voted for Bunny Tail\n",
      "Archer Cathcart voted for April Cross\n",
      "Hamish Helena  voted for French Breakfast\n",
      "Agostino Milanesi voted for April Cross\n",
      "lilly wunderlich voted for french breakfast\n",
      "Brooke Mahomet voted for Sicily Giant\n",
      "Seth Bramston voted for Daikon\n",
      "Archer Kirwan voted for Cherry Belle\n",
      "Ettore Marcelo voted for Champion\n",
      "Blake D'Alton voted for Sicily Giant\n",
      "Jai Burgoyne voted for Bunny Tail\n",
      "Mikayla Minogue voted for April Cross\n",
      "Thomas Catt voted for April Cross\n",
      "Oscar Cocci voted for Daikon\n",
      "Claudia Boxall voted for Plum Purple\n",
      "Imogen Macaulay voted for Snow Belle\n",
      "Tyson Platt voted for Bunny Tail\n",
      "Isabelle Camden voted for White Icicle\n",
      "Kiara Maxted voted for Daikon\n",
      "Raffaella Trevisan voted for Daikon\n",
      "Xiang Hsü voted for Plum Purple\n",
      "Hudson Greene voted for Bunny Tail\n",
      "Ruby Wakefield voted for Cherry Belle\n",
      "Matilda Macarthur-Onslow voted for Plum Purple\n",
      "Jasmine Fetherstonhaugh voted for Snow Belle\n",
      "Andrew Bower voted for Bunny Tail\n",
      "Olindo De Luca voted for Cherry Belle\n",
      "Alexis Kelynack voted for French Breakfast\n",
      "Amy Clunie voted for White Icicle\n",
      "Kang Yu voted for Cherry Belle\n",
      "Henry Birdseye voted for Snow Belle\n",
      "dominic gale voted for april cross\n",
      "Edward Edmond voted for Snow Belle\n",
      "Raul Pinto voted for Cherry Belle\n",
      "Laura Bath voted for Red King\n",
      "John Bale voted for Cherry Belle\n",
      "Margherita Milani voted for Red King\n",
      "Hudson Devine voted for Champion\n",
      "Jaxon Cowles voted for Sicily Giant\n",
      "Cameron Embley voted for Sicily Giant\n",
      "Laura Wawn voted for Cherry Belle\n",
      "Li Ming Niu voted for Cherry Belle\n",
      "Eden Sheehan voted for Cherry Belle\n",
      "Taj Bjelke-Petersen voted for French Breakfast\n",
      "Declan Winston voted for White Icicle\n",
      "Chan Chao voted for Red King\n",
      "mikayla hebblethwaite voted for sicily giant\n",
      "Tristan Monson voted for Cherry Belle\n",
      "Leah Ross-Watt voted for Plum Purple\n",
      "Hu K'ung voted for Daikon\n",
      "Kaitlyn Carnegie voted for Champion\n",
      "Victoria Brereton voted for Plum Purple\n",
      "Keira Toutcher voted for Cherry Belle\n",
      "David Morgans voted for Daikon\n",
      "Norma Fiorentino voted for Red King\n",
      "Sarah Paten voted for Sicily  Giant\n",
      "Zac Cowles voted for Sicily Giant\n",
      "Brock Fiaschi voted for French Breakfast\n",
      "Eliza Naylor voted for French Breakfast\n",
      "Imogen Raws voted for Red King\n",
      "Jesse Abercrombie voted for Snow Belle\n",
      "James Luke voted for White Icicle\n",
      "Riley Stewart voted for White Icicle\n",
      "amelia blue voted for white icicle\n",
      "Cameron Pearce voted for Red King\n",
      "Ennio DeRose voted for French Breakfast\n",
      "Samuel Henschke voted for Sicily Giant\n",
      "Blake MacFarland voted for Cherry Belle\n",
      "Mary Randall voted for Cherry Belle\n",
      "luce de luca voted for snow belle\n",
      "Marcus Derbyshire voted for Bunny Tail\n",
      "Hunter McEachern voted for Bunny Tail\n",
      "Jasper Gibney voted for French Breakfast\n",
      "Lincoln  Hoare voted for French Breakfast\n",
      "Sofia Donnithorne voted for Snow Belle\n",
      "Anthony Stuart voted for Snow Belle\n",
      "Hamish Yarnold voted for April Cross\n",
      "Lucas Schuler voted for Plum Purple\n",
      "Milla Garling voted for French Breakfast\n",
      "Abigail Wiltshire voted for Bunny Tail\n",
      "Zane Wreford voted for Snow Belle\n",
      "Sean Glew voted for Daikon\n",
      "Ryan Aird voted for Red King\n",
      "Jasper Harford voted for Champion\n",
      "Charlie McCabe voted for Bunny Tail\n",
      "Rory Evenden voted for White Icicle\n",
      "Ebony Florence voted for Snow Belle\n",
      "Flynn Poninski voted for Daikon\n",
      "Ebony Lawlor voted for Bunny Tail\n",
      "Ethan Dickson voted for Bunny Tail\n",
      "Xavier Howchin voted for Bunny Tail\n",
      "Zane Weindorfer voted for Cherry Belle\n",
      "Sienna Dann voted for Snow Belle\n",
      "Eleuterio Lombardo voted for White Icicle\n",
      "Tyler Makutz voted for Champion\n",
      "Yong Hsiao voted for White Icicle\n",
      "Erin Binnie voted for Bunny Tail\n",
      "Phoebe Barwell voted for Plum Purple\n",
      "Dylan Barney voted for French Breakfast\n",
      "Tristan Charteris voted for April Cross\n",
      "Sebastian Helmore voted for Bunny Tail\n",
      "Thomas Darcy voted for Bunny Tail\n",
      "Quinzia Costa voted for Daikon\n",
      "Da-Xia Hsiao voted for French Breakfast\n",
      "Grace Frayne voted for Sicily Giant\n",
      "Toby Queale voted for White Icicle\n",
      "Logan Lackey voted for Plum Purple\n",
      "na t'ao voted for french breakfast\n",
      "Callum Prentice voted for Plum Purple\n",
      "Levi Ferry voted for Sicily Giant\n",
      "Hsin Tan voted for April Cross\n",
      "Lara Macarthur voted for French Breakfast\n",
      "Scarlett Bruny voted for Champion\n",
      "Procopio Zito voted for white icicle\n",
      "Jamie Ham voted for Bunny Tail\n",
      "Kaitlyn Mullen voted for Daikon\n",
      "Cameron Landseer voted for April Cross\n",
      "Jasper Alfred voted for White Icicle\n",
      "Andrew Coventry voted for  Cherry Belle\n",
      "Scarlett Schonell voted for Plum Purple\n",
      "Mia Alngindabu voted for Champion\n",
      "Claire Bisdee voted for Daikon\n",
      "Gabriella Beale voted for Cherry Belle\n",
      "Rebecca Petrie voted for Snow Belle\n",
      "Alexander McKean voted for Bunny Tail\n",
      "Cody Leakey voted for Plum Purple\n",
      "Sam Scarfe voted for Sicily Giant\n",
      "Angus Langley voted for French Breakfast\n",
      "Shi Shen voted for Sicily Giant\n",
      "Park Wu voted for Champion\n",
      "Isabelle Finney voted for April Cross\n",
      "Aaron Addison voted for Plum Purple\n",
      "Ethan Macdougall voted for Champion\n",
      "cody vale voted for red king\n",
      "Aidan Clutterbuck voted for French Breakfast\n",
      "Durante Ferri voted for White Icicle\n",
      "eliana baresi voted for white icicle\n"
     ]
    }
   ],
   "source": [
    "with open(\"./data/radishsurvey.txt\") as file:\n",
    "    for line in file:       \n",
    "        line = line.strip()\n",
    "        parts = line.split(\" - \")\n",
    "        name = parts[0]\n",
    "        vote = parts[1]\n",
    "        print(name + \" voted for \" + vote)"
   ]
  },
  {
   "cell_type": "code",
   "execution_count": 2,
   "metadata": {
    "colab": {},
    "colab_type": "code",
    "id": "ZejLBO2uKjE_",
    "outputId": "904f2ec5-ca13-43b3-c879-5df9d5d537a4"
   },
   "outputs": [
    {
     "data": {
      "text/plain": [
       "'eliana baresi - white icicle'"
      ]
     },
     "execution_count": 2,
     "metadata": {},
     "output_type": "execute_result"
    }
   ],
   "source": [
    "line = line.strip()\n",
    "line"
   ]
  },
  {
   "cell_type": "code",
   "execution_count": null,
   "metadata": {
    "colab": {},
    "colab_type": "code",
    "id": "q6zEb6qWKjFF",
    "outputId": "dc56e957-f61f-4bd6-ec27-84d9324693d8"
   },
   "outputs": [],
   "source": [
    "parts = line.split(\" - \")\n",
    "parts"
   ]
  },
  {
   "cell_type": "code",
   "execution_count": null,
   "metadata": {
    "colab": {},
    "colab_type": "code",
    "id": "ZHG6R4r8KjFI",
    "outputId": "e9e8f3bf-72e8-4b81-e985-d0135a76352c"
   },
   "outputs": [],
   "source": [
    "\"1,2,3,4,5\".split(\",\")"
   ]
  },
  {
   "cell_type": "code",
   "execution_count": null,
   "metadata": {
    "colab": {},
    "colab_type": "code",
    "id": "cU_DjsasKjFL",
    "outputId": "ddf64b1b-27f6-47f1-e242-d1edf24e6f9d"
   },
   "outputs": [],
   "source": [
    "\"cheese\".split(\",\")"
   ]
  },
  {
   "cell_type": "code",
   "execution_count": null,
   "metadata": {
    "colab": {},
    "colab_type": "code",
    "id": "am5xFUZiKjFP",
    "outputId": "99e7cd67-af64-47f9-88e3-7d562f14e2d3"
   },
   "outputs": [],
   "source": [
    "\"Jin Li - White - Icicle\".split(\" - \")"
   ]
  },
  {
   "cell_type": "code",
   "execution_count": null,
   "metadata": {
    "colab": {},
    "colab_type": "code",
    "id": "PHuRIsf9KjFU",
    "outputId": "191cdfa7-ba02-41be-ff07-8e4f5b0a4ba7"
   },
   "outputs": [],
   "source": [
    "\"Jin Li - White - Icicle\".split(\"-\")"
   ]
  },
  {
   "cell_type": "code",
   "execution_count": null,
   "metadata": {
    "colab": {},
    "colab_type": "code",
    "id": "IQsv5ZHcKjFX",
    "outputId": "acec8fd3-6034-4dd2-8084-bd7e8621dfc2"
   },
   "outputs": [],
   "source": [
    "with open(\"./data/radishsurvey.txt\") as file:\n",
    "    for line in file:\n",
    "       line = line.strip()\n",
    "       parts = line.split(\" - \")\n",
    "       name, vote = parts\n",
    "       if vote == \"White Icicle\":\n",
    "          print(name + \" likes White Icicle!\")"
   ]
  },
  {
   "cell_type": "code",
   "execution_count": null,
   "metadata": {
    "colab": {},
    "colab_type": "code",
    "id": "NXh4sTK8KjFb",
    "outputId": "3ec314eb-fc64-47f3-b817-34677a405434"
   },
   "outputs": [],
   "source": [
    "print(\"Counting votes for White Icicle...\")\n",
    "count = 0\n",
    "with open(\"./data/radishsurvey.txt\") as file:\n",
    "    for line in file:       \n",
    "        line = line.strip()\n",
    "        name, vote = line.split(\" - \")\n",
    "        if vote == \"White Icicle\":\n",
    "            count = count + 1\n",
    "print(count)"
   ]
  },
  {
   "cell_type": "code",
   "execution_count": null,
   "metadata": {
    "colab": {},
    "colab_type": "code",
    "id": "0Q0WTkHDKjFe",
    "outputId": "a9cd0605-4a36-4dac-ce79-705807349c2d"
   },
   "outputs": [],
   "source": [
    "name, cheese, cracker = \"Fred,Jarlsberg,Rye\".split(\",\")\n",
    "print(cheese)"
   ]
  },
  {
   "cell_type": "markdown",
   "metadata": {
    "colab_type": "text",
    "id": "yJSQO9UPKjFi"
   },
   "source": [
    "## 투표 결과 보기"
   ]
  },
  {
   "cell_type": "code",
   "execution_count": null,
   "metadata": {
    "colab": {},
    "colab_type": "code",
    "id": "39kf4BMRKjFj",
    "outputId": "2771f0d0-8b83-4cba-9811-1975776142cb"
   },
   "outputs": [],
   "source": [
    "counts = {}\n",
    "\n",
    "with open(\"./data/radishsurvey.txt\") as file:\n",
    "    for line in file:       \n",
    "        line = line.strip()\n",
    "        name, vote = line.split(\" - \")\n",
    "        if vote not in counts:\n",
    "            # First vote for this variety\n",
    "            counts[vote] = 1\n",
    "        else:\n",
    "            # Increment the vote count\n",
    "            counts[vote] = counts[vote] + 1\n",
    "print(counts)"
   ]
  },
  {
   "cell_type": "code",
   "execution_count": null,
   "metadata": {
    "colab": {},
    "colab_type": "code",
    "id": "JF-1lFTfKjFn",
    "outputId": "651d4f1b-73c7-4505-90b1-733d17be66d9"
   },
   "outputs": [],
   "source": [
    "for name in counts:\n",
    "    count = counts[name]\n",
    "    print(name + \": \" + str(count))"
   ]
  },
  {
   "cell_type": "markdown",
   "metadata": {
    "colab_type": "text",
    "id": "MwcUqgx0KjFp"
   },
   "source": [
    "## 데이터 정제"
   ]
  },
  {
   "cell_type": "code",
   "execution_count": null,
   "metadata": {
    "colab": {},
    "colab_type": "code",
    "id": "VS-qxrl-KjFr",
    "outputId": "04d57369-918f-4d97-8ead-3742ec35bcb9"
   },
   "outputs": [],
   "source": [
    "\"\"\"\n",
    "Red King: 1\n",
    "red king: 3\n",
    "White Icicle: 1\n",
    " Cherry Belle: 2\n",
    "daikon: 4\n",
    "Cherry  Belle: 1\n",
    "\"\"\""
   ]
  },
  {
   "cell_type": "code",
   "execution_count": null,
   "metadata": {
    "colab": {},
    "colab_type": "code",
    "id": "eQqzKTdAKjFv",
    "outputId": "cf0a464d-a13b-48a9-8860-60ebcc4d5fa5"
   },
   "outputs": [],
   "source": [
    "counts = {}\n",
    "\n",
    "with open(\"./data/radishsurvey.txt\") as file:\n",
    "    for line in file:\n",
    "        line = line.strip()\n",
    "        name, vote = line.split(\" - \")\n",
    "\n",
    "        # 수정한 부분\n",
    "        vote = vote.strip().capitalize()\n",
    "        if not vote in counts:\n",
    "            # First vote for this variety\n",
    "            counts[vote] = 1\n",
    "        else:\n",
    "            # Increment the vote count\n",
    "            counts[vote] = counts[vote] + 1\n",
    "print(counts)"
   ]
  },
  {
   "cell_type": "code",
   "execution_count": null,
   "metadata": {
    "colab": {},
    "colab_type": "code",
    "id": "6RWWXeTWKjFy",
    "outputId": "44d882e4-17da-461b-cfb9-052fa8d54fae"
   },
   "outputs": [],
   "source": [
    "\"\"\"\n",
    "Sicily  giant: 1\n",
    "Plum  purple: 1\n",
    "Cherry  belle: 1\n",
    "\"\"\""
   ]
  },
  {
   "cell_type": "code",
   "execution_count": null,
   "metadata": {
    "colab": {},
    "colab_type": "code",
    "id": "J8SuDZaBKjF0"
   },
   "outputs": [],
   "source": [
    "vote = vote.replace(\"  \", \" \")"
   ]
  },
  {
   "cell_type": "markdown",
   "metadata": {
    "colab_type": "text",
    "id": "5lmuxz4WKjF2"
   },
   "source": [
    "## 두 번 투표한 사람 찾기"
   ]
  },
  {
   "cell_type": "code",
   "execution_count": null,
   "metadata": {
    "colab": {},
    "colab_type": "code",
    "id": "MSmYRpGeKjF3",
    "outputId": "9fd6b8fc-a3a0-4f24-f3b8-5425f184bb16"
   },
   "outputs": [],
   "source": [
    "counts = {}\n",
    "\n",
    "# Create an empty list with the names of everyone who voted\n",
    "voted = []\n",
    "\n",
    "# Clean up (munge) a string so it's easy to match against other     strings\n",
    "def clean_string(s):\n",
    "    return s.strip().capitalize().replace(\"  \",\" \")\n",
    "\n",
    "# Check if someone has voted already and return True or False\n",
    "def has_already_voted(name):\n",
    "    if name in voted:\n",
    "        print(name + \" has already voted! Fraud!\")\n",
    "        return True\n",
    "    return False\n",
    "\n",
    "# Count a vote for the radish variety named 'radish'\n",
    "def count_vote(radish):\n",
    "    if not radish in counts:\n",
    "        # First vote for this variety\n",
    "        counts[radish] = 1\n",
    "    else:\n",
    "        # Increment the radish count\n",
    "        counts[radish] = counts[radish] + 1\n",
    "\n",
    "\n",
    "with open(\"./data/radishsurvey.txt\") as file:\n",
    "    for line in file:\n",
    "        line = line.strip()\n",
    "        name, vote = line.split(\" - \")\n",
    "        name = clean_string(name)\n",
    "        vote = clean_string(vote)\n",
    "    \n",
    "        if not has_already_voted(name):\n",
    "            count_vote(vote)\n",
    "        voted.append(name)\n",
    "\n",
    "print(\"Results:\")\n",
    "print()\n",
    "for name in counts:\n",
    "    print(name + \": \" + str(counts[name]))"
   ]
  },
  {
   "cell_type": "code",
   "execution_count": null,
   "metadata": {
    "colab": {},
    "colab_type": "code",
    "id": "L4jx8yeuKjF6",
    "outputId": "7151ddf9-1847-4d43-d9df-0857b0efcc8c"
   },
   "outputs": [],
   "source": [
    "winner_name = \"No winner\"\n",
    "winner_votes = 0\n",
    "\n",
    "for name in counts:\n",
    "    if counts[name] > winner_votes:\n",
    "        winner_votes = counts[name]\n",
    "        winner_name = name\n",
    "\n",
    "print(\"The winner is: \" + winner_name)"
   ]
  },
  {
   "cell_type": "markdown",
   "metadata": {
    "colab_type": "text",
    "id": "DX2Sz4v8KjF9"
   },
   "source": [
    "## 그래프 그리기"
   ]
  },
  {
   "cell_type": "code",
   "execution_count": null,
   "metadata": {
    "colab": {},
    "colab_type": "code",
    "id": "CBAEoq6DKjF-",
    "outputId": "43930539-fedd-4740-e68f-6c977002a2c3"
   },
   "outputs": [],
   "source": [
    "import numpy as np\n",
    "import matplotlib.pyplot as plt\n",
    "%matplotlib inline"
   ]
  },
  {
   "cell_type": "code",
   "execution_count": null,
   "metadata": {
    "colab": {},
    "colab_type": "code",
    "id": "72J5W7AdKjGA",
    "outputId": "003d2c19-1d58-4049-b191-161d5cf5131f"
   },
   "outputs": [],
   "source": [
    "names = []\n",
    "votes = []\n",
    "for radish in counts:\n",
    "    names.append(radish)\n",
    "    votes.append(counts[radish])\n",
    "\n",
    "x = np.arange(len(counts))\n",
    "\n",
    "plt.bar(x, votes)\n",
    "plt.xticks(x + 0.5, names, rotation=90)\n",
    "plt.show()"
   ]
  },
  {
   "cell_type": "markdown",
   "metadata": {
    "colab_type": "text",
    "id": "B_1a6mezKjGM"
   },
   "source": [
    "## 커피 파일\n",
    "http://opentechschool.github.io/python-data-intro/files/coffee.csv"
   ]
  },
  {
   "cell_type": "markdown",
   "metadata": {
    "colab": {},
    "colab_type": "code",
    "id": "6lhXixL7KjGM",
    "outputId": "cdbdfb77-eab5-4ad8-84a4-5f4495a708a6",
    "scrolled": true
   },
   "source": [
    "!curl http://opentechschool.github.io/python-data-intro/files/coffee.csv \\\n",
    "    -o ./data/coffee.csv"
   ]
  },
  {
   "cell_type": "markdown",
   "metadata": {
    "colab": {},
    "colab_type": "code",
    "id": "C1XXBwwhKjGQ",
    "outputId": "65afca91-f66e-41fd-918e-7637ca5311f2"
   },
   "source": [
    "!head -10 ./data/coffee.csv"
   ]
  },
  {
   "cell_type": "code",
   "execution_count": null,
   "metadata": {
    "colab": {},
    "colab_type": "code",
    "id": "JkSDr-xsKjGV",
    "outputId": "ac5cf656-6200-46a2-d410-534cc42612cb"
   },
   "outputs": [],
   "source": [
    "import csv\n",
    "f=open(\"./data/coffee.csv\")\n",
    "for row in csv.reader(f):\n",
    "    print(row)"
   ]
  },
  {
   "cell_type": "markdown",
   "metadata": {
    "colab_type": "text",
    "id": "_l53Kh6CKjGX"
   },
   "source": [
    "## 항공운항 데이터\n",
    "https://raw.githubusercontent.com/jpatokal/openflights/master/data/airports.dat"
   ]
  },
  {
   "cell_type": "code",
   "execution_count": null,
   "metadata": {
    "colab": {
     "base_uri": "https://localhost:8080/",
     "height": 67
    },
    "colab_type": "code",
    "id": "MMwZhMP2KjGY",
    "outputId": "6bba65da-c6c3-44b8-b13c-75b47325b54b"
   },
   "outputs": [],
   "source": [
    "!curl https://raw.githubusercontent.com/jpatokal/openflights/master/data/airports.dat \\\n",
    "    -o ./data/airports.dat"
   ]
  },
  {
   "cell_type": "markdown",
   "metadata": {
    "colab": {
     "base_uri": "https://localhost:8080/",
     "height": 34
    },
    "colab_type": "code",
    "id": "A77fWi8bKy-l",
    "outputId": "e696b582-769e-4c3c-d168-af963cb27115"
   },
   "source": [
    "!ls"
   ]
  },
  {
   "cell_type": "code",
   "execution_count": null,
   "metadata": {
    "colab": {},
    "colab_type": "code",
    "id": "2eb44plMKjGb"
   },
   "outputs": [],
   "source": [
    "# 공항 이름\n",
    "\n",
    "import csv\n",
    "f = open(\"./data/airports.dat\", 'rt', encoding='UTF8')\n",
    "for row in csv.reader(f):\n",
    "        print(row[1])"
   ]
  },
  {
   "cell_type": "code",
   "execution_count": null,
   "metadata": {},
   "outputs": [],
   "source": [
    "f = open(\"./data/airports.dat\", 'rt', encoding='UTF8')\n",
    "for row in csv.reader(f):\n",
    "    if row[3] == \"Australia\" or row[3] == \"Russia\":\n",
    "        print(row[1])"
   ]
  },
  {
   "cell_type": "markdown",
   "metadata": {
    "colab_type": "text",
    "id": "pU5QFCKiKjGj"
   },
   "source": [
    "## 경로 데이터\n",
    "https://raw.githubusercontent.com/jpatokal/openflights/master/data/routes.dat"
   ]
  },
  {
   "cell_type": "code",
   "execution_count": null,
   "metadata": {
    "colab": {
     "base_uri": "https://localhost:8080/",
     "height": 67
    },
    "colab_type": "code",
    "id": "5oXrl-3IKjGk",
    "outputId": "4e022678-06d5-46bf-fe9f-e62aa5cdbe23",
    "scrolled": true
   },
   "outputs": [],
   "source": [
    "!curl https://raw.githubusercontent.com/jpatokal/openflights/master/data/routes.dat \\\n",
    "    -o ./data/routes.dat"
   ]
  },
  {
   "cell_type": "code",
   "execution_count": null,
   "metadata": {
    "colab": {},
    "colab_type": "code",
    "id": "Xl8R0OJ7KjGm"
   },
   "outputs": [],
   "source": [
    "latitudes = {}\n",
    "longitudes = {}\n",
    "f = open(\"./data/airports.dat\", 'rt', encoding='UTF8')\n",
    "for row in csv.reader(f):\n",
    "    airport_id = row[0]\n",
    "    latitudes[airport_id] = float(row[6])\n",
    "    longitudes[airport_id] = float(row[7])"
   ]
  },
  {
   "cell_type": "code",
   "execution_count": null,
   "metadata": {
    "colab": {
     "base_uri": "https://localhost:8080/",
     "height": 16834
    },
    "colab_type": "code",
    "id": "pNShLgnZKjGo",
    "outputId": "30a9923d-d75f-4682-ffc6-b552ae695cab"
   },
   "outputs": [],
   "source": [
    "latitudes"
   ]
  },
  {
   "cell_type": "markdown",
   "metadata": {
    "colab": {
     "base_uri": "https://localhost:8080/",
     "height": 70
    },
    "colab_type": "code",
    "id": "DatU40V4KjGr",
    "outputId": "d9511085-1659-4df4-9eba-483c42fae3a5"
   },
   "source": [
    "!pip install geopy"
   ]
  },
  {
   "cell_type": "code",
   "execution_count": null,
   "metadata": {
    "colab": {},
    "colab_type": "code",
    "id": "TsPaclDAKjGw"
   },
   "outputs": [],
   "source": [
    "from geopy.distance import great_circle, geodesic\n",
    "# great_circle((37, 127), (38, 129))\n",
    "# dist = geodesic((37, 127), (38, 129))\n",
    "# dist.km"
   ]
  },
  {
   "cell_type": "code",
   "execution_count": null,
   "metadata": {
    "colab": {},
    "colab_type": "code",
    "id": "pmf_tDjRKjGy"
   },
   "outputs": [],
   "source": [
    "distances = []\n",
    "f = open(\"./data/routes.dat\")\n",
    "for row in csv.reader(f):\n",
    "    source_airport = row[3]\n",
    "    dest_airport = row[5]\n",
    "    if source_airport in latitudes and dest_airport in latitudes:\n",
    "        source_lat = latitudes[source_airport]\n",
    "        source_long = longitudes[source_airport]\n",
    "        dest_lat = latitudes[dest_airport]\n",
    "        dest_long = longitudes[dest_airport]\n",
    "        distances.append(great_circle((source_lat,source_long),(dest_lat,dest_long)).km)"
   ]
  },
  {
   "cell_type": "code",
   "execution_count": null,
   "metadata": {
    "colab": {
     "base_uri": "https://localhost:8080/",
     "height": 378
    },
    "colab_type": "code",
    "id": "uxWk-GdSKjG0",
    "outputId": "171e8c93-a4a3-4686-8387-f32ddd9236cc"
   },
   "outputs": [],
   "source": [
    "import matplotlib.pyplot as plt\n",
    "plt.hist(distances, 100,facecolor='b')\n",
    "plt.xlabel(\"Distance (km)\")\n",
    "plt.ylabel(\"Number of flights\")"
   ]
  },
  {
   "cell_type": "code",
   "execution_count": null,
   "metadata": {
    "colab": {},
    "colab_type": "code",
    "id": "JaklA-qfKjG2"
   },
   "outputs": [],
   "source": [
    "from geopy.geocoders import Nominatim\n",
    "nom = Nominatim(user_agent = 'South Korea', timeout=None)\n",
    "n = nom.geocode(\"London Tower\")\n",
    "print(n.latitude, n.longitude)\n",
    "print(n.address)"
   ]
  },
  {
   "cell_type": "code",
   "execution_count": null,
   "metadata": {},
   "outputs": [],
   "source": [
    "n = nom.geocode(\"동의대학교\")\n",
    "print(n.latitude, n.longitude)\n",
    "print(n.address)"
   ]
  },
  {
   "cell_type": "code",
   "execution_count": null,
   "metadata": {},
   "outputs": [],
   "source": []
  }
 ],
 "metadata": {
  "colab": {
   "name": "gg-06-데이터처리.ipynb",
   "provenance": [],
   "version": "0.3.2"
  },
  "kernelspec": {
   "display_name": "Python [conda env:base] *",
   "language": "python",
   "name": "conda-base-py"
  },
  "language_info": {
   "codemirror_mode": {
    "name": "ipython",
    "version": 3
   },
   "file_extension": ".py",
   "mimetype": "text/x-python",
   "name": "python",
   "nbconvert_exporter": "python",
   "pygments_lexer": "ipython3",
   "version": "3.13.5"
  }
 },
 "nbformat": 4,
 "nbformat_minor": 4
}
