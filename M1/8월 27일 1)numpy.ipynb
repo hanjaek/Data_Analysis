{
 "cells": [
  {
   "cell_type": "code",
   "execution_count": 9,
   "id": "e768a75a-99bc-4126-a62a-f9f9bcab29a3",
   "metadata": {},
   "outputs": [],
   "source": [
    "import matplotlib.pyplot as plt\n",
    "import numpy as np\n",
    "import pandas as pd"
   ]
  },
  {
   "cell_type": "code",
   "execution_count": 10,
   "id": "d6dacf02-77b8-4c41-95aa-75f2fb097ec8",
   "metadata": {},
   "outputs": [],
   "source": [
    "import matplotlib.pyplot as plt\n",
    "import numpy as np\n",
    "import pandas as pd\n",
    "\n",
    "from numpy import *\n",
    "from pandas import *"
   ]
  },
  {
   "cell_type": "code",
   "execution_count": 11,
   "id": "6e136cf1-15db-489e-bdbb-f268ccb72f94",
   "metadata": {},
   "outputs": [
    {
     "name": "stdout",
     "output_type": "stream",
     "text": [
      "0.13076270832208892\n",
      "-0.3901925959546482\n"
     ]
    }
   ],
   "source": [
    "print(random.rand()) # 0~1 사이의 무작위 수\n",
    "print(random.randn()) # -1 ~ 1 근처의 평균이 0이고, 표준편차가 1인 무작위 수"
   ]
  },
  {
   "cell_type": "markdown",
   "id": "4720ce36-571e-4213-ad86-edec7a262d67",
   "metadata": {},
   "source": [
    "-- Numpy\n",
    "1. 숫자인 배열\n",
    "2. 사칙연산\n",
    "3. 1차원 ~ n차원\n",
    "4. 리스트와 연결\n",
    "5. 외부 라이브러리"
   ]
  },
  {
   "cell_type": "code",
   "execution_count": 12,
   "id": "8b806250-8535-45ee-b7ce-f444beeddb32",
   "metadata": {},
   "outputs": [
    {
     "name": "stdout",
     "output_type": "stream",
     "text": [
      "[1, 5, 10, 15, 20, 25, 30, 1, 5, 10, 15, 20, 25, 30, 1, 5, 10, 15, 20, 25, 30]\n",
      "<class 'list'>\n"
     ]
    }
   ],
   "source": [
    "list = [1, 5, 10, 15, 20, 25, 30]\n",
    "print(list*3)\n",
    "print(type(list))"
   ]
  },
  {
   "cell_type": "code",
   "execution_count": 13,
   "id": "bb632d6c-54a1-4131-8f55-f9acf686e5a9",
   "metadata": {},
   "outputs": [
    {
     "name": "stdout",
     "output_type": "stream",
     "text": [
      "[1, 5, 10, 15, 20, 25, 30]\n",
      "[ 1  5 10 15 20 25 30]\n"
     ]
    }
   ],
   "source": [
    "arr = np.array(list)\n",
    "print(list)\n",
    "print(arr)"
   ]
  },
  {
   "cell_type": "code",
   "execution_count": 14,
   "id": "a5973b8d-f9ee-4327-93a2-b7a84ebf8cbd",
   "metadata": {},
   "outputs": [
    {
     "name": "stdout",
     "output_type": "stream",
     "text": [
      "[ 3 15 30 45 60 75 90]\n",
      "[ 4  8 13 18 23 28 33]\n",
      "[False  True  True  True  True  True  True]\n",
      "<class 'numpy.ndarray'>\n"
     ]
    }
   ],
   "source": [
    "print(arr*3)\n",
    "print(arr+3)\n",
    "print(arr>=3)\n",
    "print(type(arr))"
   ]
  },
  {
   "cell_type": "code",
   "execution_count": 15,
   "id": "ff8774aa-92c2-49f3-a627-bfb6abe12ab1",
   "metadata": {},
   "outputs": [
    {
     "name": "stdout",
     "output_type": "stream",
     "text": [
      "<class 'list'>\n",
      "4\n",
      "[[1, 2, 3], [4, 5, 6], [7, 8, 9], [10, 11, 12], [1, 2, 3], [4, 5, 6], [7, 8, 9], [10, 11, 12]]\n"
     ]
    }
   ],
   "source": [
    "list2 = [[1,2,3], [4,5,6], [7,8,9],[10,11,12]]\n",
    "print(type(list2))\n",
    "print(len(list2))\n",
    "print(list2*2)"
   ]
  },
  {
   "cell_type": "code",
   "execution_count": 16,
   "id": "98d1738b-9b2f-4c31-942c-6ee1fe6dbae1",
   "metadata": {},
   "outputs": [
    {
     "name": "stdout",
     "output_type": "stream",
     "text": [
      "[[1, 2, 3], [4, 5, 6], [7, 8, 9], [10, 11, 12]]\n",
      "[[ 1  2  3]\n",
      " [ 4  5  6]\n",
      " [ 7  8  9]\n",
      " [10 11 12]]\n"
     ]
    }
   ],
   "source": [
    "arr2 = np.array(list2)\n",
    "print(list2)\n",
    "print(arr2)"
   ]
  },
  {
   "cell_type": "code",
   "execution_count": 17,
   "id": "72e2c54f-fab1-4144-a845-54c52ba3079d",
   "metadata": {},
   "outputs": [
    {
     "name": "stdout",
     "output_type": "stream",
     "text": [
      "4\n",
      "<class 'numpy.ndarray'>\n"
     ]
    }
   ],
   "source": [
    "print(len(arr2))\n",
    "print(type(arr2))"
   ]
  },
  {
   "cell_type": "code",
   "execution_count": 18,
   "id": "c4ecc9ad-74eb-4627-9eeb-06cdb9971ac8",
   "metadata": {},
   "outputs": [],
   "source": [
    "list3 = [[1.,2,3], [4,5,6], [7,8,9],[10,11,12]]\n",
    "# 원소 1개만이라도 float이라면 모든 데이터는 float이 된다"
   ]
  },
  {
   "cell_type": "code",
   "execution_count": 19,
   "id": "62d3e48f-dca1-4772-b24d-65888cd31e34",
   "metadata": {},
   "outputs": [
    {
     "name": "stdout",
     "output_type": "stream",
     "text": [
      "[[ 1.  2.  3.]\n",
      " [ 4.  5.  6.]\n",
      " [ 7.  8.  9.]\n",
      " [10. 11. 12.]]\n"
     ]
    }
   ],
   "source": [
    "arr3 = np.array(list3)\n",
    "print(arr3)"
   ]
  },
  {
   "cell_type": "code",
   "execution_count": 20,
   "id": "5771f7b7-dfa4-4dfb-8f68-248ec7cfbe0c",
   "metadata": {},
   "outputs": [
    {
     "name": "stdout",
     "output_type": "stream",
     "text": [
      "배열의 크기: 7\n",
      "배열의 크기: 12\n",
      "배열의 크기: 12\n"
     ]
    }
   ],
   "source": [
    "#List는 원소의 갯수를 Len(), 배열은 속성 size를 이용\n",
    "print(\"배열의 크기:\", arr.size)\n",
    "print(\"배열의 크기:\", arr2.size)\n",
    "print(\"배열의 크기:\", arr3.size)"
   ]
  },
  {
   "cell_type": "code",
   "execution_count": 21,
   "id": "b67fa53a-a272-4849-ba28-c21a27253afe",
   "metadata": {},
   "outputs": [
    {
     "name": "stdout",
     "output_type": "stream",
     "text": [
      "데이터 타입의 바이트 수: 8\n",
      "데이터 타입의 바이트 수: 8\n",
      "데이터 타입의 바이트 수: 8\n",
      "배열의 전체 바이트 수: 56\n",
      "배열의 전체 바이트 수: 96\n",
      "배열의 전체 바이트 수: 96\n",
      "배열의 원소의 데이터 형: int64\n",
      "배열의 원소의 데이터 형: int64\n",
      "배열의 원소의 데이터 형: float64\n",
      "배열의 차원: 1\n",
      "배열의 차원: 2\n",
      "배열의 차원: 2\n",
      "배열의 행렬 크기: (7,)\n",
      "배열의 행렬 크기: (4, 3)\n",
      "배열의 행렬 크기: (4, 3)\n"
     ]
    }
   ],
   "source": [
    "print(\"데이터 타입의 바이트 수:\", arr.itemsize)\n",
    "print(\"데이터 타입의 바이트 수:\", arr2.itemsize)\n",
    "print(\"데이터 타입의 바이트 수:\", arr3.itemsize)\n",
    "\n",
    "print(\"배열의 전체 바이트 수:\", arr.nbytes)\n",
    "print(\"배열의 전체 바이트 수:\", arr2.nbytes)\n",
    "print(\"배열의 전체 바이트 수:\", arr3.nbytes)\n",
    "\n",
    "print(\"배열의 원소의 데이터 형:\", arr.dtype)\n",
    "print(\"배열의 원소의 데이터 형:\", arr2.dtype)\n",
    "print(\"배열의 원소의 데이터 형:\", arr3.dtype)\n",
    "\n",
    "print(\"배열의 차원:\", arr.ndim)\n",
    "print(\"배열의 차원:\", arr2.ndim)\n",
    "print(\"배열의 차원:\", arr3.ndim)\n",
    "\n",
    "print(\"배열의 행렬 크기:\", arr.shape)\n",
    "print(\"배열의 행렬 크기:\", arr2.shape)\n",
    "print(\"배열의 행렬 크기:\", arr3.shape)"
   ]
  },
  {
   "cell_type": "code",
   "execution_count": 22,
   "id": "34d9fc4f-a643-4e97-80e6-501160259df5",
   "metadata": {},
   "outputs": [
    {
     "name": "stdout",
     "output_type": "stream",
     "text": [
      "[ 1  5 10 15 20 25 30]\n",
      "전치행렬 \n",
      " [ 1  5 10 15 20 25 30]\n",
      "\n",
      " [[ 1  2  3]\n",
      " [ 4  5  6]\n",
      " [ 7  8  9]\n",
      " [10 11 12]]\n",
      "전치행렬 \n",
      " [[ 1  4  7 10]\n",
      " [ 2  5  8 11]\n",
      " [ 3  6  9 12]]\n"
     ]
    }
   ],
   "source": [
    "print(arr)\n",
    "print(\"전치행렬 \\n\", arr.T)\n",
    "\n",
    "print(\"\\n\",arr2)\n",
    "print(\"전치행렬 \\n\", arr2.T)"
   ]
  },
  {
   "cell_type": "code",
   "execution_count": 23,
   "id": "33faf27c-f0dc-4d47-998b-706c0bbfd7b3",
   "metadata": {},
   "outputs": [
    {
     "data": {
      "text/plain": [
       "(array([1, 2, 3]), array([10, 11, 12]))"
      ]
     },
     "execution_count": 23,
     "metadata": {},
     "output_type": "execute_result"
    }
   ],
   "source": [
    "arr2[0], arr2[-1]"
   ]
  },
  {
   "cell_type": "code",
   "execution_count": 24,
   "id": "0783c889-c112-459a-a071-88de1f3c1ec0",
   "metadata": {},
   "outputs": [
    {
     "data": {
      "text/plain": [
       "array([ 1,  5, 10])"
      ]
     },
     "execution_count": 24,
     "metadata": {},
     "output_type": "execute_result"
    }
   ],
   "source": [
    "arr[0:3]"
   ]
  },
  {
   "cell_type": "code",
   "execution_count": 25,
   "id": "dabccd31-ebba-49ee-a57d-f02e62f51305",
   "metadata": {},
   "outputs": [
    {
     "data": {
      "text/plain": [
       "array([[1, 2, 3],\n",
       "       [4, 5, 6],\n",
       "       [7, 8, 9]])"
      ]
     },
     "execution_count": 25,
     "metadata": {},
     "output_type": "execute_result"
    }
   ],
   "source": [
    "arr2[0:3]"
   ]
  },
  {
   "cell_type": "code",
   "execution_count": 26,
   "id": "b173d8f4-62f1-4091-abc7-52e0a3d794c3",
   "metadata": {},
   "outputs": [
    {
     "data": {
      "text/plain": [
       "array([[ 2,  3],\n",
       "       [ 5,  6],\n",
       "       [ 8,  9],\n",
       "       [11, 12]])"
      ]
     },
     "execution_count": 26,
     "metadata": {},
     "output_type": "execute_result"
    }
   ],
   "source": [
    "arr2[:, 1:3] #1열과 2열만"
   ]
  },
  {
   "cell_type": "code",
   "execution_count": 27,
   "id": "bb63ad8a-6d30-4448-be6e-fa3d1262160f",
   "metadata": {},
   "outputs": [
    {
     "data": {
      "text/plain": [
       "array([[ 1,  2],\n",
       "       [ 4,  5],\n",
       "       [ 7,  8],\n",
       "       [10, 11]])"
      ]
     },
     "execution_count": 27,
     "metadata": {},
     "output_type": "execute_result"
    }
   ],
   "source": [
    "arr2[:, :2]"
   ]
  },
  {
   "cell_type": "code",
   "execution_count": 28,
   "id": "5fe17cbd-932a-4f76-ae00-f9002f3a77d1",
   "metadata": {},
   "outputs": [
    {
     "data": {
      "text/plain": [
       "array([[5, 6],\n",
       "       [8, 9]])"
      ]
     },
     "execution_count": 28,
     "metadata": {},
     "output_type": "execute_result"
    }
   ],
   "source": [
    "arr2[1:3, 1:3]"
   ]
  },
  {
   "cell_type": "code",
   "execution_count": 29,
   "id": "88c25a54-984f-49c6-b3e0-989c63a2d17b",
   "metadata": {},
   "outputs": [
    {
     "data": {
      "text/plain": [
       "(array([[ 1,  2],\n",
       "        [ 4,  5],\n",
       "        [ 7,  8],\n",
       "        [10, 11]]),\n",
       " array([[ 1,  2],\n",
       "        [ 4,  5],\n",
       "        [ 7,  8],\n",
       "        [10, 11]]))"
      ]
     },
     "execution_count": 29,
     "metadata": {},
     "output_type": "execute_result"
    }
   ],
   "source": [
    "arr2[0:4, 0:2], arr2[:, :2]"
   ]
  },
  {
   "cell_type": "code",
   "execution_count": 65,
   "id": "9d1b48d0-795f-4fe0-b9b0-ceff1e2eb345",
   "metadata": {},
   "outputs": [
    {
     "data": {
      "text/plain": [
       "array([[1, 3],\n",
       "       [7, 9]])"
      ]
     },
     "execution_count": 65,
     "metadata": {},
     "output_type": "execute_result"
    }
   ],
   "source": [
    "arr2[::2, ::2]"
   ]
  },
  {
   "cell_type": "code",
   "execution_count": 30,
   "id": "da6a444a-9cdd-4685-a9e1-0ffaee5a310c",
   "metadata": {},
   "outputs": [
    {
     "data": {
      "text/plain": [
       "array([0., 0., 0., 0.])"
      ]
     },
     "execution_count": 30,
     "metadata": {},
     "output_type": "execute_result"
    }
   ],
   "source": [
    "np.zeros(4) # float 형의 0을 가지는 배열 생성"
   ]
  },
  {
   "cell_type": "code",
   "execution_count": 31,
   "id": "3db48f27-f412-4b0d-bfd5-3e63d373ed07",
   "metadata": {},
   "outputs": [
    {
     "data": {
      "text/plain": [
       "array([[0., 0.],\n",
       "       [0., 0.],\n",
       "       [0., 0.],\n",
       "       [0., 0.]])"
      ]
     },
     "execution_count": 31,
     "metadata": {},
     "output_type": "execute_result"
    }
   ],
   "source": [
    "np.zeros((4,2))"
   ]
  },
  {
   "cell_type": "code",
   "execution_count": 32,
   "id": "cd464f87-b834-4c21-a6da-cdd0f3ae6893",
   "metadata": {},
   "outputs": [
    {
     "data": {
      "text/plain": [
       "array([1., 1., 1., 1.])"
      ]
     },
     "execution_count": 32,
     "metadata": {},
     "output_type": "execute_result"
    }
   ],
   "source": [
    "np.ones(4) # float 형의 1을 가지는 배열 생성"
   ]
  },
  {
   "cell_type": "code",
   "execution_count": 33,
   "id": "73783db6-edfc-421b-ade1-f3f6561d5e36",
   "metadata": {},
   "outputs": [
    {
     "data": {
      "text/plain": [
       "array([[1., 1.],\n",
       "       [1., 1.],\n",
       "       [1., 1.],\n",
       "       [1., 1.]])"
      ]
     },
     "execution_count": 33,
     "metadata": {},
     "output_type": "execute_result"
    }
   ],
   "source": [
    "np.ones((4,2))"
   ]
  },
  {
   "cell_type": "code",
   "execution_count": 34,
   "id": "6433d319-b34d-4b74-a4f3-f7a31659965e",
   "metadata": {},
   "outputs": [
    {
     "data": {
      "text/plain": [
       "array([5.2, 5.2, 5.2, 5.2])"
      ]
     },
     "execution_count": 34,
     "metadata": {},
     "output_type": "execute_result"
    }
   ],
   "source": [
    "np.full(4, 5.2)"
   ]
  },
  {
   "cell_type": "code",
   "execution_count": 35,
   "id": "a5c2d95b-4184-4a69-8173-66114f91c30e",
   "metadata": {},
   "outputs": [
    {
     "data": {
      "text/plain": [
       "array([[6, 6, 6],\n",
       "       [6, 6, 6]])"
      ]
     },
     "execution_count": 35,
     "metadata": {},
     "output_type": "execute_result"
    }
   ],
   "source": [
    "np.full((2,3), 6)"
   ]
  },
  {
   "cell_type": "code",
   "execution_count": 36,
   "id": "38101691-0470-4981-bc30-7cca50bed699",
   "metadata": {},
   "outputs": [
    {
     "data": {
      "text/plain": [
       "array([[1., 0., 0.],\n",
       "       [0., 1., 0.],\n",
       "       [0., 0., 1.]])"
      ]
     },
     "execution_count": 36,
     "metadata": {},
     "output_type": "execute_result"
    }
   ],
   "source": [
    "np.eye(3)"
   ]
  },
  {
   "cell_type": "code",
   "execution_count": 37,
   "id": "705af094-0284-4ff8-ab35-a6cfcb9b98a0",
   "metadata": {},
   "outputs": [
    {
     "name": "stdout",
     "output_type": "stream",
     "text": [
      "[[2. 2. 3.]\n",
      " [1. 3. 3.]\n",
      " [1. 2. 4.]]\n",
      "[[1. 0. 0.]\n",
      " [0. 2. 0.]\n",
      " [0. 0. 3.]]\n"
     ]
    }
   ],
   "source": [
    "a = np.eye(3)\n",
    "b = np.array([[1,2,3],[1,2,3],[1,2,3]])\n",
    "\n",
    "print(a+b)\n",
    "print(a*b) # 이는 배열의 원소들의 단순한 곱"
   ]
  },
  {
   "cell_type": "code",
   "execution_count": 38,
   "id": "c8afaa43-f251-4d77-b66e-c48c89793ab9",
   "metadata": {},
   "outputs": [
    {
     "data": {
      "text/plain": [
       "array([[1., 2., 3.],\n",
       "       [1., 2., 3.],\n",
       "       [1., 2., 3.]])"
      ]
     },
     "execution_count": 38,
     "metadata": {},
     "output_type": "execute_result"
    }
   ],
   "source": [
    "np.dot(a, b) # 배열의 곱 -> a배열이 항등 배열로써 곱셈 후 b값이 그대로 출력"
   ]
  },
  {
   "cell_type": "code",
   "execution_count": 39,
   "id": "a568ca34-4c68-4c02-89cb-6a51a4e44f04",
   "metadata": {},
   "outputs": [
    {
     "name": "stdout",
     "output_type": "stream",
     "text": [
      "<class 'range'>\n",
      "range(0, 5)\n"
     ]
    }
   ],
   "source": [
    "a = range(5)\n",
    "print(type(a))\n",
    "print(a)"
   ]
  },
  {
   "cell_type": "code",
   "execution_count": 40,
   "id": "191ea480-5715-447a-99e8-db6c0bad3729",
   "metadata": {},
   "outputs": [
    {
     "name": "stdout",
     "output_type": "stream",
     "text": [
      "<class 'numpy.ndarray'>\n"
     ]
    },
    {
     "data": {
      "text/plain": [
       "array([0, 1, 2, 3, 4])"
      ]
     },
     "execution_count": 40,
     "metadata": {},
     "output_type": "execute_result"
    }
   ],
   "source": [
    "b = np.arange(5)\n",
    "print(type(b))\n",
    "b"
   ]
  },
  {
   "cell_type": "code",
   "execution_count": 41,
   "id": "da8ec14a-5eac-4c39-8aae-099c64ffa18e",
   "metadata": {},
   "outputs": [
    {
     "name": "stdout",
     "output_type": "stream",
     "text": [
      "<class 'numpy.ndarray'>\n"
     ]
    },
    {
     "data": {
      "text/plain": [
       "array([0, 1, 2, 3, 4, 5])"
      ]
     },
     "execution_count": 41,
     "metadata": {},
     "output_type": "execute_result"
    }
   ],
   "source": [
    "c = np.arange(6)\n",
    "print(type(c))\n",
    "c"
   ]
  },
  {
   "cell_type": "code",
   "execution_count": 42,
   "id": "53a566f6-33ac-43aa-a28c-57044aac4eb1",
   "metadata": {},
   "outputs": [
    {
     "data": {
      "text/plain": [
       "array([[0, 1, 2],\n",
       "       [3, 4, 5]])"
      ]
     },
     "execution_count": 42,
     "metadata": {},
     "output_type": "execute_result"
    }
   ],
   "source": [
    "c.shape = (2,3)\n",
    "c"
   ]
  },
  {
   "cell_type": "code",
   "execution_count": 43,
   "id": "fdad4fbc-83c0-4afa-aa89-eefd6bbc67d3",
   "metadata": {},
   "outputs": [
    {
     "data": {
      "text/plain": [
       "array([0, 1, 2, 3, 4, 5])"
      ]
     },
     "execution_count": 43,
     "metadata": {},
     "output_type": "execute_result"
    }
   ],
   "source": [
    "e = c.flatten()\n",
    "e"
   ]
  },
  {
   "cell_type": "code",
   "execution_count": 44,
   "id": "0f6c1960-0fe9-4b4d-861e-994eb2d88140",
   "metadata": {},
   "outputs": [
    {
     "data": {
      "text/plain": [
       "array([[0, 1],\n",
       "       [2, 3],\n",
       "       [4, 5]])"
      ]
     },
     "execution_count": 44,
     "metadata": {},
     "output_type": "execute_result"
    }
   ],
   "source": [
    "e.resize(3,2)\n",
    "e"
   ]
  },
  {
   "cell_type": "code",
   "execution_count": 45,
   "id": "54e61fdc-5a3b-4d80-a5e7-6680f9223c6e",
   "metadata": {},
   "outputs": [
    {
     "data": {
      "text/plain": [
       "array([[0., 1.],\n",
       "       [2., 3.],\n",
       "       [4., 5.]])"
      ]
     },
     "execution_count": 45,
     "metadata": {},
     "output_type": "execute_result"
    }
   ],
   "source": [
    "e = e.astype(np.float64)\n",
    "e"
   ]
  },
  {
   "cell_type": "code",
   "execution_count": 46,
   "id": "44bf9147-3a93-436d-8f4c-074f42df0a20",
   "metadata": {},
   "outputs": [
    {
     "data": {
      "text/plain": [
       "array([[ 0,  1,  2],\n",
       "       [ 3,  4,  5],\n",
       "       [ 6,  7,  8],\n",
       "       [ 9, 10, 11]])"
      ]
     },
     "execution_count": 46,
     "metadata": {},
     "output_type": "execute_result"
    }
   ],
   "source": [
    "data = np.arange(12).reshape(4,3)\n",
    "data"
   ]
  },
  {
   "cell_type": "code",
   "execution_count": 47,
   "id": "b763d882-eb6d-4b80-a339-22fc90174aff",
   "metadata": {},
   "outputs": [
    {
     "data": {
      "text/plain": [
       "array([[ 0,  1,  2],\n",
       "       [ 3,  4,  5],\n",
       "       [ 6,  7,  8],\n",
       "       [ 9, 10, 11]])"
      ]
     },
     "execution_count": 47,
     "metadata": {},
     "output_type": "execute_result"
    }
   ],
   "source": [
    "data2 = np.arange(0, 12, 1).reshape(4,3)\n",
    "data2"
   ]
  },
  {
   "cell_type": "code",
   "execution_count": 48,
   "id": "557e625e-1948-4e66-89f2-0562e2b683e4",
   "metadata": {},
   "outputs": [
    {
     "data": {
      "text/plain": [
       "array([[ 0,  2,  4],\n",
       "       [ 6,  8, 10],\n",
       "       [12, 14, 16],\n",
       "       [18, 20, 22]])"
      ]
     },
     "execution_count": 48,
     "metadata": {},
     "output_type": "execute_result"
    }
   ],
   "source": [
    "data3 = np.arange(0, 24, 2).reshape(4,3)\n",
    "data3"
   ]
  },
  {
   "cell_type": "code",
   "execution_count": 49,
   "id": "b3646f42-bf78-434b-9424-4b2d672d43e9",
   "metadata": {},
   "outputs": [
    {
     "data": {
      "text/plain": [
       "array([[False, False, False],\n",
       "       [False, False,  True],\n",
       "       [ True,  True,  True],\n",
       "       [ True,  True,  True]])"
      ]
     },
     "execution_count": 49,
     "metadata": {},
     "output_type": "execute_result"
    }
   ],
   "source": [
    "data3 >= 10"
   ]
  },
  {
   "cell_type": "code",
   "execution_count": 50,
   "id": "832902c9-4498-47e1-aa27-0974b84bf6b8",
   "metadata": {},
   "outputs": [
    {
     "data": {
      "text/plain": [
       "array([[0, 2, 4],\n",
       "       [6, 8, 3],\n",
       "       [3, 3, 3],\n",
       "       [3, 3, 3]])"
      ]
     },
     "execution_count": 50,
     "metadata": {},
     "output_type": "execute_result"
    }
   ],
   "source": [
    "data3[data3 >= 10] = 3\n",
    "data3"
   ]
  },
  {
   "cell_type": "code",
   "execution_count": 51,
   "id": "8b87e8c3-15f7-45f0-a4b2-476e6284615c",
   "metadata": {},
   "outputs": [
    {
     "data": {
      "text/plain": [
       "np.int64(8)"
      ]
     },
     "execution_count": 51,
     "metadata": {},
     "output_type": "execute_result"
    }
   ],
   "source": [
    "data3.max()"
   ]
  },
  {
   "cell_type": "code",
   "execution_count": 52,
   "id": "22d802a3-46a7-45ee-aac3-c7c78259bc60",
   "metadata": {},
   "outputs": [
    {
     "data": {
      "text/plain": [
       "array([4, 8, 3, 3])"
      ]
     },
     "execution_count": 52,
     "metadata": {},
     "output_type": "execute_result"
    }
   ],
   "source": [
    "data3.max(axis=1)"
   ]
  },
  {
   "cell_type": "code",
   "execution_count": 53,
   "id": "3b065765-da07-44f1-99e3-c226976cf81b",
   "metadata": {},
   "outputs": [
    {
     "data": {
      "text/plain": [
       "array([6, 8, 4])"
      ]
     },
     "execution_count": 53,
     "metadata": {},
     "output_type": "execute_result"
    }
   ],
   "source": [
    "data3.max(axis=0)"
   ]
  },
  {
   "cell_type": "code",
   "execution_count": 54,
   "id": "55d1308f-2c7f-4111-91d9-9a6e85f0ac35",
   "metadata": {},
   "outputs": [
    {
     "name": "stdout",
     "output_type": "stream",
     "text": [
      "41\n",
      "[ 6 17  9  9]\n",
      "[18 22 26]\n"
     ]
    }
   ],
   "source": [
    "print(data3.sum())\n",
    "print(data3.sum(axis=1))\n",
    "print(data.sum(axis=0))"
   ]
  },
  {
   "cell_type": "code",
   "execution_count": 55,
   "id": "a88981ba-df9c-4104-ab95-6f2c76f9757f",
   "metadata": {},
   "outputs": [
    {
     "data": {
      "text/plain": [
       "array([[ 9, 18,  5, 18, 40],\n",
       "       [41, 46,  2,  5, 27],\n",
       "       [14, 24,  4, 40, 13],\n",
       "       [13, 27, 12,  7, 15]], dtype=int32)"
      ]
     },
     "execution_count": 55,
     "metadata": {},
     "output_type": "execute_result"
    }
   ],
   "source": [
    "data4 = np.random.randint(1, 50, (4,5))\n",
    "data4"
   ]
  },
  {
   "cell_type": "code",
   "execution_count": 56,
   "id": "b2c84d9d-6b3b-49a8-bfa2-5a27efaf4165",
   "metadata": {},
   "outputs": [
    {
     "data": {
      "text/plain": [
       "array([[ 5,  9, 18, 18, 40],\n",
       "       [ 2,  5, 27, 41, 46],\n",
       "       [ 4, 13, 14, 24, 40],\n",
       "       [ 7, 12, 13, 15, 27]], dtype=int32)"
      ]
     },
     "execution_count": 56,
     "metadata": {},
     "output_type": "execute_result"
    }
   ],
   "source": [
    "data4.sort() #기본적으로 행단위로 오름차순 정렬\n",
    "data4"
   ]
  },
  {
   "cell_type": "code",
   "execution_count": 57,
   "id": "4e7adb5e-8de0-4fe4-869a-a8ff309cb4e1",
   "metadata": {},
   "outputs": [
    {
     "data": {
      "text/plain": [
       "array([[ 2,  5, 13, 15, 27],\n",
       "       [ 4,  9, 14, 18, 40],\n",
       "       [ 5, 12, 18, 24, 40],\n",
       "       [ 7, 13, 27, 41, 46]], dtype=int32)"
      ]
     },
     "execution_count": 57,
     "metadata": {},
     "output_type": "execute_result"
    }
   ],
   "source": [
    "data4.sort(axis=0) # 열 단위 정렬\n",
    "data4"
   ]
  },
  {
   "cell_type": "code",
   "execution_count": 58,
   "id": "3a3286ef-140e-483a-86d0-63e6ecc8abe2",
   "metadata": {},
   "outputs": [
    {
     "data": {
      "text/plain": [
       "array([[ 2,  5, 13, 15, 27],\n",
       "       [ 4,  9, 14, 18, 40],\n",
       "       [ 5, 12, 18, 24, 40],\n",
       "       [ 7, 13, 27, 41, 46]], dtype=int32)"
      ]
     },
     "execution_count": 58,
     "metadata": {},
     "output_type": "execute_result"
    }
   ],
   "source": [
    "data4.sort(axis=1) # 행 단위 정렬\n",
    "data4"
   ]
  },
  {
   "cell_type": "code",
   "execution_count": 59,
   "id": "0a343cd7-e665-44da-adca-d284d6fce888",
   "metadata": {},
   "outputs": [
    {
     "data": {
      "text/plain": [
       "array([[ 7, 13, 27, 41, 46],\n",
       "       [ 5, 12, 18, 24, 40],\n",
       "       [ 4,  9, 14, 18, 40],\n",
       "       [ 2,  5, 13, 15, 27]], dtype=int32)"
      ]
     },
     "execution_count": 59,
     "metadata": {},
     "output_type": "execute_result"
    }
   ],
   "source": [
    "data4 = np.sort(data4)[::-1] # np.sort는 기본으로 열단위 정렬\n",
    "data4"
   ]
  },
  {
   "cell_type": "code",
   "execution_count": 60,
   "id": "f4993df1-e0dd-43e2-a7f3-38a1859d07a8",
   "metadata": {},
   "outputs": [
    {
     "data": {
      "text/plain": [
       "array([[ 2,  5, 13, 15, 27],\n",
       "       [ 4,  9, 14, 18, 40],\n",
       "       [ 5, 12, 18, 24, 40],\n",
       "       [ 7, 13, 27, 41, 46]], dtype=int32)"
      ]
     },
     "execution_count": 60,
     "metadata": {},
     "output_type": "execute_result"
    }
   ],
   "source": [
    "data4 = np.sort(data4, axis=1)[::-1]\n",
    "data4"
   ]
  },
  {
   "cell_type": "code",
   "execution_count": 61,
   "id": "b9d0ea4a-952d-4b3f-a655-dffd91fd389e",
   "metadata": {},
   "outputs": [
    {
     "data": {
      "text/plain": [
       "array([[ 7, 13, 27, 41, 46],\n",
       "       [ 5, 12, 18, 24, 40],\n",
       "       [ 4,  9, 14, 18, 40],\n",
       "       [ 2,  5, 13, 15, 27]], dtype=int32)"
      ]
     },
     "execution_count": 61,
     "metadata": {},
     "output_type": "execute_result"
    }
   ],
   "source": [
    "data4 = np.sort(data4, axis=0)[::-1]\n",
    "data4"
   ]
  },
  {
   "cell_type": "code",
   "execution_count": 62,
   "id": "a7bf87e5-8d0a-4799-8301-a25a760dfede",
   "metadata": {},
   "outputs": [
    {
     "data": {
      "text/plain": [
       "array([  0. ,  12.5,  25. ,  37.5,  50. ,  62.5,  75. ,  87.5, 100. ])"
      ]
     },
     "execution_count": 62,
     "metadata": {},
     "output_type": "execute_result"
    }
   ],
   "source": [
    "np.linspace(0,100,9)"
   ]
  },
  {
   "cell_type": "code",
   "execution_count": 63,
   "id": "b9789956-2da2-4ed8-9fee-6422db3b1747",
   "metadata": {},
   "outputs": [
    {
     "data": {
      "text/plain": [
       "array([1.00000000e+000, 1.29154967e+011, 1.66810054e+022, 2.15443469e+033,\n",
       "       2.78255940e+044, 3.59381366e+055, 4.64158883e+066, 5.99484250e+077,\n",
       "       7.74263683e+088, 1.00000000e+100])"
      ]
     },
     "execution_count": 63,
     "metadata": {},
     "output_type": "execute_result"
    }
   ],
   "source": [
    "np.logspace(0,100,10)"
   ]
  },
  {
   "cell_type": "code",
   "execution_count": 64,
   "id": "38ab406c-cb09-4f02-8fbd-7b2a9ba616ac",
   "metadata": {},
   "outputs": [],
   "source": [
    "a = ['1', '2']\n",
    "b = np.array(a)\n",
    "# b*3 # 배열 x"
   ]
  },
  {
   "cell_type": "code",
   "execution_count": 67,
   "id": "2ec69ebb-ad96-4c61-adc2-f934b9332813",
   "metadata": {},
   "outputs": [
    {
     "data": {
      "text/plain": [
       "(array([49.20640313, 48.19499001, 52.27869503, 49.26972663, 51.9881939 ,\n",
       "        51.38217768, 49.31207446, 50.21125005, 49.51666667, 49.37313493]),\n",
       " array([165.25231719, 165.38037923, 165.75003242, 165.23529268,\n",
       "        168.78190234, 165.16680274, 166.55721713, 163.27790503,\n",
       "        164.57972392, 165.02892713]))"
      ]
     },
     "execution_count": 67,
     "metadata": {},
     "output_type": "execute_result"
    }
   ],
   "source": [
    "kg = 50 + np.random.randn(10)\n",
    "he = 165 + np.random.randn(10)\n",
    "\n",
    "kg, he"
   ]
  },
  {
   "cell_type": "code",
   "execution_count": null,
   "id": "6fbead30-6896-494f-9014-7e5adbdbf610",
   "metadata": {},
   "outputs": [],
   "source": []
  }
 ],
 "metadata": {
  "kernelspec": {
   "display_name": "Python [conda env:base] *",
   "language": "python",
   "name": "conda-base-py"
  },
  "language_info": {
   "codemirror_mode": {
    "name": "ipython",
    "version": 3
   },
   "file_extension": ".py",
   "mimetype": "text/x-python",
   "name": "python",
   "nbconvert_exporter": "python",
   "pygments_lexer": "ipython3",
   "version": "3.13.5"
  }
 },
 "nbformat": 4,
 "nbformat_minor": 5
}
