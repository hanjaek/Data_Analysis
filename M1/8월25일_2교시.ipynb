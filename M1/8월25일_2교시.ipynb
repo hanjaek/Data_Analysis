{
 "cells": [
  {
   "cell_type": "code",
   "execution_count": 8,
   "id": "e6d406bc-9ba7-4133-9828-d3a137bdf527",
   "metadata": {},
   "outputs": [],
   "source": [
    "def sum1():\n",
    "    a=5\n",
    "    re=0\n",
    "    for i in range(1, a, 1):\n",
    "        re+=i\n",
    "    return \"결과\", re"
   ]
  },
  {
   "cell_type": "code",
   "execution_count": 9,
   "id": "a4c3ec61-5fcc-4581-8bce-b6af3f5f15c9",
   "metadata": {},
   "outputs": [
    {
     "data": {
      "text/plain": [
       "('결과', 10)"
      ]
     },
     "execution_count": 9,
     "metadata": {},
     "output_type": "execute_result"
    }
   ],
   "source": [
    "sum1()"
   ]
  },
  {
   "cell_type": "code",
   "execution_count": 3,
   "id": "47ed68f0-6cfe-4e95-a74a-c34240bd855d",
   "metadata": {},
   "outputs": [],
   "source": [
    "def sum2(a):\n",
    "    re=0\n",
    "    for i in range(1, a, 1):\n",
    "        re+=i\n",
    "    return re"
   ]
  },
  {
   "cell_type": "code",
   "execution_count": 7,
   "id": "d8a062db-517d-4903-a1f9-7d8749635f64",
   "metadata": {},
   "outputs": [
    {
     "data": {
      "text/plain": [
       "10"
      ]
     },
     "execution_count": 7,
     "metadata": {},
     "output_type": "execute_result"
    }
   ],
   "source": [
    "sum2(5)"
   ]
  },
  {
   "cell_type": "code",
   "execution_count": 12,
   "id": "75a4fa32-f2c2-4dd2-9595-00954b0d2321",
   "metadata": {},
   "outputs": [],
   "source": [
    "def sum3(a):\n",
    "    re=0\n",
    "    for i in range(1, a, 1):\n",
    "        re+=i\n",
    "    print(\"결과값은\", re)"
   ]
  },
  {
   "cell_type": "code",
   "execution_count": 13,
   "id": "1aaca17e-7cc9-4558-bcfc-36524c02683c",
   "metadata": {},
   "outputs": [
    {
     "name": "stdout",
     "output_type": "stream",
     "text": [
      "결과값은 10\n"
     ]
    }
   ],
   "source": [
    "sum3(5)"
   ]
  },
  {
   "cell_type": "code",
   "execution_count": 15,
   "id": "fe314126-5f72-4f24-80b4-e9436a0f5060",
   "metadata": {},
   "outputs": [
    {
     "name": "stdout",
     "output_type": "stream",
     "text": [
      "함수 호출 전 함수 밖에서 5\n",
      "함수안에서 10\n",
      "None\n",
      "함수 호출 후 함수 밖에서 5\n"
     ]
    }
   ],
   "source": [
    "local = 5\n",
    "\n",
    "def what():\n",
    "    local = 10 #지역변수\n",
    "    print(\"함수안에서\", local)\n",
    "\n",
    "print(\"함수 호출 전 함수 밖에서\", local)\n",
    "print(what())\n",
    "print(\"함수 호출 후 함수 밖에서\", local)"
   ]
  },
  {
   "cell_type": "code",
   "execution_count": 17,
   "id": "651e5b6a-aaaf-4a73-a60c-075f436cd8d9",
   "metadata": {},
   "outputs": [
    {
     "name": "stdout",
     "output_type": "stream",
     "text": [
      "함수 호출 전 함수 밖에서 5\n",
      "함수안에서 10\n",
      "None\n",
      "함수 호출 후 함수 밖에서 10\n"
     ]
    }
   ],
   "source": [
    "local = 5\n",
    "\n",
    "def what():\n",
    "    global local\n",
    "    local = 10\n",
    "    print(\"함수안에서\", local)\n",
    "\n",
    "print(\"함수 호출 전 함수 밖에서\", local)\n",
    "print(what())\n",
    "print(\"함수 호출 후 함수 밖에서\", local)"
   ]
  },
  {
   "cell_type": "code",
   "execution_count": 18,
   "id": "1a9b6fb0-b0b7-413f-a045-afbfe3fc996e",
   "metadata": {},
   "outputs": [],
   "source": [
    "def order(name, n=5, toy=\"레고\"):\n",
    "    print(n, name, toy)"
   ]
  },
  {
   "cell_type": "code",
   "execution_count": 19,
   "id": "0a0b9e82-44d5-41d6-a38f-ea1768121af3",
   "metadata": {},
   "outputs": [
    {
     "name": "stdout",
     "output_type": "stream",
     "text": [
      "5 홍길동 레고\n"
     ]
    }
   ],
   "source": [
    "order(\"홍길동\")"
   ]
  },
  {
   "cell_type": "code",
   "execution_count": 20,
   "id": "d7dd17f7-c901-4667-b183-888bf04eb2e3",
   "metadata": {},
   "outputs": [
    {
     "name": "stdout",
     "output_type": "stream",
     "text": [
      "3 홍길동 괴물\n"
     ]
    }
   ],
   "source": [
    "order(\"홍길동\", 3, \"괴물\")"
   ]
  },
  {
   "cell_type": "code",
   "execution_count": 21,
   "id": "908c28eb-1969-4bd0-9239-8adc6a826cbe",
   "metadata": {},
   "outputs": [
    {
     "name": "stdout",
     "output_type": "stream",
     "text": [
      "5 컴퓨터 레고\n"
     ]
    }
   ],
   "source": [
    "order(\"컴퓨터\")"
   ]
  },
  {
   "cell_type": "code",
   "execution_count": 22,
   "id": "69f7f2cd-82ae-4a6e-9ad3-9e0976002c5e",
   "metadata": {},
   "outputs": [],
   "source": [
    "# 파이썬 라이브러리 활용"
   ]
  },
  {
   "cell_type": "code",
   "execution_count": 23,
   "id": "64020bdf-6c5d-4596-8b48-87c59dd6abd2",
   "metadata": {},
   "outputs": [
    {
     "data": {
      "text/plain": [
       "(0.8509035245341184, 0.5253219888177297, 1.6197751905438615)"
      ]
     },
     "execution_count": 23,
     "metadata": {},
     "output_type": "execute_result"
    }
   ],
   "source": [
    "import math\n",
    "\n",
    "math.sin(45), math.cos(45), math.tan(45)"
   ]
  },
  {
   "cell_type": "code",
   "execution_count": 24,
   "id": "e1dd4d08-b9ea-42c0-b826-d28869798432",
   "metadata": {},
   "outputs": [
    {
     "data": {
      "text/plain": [
       "(0.8509035245341184, 0.5253219888177297, 1.6197751905438615)"
      ]
     },
     "execution_count": 24,
     "metadata": {},
     "output_type": "execute_result"
    }
   ],
   "source": [
    "import math as m\n",
    "\n",
    "m.sin(45), m.cos(45), m.tan(45)"
   ]
  },
  {
   "cell_type": "code",
   "execution_count": null,
   "id": "69307d60-9c7f-4896-af12-3438c8bba904",
   "metadata": {},
   "outputs": [],
   "source": []
  }
 ],
 "metadata": {
  "kernelspec": {
   "display_name": "Python [conda env:base] *",
   "language": "python",
   "name": "conda-base-py"
  },
  "language_info": {
   "codemirror_mode": {
    "name": "ipython",
    "version": 3
   },
   "file_extension": ".py",
   "mimetype": "text/x-python",
   "name": "python",
   "nbconvert_exporter": "python",
   "pygments_lexer": "ipython3",
   "version": "3.13.5"
  }
 },
 "nbformat": 4,
 "nbformat_minor": 5
}
