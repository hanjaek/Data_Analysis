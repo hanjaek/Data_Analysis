{
 "cells": [
  {
   "cell_type": "markdown",
   "metadata": {},
   "source": [
    "# **파이선 기초**\n",
    "\n",
    "#### 1) 주피터노트북 설치 및 사용, 코랩 사용\n",
    "\n",
    "#### 2) 기본 데이터형 : 정수(int), 부동소수(float), 문자(strings), 불리언(True/False) \n",
    "#### 3) 키보드 입력, 출력\n",
    "#### 4) 알고리즘 : if문, for문, while문\n",
    "\n",
    "#### 5) 특수 데이터 형 : 리스트(list), 튜플(tuple), 사전(dictionary)\n",
    "#### 6) 함수\n",
    "#### 7) 차트 matPlotLib"
   ]
  },
  {
   "attachments": {},
   "cell_type": "markdown",
   "metadata": {},
   "source": [
    "### **1) 주피터노트북**\n",
    "- https://www.anaconda.com/\n",
    "- 아나콘다 (anaconda)를 설치\n",
    "- jupyter notebook 실행\n",
    "- 탐색기 경로 확인 C:\\Users\\본인의 아이디 폴더\\\n",
    "- 마크다운과 코드 사용\n",
    "- 셀을 실행 : Shift + Enter, Ctrl + Enter\n",
    "- 두 개의 셀을 합치기 : Shift + m\n",
    "- 셀을 둘로 나누기 : Shift + Ctrl + -\n",
    "- 새로운 셀 삽입 : 위쪽에 삽입 - a, 아래쪽에 삽입 - b\n",
    "\n",
    "### **코랩과 유사**\n",
    "- https://colab.research.google.com/?hl=ko\n",
    "- e\r\n",
    "https://colab.goole\r\n"
   ]
  },
  {
   "cell_type": "markdown",
   "metadata": {},
   "source": [
    "#### **최신버전으로 업데이트**\n",
    "pip --version\n",
    "\n",
    "pip install pkg\n",
    "\n",
    "pip install --upgrade pip\n",
    "\n",
    "!pip3 install --upgrade pip\n",
    "\n",
    "!pip3 install --user --upgrade virtualenv"
   ]
  },
  {
   "cell_type": "markdown",
   "metadata": {},
   "source": [
    "### **2) 기본 데이터 형**\n",
    "- 정수(int), 부동소수(float), 문자(strings), 불리언(True/False),  "
   ]
  },
  {
   "cell_type": "code",
   "execution_count": 1,
   "metadata": {},
   "outputs": [
    {
     "name": "stdout",
     "output_type": "stream",
     "text": [
      "5 5.0 True False 문자 문자열 1~~~  \n",
      "2~~~\n",
      "3~~~  1~~~\n",
      "2~~~\n",
      "3~~~ \n",
      "<class 'int'> <class 'float'> <class 'bool'> <class 'bool'> <class 'str'> <class 'str'> <class 'str'> <class 'str'>\n"
     ]
    }
   ],
   "source": [
    "a=5\n",
    "b=5.0\n",
    "c=True\n",
    "d=False\n",
    "e='문자'\n",
    "f=\"문자열\"\n",
    "\n",
    "g='''1~~~  \n",
    "2~~~\n",
    "3~~~ ''' \n",
    "\n",
    "h=\"\"\"1~~~\n",
    "2~~~\n",
    "3~~~ \"\"\" \n",
    "\n",
    "print(a, b, c, d, e, f, g, h)\n",
    "print( type(a), type(b), type(c),type(d),type(e),type(f), type(g), type(h) )"
   ]
  },
  {
   "cell_type": "code",
   "execution_count": 2,
   "metadata": {},
   "outputs": [
    {
     "name": "stdout",
     "output_type": "stream",
     "text": [
      "3\n"
     ]
    },
    {
     "data": {
      "text/plain": [
       "3"
      ]
     },
     "execution_count": 2,
     "metadata": {},
     "output_type": "execute_result"
    }
   ],
   "source": [
    "x=3\n",
    "print(x)\n",
    "x"
   ]
  },
  {
   "cell_type": "code",
   "execution_count": 3,
   "metadata": {},
   "outputs": [
    {
     "data": {
      "text/plain": [
       "3.5"
      ]
     },
     "execution_count": 3,
     "metadata": {},
     "output_type": "execute_result"
    }
   ],
   "source": [
    "y = 0.5\n",
    "x+y"
   ]
  },
  {
   "cell_type": "code",
   "execution_count": 4,
   "metadata": {},
   "outputs": [
    {
     "name": "stdout",
     "output_type": "stream",
     "text": [
      "출력 3 10 30 3.3333333333333335 3 1 끝\n"
     ]
    },
    {
     "data": {
      "text/plain": [
       "(3, 3.3333333333333335, 1)"
      ]
     },
     "execution_count": 4,
     "metadata": {},
     "output_type": "execute_result"
    }
   ],
   "source": [
    "a=3\n",
    "b=10\n",
    "c=a*b\n",
    "d=10//3  \n",
    "e=10/3   \n",
    "f=10%3\n",
    "print(\"출력\", a,b,c,e,d,f, '끝')\n",
    "d,e,f"
   ]
  },
  {
   "cell_type": "code",
   "execution_count": 5,
   "metadata": {},
   "outputs": [
    {
     "name": "stdout",
     "output_type": "stream",
     "text": [
      "100200\n",
      "300\n"
     ]
    }
   ],
   "source": [
    "print(\"100\" + \"200\")\n",
    "print(100 + 200)\n",
    "print(100 + \"200\")"
   ]
  },
  {
   "cell_type": "code",
   "execution_count": 6,
   "metadata": {},
   "outputs": [
    {
     "name": "stdout",
     "output_type": "stream",
     "text": [
      "10 * 20 = 200\n",
      "10 * 20 = 200\n",
      "20 * 10 = 200\n",
      "10.000 * 20.00 = 200.0\n",
      "20.000 * 10.00 = 200.0\n"
     ]
    }
   ],
   "source": [
    "a=10\n",
    "b=20\n",
    "c=a*b\n",
    "print( a,\"*\",b,'=', c)\n",
    "print(\"{} * {} = {}\".format(a,b,c))\n",
    "print(\"{1} * {0} = {2}\".format(a,b,c))   \n",
    "\n",
    "print(\"{:.3f} * {:.2f} = {:.1f}\".format(a,b,c))\n",
    "print(\"{1:.3f} * {0:.2f} = {2:.1f}\".format(a,b,c))"
   ]
  },
  {
   "cell_type": "markdown",
   "metadata": {},
   "source": [
    "#### **3) 키보드 입력, 화면 출력**"
   ]
  },
  {
   "cell_type": "code",
   "execution_count": 7,
   "metadata": {},
   "outputs": [
    {
     "name": "stdin",
     "output_type": "stream",
     "text": [
      " 2\n",
      " 5\n"
     ]
    },
    {
     "name": "stdout",
     "output_type": "stream",
     "text": [
      "2\n",
      "5\n"
     ]
    }
   ],
   "source": [
    "x=input()\n",
    "y=input()\n",
    "print(x)\n",
    "print(y)"
   ]
  },
  {
   "cell_type": "code",
   "execution_count": 8,
   "metadata": {},
   "outputs": [
    {
     "name": "stdin",
     "output_type": "stream",
     "text": [
      " 2\n",
      " 9\n"
     ]
    },
    {
     "name": "stdout",
     "output_type": "stream",
     "text": [
      "2\n",
      "9\n"
     ]
    }
   ],
   "source": [
    "a=int(input())\n",
    "b=int(input())\n",
    "print(a)\n",
    "print(b)"
   ]
  },
  {
   "cell_type": "code",
   "execution_count": 9,
   "metadata": {},
   "outputs": [
    {
     "name": "stdin",
     "output_type": "stream",
     "text": [
      " 1\n"
     ]
    },
    {
     "name": "stdout",
     "output_type": "stream",
     "text": [
      "1\n"
     ]
    }
   ],
   "source": [
    "c=input()\n",
    "c=int(c)\n",
    "print(c)"
   ]
  },
  {
   "cell_type": "code",
   "execution_count": 10,
   "metadata": {},
   "outputs": [
    {
     "name": "stdin",
     "output_type": "stream",
     "text": [
      " 2\n"
     ]
    },
    {
     "name": "stdout",
     "output_type": "stream",
     "text": [
      "2.0\n"
     ]
    }
   ],
   "source": [
    "d=input()\n",
    "d=float(d)\n",
    "print(d)"
   ]
  },
  {
   "cell_type": "code",
   "execution_count": 11,
   "metadata": {},
   "outputs": [
    {
     "name": "stdin",
     "output_type": "stream",
     "text": [
      "이름을 입력하시오 3.4\n",
      "나이를 입력하시오 1\n",
      "보안키를 입력하시오 2\n"
     ]
    },
    {
     "name": "stdout",
     "output_type": "stream",
     "text": [
      "3.4 \n",
      " 1 \n",
      " 2.0\n"
     ]
    }
   ],
   "source": [
    "name=input('이름을 입력하시오')\n",
    "age=int(input('나이를 입력하시오'))\n",
    "bo=float(input('보안키를 입력하시오'))\n",
    "print(name, \"\\n\", age, \"\\n\",bo)"
   ]
  },
  {
   "cell_type": "code",
   "execution_count": 12,
   "metadata": {},
   "outputs": [
    {
     "name": "stdin",
     "output_type": "stream",
     "text": [
      " 3\n"
     ]
    },
    {
     "name": "stdout",
     "output_type": "stream",
     "text": [
      "3%\n"
     ]
    }
   ],
   "source": [
    "a=int(input())\n",
    "print(a, '%', sep='')"
   ]
  },
  {
   "cell_type": "code",
   "execution_count": 13,
   "metadata": {},
   "outputs": [
    {
     "name": "stdin",
     "output_type": "stream",
     "text": [
      " 3:4\n"
     ]
    },
    {
     "name": "stdout",
     "output_type": "stream",
     "text": [
      "3:4\n",
      "3 4\n"
     ]
    }
   ],
   "source": [
    "a, b = input().split(':')\n",
    "print(a, b, sep=':')\n",
    "print(a, b)"
   ]
  },
  {
   "cell_type": "code",
   "execution_count": 16,
   "metadata": {},
   "outputs": [
    {
     "name": "stdin",
     "output_type": "stream",
     "text": [
      " 2.3.4\n"
     ]
    },
    {
     "name": "stdout",
     "output_type": "stream",
     "text": [
      "4-3-2\n"
     ]
    }
   ],
   "source": [
    "y, m, d = input().split('.')\n",
    "print(d, m, y, sep='-')"
   ]
  },
  {
   "cell_type": "code",
   "execution_count": 21,
   "metadata": {},
   "outputs": [
    {
     "name": "stdin",
     "output_type": "stream",
     "text": [
      " 5-9\n"
     ]
    },
    {
     "name": "stdout",
     "output_type": "stream",
     "text": [
      "59\n"
     ]
    }
   ],
   "source": [
    "a,b = input().split('-')\n",
    "print(a,b, sep='')"
   ]
  },
  {
   "cell_type": "code",
   "execution_count": 24,
   "metadata": {},
   "outputs": [
    {
     "name": "stdin",
     "output_type": "stream",
     "text": [
      " 2 6\n"
     ]
    },
    {
     "name": "stdout",
     "output_type": "stream",
     "text": [
      "26\n"
     ]
    }
   ],
   "source": [
    "w1, w2 = input().split()\n",
    "s = w1 + w2\n",
    "print(s)"
   ]
  },
  {
   "cell_type": "code",
   "execution_count": 25,
   "metadata": {},
   "outputs": [
    {
     "name": "stdout",
     "output_type": "stream",
     "text": [
      "2 + 5 = 7\n",
      "2 + 5 = 7\n",
      "5 + 2 = 7\n"
     ]
    }
   ],
   "source": [
    "a=2\n",
    "b=5\n",
    "c=a+b\n",
    "print(a, \"+\", b, \"=\", c)\n",
    "print(\"{} + {} = {}\".format(a, b, c))\n",
    "\n",
    "print(\"{1} + {0} = {2}\".format(a, b, c))"
   ]
  },
  {
   "cell_type": "markdown",
   "metadata": {},
   "source": [
    "#### **4) 알고리즘**\n",
    "- if 문\n",
    "    - 조건에 따른 실행 문장을 실행\n",
    "    - if, elif, else 문을 활용\n",
    "- for 문\n",
    "    - 반복 횟수가 정확 할 때\n",
    "- while 문 \n",
    "    - 조건에 대한 문장 반복                        "
   ]
  },
  {
   "cell_type": "code",
   "execution_count": 26,
   "metadata": {},
   "outputs": [
    {
     "name": "stdout",
     "output_type": "stream",
     "text": [
      "x > 10\n",
      "---------\n"
     ]
    }
   ],
   "source": [
    "x=17\n",
    "if x > 10:\n",
    "    print(\"x > 10\") \n",
    "    print('---------')\n",
    "elif x > 3:\n",
    "    print(\"10 >= x < 3\") \n",
    "else:\n",
    "    print(\" x <= 3\") "
   ]
  },
  {
   "cell_type": "code",
   "execution_count": 28,
   "metadata": {},
   "outputs": [
    {
     "name": "stdin",
     "output_type": "stream",
     "text": [
      "숫자를 입력하세요 8\n"
     ]
    },
    {
     "name": "stdout",
     "output_type": "stream",
     "text": [
      "10보다 적다\n"
     ]
    }
   ],
   "source": [
    "a=int(input('숫자를 입력하세요'))\n",
    "if a>10 :\n",
    "    print(\"10보다 크다\")\n",
    "else :\n",
    "    print(\"10보다 적다\")"
   ]
  },
  {
   "cell_type": "code",
   "execution_count": 30,
   "metadata": {},
   "outputs": [
    {
     "name": "stdin",
     "output_type": "stream",
     "text": [
      "숫자를 입력하세요 13\n"
     ]
    },
    {
     "name": "stdout",
     "output_type": "stream",
     "text": [
      "10보다 크다\n"
     ]
    }
   ],
   "source": [
    "a=int(input('숫자를 입력하세요'))\n",
    "if a>10 :\n",
    "    print(\"10보다 크다\")\n",
    "elif a==10 :\n",
    "    print(\"10이다\")\n",
    "else :\n",
    "    print(\"10보다 적다\")"
   ]
  },
  {
   "cell_type": "code",
   "execution_count": 31,
   "metadata": {},
   "outputs": [
    {
     "name": "stdin",
     "output_type": "stream",
     "text": [
      "수? 7\n"
     ]
    },
    {
     "name": "stdout",
     "output_type": "stream",
     "text": [
      "7 는 홀수\n"
     ]
    }
   ],
   "source": [
    "# 어떤 수를 입력받아서 짝수 홀수를 출력하라. \n",
    "x=int(input('수?'))\n",
    "\n",
    "if x%2 == 0 :   ##  == 같니?\n",
    "    print(x, \"는 짝수\")\n",
    "else:\n",
    "    print(x, \"는 홀수\")"
   ]
  },
  {
   "cell_type": "code",
   "execution_count": 32,
   "metadata": {},
   "outputs": [
    {
     "name": "stdout",
     "output_type": "stream",
     "text": [
      "7 는 홀수\n"
     ]
    }
   ],
   "source": [
    "if x%2 != 0 :    \n",
    "    print(x, \"는 홀수\")\n",
    "else:\n",
    "    print(x, \"는 짝수\")"
   ]
  },
  {
   "cell_type": "code",
   "execution_count": 33,
   "metadata": {},
   "outputs": [
    {
     "name": "stdout",
     "output_type": "stream",
     "text": [
      "7 는 홀수\n"
     ]
    }
   ],
   "source": [
    "if x%2 == 0 :\n",
    "    print(x, \"는 짝수\")\n",
    "elif x%2 == 1 :\n",
    "    print(x, \"는 홀수\")"
   ]
  },
  {
   "cell_type": "code",
   "execution_count": 34,
   "metadata": {},
   "outputs": [
    {
     "name": "stdout",
     "output_type": "stream",
     "text": [
      "0\n",
      "1\n",
      "2\n",
      "3\n",
      "4\n",
      "5\n",
      "6\n",
      "7\n",
      "8\n",
      "9\n"
     ]
    }
   ],
   "source": [
    "for i in range(10): \n",
    "    print (i)"
   ]
  },
  {
   "cell_type": "code",
   "execution_count": 35,
   "metadata": {},
   "outputs": [
    {
     "name": "stdout",
     "output_type": "stream",
     "text": [
      "0      1      2      3      4      5      6      7      8      9      "
     ]
    }
   ],
   "source": [
    "for i in range(0,10,1): \n",
    "    print (i, \"     \", end='')"
   ]
  },
  {
   "cell_type": "code",
   "execution_count": 36,
   "metadata": {},
   "outputs": [
    {
     "name": "stdout",
     "output_type": "stream",
     "text": [
      "0 \t반복 1 \t반복 2 \t반복 3 \t반복 4 \t반복 5 \t반복 6 \t반복 7 \t반복 8 \t반복 9 \t반복 \n",
      "끝\n"
     ]
    }
   ],
   "source": [
    "for i in range(10): \n",
    "    print (i, \"\\t\", end='')   # \"\\t\" : 탭 8칸 띄우기\n",
    "    print(\"반복 \", end='')\n",
    "print(\"\\n끝\")   # \\n 엔터"
   ]
  },
  {
   "cell_type": "code",
   "execution_count": 37,
   "metadata": {},
   "outputs": [
    {
     "name": "stdout",
     "output_type": "stream",
     "text": [
      "2 \t4 \t6 \t8 \t"
     ]
    }
   ],
   "source": [
    "for i in range(2,10,2) :\n",
    "    print(i, \"\\t\", end='')"
   ]
  },
  {
   "cell_type": "code",
   "execution_count": 38,
   "metadata": {},
   "outputs": [
    {
     "name": "stdout",
     "output_type": "stream",
     "text": [
      "10 \t8 \t6 \t4 \t2 \t"
     ]
    }
   ],
   "source": [
    "for i in range(10,0,-2) :\n",
    "    print(i, \"\\t\", end='')"
   ]
  },
  {
   "cell_type": "code",
   "execution_count": 39,
   "metadata": {},
   "outputs": [
    {
     "name": "stdout",
     "output_type": "stream",
     "text": [
      "10\n",
      "30\n",
      "50\n",
      "70\n",
      "90\n",
      "110\n",
      "130\n",
      "150\n",
      "170\n",
      "190\n"
     ]
    }
   ],
   "source": [
    "x = range(1,20,2)\n",
    "for i in x:\n",
    "    print(i*10)"
   ]
  },
  {
   "cell_type": "code",
   "execution_count": 40,
   "metadata": {},
   "outputs": [
    {
     "name": "stdout",
     "output_type": "stream",
     "text": [
      "2의 배수(짝수): 0\n",
      "2의 배수입니다\n",
      "3의 배수 0\n",
      "4의 배수 0\n",
      "1 --- 기타\n",
      "2의 배수(짝수): 2\n",
      "2의 배수입니다\n",
      "2 --- 기타\n",
      "3의 배수 3\n",
      "3 --- 기타\n",
      "2의 배수(짝수): 4\n",
      "2의 배수입니다\n",
      "4의 배수 4\n",
      "5 --- 기타\n",
      "2의 배수(짝수): 6\n",
      "2의 배수입니다\n",
      "3의 배수 6\n",
      "6 --- 기타\n",
      "7 --- 기타\n",
      "2의 배수(짝수): 8\n",
      "2의 배수입니다\n",
      "4의 배수 8\n",
      "3의 배수 9\n",
      "9 --- 기타\n"
     ]
    }
   ],
   "source": [
    "for i in range(10): \n",
    "    if  i % 2 == 0:\n",
    "        print('2의 배수(짝수):', i)\n",
    "        print('2의 배수입니다')\n",
    "    if i % 3 == 0:\n",
    "        print('3의 배수', i)\n",
    "    if i % 4 == 0:\n",
    "        print('4의 배수', i)\n",
    "    else:\n",
    "        print(i,'--- 기타')"
   ]
  },
  {
   "cell_type": "code",
   "execution_count": 41,
   "metadata": {},
   "outputs": [
    {
     "name": "stdout",
     "output_type": "stream",
     "text": [
      "= 55\n"
     ]
    }
   ],
   "source": [
    "##1~10까지의 합을 구하시오. \n",
    "re=0\n",
    "for i in range(1,11,1): \n",
    "    re += i   ##  re=re+i\n",
    "\n",
    "print(\"=\", re)"
   ]
  },
  {
   "cell_type": "code",
   "execution_count": 42,
   "metadata": {},
   "outputs": [
    {
     "name": "stdout",
     "output_type": "stream",
     "text": [
      "0 \t1 \t2 \t3 \t4 \t5 \t6 \t7 \t8 \t9 \t10 \t"
     ]
    }
   ],
   "source": [
    "i=0\n",
    "while i<11 :\n",
    "    print(i, \"\\t\", end='')\n",
    "    i += 1"
   ]
  },
  {
   "cell_type": "code",
   "execution_count": 43,
   "metadata": {},
   "outputs": [
    {
     "name": "stdout",
     "output_type": "stream",
     "text": [
      "2 * 1 = 2 \t2 * 2 = 4 \t2 * 3 = 6 \t2 * 4 = 8 \t2 * 5 = 10 \t2 * 6 = 12 \t2 * 7 = 14 \t2 * 8 = 16 \t2 * 9 = 18 \t\n",
      "3 * 1 = 3 \t3 * 2 = 6 \t3 * 3 = 9 \t3 * 4 = 12 \t3 * 5 = 15 \t3 * 6 = 18 \t3 * 7 = 21 \t3 * 8 = 24 \t3 * 9 = 27 \t\n",
      "4 * 1 = 4 \t4 * 2 = 8 \t4 * 3 = 12 \t4 * 4 = 16 \t4 * 5 = 20 \t4 * 6 = 24 \t4 * 7 = 28 \t4 * 8 = 32 \t4 * 9 = 36 \t\n",
      "5 * 1 = 5 \t5 * 2 = 10 \t5 * 3 = 15 \t5 * 4 = 20 \t5 * 5 = 25 \t5 * 6 = 30 \t5 * 7 = 35 \t5 * 8 = 40 \t5 * 9 = 45 \t\n",
      "6 * 1 = 6 \t6 * 2 = 12 \t6 * 3 = 18 \t6 * 4 = 24 \t6 * 5 = 30 \t6 * 6 = 36 \t6 * 7 = 42 \t6 * 8 = 48 \t6 * 9 = 54 \t\n",
      "7 * 1 = 7 \t7 * 2 = 14 \t7 * 3 = 21 \t7 * 4 = 28 \t7 * 5 = 35 \t7 * 6 = 42 \t7 * 7 = 49 \t7 * 8 = 56 \t7 * 9 = 63 \t\n",
      "8 * 1 = 8 \t8 * 2 = 16 \t8 * 3 = 24 \t8 * 4 = 32 \t8 * 5 = 40 \t8 * 6 = 48 \t8 * 7 = 56 \t8 * 8 = 64 \t8 * 9 = 72 \t\n",
      "9 * 1 = 9 \t9 * 2 = 18 \t9 * 3 = 27 \t9 * 4 = 36 \t9 * 5 = 45 \t9 * 6 = 54 \t9 * 7 = 63 \t9 * 8 = 72 \t9 * 9 = 81 \t\n"
     ]
    }
   ],
   "source": [
    "for i in range(2,10):\n",
    "    for j in range(1,10):\n",
    "        print(i,\"*\",j,\"=\",i*j,\"\\t\", end=\"\" )\n",
    "    print()"
   ]
  },
  {
   "cell_type": "code",
   "execution_count": 44,
   "metadata": {},
   "outputs": [
    {
     "name": "stdout",
     "output_type": "stream",
     "text": [
      "\t i= 0 j= 4\t i= 0 j= 5\t i= 0 j= 6\n",
      "\t i= 1 j= 4\t i= 1 j= 5\t i= 1 j= 6\n"
     ]
    }
   ],
   "source": [
    "for i in range(0,2):\n",
    "    for j in range(4,7):\n",
    "        print(\"\\t i=\",i,\"j=\",j, end=\"\" )\n",
    "    print()"
   ]
  },
  {
   "cell_type": "code",
   "execution_count": 45,
   "metadata": {},
   "outputs": [
    {
     "name": "stdout",
     "output_type": "stream",
     "text": [
      "2 단 \t2 * 1 = 2 \t2 * 2 = 4 \t2 * 3 = 6 \t2 * 4 = 8 \t2 * 5 = 10 \t2 * 6 = 12 \t2 * 7 = 14 \t2 * 8 = 16 \t2 * 9 = 18 \t\n",
      "3 단 \t3 * 1 = 3 \t3 * 2 = 6 \t3 * 3 = 9 \t3 * 4 = 12 \t3 * 5 = 15 \t3 * 6 = 18 \t3 * 7 = 21 \t3 * 8 = 24 \t3 * 9 = 27 \t\n",
      "4 단 \t4 * 1 = 4 \t4 * 2 = 8 \t4 * 3 = 12 \t4 * 4 = 16 \t4 * 5 = 20 \t4 * 6 = 24 \t4 * 7 = 28 \t4 * 8 = 32 \t4 * 9 = 36 \t\n",
      "5 단 \t5 * 1 = 5 \t5 * 2 = 10 \t5 * 3 = 15 \t5 * 4 = 20 \t5 * 5 = 25 \t5 * 6 = 30 \t5 * 7 = 35 \t5 * 8 = 40 \t5 * 9 = 45 \t\n",
      "6 단 \t6 * 1 = 6 \t6 * 2 = 12 \t6 * 3 = 18 \t6 * 4 = 24 \t6 * 5 = 30 \t6 * 6 = 36 \t6 * 7 = 42 \t6 * 8 = 48 \t6 * 9 = 54 \t\n",
      "7 단 \t7 * 1 = 7 \t7 * 2 = 14 \t7 * 3 = 21 \t7 * 4 = 28 \t7 * 5 = 35 \t7 * 6 = 42 \t7 * 7 = 49 \t7 * 8 = 56 \t7 * 9 = 63 \t\n",
      "8 단 \t8 * 1 = 8 \t8 * 2 = 16 \t8 * 3 = 24 \t8 * 4 = 32 \t8 * 5 = 40 \t8 * 6 = 48 \t8 * 7 = 56 \t8 * 8 = 64 \t8 * 9 = 72 \t\n",
      "9 단 \t9 * 1 = 9 \t9 * 2 = 18 \t9 * 3 = 27 \t9 * 4 = 36 \t9 * 5 = 45 \t9 * 6 = 54 \t9 * 7 = 63 \t9 * 8 = 72 \t9 * 9 = 81 \t\n",
      "2 단 \t2 * 1 = 2 \t2 * 2 = 4 \t2 * 3 = 6 \t2 * 4 = 8 \t2 * 5 = 10 \t2 * 6 = 12 \t2 * 7 = 14 \t2 * 8 = 16 \t2 * 9 = 18 \t\n",
      "3 단 \t3 * 1 = 3 \t3 * 2 = 6 \t3 * 3 = 9 \t3 * 4 = 12 \t3 * 5 = 15 \t3 * 6 = 18 \t3 * 7 = 21 \t3 * 8 = 24 \t3 * 9 = 27 \t\n",
      "4 단 \t4 * 1 = 4 \t4 * 2 = 8 \t4 * 3 = 12 \t4 * 4 = 16 \t4 * 5 = 20 \t4 * 6 = 24 \t4 * 7 = 28 \t4 * 8 = 32 \t4 * 9 = 36 \t\n",
      "5 단 \t5 * 1 = 5 \t5 * 2 = 10 \t5 * 3 = 15 \t5 * 4 = 20 \t5 * 5 = 25 \t5 * 6 = 30 \t5 * 7 = 35 \t5 * 8 = 40 \t5 * 9 = 45 \t\n",
      "6 단 \t6 * 1 = 6 \t6 * 2 = 12 \t6 * 3 = 18 \t6 * 4 = 24 \t6 * 5 = 30 \t6 * 6 = 36 \t6 * 7 = 42 \t6 * 8 = 48 \t6 * 9 = 54 \t\n",
      "7 단 \t7 * 1 = 7 \t7 * 2 = 14 \t7 * 3 = 21 \t7 * 4 = 28 \t7 * 5 = 35 \t7 * 6 = 42 \t7 * 7 = 49 \t7 * 8 = 56 \t7 * 9 = 63 \t\n",
      "8 단 \t8 * 1 = 8 \t8 * 2 = 16 \t8 * 3 = 24 \t8 * 4 = 32 \t8 * 5 = 40 \t8 * 6 = 48 \t8 * 7 = 56 \t8 * 8 = 64 \t8 * 9 = 72 \t\n",
      "9 단 \t9 * 1 = 9 \t9 * 2 = 18 \t9 * 3 = 27 \t9 * 4 = 36 \t9 * 5 = 45 \t9 * 6 = 54 \t9 * 7 = 63 \t9 * 8 = 72 \t9 * 9 = 81 \t\n",
      "2 단 \t2 * 1 = 2 \t2 * 2 = 4 \t2 * 3 = 6 \t2 * 4 = 8 \t2 * 5 = 10 \t2 * 6 = 12 \t2 * 7 = 14 \t2 * 8 = 16 \t2 * 9 = 18 \t\n",
      "3 단 \t3 * 1 = 3 \t3 * 2 = 6 \t3 * 3 = 9 \t3 * 4 = 12 \t3 * 5 = 15 \t3 * 6 = 18 \t3 * 7 = 21 \t3 * 8 = 24 \t3 * 9 = 27 \t\n",
      "4 단 \t4 * 1 = 4 \t4 * 2 = 8 \t4 * 3 = 12 \t4 * 4 = 16 \t4 * 5 = 20 \t4 * 6 = 24 \t4 * 7 = 28 \t4 * 8 = 32 \t4 * 9 = 36 \t\n",
      "5 단 \t5 * 1 = 5 \t5 * 2 = 10 \t5 * 3 = 15 \t5 * 4 = 20 \t5 * 5 = 25 \t5 * 6 = 30 \t5 * 7 = 35 \t5 * 8 = 40 \t5 * 9 = 45 \t\n",
      "6 단 \t6 * 1 = 6 \t6 * 2 = 12 \t6 * 3 = 18 \t6 * 4 = 24 \t6 * 5 = 30 \t6 * 6 = 36 \t6 * 7 = 42 \t6 * 8 = 48 \t6 * 9 = 54 \t\n",
      "7 단 \t7 * 1 = 7 \t7 * 2 = 14 \t7 * 3 = 21 \t7 * 4 = 28 \t7 * 5 = 35 \t7 * 6 = 42 \t7 * 7 = 49 \t7 * 8 = 56 \t7 * 9 = 63 \t\n",
      "8 단 \t8 * 1 = 8 \t8 * 2 = 16 \t8 * 3 = 24 \t8 * 4 = 32 \t8 * 5 = 40 \t8 * 6 = 48 \t8 * 7 = 56 \t8 * 8 = 64 \t8 * 9 = 72 \t\n",
      "9 단 \t9 * 1 = 9 \t9 * 2 = 18 \t9 * 3 = 27 \t9 * 4 = 36 \t9 * 5 = 45 \t9 * 6 = 54 \t9 * 7 = 63 \t9 * 8 = 72 \t9 * 9 = 81 \t\n"
     ]
    }
   ],
   "source": [
    "for t in range(1,4,1):\n",
    "    p=t*2\n",
    "    for i in range(2,10):\n",
    "        print(i,\"단\", \"\\t\", end='')\n",
    "        for k in range(1,10):\n",
    "            print(i,  \"*\"  ,  k  ,  \"=\"  ,  i*k  ,  \"\\t\"  , end=\"\" )\n",
    "        print()"
   ]
  },
  {
   "cell_type": "code",
   "execution_count": null,
   "metadata": {},
   "outputs": [],
   "source": []
  },
  {
   "attachments": {},
   "cell_type": "markdown",
   "metadata": {},
   "source": [
    "#### **5) 특수 데이터 형**\n",
    "- 리스트(list), 튜플(tuple), 사전(dictionary)\n",
    "\n",
    "- 리스트\n",
    "    - 여러 항목의 집합체로 각 항목의 타입은 서로 달라도 된다.\n",
    "    - 리스트를 만들려면 대괄호 [ ]를 사용하고 각 항목을 ','로 구분한다"
   ]
  },
  {
   "cell_type": "code",
   "execution_count": 46,
   "metadata": {},
   "outputs": [
    {
     "name": "stdout",
     "output_type": "stream",
     "text": [
      "[13, 5, 7, '4', 3.3333333333333335, 1, '1~~~  \\n2~~~\\n3~~~ ', '1~~~\\n2~~~\\n3~~~ ', 5, 9, 12, 8, 30]\n"
     ]
    }
   ],
   "source": [
    "listA=[a,b,c,d,e,f,g,h]\n",
    "listB=[5,9,12,8,30]\n",
    "listC=listA+listB\n",
    "print(listC)"
   ]
  },
  {
   "cell_type": "code",
   "execution_count": 47,
   "metadata": {},
   "outputs": [
    {
     "data": {
      "text/plain": [
       "[13,\n",
       " 5,\n",
       " 7,\n",
       " '4',\n",
       " 3.3333333333333335,\n",
       " 1,\n",
       " '1~~~  \\n2~~~\\n3~~~ ',\n",
       " '1~~~\\n2~~~\\n3~~~ ',\n",
       " 5,\n",
       " 9,\n",
       " 12,\n",
       " 8,\n",
       " 30]"
      ]
     },
     "execution_count": 47,
     "metadata": {},
     "output_type": "execute_result"
    }
   ],
   "source": [
    "#listC=listA * listB\n",
    "listC"
   ]
  },
  {
   "cell_type": "code",
   "execution_count": 48,
   "metadata": {},
   "outputs": [
    {
     "data": {
      "text/plain": [
       "[5, 9, 12, 8, 30, 5, 9, 12, 8, 30, 5, 9, 12, 8, 30]"
      ]
     },
     "execution_count": 48,
     "metadata": {},
     "output_type": "execute_result"
    }
   ],
   "source": [
    "listB * 3"
   ]
  },
  {
   "cell_type": "code",
   "execution_count": 49,
   "metadata": {},
   "outputs": [
    {
     "data": {
      "text/plain": [
       "[1, 2, 3]"
      ]
     },
     "execution_count": 49,
     "metadata": {},
     "output_type": "execute_result"
    }
   ],
   "source": [
    "item2 = list([1,2,3])\n",
    "item2"
   ]
  },
  {
   "cell_type": "code",
   "execution_count": 50,
   "metadata": {},
   "outputs": [
    {
     "data": {
      "text/plain": [
       "[1, 2, 3, 4, 5, 'kim', 1, 2, 3, 4, 5, 'kim']"
      ]
     },
     "execution_count": 50,
     "metadata": {},
     "output_type": "execute_result"
    }
   ],
   "source": [
    "items = [1, 2, 3, 4, 5, 'kim']\n",
    "items*2"
   ]
  },
  {
   "cell_type": "code",
   "execution_count": 51,
   "metadata": {},
   "outputs": [
    {
     "data": {
      "text/plain": [
       "6"
      ]
     },
     "execution_count": 51,
     "metadata": {},
     "output_type": "execute_result"
    }
   ],
   "source": [
    "len(items)"
   ]
  },
  {
   "cell_type": "code",
   "execution_count": 52,
   "metadata": {},
   "outputs": [
    {
     "data": {
      "text/plain": [
       "1"
      ]
     },
     "execution_count": 52,
     "metadata": {},
     "output_type": "execute_result"
    }
   ],
   "source": [
    "items[0]"
   ]
  },
  {
   "cell_type": "code",
   "execution_count": 53,
   "metadata": {
    "scrolled": true
   },
   "outputs": [
    {
     "data": {
      "text/plain": [
       "[1, 2, 100, 4, 5, 'kim']"
      ]
     },
     "execution_count": 53,
     "metadata": {},
     "output_type": "execute_result"
    }
   ],
   "source": [
    "items[2]=100\n",
    "items"
   ]
  },
  {
   "cell_type": "code",
   "execution_count": 54,
   "metadata": {},
   "outputs": [
    {
     "data": {
      "text/plain": [
       "[1, 2]"
      ]
     },
     "execution_count": 54,
     "metadata": {},
     "output_type": "execute_result"
    }
   ],
   "source": [
    "items[:2]"
   ]
  },
  {
   "cell_type": "code",
   "execution_count": 55,
   "metadata": {},
   "outputs": [
    {
     "data": {
      "text/plain": [
       "'kim'"
      ]
     },
     "execution_count": 55,
     "metadata": {},
     "output_type": "execute_result"
    }
   ],
   "source": [
    "items[-1]"
   ]
  },
  {
   "cell_type": "code",
   "execution_count": 56,
   "metadata": {},
   "outputs": [
    {
     "data": {
      "text/plain": [
       "5"
      ]
     },
     "execution_count": 56,
     "metadata": {},
     "output_type": "execute_result"
    }
   ],
   "source": [
    "items[-2]"
   ]
  },
  {
   "cell_type": "code",
   "execution_count": 57,
   "metadata": {},
   "outputs": [
    {
     "data": {
      "text/plain": [
       "[100, 4, 5, 'kim']"
      ]
     },
     "execution_count": 57,
     "metadata": {},
     "output_type": "execute_result"
    }
   ],
   "source": [
    "items[2:]"
   ]
  },
  {
   "cell_type": "code",
   "execution_count": 58,
   "metadata": {},
   "outputs": [
    {
     "data": {
      "text/plain": [
       "[100, 4, 5, 'kim']"
      ]
     },
     "execution_count": 58,
     "metadata": {},
     "output_type": "execute_result"
    }
   ],
   "source": [
    "items[2:]"
   ]
  },
  {
   "cell_type": "code",
   "execution_count": 59,
   "metadata": {},
   "outputs": [
    {
     "data": {
      "text/plain": [
       "[1, 100, 5]"
      ]
     },
     "execution_count": 59,
     "metadata": {},
     "output_type": "execute_result"
    }
   ],
   "source": [
    "items[0:6:2] "
   ]
  },
  {
   "cell_type": "code",
   "execution_count": 60,
   "metadata": {},
   "outputs": [
    {
     "data": {
      "text/plain": [
       "[5, 'kim']"
      ]
     },
     "execution_count": 60,
     "metadata": {},
     "output_type": "execute_result"
    }
   ],
   "source": [
    "items[-2:] "
   ]
  },
  {
   "cell_type": "code",
   "execution_count": 61,
   "metadata": {},
   "outputs": [
    {
     "data": {
      "text/plain": [
       "[1, 2, 100, 4]"
      ]
     },
     "execution_count": 61,
     "metadata": {},
     "output_type": "execute_result"
    }
   ],
   "source": [
    "items[:-2] "
   ]
  },
  {
   "cell_type": "code",
   "execution_count": 62,
   "metadata": {},
   "outputs": [
    {
     "data": {
      "text/plain": [
       "['kim', 5, 4, 100, 2, 1]"
      ]
     },
     "execution_count": 62,
     "metadata": {},
     "output_type": "execute_result"
    }
   ],
   "source": [
    "items[::-1] "
   ]
  },
  {
   "cell_type": "code",
   "execution_count": 63,
   "metadata": {},
   "outputs": [
    {
     "data": {
      "text/plain": [
       "[2, 1]"
      ]
     },
     "execution_count": 63,
     "metadata": {},
     "output_type": "execute_result"
    }
   ],
   "source": [
    "items[1 :: -1] "
   ]
  },
  {
   "cell_type": "code",
   "execution_count": 64,
   "metadata": {},
   "outputs": [],
   "source": [
    "listC=[5, 10, 15, 20, 25, 30, 35, 40]"
   ]
  },
  {
   "cell_type": "code",
   "execution_count": 65,
   "metadata": {},
   "outputs": [
    {
     "data": {
      "text/plain": [
       "(40, 5)"
      ]
     },
     "execution_count": 65,
     "metadata": {},
     "output_type": "execute_result"
    }
   ],
   "source": [
    "listC[-1] , listC[0]"
   ]
  },
  {
   "cell_type": "code",
   "execution_count": 66,
   "metadata": {},
   "outputs": [
    {
     "data": {
      "text/plain": [
       "[200, 10, 15, 20, 25, 30, 35, 40]"
      ]
     },
     "execution_count": 66,
     "metadata": {},
     "output_type": "execute_result"
    }
   ],
   "source": [
    "listC[0]=200\n",
    "listC"
   ]
  },
  {
   "cell_type": "code",
   "execution_count": 67,
   "metadata": {},
   "outputs": [
    {
     "data": {
      "text/plain": [
       "[200, 10, 15, 20, 25, 30, 35, 50]"
      ]
     },
     "execution_count": 67,
     "metadata": {},
     "output_type": "execute_result"
    }
   ],
   "source": [
    "listC[-1]=50\n",
    "listC"
   ]
  },
  {
   "cell_type": "code",
   "execution_count": 68,
   "metadata": {},
   "outputs": [
    {
     "data": {
      "text/plain": [
       "([200, 10, 15], [10, 15, 20], [200, 10, 15, 20, 25], [20, 25, 30, 35, 50])"
      ]
     },
     "execution_count": 68,
     "metadata": {},
     "output_type": "execute_result"
    }
   ],
   "source": [
    "listC[0:3], listC[1:4], listC[:5],listC[3:]"
   ]
  },
  {
   "cell_type": "code",
   "execution_count": 69,
   "metadata": {},
   "outputs": [
    {
     "name": "stdout",
     "output_type": "stream",
     "text": [
      "[200, 10, 15, 9999, 25, 30, 35, 50]\n"
     ]
    }
   ],
   "source": [
    "listC[3] = 9999\n",
    "print(listC)"
   ]
  },
  {
   "cell_type": "code",
   "execution_count": 70,
   "metadata": {},
   "outputs": [
    {
     "name": "stdout",
     "output_type": "stream",
     "text": [
      "[200, 10, 15, 9999, 25, 30, 35, 50, 100]\n"
     ]
    }
   ],
   "source": [
    "listC.append(100)\n",
    "print(listC)"
   ]
  },
  {
   "cell_type": "code",
   "execution_count": 71,
   "metadata": {},
   "outputs": [
    {
     "name": "stdout",
     "output_type": "stream",
     "text": [
      "[200, 10, 15, 25, 30, 35, 50, 100]\n"
     ]
    }
   ],
   "source": [
    "listC.remove(9999)\n",
    "print(listC)"
   ]
  },
  {
   "cell_type": "code",
   "execution_count": 72,
   "metadata": {},
   "outputs": [
    {
     "name": "stdout",
     "output_type": "stream",
     "text": [
      "9999가 없다\n",
      "[200, 10, 15, 25, 30, 35, 50, 100]\n"
     ]
    }
   ],
   "source": [
    "if 9999 in listC :\n",
    "    listC.remove(9999)\n",
    "    print(listC)\n",
    "else:\n",
    "    print(\"9999가 없다\")    \n",
    "    \n",
    "print(listC)"
   ]
  },
  {
   "cell_type": "code",
   "execution_count": 73,
   "metadata": {},
   "outputs": [
    {
     "name": "stdout",
     "output_type": "stream",
     "text": [
      "[777, 200, 10, 15, 25, 97, 30, 35, 50, 100]\n"
     ]
    }
   ],
   "source": [
    "listC.insert(0,777)\n",
    "listC.insert(5,97)\n",
    "print(listC)"
   ]
  },
  {
   "cell_type": "code",
   "execution_count": 74,
   "metadata": {},
   "outputs": [
    {
     "name": "stdout",
     "output_type": "stream",
     "text": [
      "[777, 200, 10, 15, 25, 97, 30, 35, 50, 100]\n"
     ]
    }
   ],
   "source": [
    "listD = listC.copy()\n",
    "print(listD)"
   ]
  },
  {
   "cell_type": "code",
   "execution_count": 75,
   "metadata": {},
   "outputs": [
    {
     "name": "stdout",
     "output_type": "stream",
     "text": [
      "[897, 2, 1, 4, 99, 5.24, 17]\n"
     ]
    }
   ],
   "source": [
    "listE = [897, 2, 1, 4, 99, 5.24, 17]\n",
    "print(listE)"
   ]
  },
  {
   "cell_type": "code",
   "execution_count": 76,
   "metadata": {},
   "outputs": [
    {
     "name": "stdout",
     "output_type": "stream",
     "text": [
      "[1, 2, 4, 5.24, 17, 99, 897]\n"
     ]
    }
   ],
   "source": [
    "listE.sort()\n",
    "print(listE)"
   ]
  },
  {
   "cell_type": "code",
   "execution_count": 77,
   "metadata": {},
   "outputs": [
    {
     "name": "stdout",
     "output_type": "stream",
     "text": [
      "[897, 99, 17, 5.24, 4, 2, 1]\n"
     ]
    }
   ],
   "source": [
    "listE.sort(reverse=True)\n",
    "print(listE)"
   ]
  },
  {
   "cell_type": "code",
   "execution_count": 78,
   "metadata": {},
   "outputs": [
    {
     "name": "stdout",
     "output_type": "stream",
     "text": [
      "[897, 99, 17, 5.24, 4, 2, 1]\n",
      "[1, 2, 4, 5.24, 17, 99, 897]\n"
     ]
    }
   ],
   "source": [
    "y = sorted(listE)\n",
    "print(listE)\n",
    "print(y)"
   ]
  },
  {
   "cell_type": "code",
   "execution_count": 79,
   "metadata": {},
   "outputs": [
    {
     "name": "stdout",
     "output_type": "stream",
     "text": [
      "[1, 2, 4, 5.24, 17, 99, 897]\n"
     ]
    }
   ],
   "source": [
    "listE.reverse()\n",
    "print(listE)"
   ]
  },
  {
   "cell_type": "code",
   "execution_count": 80,
   "metadata": {},
   "outputs": [
    {
     "name": "stdout",
     "output_type": "stream",
     "text": [
      "True\n",
      "False\n"
     ]
    },
    {
     "data": {
      "text/plain": [
       "25"
      ]
     },
     "execution_count": 80,
     "metadata": {},
     "output_type": "execute_result"
    }
   ],
   "source": [
    "a = 3\n",
    "B = [1, 3, 5, 7, 9]\n",
    "\n",
    "print(a in B)\n",
    "print(a not in B)\n",
    "\n",
    "sum(B)"
   ]
  },
  {
   "cell_type": "code",
   "execution_count": 81,
   "metadata": {},
   "outputs": [
    {
     "data": {
      "text/plain": [
       "9"
      ]
     },
     "execution_count": 81,
     "metadata": {},
     "output_type": "execute_result"
    }
   ],
   "source": [
    "max(B)"
   ]
  },
  {
   "cell_type": "code",
   "execution_count": 82,
   "metadata": {},
   "outputs": [
    {
     "data": {
      "text/plain": [
       "1"
      ]
     },
     "execution_count": 82,
     "metadata": {},
     "output_type": "execute_result"
    }
   ],
   "source": [
    "min(B)"
   ]
  },
  {
   "cell_type": "code",
   "execution_count": 83,
   "metadata": {},
   "outputs": [
    {
     "data": {
      "text/plain": [
       "5"
      ]
     },
     "execution_count": 83,
     "metadata": {},
     "output_type": "execute_result"
    }
   ],
   "source": [
    "len(B)"
   ]
  },
  {
   "cell_type": "code",
   "execution_count": 84,
   "metadata": {},
   "outputs": [
    {
     "data": {
      "text/plain": [
       "5.0"
      ]
     },
     "execution_count": 84,
     "metadata": {},
     "output_type": "execute_result"
    }
   ],
   "source": [
    "sum(B) / len(B)  ##avg(B)"
   ]
  },
  {
   "cell_type": "code",
   "execution_count": 85,
   "metadata": {},
   "outputs": [
    {
     "name": "stdout",
     "output_type": "stream",
     "text": [
      "1\n",
      "125\n",
      "1000000\n"
     ]
    }
   ],
   "source": [
    "items = [ 1, 5, 100]\n",
    "for x in items:\n",
    "    print(x**3)"
   ]
  },
  {
   "cell_type": "code",
   "execution_count": 86,
   "metadata": {},
   "outputs": [
    {
     "name": "stdout",
     "output_type": "stream",
     "text": [
      "[0, 10, 20, 30, 40]\n"
     ]
    }
   ],
   "source": [
    "listB = [x*10 for x in range(5)] \n",
    "print(listB) # [0, 10, 20, 30, 40]    "
   ]
  },
  {
   "cell_type": "code",
   "execution_count": 87,
   "metadata": {},
   "outputs": [
    {
     "name": "stdout",
     "output_type": "stream",
     "text": [
      "[1, 2, 3, 4, 5, 6, 6, 6, 7, 8, 9]\n",
      "3\n",
      "[1, 2, 3, 4, 5, 7, 8, 9]\n"
     ]
    }
   ],
   "source": [
    "R=[1,2,3,4,5,6,6,6,6,7,8,9]\n",
    "R.remove(6)\n",
    "print(R)\n",
    "co=0\n",
    "for i in R:\n",
    "    if i==6 :\n",
    "        co+=1\n",
    "print(co)        \n",
    "for i in range(co):\n",
    "    R.remove(6)\n",
    "print(R)    "
   ]
  },
  {
   "cell_type": "markdown",
   "metadata": {},
   "source": [
    "#### 리스트 연습"
   ]
  },
  {
   "cell_type": "code",
   "execution_count": 88,
   "metadata": {},
   "outputs": [],
   "source": [
    "shopping_list = []  \n",
    "shopping_list.append(\"milk\")\n",
    "shopping_list.append(\"cheese\")\n",
    "shopping_list.append(\"bread\")"
   ]
  },
  {
   "cell_type": "code",
   "execution_count": 89,
   "metadata": {},
   "outputs": [
    {
     "data": {
      "text/plain": [
       "['milk', 'cheese', 'bread']"
      ]
     },
     "execution_count": 89,
     "metadata": {},
     "output_type": "execute_result"
    }
   ],
   "source": [
    "shopping_list"
   ]
  },
  {
   "cell_type": "code",
   "execution_count": 90,
   "metadata": {},
   "outputs": [
    {
     "data": {
      "text/plain": [
       "['cheese', 'bread']"
      ]
     },
     "execution_count": 90,
     "metadata": {},
     "output_type": "execute_result"
    }
   ],
   "source": [
    "shopping_list.remove(\"milk\")\n",
    "shopping_list"
   ]
  },
  {
   "cell_type": "code",
   "execution_count": 91,
   "metadata": {},
   "outputs": [
    {
     "name": "stdout",
     "output_type": "stream",
     "text": [
      "cheese\n",
      "bread\n"
     ]
    }
   ],
   "source": [
    "for item in shopping_list:\n",
    "    print(item)"
   ]
  },
  {
   "cell_type": "code",
   "execution_count": 92,
   "metadata": {},
   "outputs": [
    {
     "name": "stdout",
     "output_type": "stream",
     "text": [
      "Well we can't have that!\n"
     ]
    }
   ],
   "source": [
    "if \"milk\" in shopping_list:\n",
    "    print(\"Delicious!\")\n",
    "\n",
    "if \"eggs\" not in shopping_list:\n",
    "    print(\"Well we can't have that!\")\n",
    "    shopping_list.append(\"eggs\")"
   ]
  },
  {
   "cell_type": "code",
   "execution_count": 93,
   "metadata": {},
   "outputs": [
    {
     "data": {
      "text/plain": [
       "['cheese', 'bread', 'eggs']"
      ]
     },
     "execution_count": 93,
     "metadata": {},
     "output_type": "execute_result"
    }
   ],
   "source": [
    "shopping_list"
   ]
  },
  {
   "cell_type": "markdown",
   "metadata": {},
   "source": [
    "- 튜플 (tuple)\n",
    "    - 튜플은 리스트처럼 여러 항목의 집합을 담을 수 있는데 리스트와 달리 튜플의 내용은 '상수'로 취급되어 값을 바꿀 수 없다\n",
    "    - 튜플을 만들려면 소괄호( )를 사용하여 만들거나 , 로 구분하여 나열한다.\n",
    "    - 리스트와 거의 동일\n",
    "    - 리스트와 다른점 : 값 변경이 불가한 상수"
   ]
  },
  {
   "cell_type": "code",
   "execution_count": 94,
   "metadata": {},
   "outputs": [],
   "source": [
    "a=1,3,4,5\n",
    "b=(6,7,8,9)"
   ]
  },
  {
   "cell_type": "code",
   "execution_count": 95,
   "metadata": {},
   "outputs": [
    {
     "data": {
      "text/plain": [
       "(5, 5, 8, (6, 7, 8, 9))"
      ]
     },
     "execution_count": 95,
     "metadata": {},
     "output_type": "execute_result"
    }
   ],
   "source": [
    "a[-1], a[3], b[-2], b[0:4]"
   ]
  },
  {
   "cell_type": "code",
   "execution_count": 96,
   "metadata": {},
   "outputs": [],
   "source": [
    "##a[-1]=100   ## 튜플은 상수 <-변하지 않는 수 : 정의, 검색"
   ]
  },
  {
   "cell_type": "code",
   "execution_count": 97,
   "metadata": {},
   "outputs": [
    {
     "name": "stdout",
     "output_type": "stream",
     "text": [
      "(1, 2, 3, 4, 5) <class 'tuple'>\n",
      "('가', '나', '다', '라', '마') <class 'tuple'>\n",
      "('파이썬', 10000, False) <class 'tuple'>\n",
      "('파이썬', (10000, '만큼', '어려워'), False) <class 'tuple'>\n"
     ]
    }
   ],
   "source": [
    "tupleA = 1, 2, 3, 4, 5\n",
    "tupleB = ('가', '나', '다', '라', '마')\n",
    "tupleC = '파이썬', 10000, False\n",
    "tupleD = '파이썬', (10000, '만큼','어려워'), False\n",
    "\n",
    "print(tupleA, type(tupleA))\n",
    "print(tupleB, type(tupleB))\n",
    "print(tupleC, type(tupleC))\n",
    "print(tupleD, type(tupleD))"
   ]
  },
  {
   "cell_type": "code",
   "execution_count": 98,
   "metadata": {},
   "outputs": [
    {
     "name": "stdout",
     "output_type": "stream",
     "text": [
      "(1, 2, 3, 4, 5, 'hello')\n"
     ]
    }
   ],
   "source": [
    "my_tuple = (1, 2, 3)\n",
    "your_tuple = 4, 5,\"hello\"\n",
    "print(my_tuple + your_tuple)"
   ]
  },
  {
   "cell_type": "code",
   "execution_count": 99,
   "metadata": {},
   "outputs": [
    {
     "name": "stdout",
     "output_type": "stream",
     "text": [
      "3\n",
      "(1, 2, 3, 4, 5)\n",
      "5\n"
     ]
    }
   ],
   "source": [
    "print(tupleA[2])\n",
    "#tupleA[2] = 100\n",
    "print(tupleA)\n",
    "print(len(tupleA))"
   ]
  },
  {
   "cell_type": "code",
   "execution_count": 100,
   "metadata": {},
   "outputs": [],
   "source": [
    "a, b, c = 3, 4, 100"
   ]
  },
  {
   "cell_type": "code",
   "execution_count": 101,
   "metadata": {},
   "outputs": [
    {
     "name": "stdout",
     "output_type": "stream",
     "text": [
      "3\n",
      "4\n",
      "100\n"
     ]
    }
   ],
   "source": [
    "print(a)\n",
    "print(b)\n",
    "print(c)"
   ]
  },
  {
   "cell_type": "markdown",
   "metadata": {},
   "source": [
    "- 사전 (Dictionary)\n",
    "    - 딕셔너리로 키-값 조합 형태의 리스트를 만들 수 있다. \n",
    "    - 딕셔너리에서는 항목을 찾을 때 키를 사용한다\n",
    "    - 딕셔너너리에서 저장된 순서는 중요시하지 않는다.\n",
    "    - 딕셔너리는 중괄호 {  } 로 만든다."
   ]
  },
  {
   "cell_type": "code",
   "execution_count": 102,
   "metadata": {},
   "outputs": [
    {
     "name": "stdout",
     "output_type": "stream",
     "text": [
      "{'name': '홍길동', 'birth': 1990, 'addr': 'KR'}\n",
      "1990\n"
     ]
    }
   ],
   "source": [
    "dictA = {'name': '홍길동', 'birth': 1990, 'addr': 'KR'}\n",
    "print(dictA)\n",
    "print(dictA['birth'])"
   ]
  },
  {
   "cell_type": "code",
   "execution_count": 103,
   "metadata": {},
   "outputs": [],
   "source": [
    "#print(ditcA['1990'])  ## 키이름으로는 데이터 접근이 가능\n",
    "## value값으로 데이터 접근 불가"
   ]
  },
  {
   "cell_type": "code",
   "execution_count": 104,
   "metadata": {},
   "outputs": [
    {
     "name": "stdout",
     "output_type": "stream",
     "text": [
      "{'name': '홍길동', 'birth': 1990, 'addr': 'KR', 'weight': 60.5, 'family': ['아빠', '엄마', '여동생']}\n"
     ]
    }
   ],
   "source": [
    "dictA['weight'] = 60.5\n",
    "dictA['family'] = ['아빠', '엄마', '여동생']\n",
    "print(dictA)"
   ]
  },
  {
   "cell_type": "code",
   "execution_count": 105,
   "metadata": {},
   "outputs": [
    {
     "name": "stdout",
     "output_type": "stream",
     "text": [
      "{'name': '홍길동', 'birth': 1990, 'addr': 'KR', 'weight': 62.8, 'family': ['아빠', '엄마', '여동생']}\n"
     ]
    }
   ],
   "source": [
    "dictA['weight']=62.8\n",
    "print(dictA)"
   ]
  },
  {
   "cell_type": "code",
   "execution_count": 106,
   "metadata": {},
   "outputs": [
    {
     "name": "stdout",
     "output_type": "stream",
     "text": [
      "{'name': '홍길동', 'birth': 1990, 'addr': 'KR', 'weight': 67.8, 'family': ['아빠', '엄마', '여동생'], 'hobby': ['게임', '독서']}\n"
     ]
    }
   ],
   "source": [
    "dictA.update({'weight':67.8,'hobby': ['게임', '독서']})\n",
    "print(dictA)"
   ]
  },
  {
   "cell_type": "code",
   "execution_count": 107,
   "metadata": {},
   "outputs": [
    {
     "name": "stdout",
     "output_type": "stream",
     "text": [
      "{'name': '홍길동', 'birth': 1990, 'addr': 'KR', 'weight': 67.8, 'family': ['아빠', '엄마', '여동생'], 'hobby': ['축구', '등산']}\n"
     ]
    }
   ],
   "source": [
    "dictA['hobby'] = ['축구','등산']\n",
    "print(dictA)"
   ]
  },
  {
   "cell_type": "code",
   "execution_count": 108,
   "metadata": {},
   "outputs": [
    {
     "name": "stdout",
     "output_type": "stream",
     "text": [
      "6\n",
      "<class 'dict'>\n",
      "dict_keys(['name', 'birth', 'addr', 'weight', 'family', 'hobby'])\n",
      "dict_values(['홍길동', 1990, 'KR', 67.8, ['아빠', '엄마', '여동생'], ['축구', '등산']])\n",
      "dict_items([('name', '홍길동'), ('birth', 1990), ('addr', 'KR'), ('weight', 67.8), ('family', ['아빠', '엄마', '여동생']), ('hobby', ['축구', '등산'])])\n"
     ]
    }
   ],
   "source": [
    "print(len(dictA))\n",
    "print(type(dictA))\n",
    "print(dictA.keys())\n",
    "print(dictA.values())\n",
    "print(dictA.items())"
   ]
  },
  {
   "cell_type": "code",
   "execution_count": 109,
   "metadata": {},
   "outputs": [
    {
     "name": "stdout",
     "output_type": "stream",
     "text": [
      "{'name': '홍길동', 'addr': 'KR', 'weight': 67.8, 'family': ['아빠', '엄마', '여동생'], 'hobby': ['축구', '등산']}\n",
      "{'name': '홍길동', 'weight': 67.8, 'family': ['아빠', '엄마', '여동생'], 'hobby': ['축구', '등산']}\n",
      "{'name': '홍길동', 'family': ['아빠', '엄마', '여동생'], 'hobby': ['축구', '등산']}\n"
     ]
    }
   ],
   "source": [
    "del dictA['birth']\n",
    "print(dictA)\n",
    "\n",
    "del dictA['addr']\n",
    "print(dictA)\n",
    "\n",
    "dictA.pop('weight')\n",
    "print(dictA)"
   ]
  },
  {
   "cell_type": "code",
   "execution_count": 110,
   "metadata": {},
   "outputs": [
    {
     "name": "stdout",
     "output_type": "stream",
     "text": [
      "없다\n",
      "{'name': '홍길동', 'family': ['아빠', '엄마', '여동생'], 'hobby': ['축구', '등산']}\n"
     ]
    }
   ],
   "source": [
    "if \"birth\" in dictA:\n",
    "    del dictA['birth']\n",
    "    print('지웠다')\n",
    "else:\n",
    "    print('없다')    \n",
    "print(dictA)"
   ]
  },
  {
   "cell_type": "code",
   "execution_count": 111,
   "metadata": {},
   "outputs": [
    {
     "name": "stdout",
     "output_type": "stream",
     "text": [
      "{}\n"
     ]
    }
   ],
   "source": [
    "dictA.clear()\n",
    "print(dictA)"
   ]
  },
  {
   "cell_type": "markdown",
   "metadata": {},
   "source": [
    "#### 딕셔너리 연습"
   ]
  },
  {
   "cell_type": "code",
   "execution_count": 112,
   "metadata": {},
   "outputs": [
    {
     "data": {
      "text/plain": [
       "{'banana': 'A delicious and tasty treat!',\n",
       " 'dirt': 'Not delicious. Not tasty. DO NOT EAT!'}"
      ]
     },
     "execution_count": 112,
     "metadata": {},
     "output_type": "execute_result"
    }
   ],
   "source": [
    "foods = {} \n",
    "foods[\"banana\"] = \"A delicious and tasty treat!\"\n",
    "foods[\"dirt\"]   = \"Not delicious. Not tasty. DO NOT EAT!\"\n",
    "foods"
   ]
  },
  {
   "cell_type": "code",
   "execution_count": 113,
   "metadata": {},
   "outputs": [
    {
     "data": {
      "text/plain": [
       "'A delicious and tasty treat!'"
      ]
     },
     "execution_count": 113,
     "metadata": {},
     "output_type": "execute_result"
    }
   ],
   "source": [
    "foods[\"banana\"]"
   ]
  },
  {
   "cell_type": "code",
   "execution_count": 114,
   "metadata": {},
   "outputs": [],
   "source": [
    "#foods[\"cheese\"]"
   ]
  },
  {
   "cell_type": "code",
   "execution_count": 115,
   "metadata": {},
   "outputs": [
    {
     "name": "stdout",
     "output_type": "stream",
     "text": [
      "No cheese\n"
     ]
    }
   ],
   "source": [
    "if \"cheese\" in foods:\n",
    "    print(\"Cheese is one of the known foods!\")\n",
    "else:\n",
    "    print(\"No cheese\")"
   ]
  },
  {
   "cell_type": "code",
   "execution_count": 116,
   "metadata": {},
   "outputs": [
    {
     "data": {
      "text/plain": [
       "{'banana': 'A delicious and tasty treat!'}"
      ]
     },
     "execution_count": 116,
     "metadata": {},
     "output_type": "execute_result"
    }
   ],
   "source": [
    "del foods[\"dirt\"]\n",
    "foods"
   ]
  },
  {
   "cell_type": "code",
   "execution_count": null,
   "metadata": {},
   "outputs": [],
   "source": []
  },
  {
   "cell_type": "markdown",
   "metadata": {},
   "source": [
    "#### **6) 함수**"
   ]
  },
  {
   "cell_type": "code",
   "execution_count": 117,
   "metadata": {},
   "outputs": [],
   "source": [
    "## 1~어떤수까지 합을 구하는 함수\n",
    "def whatSum(a):\n",
    "    re=0\n",
    "    for i in range(1,a+1,1):\n",
    "        re+=i\n",
    "    return re       "
   ]
  },
  {
   "cell_type": "code",
   "execution_count": 118,
   "metadata": {
    "scrolled": true
   },
   "outputs": [],
   "source": [
    "def whatSum2(a):\n",
    "    re=0\n",
    "    for i in range(1,a+1,1):\n",
    "        re+=i\n",
    "    print(\"결과값은\", re)      "
   ]
  },
  {
   "cell_type": "code",
   "execution_count": 119,
   "metadata": {},
   "outputs": [],
   "source": [
    "def whatSum3(a):\n",
    "    re=0\n",
    "    for i in range(1,a+1,1):\n",
    "        re+=i\n",
    "    return a, re       "
   ]
  },
  {
   "cell_type": "code",
   "execution_count": 120,
   "metadata": {},
   "outputs": [],
   "source": [
    "def whatSum4(a=10):\n",
    "    re=0\n",
    "    for i in range(1,a+1,1):\n",
    "        re+=i\n",
    "    return re       "
   ]
  },
  {
   "cell_type": "code",
   "execution_count": 121,
   "metadata": {},
   "outputs": [
    {
     "data": {
      "text/plain": [
       "55"
      ]
     },
     "execution_count": 121,
     "metadata": {},
     "output_type": "execute_result"
    }
   ],
   "source": [
    "a=whatSum(10)\n",
    "a"
   ]
  },
  {
   "cell_type": "code",
   "execution_count": 122,
   "metadata": {},
   "outputs": [
    {
     "name": "stdout",
     "output_type": "stream",
     "text": [
      "결과값은 55\n"
     ]
    }
   ],
   "source": [
    "b=whatSum2(10)\n",
    "b"
   ]
  },
  {
   "cell_type": "code",
   "execution_count": 123,
   "metadata": {},
   "outputs": [
    {
     "data": {
      "text/plain": [
       "(10, 55)"
      ]
     },
     "execution_count": 123,
     "metadata": {},
     "output_type": "execute_result"
    }
   ],
   "source": [
    "whatSum3(10)"
   ]
  },
  {
   "cell_type": "code",
   "execution_count": 124,
   "metadata": {},
   "outputs": [],
   "source": [
    "# whatSum()"
   ]
  },
  {
   "cell_type": "code",
   "execution_count": 125,
   "metadata": {},
   "outputs": [
    {
     "data": {
      "text/plain": [
       "55"
      ]
     },
     "execution_count": 125,
     "metadata": {},
     "output_type": "execute_result"
    }
   ],
   "source": [
    "whatSum4()"
   ]
  },
  {
   "cell_type": "code",
   "execution_count": 126,
   "metadata": {},
   "outputs": [
    {
     "data": {
      "text/plain": [
       "210"
      ]
     },
     "execution_count": 126,
     "metadata": {},
     "output_type": "execute_result"
    }
   ],
   "source": [
    "whatSum4(20)"
   ]
  },
  {
   "cell_type": "code",
   "execution_count": null,
   "metadata": {},
   "outputs": [],
   "source": []
  },
  {
   "cell_type": "code",
   "execution_count": null,
   "metadata": {},
   "outputs": [],
   "source": []
  },
  {
   "cell_type": "code",
   "execution_count": null,
   "metadata": {},
   "outputs": [],
   "source": []
  }
 ],
 "metadata": {
  "kernelspec": {
   "display_name": "Python 3 (ipykernel)",
   "language": "python",
   "name": "python3"
  },
  "language_info": {
   "codemirror_mode": {
    "name": "ipython",
    "version": 3
   },
   "file_extension": ".py",
   "mimetype": "text/x-python",
   "name": "python",
   "nbconvert_exporter": "python",
   "pygments_lexer": "ipython3",
   "version": "3.11.7"
  }
 },
 "nbformat": 4,
 "nbformat_minor": 4
}
